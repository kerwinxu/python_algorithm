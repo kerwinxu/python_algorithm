{
 "cells": [
  {
   "cell_type": "markdown",
   "metadata": {},
   "source": [
    "# KMP字符串搜索算法"
   ]
  },
  {
   "cell_type": "markdown",
   "metadata": {},
   "source": [
    "KMP 算法的基本思想是不回溯，如果匹配用模式串中的$p_{i}$匹配某个$t_{j}$失败了,遇到$p_i \\neq t_j$ ,就找到某个特定的$k_i (0\\leq k_i \\leq i )$ ，下一步用模式串中的$p_{k_i}$与目标串中的$t_j$ 比较，也就是说，在匹配失败时把模式串前移若干个位置，用模式串中匹配失败字符之前的某个字符与目标串中匹配失败的字符比较."
   ]
  },
  {
   "cell_type": "markdown",
   "metadata": {},
   "source": [
    " 要实现这种策略，关键在于匹配失败时模式串如何前移。也就是说对模式串中的每个字符$p_i$,必须能找到相应的位置$k_i$.KMP算法的关键认识是，在$p_i$匹配失败时，所有的$p_k (0 \\leq k \\leq i)$都匹配成功了（否则就不会考虑$p_i$的匹配问题），也就是说，在目标串$t_j$之前的$i$个字符也就是模式串p的前$i$个字符串 $p_0p_1\\cdots p_{i-1}$，这一个情况表明，原本似乎应该由目标串$t$中$t_j$之前已经匹配的一段来决定前移的位置，实际上只需要根据$p$本身的情况就可以决定了，这说明，完全可以在实际的与任何字符串匹配之前，通过对模式串本身的分析，解决好匹配失败时应该前移的问题。"
   ]
  },
  {
   "cell_type": "markdown",
   "metadata": {},
   "source": [
    "从上边的分析可以得出的结论是，对$p$中的每个$i$ ，都有与之对应的下标 $k_i$ ,与被匹配的目标串无关，有可能通过对匹配串分析，得到每一个$i$对应的 $k_i$ , 假设模式串的长度为m，现在需要对每一个 $i (0 \\leq i \\leq m)$ 计算出对应的 $k_i$ 并将其保存起来。以便在匹配中使用，为此考虑用一个长度m的表pnext，用表元素 pnext[i] 记录与i对应的$k_i$值\n",
    "这里还有一种特殊情况，在一些$p_i$的匹配失败时，有可能发现在$p_i$ 匹配之前做过的所有模式串与目标串的比较都没有价值，在这种情况下，下一步应该重头开始，用$p_0 匹配与 t_{j+1}$ 比较，如果遇到这种情况，就在pnext[i]中存入-1 ，显然，对任何模式，都有pnext[0]=-1"
   ]
  },
  {
   "cell_type": "code",
   "execution_count": 1,
   "metadata": {
    "ExecuteTime": {
     "end_time": "2019-10-17T14:18:43.269884Z",
     "start_time": "2019-10-17T14:18:43.265885Z"
    }
   },
   "outputs": [],
   "source": [
    "# 如下先写大概的步骤"
   ]
  },
  {
   "cell_type": "code",
   "execution_count": 9,
   "metadata": {
    "ExecuteTime": {
     "end_time": "2019-10-17T14:21:08.625238Z",
     "start_time": "2019-10-17T14:21:08.607250Z"
    }
   },
   "outputs": [],
   "source": [
    "def get_pnext(p:str):\n",
    "    # 首先全部初始化成-1吧，\n",
    "    _l=[]\n",
    "    for i in p:\n",
    "        _l.append(-1)\n",
    "    return _l\n",
    "\n",
    "def KMP_matching(t: str, p: str, pnext):\n",
    "    \"\"\"\n",
    "    KMP算法实现的字符串搜索。\n",
    "        Description :\n",
    "        Arg :\n",
    "        Returns :\n",
    "        Raises\t :\n",
    "    \"\"\"\n",
    "    # pnext=get_pnext(p)\n",
    "    # 目标串和模式串的长度。\n",
    "    m, n = len(p), len(t)\n",
    "    i, j = 0, 0\n",
    "    # 循环条件是\n",
    "    # 这个i是模式串的下标，退出循环的条件有2个，\n",
    "    # 一个是模式串的匹配超出了范围（都匹配成功了），而另一个就是目标串超出了范围\n",
    "    while i < m and j < n:\n",
    "        if i == -1:\n",
    "            # 如果为-1，就继续下一个。\n",
    "            i = i+1\n",
    "            j = j+1\n",
    "        elif p[i] == t[j]:\n",
    "            # 如果字符相同，就考虑下一个字符，i和j都加1\n",
    "            i, j = i + 1, j + 1\n",
    "        else:\n",
    "            # 到这里表示字符不相同\n",
    "            i= pnext[i] \n",
    "    # 如果模式串的匹配等于长度，就表示找到这个字符串啦\n",
    "    if i == m:\n",
    "        # 返回原先的匹配到的位置。\n",
    "        return j - i\n",
    "    # 这里表示没有匹配到，\n",
    "    return -1\n",
    "    pass"
   ]
  },
  {
   "cell_type": "code",
   "execution_count": 10,
   "metadata": {
    "ExecuteTime": {
     "end_time": "2019-10-17T14:21:09.135945Z",
     "start_time": "2019-10-17T14:21:09.127950Z"
    }
   },
   "outputs": [
    {
     "name": "stdout",
     "output_type": "stream",
     "text": [
      "找到匹配6\n"
     ]
    }
   ],
   "source": [
    "# 大概步骤就是如上的。这个跟最朴素的算法是一样的，然后我这里要\n",
    "t = \"fjoeapfaepgjrenfpwia\"\n",
    "p = \"faep\"\n",
    "_pnext=get_pnext(p)\n",
    "print(\"找到匹配{0}\".format(KMP_matching(t, p,_pnext)))"
   ]
  },
  {
   "cell_type": "markdown",
   "metadata": {},
   "source": [
    "# 构造 pnext 表"
   ]
  },
  {
   "cell_type": "markdown",
   "metadata": {},
   "source": [
    "目标串： ababcabcacbab  \n",
    "模式串:   abcac  \n",
    "此时位置i的字符是最后一个c，对应的$k_i$的字符应该是b，也就是，  \n",
    "目标串： ababcabcacbab  \n",
    "模式串:   abcac  \n",
    "转移到:     abcac  \n",
    "\n",
    "可见，\n",
    "    模式串移动之后，作为下一个用于匹配的字符的新位置，其前缀子串 （这里是a）应该与匹配失败的字符之前同样长度的子串（这里是a）相同\n",
    "    如果匹配在模式串的位置i失败时，而位置i的前缀子串中满足上述条件的不止一处，那么只能做最短的移动，将模式串移到最近的那个满足上述条件的位置，以保证不遗漏。\n",
    "现在考虑pnext的构造，首先以知$k_i$的值只依赖于模式串本身的前$i$个字符，\n",
    "现在需要找到一个位置k，下次匹配用$p_k$与前面比较失败的$t_j$比较，也就是把模式串移到 $p_k$ 与 $t_j$ 对准的位置，如果移动的正确，模式串中的子串 $p_0\\cdots p_{k-1}$ 就应该与子串 $p_{i-k}\\cdots p_{i-1}$ 匹配 ,这里的 i 指的是模式串已经和目标串匹配的长度，但i+1位字符却不匹配。\n",
    "显然k值越小移动越远，前面说移动距离要尽量的短，\n"
   ]
  },
  {
   "cell_type": "markdown",
   "metadata": {},
   "source": [
    "其实就是在 $p_o\\cdots p_i$ 之间找一个 $p_k$ , 使得 $p_0\\cdots p_k = p_{i-k}\\cdots p_{i-1} $ ,一个相当于是前缀，一个相当于是后缀，且这里要寻找的是最长的相等前后缀。  \n",
    "我一开始想到的算法是用多层循环来判断，但这个好像很费时，比朴素的字符串搜索都费时，而设计者的这个算法真强大。"
   ]
  },
  {
   "cell_type": "markdown",
   "metadata": {
    "ExecuteTime": {
     "end_time": "2019-10-16T12:36:12.775736Z",
     "start_time": "2019-10-16T12:36:12.404741Z"
    }
   },
   "source": [
    "![最长相等前后缀长度的递归运算](./a.png)"
   ]
  },
  {
   "cell_type": "markdown",
   "metadata": {},
   "source": [
    "KMP设计者提出了一种巧妙的递推算法,比较$p_i 与 p_k$，有两种情况  \n",
    "1. 如果 $p_i=p_k$ ,那么对于 i 的最长相等前后缀的长度，对比 i-1 的最长相等前后缀的长度+1，由此应将 pnext[i] 设置为k ， 然后考虑下一个字符。  \n",
    "2. 否则就应该将 $p_0 \\cdots p_{k-1}$ 的最长相等前缀移过来继续检查  \n",
    "注意 ：第二种情况并没有设置，只是继续检查，不难确定， $p_0 \\cdots p_{k-1}$的最长相等前缀 也是  $p_0 \\cdots p_{i-1}$ 相等前缀，移过来继续检查是正确的  \n"
   ]
  },
  {
   "cell_type": "markdown",
   "metadata": {},
   "source": [
    "已知 pnext[0]= -1 直至 pnext[i-1] 的已有值求 pnext[i] 的算法  \n",
    "1. 假设 pnext[i-1] = k - 1 , 如果 $p_i = p_k $ , 那么 $p_0\\cdots p_i$ 的最长相等前缀的长度就是k，将其计入pnext[i] ，将i值加1后继续递推（循环）  \n",
    "2. 如果 $p_i\\leq p_k$ , 就将k设置为 pnext[k]的值，将k设置为 pnext[k] ， 也就是转去考虑前一个更短的保证匹配的前缀，可以基于它继续检查  \n",
    "3. 如果k的值等于-1 （这个值一定是有于第二步而来自pnext ) ，那么 $p_0 \\cdots p_i $ 的最长相等前后缀的长度就是0 ， 设置 pnext[i]=0 , 将i值加1后继续递推"
   ]
  },
  {
   "cell_type": "markdown",
   "metadata": {},
   "source": [
    "![为何递归前缀索引k = next[k]](.\\b.png)"
   ]
  },
  {
   "cell_type": "markdown",
   "metadata": {},
   "source": [
    "那为何递归前缀索引k = pnext[k]，就能找到长度更短的相同前缀后缀呢？  \n",
    "这归根揭底是pnext的定义，我们拿前缀 $(p_0\\cdots p_k)$  去和后缀 $(p_{j-k}\\cdots p_j)$ 比较，已知 $p_o\\cdots p_{k-1} = p_{j-k}\\cdots p_{j-1}$ (这个也就是 $pnext[i-1]=k-1$ ) ,如果 $p_k \\leq p_j $ ，不匹配，那么下一步就是用 $p[next[k]] 去跟 p_j$ 比较了。这里的 $next[k]$ 在前面已经设置了，     \n",
    "这个算法的根本是，假设一些初始条件和计算某数的一堆条件，来做一个算法。"
   ]
  },
  {
   "cell_type": "code",
   "execution_count": 6,
   "metadata": {
    "ExecuteTime": {
     "end_time": "2019-10-17T14:19:05.331943Z",
     "start_time": "2019-10-17T14:19:05.321957Z"
    }
   },
   "outputs": [],
   "source": [
    "def get_pnext(p:str):\n",
    "    \"\"\"生成pnext算法\"\"\"\n",
    "    i=0 # 起始下标\n",
    "    k= -1 #  默认k为-1 \n",
    "    m=len(p) # 模式串的长度\n",
    "    pnext = [-1] * m # 初始数组元素全是-1\n",
    "    while i< m-1 :  # 循环啦\n",
    "        if k == -1 or p[i] == p[k]:\n",
    "            i,k=i+1,k+1 # 全部+1\n",
    "            pnext[i] = k # 设置pnext元素\n",
    "            \n",
    "        else:\n",
    "            k = pnext [k] # 退到更短相同前缀\n",
    "        # print(\"{0}:{1}:{2}\".format(i,k,pnext))\n",
    "    return pnext"
   ]
  },
  {
   "cell_type": "code",
   "execution_count": 7,
   "metadata": {
    "ExecuteTime": {
     "end_time": "2019-10-17T14:19:05.882058Z",
     "start_time": "2019-10-17T14:19:05.875059Z"
    }
   },
   "outputs": [
    {
     "data": {
      "text/plain": [
       "[-1, 0, 0, 0, 0, 1, 2, 0, 1, 1, 2, 3, 4, 5]"
      ]
     },
     "execution_count": 7,
     "metadata": {},
     "output_type": "execute_result"
    }
   ],
   "source": [
    "get_pnext(\"abbcabcaabbcaa\")"
   ]
  },
  {
   "cell_type": "code",
   "execution_count": 11,
   "metadata": {
    "ExecuteTime": {
     "end_time": "2019-10-17T14:21:54.566426Z",
     "start_time": "2019-10-17T14:21:54.558431Z"
    }
   },
   "outputs": [
    {
     "name": "stdout",
     "output_type": "stream",
     "text": [
      "找到匹配6\n"
     ]
    }
   ],
   "source": [
    "# 这里重新写\n",
    "t = \"fjoeapfaepgjrenfpwia\"\n",
    "p = \"faep\"\n",
    "_pnext=get_pnext(p)\n",
    "print(\"找到匹配{0}\".format(KMP_matching(t, p,_pnext)))"
   ]
  },
  {
   "cell_type": "code",
   "execution_count": null,
   "metadata": {},
   "outputs": [],
   "source": []
  }
 ],
 "metadata": {
  "file_extension": ".py",
  "kernelspec": {
   "display_name": "Python 3",
   "language": "python",
   "name": "python3"
  },
  "language_info": {
   "codemirror_mode": {
    "name": "ipython",
    "version": 3
   },
   "file_extension": ".py",
   "mimetype": "text/x-python",
   "name": "python",
   "nbconvert_exporter": "python",
   "pygments_lexer": "ipython3",
   "version": "3.7.3"
  },
  "mimetype": "text/x-python",
  "name": "python",
  "npconvert_exporter": "python",
  "pygments_lexer": "ipython3",
  "toc": {
   "nav_menu": {},
   "number_sections": true,
   "sideBar": true,
   "skip_h1_title": false,
   "title_cell": "Table of Contents",
   "title_sidebar": "Contents",
   "toc_cell": false,
   "toc_position": {},
   "toc_section_display": true,
   "toc_window_display": false
  },
  "version": 3
 },
 "nbformat": 4,
 "nbformat_minor": 2
}
