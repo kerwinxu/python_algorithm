{
 "cells": [
  {
   "cell_type": "markdown",
   "id": "b6daf941-9b7a-4484-ad5d-b978e5b69a14",
   "metadata": {},
   "source": [
    "# 概念"
   ]
  },
  {
   "cell_type": "markdown",
   "id": "dcea4657-6e2c-4d6e-9e48-a04388f229d0",
   "metadata": {},
   "source": [
    "## 基因和染色体\n",
    "\n",
    "在遗传算法中，我们首先要将要解决的问题映射到一个数学问题，也就是所谓的数学建模。问题的一个可行解被称为一条染色体，一个可行的解一般由多个元素构成，每一个元素被称为这个染色体的基因。"
   ]
  },
  {
   "cell_type": "markdown",
   "id": "300a91a0-5814-48bd-95f8-774e374181ff",
   "metadata": {},
   "source": [
    "## 适应度函数\n",
    "\n",
    "适应度函数在遗传算法中扮演上帝的角色。遗传算法在运行的过程中会进行N次迭代，每次迭代都会生成若干条染色体。适应度函数会给本次迭代中生成的所有染色体打个分，来评判这些染色体的适应度，然后将适应度较低的染色体淘汰掉，只保留适应度较高的染色体，从而经过若干次迭代后染色体的质量将越来越优良。"
   ]
  },
  {
   "cell_type": "markdown",
   "id": "7dd7400b-ba59-4112-afd9-410f01533a61",
   "metadata": {},
   "source": [
    "## 交叉\n",
    "\n",
    "遗传算法每一次迭代都会生成N条染色体，在遗传算法中，这每一次迭代就被称为一次“进化”。那么，每次进化新生成的染色体是如何而来的呢？——答案就是“交叉”，你可以把它理解为交配。\n",
    "  \n",
    "交叉的过程需要从上一代的染色体中寻找两条染色体，一条是爸爸，一条是妈妈。然后将这两条染色体的某一个位置切断，并拼接在一起，从而生成一条新的染色体。这条新染色体上即包含了一定数量的爸爸的基因，也包含了一定数量的妈妈的基因。"
   ]
  },
  {
   "cell_type": "markdown",
   "id": "10ea38cd-e38f-4293-9933-3bc04ad28f7b",
   "metadata": {},
   "source": [
    "## 变异\n",
    "\n",
    "变异很好理解。当我们通过交叉生成了一条新的染色体后，需要在新染色体上随机选择若干个基因，然后随机修改基因的值，从而给现有的染色体引入了新的基因，突破了当前搜索的限制，更有利于算法寻找到全局最优解。"
   ]
  },
  {
   "cell_type": "markdown",
   "id": "4bfbe951-4b65-4c42-ab4c-90f5dcf8a8ca",
   "metadata": {},
   "source": [
    "## 复制\n",
    "\n",
    "每次进化中，为了保留上一代优良的染色体，需要将上一代中适应度最高的几条染色体直接原封不动地复制给下一代。\n",
    "\n",
    "假设每次进化都需生成N条染色体，那么每次进化中，通过交叉方式需要生成N-M条染色体，剩余的M条染色体通过复制上一代适应度最高的M条染色体而来"
   ]
  },
  {
   "cell_type": "markdown",
   "id": "224cfd1b-22f6-4c0d-8547-167309b31559",
   "metadata": {},
   "source": [
    "# 算法流程\n",
    "\n",
    "   - 算法初始阶段，随机生成一个可行解，也就是第一代染色体\n",
    "   - 然后用适应度函数分别计算每一条染色体的适应度，并根据适应度计算每一条染色体在下一次进化中被选中的概率。\n",
    "   - 进化\n",
    "      - 通过交叉生成N-M条染色体\n",
    "      - 对交叉生成的N-M条染色体进行变异操作。\n",
    "      - 使用复制的方式生成M条染色体\n"
   ]
  },
  {
   "cell_type": "markdown",
   "id": "23d3dcee-d3ea-415a-98dc-e1416224f1d8",
   "metadata": {},
   "source": [
    "# 例子\n",
    "\n",
    "假设有N个任务，需要负载均衡器分配给M个服务器节点去处理。每个任务的任务长度、每台服务器节点(下面简称“节点”)的处理速度已知，请给出一种任务分配方式，使得所有任务的总处理时间最短"
   ]
  },
  {
   "cell_type": "code",
   "execution_count": 37,
   "id": "4a002af5-c71c-496f-80af-bfdd197f90e0",
   "metadata": {},
   "outputs": [
    {
     "name": "stdout",
     "output_type": "stream",
     "text": [
      "任务处理时间矩阵:[[1.0, 2.0], [2.0, 4.0], [3.0, 6.0], [4.0, 8.0]]\n",
      "初始化染色体:[array([0, 0, 0, 1]), array([0, 1, 0, 1]), array([0, 1, 1, 0]), array([0, 0, 1, 0]), array([1, 1, 1, 1]), array([1, 0, 1, 1]), array([0, 1, 1, 1]), array([0, 1, 0, 1]), array([0, 0, 0, 0]), array([1, 0, 0, 1])]\n",
      "适应度：[8.0, 12.0, 10.0, 7.0, 20.0, 16.0, 18.0, 12.0, 10.0, 10.0]\n",
      "最少的的适应度是：7.0, 安排：[0 0 1 0]\n",
      "#############################################################################\n",
      "适应度：[7.0, 8.0, 12.0, 8.0, 8.0, 10.0, 10.0, 7.0, 7.0, 8.0]\n",
      "最少的的适应度是：7.0, 安排：[0 0 1 0]\n",
      "#############################################################################\n",
      "适应度：[7.0, 7.0, 7.0, 8.0, 8.0, 8.0, 8.0, 10.0, 14.0, 10.0]\n",
      "最少的的适应度是：7.0, 安排：[0 0 1 0]\n",
      "#############################################################################\n",
      "适应度：[7.0, 7.0, 10.0, 10.0, 8.0, 7.0, 8.0, 10.0, 8.0, 7.0]\n",
      "最少的的适应度是：7.0, 安排：[0 0 1 0]\n",
      "#############################################################################\n",
      "适应度：[7.0, 7.0, 10.0, 7.0, 14.0, 7.0, 7.0, 8.0, 7.0, 14.0]\n",
      "最少的的适应度是：7.0, 安排：[0 0 1 0]\n",
      "#############################################################################\n",
      "适应度：[7.0, 7.0, 7.0, 7.0, 7.0, 7.0, 14.0, 7.0, 7.0, 7.0]\n",
      "最少的的适应度是：7.0, 安排：[0 0 1 0]\n",
      "#############################################################################\n",
      "适应度：[7.0, 7.0, 7.0, 7.0, 7.0, 7.0, 7.0, 7.0, 7.0, 7.0]\n",
      "最少的的适应度是：7.0, 安排：[0 0 1 0]\n",
      "#############################################################################\n",
      "适应度：[7.0, 7.0, 7.0, 7.0, 7.0, 7.0, 7.0, 7.0, 7.0, 7.0]\n",
      "最少的的适应度是：7.0, 安排：[0 0 1 0]\n",
      "#############################################################################\n",
      "适应度：[7.0, 7.0, 7.0, 7.0, 7.0, 7.0, 7.0, 7.0, 7.0, 7.0]\n",
      "最少的的适应度是：7.0, 安排：[0 0 1 0]\n",
      "#############################################################################\n",
      "适应度：[7.0, 7.0, 7.0, 7.0, 7.0, 7.0, 7.0, 7.0, 7.0, 7.0]\n",
      "最少的的适应度是：7.0, 安排：[0 0 1 0]\n",
      "#############################################################################\n"
     ]
    }
   ],
   "source": [
    "import numpy as np\n",
    "import random\n",
    "# 首先任务长度矩阵\n",
    "Tasks=[2,4,6,8]\n",
    "# 节点处理速度矩阵,而nodes[j]表示节点j的处理速度\n",
    "Nodes=[2,1]\n",
    "# 任务处理时间矩阵,\n",
    "timeMatrix = [[i/j for j in Nodes] for i in Tasks]\n",
    "print('任务处理时间矩阵:{}'.format(timeMatrix))\n",
    "\n",
    "# 初始的染色体\n",
    "def init_chromosome(n):\n",
    "    # 这个仅仅是返回10个数组\n",
    "    tmp = list(range(len(Nodes))) # 从这里返回\n",
    "    tmp2 = [1 / len(Nodes) for i in tmp] # 这个是计算概率，这里先平均概率吧\n",
    "    return  [np.random.choice(tmp,size=len(Tasks),p = tmp2) for i in range(n)]\n",
    "    \n",
    "# 我这里不搞复杂的编译了，只是交叉加上复制而已。\n",
    "def shiyingdu(l):\n",
    "    # 计算适应度的，这里只是返回时间\n",
    "    # 这里要分别计算几个节点的时间\n",
    "    _tmp1 = [timeMatrix[i][l[i]] for i in range(len(l))] # 处理时间\n",
    "    _tmp2 = []\n",
    "    for i in range(len(Nodes)):\n",
    "        # 每一个节点的时间分别计算总和\n",
    "        _tmp3 = sum([_tmp1[j] for j in range(len(l)) if l[j] == i])\n",
    "        _tmp2.append(_tmp3)\n",
    "    return max(_tmp2)\n",
    "\n",
    "\n",
    "    \n",
    "def jisuangailv(l):\n",
    "    # 根据适应度返回概率的\n",
    "    # 根据适应度矩阵，然后执行时间越短，要概率越大的\n",
    "    _m = max(l) # 首先取得最大值\n",
    "    _tmp = [_m - i for i in l] # 这样子就是数越大，概率越大\n",
    "    _sum = sum(_tmp)\n",
    "    if _sum == 0:\n",
    "        # 如果都一样大，那么_sum就是0，\n",
    "        return [1/len(_tmp) for i in range(len(_tmp))]\n",
    "    return  [i/_sum for i in _tmp] # 概率\n",
    "\n",
    "\n",
    "# 这里开始计算吧\n",
    "N = 10\n",
    "M = 2\n",
    "chromosome = init_chromosome(N) # 初始化。\n",
    "print(\"初始化染色体:{}\".format(chromosome))\n",
    "for i in range(10):\n",
    "    # 首先计算适应度\n",
    "    shiyingdus = [shiyingdu(i) for i in chromosome]\n",
    "    print(\"适应度：{}\".format(shiyingdus))\n",
    "    # 这里要保留最多的M个染色体\n",
    "    shiyingdus2 = [(chromosome[i], shiyingdus[i]) for i in range(len(shiyingdus))] # 先配对\n",
    "    shiyingdus2.sort(key= lambda x:x[1]) # 根据适应度进行排序\n",
    "    baoliuM = [x[0] for x in shiyingdus2[:M]] # 保留的M个染色体\n",
    "    # 然后根据适应度返回概率\n",
    "    gailvs = jisuangailv(shiyingdus)\n",
    "    # 这里要取得N-M的2倍的染色体，以便交叉\n",
    "    jiaocha1 = np.random.choice(list(range(len(chromosome))), size=(N-M), p=gailvs)\n",
    "    jiaocha2 = np.random.choice(list(range(len(chromosome))), size=(N-M), p=gailvs)\n",
    "    # 然后每次取出2个进行交叉\n",
    "    jiaocha3 = []\n",
    "    for i in range(len(jiaocha1)):\n",
    "        tmp = []\n",
    "        mid = int(len(chromosome[0])/2) # 中间点\n",
    "        tmp.extend(chromosome[jiaocha1[i]][:mid])\n",
    "        tmp.extend(chromosome[jiaocha2[i]][mid:])\n",
    "        jiaocha3.append(tmp) # 交叉出一个染色体\n",
    "    # 然后合并\n",
    "    chromosome.clear()\n",
    "    chromosome.extend(baoliuM)\n",
    "    chromosome.extend(jiaocha3)\n",
    "    # 我这里要查看一下这里边最好的结果是什么\n",
    "    shiyingdu3 = [shiyingdu(i) for i in chromosome]\n",
    "    _min = min(shiyingdu3)\n",
    "    print(\"最少的的适应度是：{}, 安排：{}\".format(_min, chromosome[shiyingdu3.index(_min)]))\n",
    "    print(\"#############################################################################\")\n",
    "\n",
    "    "
   ]
  },
  {
   "cell_type": "markdown",
   "id": "e85647f8-1fc1-4a46-8741-d0b3e953fb6e",
   "metadata": {},
   "source": [
    "结果不怎么稳定，最好加变异。"
   ]
  },
  {
   "cell_type": "markdown",
   "id": "726291ef-9819-42e5-81ff-ad9788e42f92",
   "metadata": {},
   "source": [
    "# 引用\n",
    "\n",
    "> [10分钟搞懂遗传算法(含源码)](https://zhuanlan.zhihu.com/p/33042667)https://zhuanlan.zhihu.com/p/33042667"
   ]
  },
  {
   "cell_type": "code",
   "execution_count": null,
   "id": "632c56eb-495c-479a-8a51-212140d50863",
   "metadata": {},
   "outputs": [],
   "source": []
  }
 ],
 "metadata": {
  "kernelspec": {
   "display_name": "Python 3 (ipykernel)",
   "language": "python",
   "name": "python3"
  },
  "language_info": {
   "codemirror_mode": {
    "name": "ipython",
    "version": 3
   },
   "file_extension": ".py",
   "mimetype": "text/x-python",
   "name": "python",
   "nbconvert_exporter": "python",
   "pygments_lexer": "ipython3",
   "version": "3.8.12"
  }
 },
 "nbformat": 4,
 "nbformat_minor": 5
}
