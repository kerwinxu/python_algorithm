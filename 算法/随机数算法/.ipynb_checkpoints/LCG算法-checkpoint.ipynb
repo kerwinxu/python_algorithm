{
 "cells": [
  {
   "cell_type": "markdown",
   "metadata": {},
   "source": [
    "LCG（linear congruential generator）线性同余算法，是一个古老的产生随机数的算法  \n",
    "LCG算法是如下的一个递推公式，每下一个随机数是当前随机数向左移动 log2 a 位，加上一个 c，最后对 m 取余，使随机数限制在 0 ~ m-1 内  \n",
    "$$ X_{n+1} = (aX_n+c)\\ \\  mod\\ \\  m$$  \n",
    "m是取模，a是乘数，左右是移位，c是加数，作用是便宜"
   ]
  },
  {
   "cell_type": "code",
   "execution_count": 1,
   "metadata": {},
   "outputs": [],
   "source": [
    "def lcg(modulus, a, c, seed):\n",
    "    while True:\n",
    "        seed = (a * seed + c) % modulus\n",
    "        yield seed"
   ]
  },
  {
   "cell_type": "code",
   "execution_count": 7,
   "metadata": {},
   "outputs": [
    {
     "name": "stdout",
     "output_type": "stream",
     "text": [
      "1\n",
      "5\n",
      "3\n",
      "9\n",
      "1\n",
      "5\n",
      "3\n",
      "9\n",
      "1\n",
      "5\n"
     ]
    }
   ],
   "source": [
    "r = lcg(10,2,3,4)\n",
    "for i in range(10):\n",
    "    print(next(r))"
   ]
  },
  {
   "cell_type": "code",
   "execution_count": null,
   "metadata": {},
   "outputs": [],
   "source": []
  }
 ],
 "metadata": {
  "kernelspec": {
   "display_name": "Python 3",
   "language": "python",
   "name": "python3"
  },
  "language_info": {
   "codemirror_mode": {
    "name": "ipython",
    "version": 3
   },
   "file_extension": ".py",
   "mimetype": "text/x-python",
   "name": "python",
   "nbconvert_exporter": "python",
   "pygments_lexer": "ipython3",
   "version": "3.7.4"
  }
 },
 "nbformat": 4,
 "nbformat_minor": 4
}
