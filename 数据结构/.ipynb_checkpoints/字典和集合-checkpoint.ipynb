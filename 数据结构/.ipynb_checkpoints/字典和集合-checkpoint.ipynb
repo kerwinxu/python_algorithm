{
 "cells": [
  {
   "cell_type": "markdown",
   "metadata": {
    "toc-hr-collapsed": false
   },
   "source": [
    "# 数据存储、检索和字典"
   ]
  },
  {
   "cell_type": "markdown",
   "metadata": {},
   "source": [
    "## 数据存储和检索"
   ]
  },
  {
   "cell_type": "markdown",
   "metadata": {},
   "source": [
    "检索数据的标准： 通常考虑是在一次完整的检索过程中比较关键码的平均次数，通常称为平均检索长度（average search length ，ASL)，其定义是（n为字典中的数据项数）  $$ ASL = \\sum\\limits_{i=0}^{n-1}p_{i}\\cdot c_{i}$$  \n",
    "其中$c_{i}$和$p_{i}$分别为第i项数据元素的检索长度和检索概率。如果字典中各个元素的检索概率相等，也就是说，如果$p_i=\\frac{1}{n}$，那么$ASL=\\frac{1}{n}\\sum c_{i}$，上述定义只考虑了被检索关键码在字典中存在的情况，实际情况中，还需要考虑字典中不存在被检索关键码的情况。"
   ]
  },
  {
   "cell_type": "markdown",
   "metadata": {},
   "source": [
    "**字典和索引**  \n",
    "字典是两种功能的统一  \n",
    "- 作为一种数据存储结构，支持在字典里存储一批数据项。\n",
    "- 提供支持数据检索功能，设法维护从关键码找到相关数据的联系信息。这种也被称为索引。\n",
    "\n",
    "做基于关键码的检索，就是要实现从关键码到数据存储位置的映射，而这种映射也就是索引，\n"
   ]
  },
  {
   "cell_type": "markdown",
   "metadata": {},
   "source": [
    "## 字典实现的问题"
   ]
  },
  {
   "cell_type": "markdown",
   "metadata": {},
   "source": [
    "字典抽象的功能如下\n",
    "- Dict ： 字典构造函数\n",
    "- is_empty : 判断字典是否为空\n",
    "- num ： 字典中元素的个数\n",
    "- search : 检索字典里key的数据\n",
    "- insert ： 插入\n",
    "- delete ： 删除\n",
    "- values ： 迭代value\n",
    "- entries： 迭代key和value"
   ]
  },
  {
   "cell_type": "code",
   "execution_count": 1,
   "metadata": {},
   "outputs": [],
   "source": [
    "# 字典的元素，关联，这里将字典里的数据简单的分成2部分，一部分与检索有关的关键码，另一部分称为值\n",
    "class Assoc:\n",
    "    def __init__(self, key, value):\n",
    "        self.key=key\n",
    "        self.value=value\n",
    "    def __lt__(self, other):\n",
    "        return self.key < other.key\n",
    "    def __le__(self, other):\n",
    "        return self.key < other.key or self.key == other.key\n",
    "    def __str__(self):\n",
    "        return \"Assoc({0},{1})\".format(self.key, self.value)"
   ]
  },
  {
   "cell_type": "markdown",
   "metadata": {},
   "source": [
    "# 字典的线性表实现"
   ]
  },
  {
   "cell_type": "code",
   "execution_count": 2,
   "metadata": {},
   "outputs": [],
   "source": [
    "class DictList:\n",
    "    def __init__(self):\n",
    "        self._items = []\n",
    "    def is_empty(self):\n",
    "        return not self._items"
   ]
  },
  {
   "cell_type": "markdown",
   "metadata": {},
   "source": [
    "考虑线性表的时间复杂度\n",
    "- 插入元素，就是放在已有元素之和，O(1)时间复杂度\n",
    "- 删除元素，确定元素后删除，（简单的从表中删除元素），时间复杂度为O(n)\n",
    "- 检索， 考虑检索中的比较次数，$ASL=1\\times p_0 + 2\\times p_1+ \\cdots n\\times p_{n-1}=\\frac{1}{n}(1+2+\\cdots+n)=\\frac{n+1}{2}=O(n)$ \n",
    "\n",
    "线性表的检索，非常简单，但平均检索效率低，当n很大的时候，检索会很耗时。"
   ]
  },
  {
   "cell_type": "markdown",
   "metadata": {},
   "source": [
    "### 有序线性表和二分法检索"
   ]
  },
  {
   "cell_type": "markdown",
   "metadata": {},
   "source": [
    "如果关键码取自一个有序集合，就可以按照关键码大小的顺序排列字典里的项目。在数据检索的时候，可以采用二分法时间快速的检索。   \n",
    "二分法检索，基本思想是按比例逐步缩小需要考虑的数据范围，从而快速逼近需要找的数据，基本操作如下：\n",
    "- 初始时，考虑的元素区间是整个词典（一个顺序表）\n",
    "- 去所考虑元素范围里位置居中的那个数据项，判断是否相等，\n",
    "- 如果检索关键码较大，则把检索范围修改为中间项之后的半区间，如果较小，就吧检索范围修改为中间项之前的半区间。\n",
    "- 如果在关注的范围内仍有数据，就继续2步骤。否则检索结束"
   ]
  },
  {
   "cell_type": "code",
   "execution_count": 3,
   "metadata": {},
   "outputs": [],
   "source": [
    "def bisearch(lst, key):\n",
    "    low, high = 0 , len(lst)-1  # 初始时考虑整个线性表\n",
    "    while low <= high:\n",
    "        mid = low + (high+low)//2\n",
    "        if key == lst[mid].key:  # 中间这个值是否就是啦。\n",
    "            return lst[mid].value\n",
    "        if key < lst[mid].key:\n",
    "            high = mid -1   # 前半区间\n",
    "        else:\n",
    "            low = mid +1    # 后半区间"
   ]
  },
  {
   "cell_type": "markdown",
   "metadata": {},
   "source": [
    "## 字典的线性表总结"
   ]
  },
  {
   "cell_type": "markdown",
   "metadata": {},
   "source": [
    "总结：\n",
    "- 任意排列，插入是O(1)操作，检索和删除都需要顺序扫描整个标表，是O(n)操作。\n",
    "- 按顺序排列，插入需要检索正确位置，为O(n)操作，而检索和删除同样需要顺序"
   ]
  }
 ],
 "metadata": {
  "kernelspec": {
   "display_name": "Python 3",
   "language": "python",
   "name": "python3"
  },
  "language_info": {
   "codemirror_mode": {
    "name": "ipython",
    "version": 3
   },
   "file_extension": ".py",
   "mimetype": "text/x-python",
   "name": "python",
   "nbconvert_exporter": "python",
   "pygments_lexer": "ipython3",
   "version": "3.7.4"
  }
 },
 "nbformat": 4,
 "nbformat_minor": 4
}
