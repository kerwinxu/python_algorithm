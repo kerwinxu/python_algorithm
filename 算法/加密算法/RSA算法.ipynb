{
 "cells": [
  {
   "cell_type": "markdown",
   "metadata": {},
   "source": [
    "# RSA算法简单介绍"
   ]
  },
  {
   "cell_type": "markdown",
   "metadata": {},
   "source": [
    "加密过程：  \n",
    "$$ 密文 = 明文^ E Mod \\ \\ N$$  \n",
    "加密就是明文的E次方后除以N求余数的过程。$公钥= (E,N)$  \n",
    "解密过程：\n",
    "$$明文 = 密文^D Mod\\ \\ N$$\n",
    "解密就是密文的D次方后除以N求余数的过程。$私钥 = (D,N)$"
   ]
  },
  {
   "cell_type": "markdown",
   "metadata": {},
   "source": [
    "$$ \\begin{aligned} &公钥 &&(E,N)  \\\\\n",
    "&私钥 &&(D,N)                      \\\\\n",
    "&密钥对 &&(E,D,N)                   \\\\                   \n",
    "&加密 &&  密文 = 明文^ E Mod \\ \\ N \\\\\n",
    "&解密 &&明文 = 密文^D Mod\\ \\ N   \\\\\n",
    "\\end{aligned} $$"
   ]
  },
  {
   "cell_type": "markdown",
   "metadata": {},
   "source": [
    "# 生成密钥对"
   ]
  },
  {
   "cell_type": "markdown",
   "metadata": {},
   "source": [
    "既然公钥是（E，N），私钥是（D，N）所以密钥对即为（E，D，N）但密钥对是怎样生成的？步骤如下：\n",
    "- 求N\n",
    "- 求L\n",
    "- 求E\n",
    "- 求D"
   ]
  },
  {
   "cell_type": "markdown",
   "metadata": {},
   "source": [
    "## 求N"
   ]
  },
  {
   "cell_type": "markdown",
   "metadata": {},
   "source": [
    "准备两个质数p，q。这两个数不能太小，太小则会容易破解，将p乘以q就是N  \n",
    "$$N = p * q $$"
   ]
  },
  {
   "cell_type": "markdown",
   "metadata": {},
   "source": [
    "## 求L"
   ]
  },
  {
   "cell_type": "markdown",
   "metadata": {},
   "source": [
    "L 是 p－1 和 q－1的最小公倍数，可用如下表达式表示  \n",
    "$$ L = lcm(p-1 , q-1) $$"
   ]
  },
  {
   "cell_type": "markdown",
   "metadata": {},
   "source": [
    "## 求E"
   ]
  },
  {
   "cell_type": "markdown",
   "metadata": {},
   "source": [
    "E必须满足两个条件：E是一个比1大比L小的数，E和L的最大公约数为1\n",
    "用gcd(X,Y)来表示X，Y的最大公约数则E条件如下：\n",
    "$$ \\begin{aligned} && 1 < E < L \\\\ && gcd (E,L )= 1 \\end{aligned} $$"
   ]
  },
  {
   "cell_type": "markdown",
   "metadata": {},
   "source": [
    "## 求D"
   ]
  },
  {
   "cell_type": "markdown",
   "metadata": {},
   "source": [
    "数D是由数E计算出来的。D、E和L之间必须满足以下关系：  \n",
    "1 < D < L  \n",
    "E＊D mod L ＝ 1  \n",
    "\n",
    "只要D满足上述2个条件，则通过E和N进行加密的密文就可以用D和N进行解密。\n",
    "简单地说条件2是为了保证密文解密后的数据就是明文。\n",
    "现在私钥自然也已经生成了，密钥对也就自然生成了。"
   ]
  },
  {
   "cell_type": "markdown",
   "metadata": {},
   "source": [
    "## 小结"
   ]
  },
  {
   "cell_type": "markdown",
   "metadata": {},
   "source": [
    "$$ \\begin{aligned}  &求N && N = p*q , p、q为质数 \\\\\n",
    "&求L &&  L = lcm(p-1 , q-1) ,L为p－1、q－1的最小公倍数 \\\\\n",
    "&求E &&  1 < E < L , gcd (E,L )= 1 , E，L最大公约数为1（E和L互质）\\\\\n",
    "&求D && 1 < D < L  , E*D mod L ＝ 1  \\end{aligned} $$"
   ]
  },
  {
   "cell_type": "markdown",
   "metadata": {},
   "source": [
    "# 实践"
   ]
  },
  {
   "cell_type": "code",
   "execution_count": 3,
   "metadata": {},
   "outputs": [],
   "source": [
    "def gcd(a, b):\n",
    "    \"\"\"\n",
    "    第一种方法：欧几里得算法----辗转相除法\n",
    "    :param a: 第一个数\n",
    "    :param b: 第二个数\n",
    "    :return: 最大公约数\n",
    "    \"\"\"\n",
    "    # 如果最终余数为0 公约数就计算出来了\n",
    "    while(b!=0):\n",
    "        temp = a % b\n",
    "        a = b\n",
    "        b = temp\n",
    "    return a"
   ]
  },
  {
   "cell_type": "code",
   "execution_count": 4,
   "metadata": {},
   "outputs": [],
   "source": [
    "def lcm(a,b):\n",
    "    return (a*b)/gcd(a,b)"
   ]
  },
  {
   "cell_type": "code",
   "execution_count": 12,
   "metadata": {},
   "outputs": [],
   "source": [
    "def fun_E(L):\n",
    "    for i in range(2,L):\n",
    "        if gcd(L,i) == 1:\n",
    "            return i"
   ]
  },
  {
   "cell_type": "code",
   "execution_count": 18,
   "metadata": {},
   "outputs": [],
   "source": [
    "def fun_D(E,L):\n",
    "    for i in range(2,L):\n",
    "        if E * i % L == 1:\n",
    "            return i"
   ]
  },
  {
   "cell_type": "code",
   "execution_count": 19,
   "metadata": {},
   "outputs": [
    {
     "name": "stdout",
     "output_type": "stream",
     "text": [
      "N:323\n",
      "L:144\n",
      "E:5\n",
      "D:29\n"
     ]
    }
   ],
   "source": [
    "# 我们准备好两个质数，\n",
    "p = 17\n",
    "q = 19\n",
    "# 求N\n",
    "N = p * q\n",
    "print(\"N:{}\".format(N))\n",
    "# 求L\n",
    "L = int(lcm(p-1,q-1))\n",
    "print(\"L:{}\".format(L))\n",
    "# 求E\n",
    "E= fun_E(L)\n",
    "print(\"E:{}\".format(E))\n",
    "D=fun_D(E,L)\n",
    "print(\"D:{}\".format(D))"
   ]
  },
  {
   "cell_type": "markdown",
   "metadata": {},
   "source": [
    "5.5 加密  \n",
    "准备的明文必须时小于N的数，因为加密或者解密都要mod N其结果必须小于N  \n",
    "假设明文 ＝ 123  \n",
    "则 密文＝明文EmodN＝1235mod323=225密文＝明文EmodN＝1235mod323=225  \n",
    "5.6 解密  \n",
    "明文＝密文DmodN＝22529mod323=123明文＝密文DmodN＝22529mod323=123  \n",
    "解密后的明文为123。  \n",
    "\n",
    "好了至此RSA的算法原理已经讲解完毕，是不是很简单？\n"
   ]
  },
  {
   "cell_type": "code",
   "execution_count": null,
   "metadata": {},
   "outputs": [],
   "source": []
  }
 ],
 "metadata": {
  "kernelspec": {
   "display_name": "Python 3",
   "language": "python",
   "name": "python3"
  },
  "language_info": {
   "codemirror_mode": {
    "name": "ipython",
    "version": 3
   },
   "file_extension": ".py",
   "mimetype": "text/x-python",
   "name": "python",
   "nbconvert_exporter": "python",
   "pygments_lexer": "ipython3",
   "version": "3.7.4"
  }
 },
 "nbformat": 4,
 "nbformat_minor": 4
}
