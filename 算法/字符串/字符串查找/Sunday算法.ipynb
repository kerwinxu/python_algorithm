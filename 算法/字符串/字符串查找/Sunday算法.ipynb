{
 "cells": [
  {
   "cell_type": "markdown",
   "metadata": {},
   "source": [
    "Sunday算法跟BM算法很相似，不过Sunday算法是从前向后匹配，在匹配失败时，关注的是文本串中参与匹配的的最末尾字符的下一位字符。  \n",
    "1. 如果该字符没有在模式串中出现则直接跳过，即位移位数=匹配串长度+1  \n",
    "2. 否则，其位移位数 = 模式中最右端的该字符该字符到末尾的距离 + 1"
   ]
  },
  {
   "cell_type": "code",
   "execution_count": 1,
   "metadata": {},
   "outputs": [],
   "source": [
    "# 如下开始具体的算法\n",
    "# 我用logging吧\n",
    "import logging\n",
    "# workaround via specifying an invalid value first\n",
    "#%config Application.log_level='WORKAROUND'\n",
    "# => fails, necessary on Fedora 27, ipython3 6.2.1\n",
    "%config Application.log_level='DEBUG'\n",
    "import logging\n",
    "logging.getLogger().setLevel(logging.DEBUG)\n",
    "log = logging.getLogger()\n",
    "log.debug('Test debug')"
   ]
  },
  {
   "cell_type": "code",
   "execution_count": 2,
   "metadata": {},
   "outputs": [],
   "source": [
    "# 先搞出框架出来\n",
    "def sunday_matching(t:str,p:str):\n",
    "    \"\"\"这个是Sunday算法\"\"\"\n",
    "    # 初始化几个变量\n",
    "    i = 0 # 模式串头部对准目标串的下标。\n",
    "    j = 0 # 模式串的下标，匹配第几位。\n",
    "    len_t = len(t) # 目标串的长度。\n",
    "    len_p = len(p) # 模式串的长度，\n",
    "    # 用循环来判断\n",
    "    while i + j < len_t: # 这个循环的退出条件是，越接啦，至于搜索到相应字符，那么就在循环中直接return 吧\n",
    "        # 判断字符是否匹配\n",
    "        logging.info(\"目标串：{0}\".format(t))\n",
    "        logging.info(\"匹配串：\" + \"_\"*i  + p)\n",
    "        logging.info(\"匹配第{0}位\".format(j))\n",
    "        if p[j] == t[i+j]:\n",
    "            # 先判断匹配的情况吧\n",
    "            logging.info(\"字符相同，匹配下一位\")\n",
    "            j = j + 1 # 判断下一位\n",
    "            if j >= len_p :\n",
    "                # 如果匹配串越接，那么就是找到相应的位置啦\n",
    "                logging.info(\"成功找到了:{0},返回\".format(i))\n",
    "                return i\n",
    "        else: # 这里表示不匹配啦\n",
    "            # 这里要找的是文本串中参与匹配的的最末尾字符的下一位字符\n",
    "            next_char = t[i+len_p] # 直接就是下标加上长度就是啦\n",
    "            _last_right = p.rfind(next_char) # 这个只是搜索单个字符，我这里直接调用这个吧。\n",
    "            logging.info(\"下一个字符是{0},在模式串中最右端下标为：{1}\".format(next_char,_last_right))\n",
    "            # 这里要判断是否有啦\n",
    "            if _last_right < 0 :\n",
    "                logging.info(\"这个字符在模式串中没有出现，直接位移长度+1\")\n",
    "                i = i + len_p +1\n",
    "            else:\n",
    "                # 这里表示有这个字符啦，这里表示倒数第几位就表示右移几位。\n",
    "                i = i + (len_p-_last_right)\n",
    "                logging.info(\"这个字符在模式串中有出现，位移：{0}\".format(len_p-_last_right))\n",
    "        logging.info(\"************************************************************************\")\n",
    "                \n"
   ]
  },
  {
   "cell_type": "code",
   "execution_count": 3,
   "metadata": {},
   "outputs": [
    {
     "name": "stderr",
     "output_type": "stream",
     "text": [
      "INFO:root:目标串：substring searching algorithm\n",
      "INFO:root:匹配串：search\n",
      "INFO:root:匹配第0位\n",
      "INFO:root:字符相同，匹配下一位\n",
      "INFO:root:************************************************************************\n",
      "INFO:root:目标串：substring searching algorithm\n",
      "INFO:root:匹配串：search\n",
      "INFO:root:匹配第1位\n",
      "INFO:root:下一个字符是i,在模式串中最右端下标为：-1\n",
      "INFO:root:这个字符在模式串中没有出现，直接位移长度+1\n",
      "INFO:root:************************************************************************\n",
      "INFO:root:目标串：substring searching algorithm\n",
      "INFO:root:匹配串：_______search\n",
      "INFO:root:匹配第1位\n",
      "INFO:root:下一个字符是r,在模式串中最右端下标为：3\n",
      "INFO:root:这个字符在模式串中有出现，位移：3\n",
      "INFO:root:************************************************************************\n",
      "INFO:root:目标串：substring searching algorithm\n",
      "INFO:root:匹配串：__________search\n",
      "INFO:root:匹配第1位\n",
      "INFO:root:字符相同，匹配下一位\n",
      "INFO:root:************************************************************************\n",
      "INFO:root:目标串：substring searching algorithm\n",
      "INFO:root:匹配串：__________search\n",
      "INFO:root:匹配第2位\n",
      "INFO:root:字符相同，匹配下一位\n",
      "INFO:root:************************************************************************\n",
      "INFO:root:目标串：substring searching algorithm\n",
      "INFO:root:匹配串：__________search\n",
      "INFO:root:匹配第3位\n",
      "INFO:root:字符相同，匹配下一位\n",
      "INFO:root:************************************************************************\n",
      "INFO:root:目标串：substring searching algorithm\n",
      "INFO:root:匹配串：__________search\n",
      "INFO:root:匹配第4位\n",
      "INFO:root:字符相同，匹配下一位\n",
      "INFO:root:************************************************************************\n",
      "INFO:root:目标串：substring searching algorithm\n",
      "INFO:root:匹配串：__________search\n",
      "INFO:root:匹配第5位\n",
      "INFO:root:字符相同，匹配下一位\n",
      "INFO:root:成功找到了:10,返回\n"
     ]
    },
    {
     "data": {
      "text/plain": [
       "10"
      ]
     },
     "execution_count": 3,
     "metadata": {},
     "output_type": "execute_result"
    }
   ],
   "source": [
    "sunday_matching(\"substring searching algorithm\",\"search\")"
   ]
  },
  {
   "cell_type": "code",
   "execution_count": 4,
   "metadata": {},
   "outputs": [
    {
     "name": "stderr",
     "output_type": "stream",
     "text": [
      "INFO:root:目标串：hello world\n",
      "INFO:root:匹配串：world\n",
      "INFO:root:匹配第0位\n",
      "INFO:root:下一个字符是 ,在模式串中最右端下标为：-1\n",
      "INFO:root:这个字符在模式串中没有出现，直接位移长度+1\n",
      "INFO:root:************************************************************************\n",
      "INFO:root:目标串：hello world\n",
      "INFO:root:匹配串：______world\n",
      "INFO:root:匹配第0位\n",
      "INFO:root:字符相同，匹配下一位\n",
      "INFO:root:************************************************************************\n",
      "INFO:root:目标串：hello world\n",
      "INFO:root:匹配串：______world\n",
      "INFO:root:匹配第1位\n",
      "INFO:root:字符相同，匹配下一位\n",
      "INFO:root:************************************************************************\n",
      "INFO:root:目标串：hello world\n",
      "INFO:root:匹配串：______world\n",
      "INFO:root:匹配第2位\n",
      "INFO:root:字符相同，匹配下一位\n",
      "INFO:root:************************************************************************\n",
      "INFO:root:目标串：hello world\n",
      "INFO:root:匹配串：______world\n",
      "INFO:root:匹配第3位\n",
      "INFO:root:字符相同，匹配下一位\n",
      "INFO:root:************************************************************************\n",
      "INFO:root:目标串：hello world\n",
      "INFO:root:匹配串：______world\n",
      "INFO:root:匹配第4位\n",
      "INFO:root:字符相同，匹配下一位\n",
      "INFO:root:成功找到了:6,返回\n"
     ]
    },
    {
     "data": {
      "text/plain": [
       "6"
      ]
     },
     "execution_count": 4,
     "metadata": {},
     "output_type": "execute_result"
    }
   ],
   "source": [
    "sunday_matching(\"hello world\",\"world\")"
   ]
  },
  {
   "cell_type": "code",
   "execution_count": null,
   "metadata": {},
   "outputs": [],
   "source": []
  }
 ],
 "metadata": {
  "file_extension": ".py",
  "kernelspec": {
   "display_name": "Python 3",
   "language": "python",
   "name": "python3"
  },
  "language_info": {
   "codemirror_mode": {
    "name": "ipython",
    "version": 3
   },
   "file_extension": ".py",
   "mimetype": "text/x-python",
   "name": "python",
   "nbconvert_exporter": "python",
   "pygments_lexer": "ipython3",
   "version": "3.7.3"
  },
  "mimetype": "text/x-python",
  "name": "python",
  "npconvert_exporter": "python",
  "pygments_lexer": "ipython3",
  "toc": {
   "nav_menu": {},
   "number_sections": true,
   "sideBar": true,
   "skip_h1_title": false,
   "title_cell": "Table of Contents",
   "title_sidebar": "Contents",
   "toc_cell": false,
   "toc_position": {},
   "toc_section_display": true,
   "toc_window_display": false
  },
  "version": 3
 },
 "nbformat": 4,
 "nbformat_minor": 2
}
