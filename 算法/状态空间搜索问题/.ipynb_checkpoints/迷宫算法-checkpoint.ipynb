{
 "cells": [
  {
   "cell_type": "markdown",
   "metadata": {},
   "source": [
    "# 迷宫算法数据"
   ]
  },
  {
   "cell_type": "code",
   "execution_count": 1,
   "metadata": {
    "ExecuteTime": {
     "end_time": "2019-11-23T12:23:55.808668Z",
     "start_time": "2019-11-23T12:23:55.773670Z"
    }
   },
   "outputs": [
    {
     "data": {
      "text/plain": [
       "[[1, 1, 1, 1, 1, 1, 1, 1, 1, 1, 1, 1],\n",
       " [1, 0, 0, 0, 1, 1, 1, 1, 1, 1, 1, 1],\n",
       " [1, 1, 1, 0, 1, 1, 0, 0, 0, 0, 1, 1],\n",
       " [1, 1, 1, 0, 1, 1, 0, 1, 1, 0, 1, 1],\n",
       " [1, 1, 1, 0, 0, 0, 0, 1, 1, 0, 1, 1],\n",
       " [1, 1, 1, 0, 1, 1, 0, 1, 1, 0, 1, 1],\n",
       " [1, 1, 1, 0, 1, 1, 0, 1, 1, 0, 1, 1],\n",
       " [1, 1, 1, 1, 1, 1, 0, 1, 1, 0, 1, 1],\n",
       " [1, 1, 0, 0, 0, 0, 0, 0, 1, 0, 0, 1],\n",
       " [1, 1, 1, 1, 1, 1, 1, 1, 1, 1, 1, 1]]"
      ]
     },
     "execution_count": 1,
     "metadata": {},
     "output_type": "execute_result"
    }
   ],
   "source": [
    "# 我用一个二维数组来做个地图，1表示墙，0表示可以通过，以后2表示这个路走过了。\n",
    "import copy\n",
    "map_data =[[1,1,1,1,1,1,1,1,1,1,1,1],\\\n",
    "      [1,0,0,0,1,1,1,1,1,1,1,1],\\\n",
    "      [1,1,1,0,1,1,0,0,0,0,1,1],\\\n",
    "      [1,1,1,0,1,1,0,1,1,0,1,1],\\\n",
    "      [1,1,1,0,0,0,0,1,1,0,1,1],\\\n",
    "      [1,1,1,0,1,1,0,1,1,0,1,1],\\\n",
    "      [1,1,1,0,1,1,0,1,1,0,1,1],\\\n",
    "      [1,1,1,1,1,1,0,1,1,0,1,1],\\\n",
    "      [1,1,0,0,0,0,0,0,1,0,0,1],\\\n",
    "      [1,1,1,1,1,1,1,1,1,1,1,1]]\n",
    "map_data"
   ]
  },
  {
   "cell_type": "markdown",
   "metadata": {},
   "source": [
    "# 递归实现的迷宫算法"
   ]
  },
  {
   "cell_type": "markdown",
   "metadata": {},
   "source": [
    "递归实现的好实现  \n",
    "1. 每时每刻都有一个位置是当前位置，开始时这个位置是迷宫的入口\n",
    "2. 如果当前位置就是出口，那么问题解决  \n",
    "3. 否则，如果当前位置已经无路可走，当前探查失败，回退一部。\n",
    "4. 去一个可行相邻位置用同样的方式探查，如果从那里可以找到通往出口的道路，那么从当前位置到出口的路径也就找到了  \n",
    "\n"
   ]
  },
  {
   "cell_type": "markdown",
   "metadata": {},
   "source": [
    "算法过程  \n",
    "1. 将当前位置记录已经验证  \n",
    "2. 检查当前位置是否为出口，如果是则成功结束  。\n",
    "3. 逐个检查当前位置的四邻，是否可以通过到达出口，（这个是递归调用自身）  \n",
    "4. 如果对四邻的搜索都失败，那么报告失败"
   ]
  },
  {
   "cell_type": "markdown",
   "metadata": {},
   "source": [
    "接下来做几个辅助的函数"
   ]
  },
  {
   "cell_type": "code",
   "execution_count": 2,
   "metadata": {
    "ExecuteTime": {
     "end_time": "2019-11-23T12:23:56.152665Z",
     "start_time": "2019-11-23T12:23:55.813674Z"
    }
   },
   "outputs": [],
   "source": [
    "# 将当前位置设置为已经探查。\n",
    "def mark(data,pos):\n",
    "    \"\"\"\n",
    "        设置当前位置为已经探查了，这里做一个约定，2表示已经探查。\n",
    "        @data ： 这个是地图的数据，一个二维数组\n",
    "        @pos ： 要设置的位置。这里做约定，pos为一个有2个元素的列表，表示位置。\n",
    "    \"\"\"\n",
    "    data[pos[0]][pos[1]]=2"
   ]
  },
  {
   "cell_type": "code",
   "execution_count": 3,
   "metadata": {
    "ExecuteTime": {
     "end_time": "2019-11-23T12:23:56.336670Z",
     "start_time": "2019-11-23T12:23:56.156664Z"
    }
   },
   "outputs": [],
   "source": [
    "def possable(data,pos):\n",
    "    \"\"\"检查这个位置是否可以通过\n",
    "        @data ： 这个是地图的数据，一个二维数组\n",
    "        @pos ： 检查的位置。\n",
    "    \"\"\"\n",
    "    # 实际上我只需要检查这个位置是否为0，因为1表示是墙壁，而2表示已经检查过，这里约定已经检查过的是不可以通过的\n",
    "    return data[pos[0]][pos[1]] == 0"
   ]
  },
  {
   "cell_type": "code",
   "execution_count": 4,
   "metadata": {
    "ExecuteTime": {
     "end_time": "2019-11-23T12:23:56.457669Z",
     "start_time": "2019-11-23T12:23:56.339675Z"
    }
   },
   "outputs": [
    {
     "name": "stdout",
     "output_type": "stream",
     "text": [
      "[2, 3]\n",
      "[1, 2]\n"
     ]
    }
   ],
   "source": [
    "def next_pos(data,pos):\n",
    "    \"\"\"取得下一步\n",
    "         @data ： 这个是地图的数据，一个二维数组\n",
    "        @pos ： 这个是当前位置\n",
    "    return : 返回的是这个位置的4个邻居，上、下、左、右\"\"\"\n",
    "    # 我这里有个判断，是否越界，因为有些地图，可能四周不是墙，而仅仅是约定越界的就是墙。\n",
    "    _next_pos = []\n",
    "    # 如下分别加上上下左右方向吧\n",
    "    # 添加上，上就是y-1啦，\n",
    "    if pos[0]-1 >= 0 :\n",
    "        _next_pos.append([pos[0]-1 , pos[1]])\n",
    "    # 下\n",
    "    if pos[0]+1 < len(data):\n",
    "        _next_pos.append([pos[0]+1 , pos[1]])\n",
    "    # 左边\n",
    "    if pos[1]-1 >= 0 :\n",
    "        _next_pos.append([pos[0] , pos[1]-1])\n",
    "    # 右边\n",
    "    if pos[1]+1 < len(data[0]):\n",
    "        _next_pos.append([pos[0] , pos[1]+1])\n",
    "    return _next_pos\n",
    "# 这里一个简单的测试吧\n",
    "for _pos in (next_pos(map_data,[1,3])):\n",
    "    if possable(map_data,_pos):\n",
    "        print(_pos)"
   ]
  },
  {
   "cell_type": "code",
   "execution_count": 5,
   "metadata": {
    "ExecuteTime": {
     "end_time": "2019-11-23T12:23:56.585662Z",
     "start_time": "2019-11-23T12:23:56.461667Z"
    }
   },
   "outputs": [],
   "source": [
    "def right_way(data,pos):\n",
    "    \"\"\"这是某个坐标为正确的路\n",
    "        @data ： 这个是地图的数据，一个二维数组\n",
    "        @pos ： 某个坐标\n",
    "    \n",
    "    \"\"\"\n",
    "    # 我这里简单点，只是设置这个为数字3\n",
    "    data[pos[0]][pos[1]]=3"
   ]
  },
  {
   "cell_type": "code",
   "execution_count": 6,
   "metadata": {
    "ExecuteTime": {
     "end_time": "2019-11-23T12:23:56.727664Z",
     "start_time": "2019-11-23T12:23:56.588665Z"
    }
   },
   "outputs": [],
   "source": [
    "# 到这里就是真正的迷宫算法了\n",
    "def maze_right_way(data,start_pos,end_pos):\n",
    "    \"\"\"\n",
    "    迷宫算法\n",
    "        @data ： 这个是地图的数据，一个二维数组\n",
    "        @start_pos ： 要检查的位置，\n",
    "        @end_pos : 结束位置\n",
    "    return : 找到路径返回真\n",
    "    \"\"\"\n",
    "    # 首先记录当前位置\n",
    "    mark(data,start_pos)\n",
    "    \n",
    "    # 判断当前位置是否为结束的。\n",
    "    if start_pos == end_pos:\n",
    "        right_way(data,start_pos)\n",
    "        return True\n",
    "    \n",
    "    # 然后在四个方向上递归啦\n",
    "    for _pos in (next_pos(data,start_pos)): \n",
    "        if possable(data,_pos): # 判断这个是否可以走\n",
    "            if maze_right_way(data,_pos,end_pos):  #走这条路，判断是否是正确的。\n",
    "                # 如果返回真，表示从正确的路返回啦，\n",
    "                right_way(data,_pos)\n",
    "                return True\n",
    "    # 四条路都走了，如果执行到这里，那么就说明没有找到路\n",
    "    return False\n",
    "            \n",
    "    \n"
   ]
  },
  {
   "cell_type": "code",
   "execution_count": 7,
   "metadata": {
    "ExecuteTime": {
     "end_time": "2019-11-23T12:23:56.864668Z",
     "start_time": "2019-11-23T12:23:56.731674Z"
    }
   },
   "outputs": [
    {
     "name": "stdout",
     "output_type": "stream",
     "text": [
      "True\n"
     ]
    }
   ],
   "source": [
    "print(maze_right_way(copy.deepcopy(map_data),[1,1],[8,10]))"
   ]
  },
  {
   "cell_type": "code",
   "execution_count": 8,
   "metadata": {
    "ExecuteTime": {
     "end_time": "2019-11-23T12:23:57.005670Z",
     "start_time": "2019-11-23T12:23:56.871669Z"
    }
   },
   "outputs": [
    {
     "data": {
      "text/plain": [
       "[[1, 1, 1, 1, 1, 1, 1, 1, 1, 1, 1, 1],\n",
       " [1, 0, 0, 0, 1, 1, 1, 1, 1, 1, 1, 1],\n",
       " [1, 1, 1, 0, 1, 1, 0, 0, 0, 0, 1, 1],\n",
       " [1, 1, 1, 0, 1, 1, 0, 1, 1, 0, 1, 1],\n",
       " [1, 1, 1, 0, 0, 0, 0, 1, 1, 0, 1, 1],\n",
       " [1, 1, 1, 0, 1, 1, 0, 1, 1, 0, 1, 1],\n",
       " [1, 1, 1, 0, 1, 1, 0, 1, 1, 0, 1, 1],\n",
       " [1, 1, 1, 1, 1, 1, 0, 1, 1, 0, 1, 1],\n",
       " [1, 1, 0, 0, 0, 0, 0, 0, 1, 0, 0, 1],\n",
       " [1, 1, 1, 1, 1, 1, 1, 1, 1, 1, 1, 1]]"
      ]
     },
     "execution_count": 8,
     "metadata": {},
     "output_type": "execute_result"
    }
   ],
   "source": [
    "map_data"
   ]
  },
  {
   "cell_type": "markdown",
   "metadata": {},
   "source": [
    "# 队列实现的迷宫算法"
   ]
  },
  {
   "cell_type": "markdown",
   "metadata": {},
   "source": [
    "基本框架  \n",
    "将start标记为已达  \n",
    "start入队  \n",
    "while 队列里还有未充分探查的位置  \n",
    "&emsp;&emsp;取出一个位置pos  \n",
    "&emsp;&emsp;检查pos的相邻位置  \n",
    "&emsp;&emsp;&emsp;&emsp;遇到end成功结束  \n",
    "&emsp;&emsp;&emsp;&emsp;尚未探查的都mark并入队  \n",
    "队列空，探索失败"
   ]
  },
  {
   "cell_type": "code",
   "execution_count": 9,
   "metadata": {
    "ExecuteTime": {
     "end_time": "2019-11-23T12:23:57.142660Z",
     "start_time": "2019-11-23T12:23:57.010664Z"
    }
   },
   "outputs": [],
   "source": [
    "# 这里是算法实现的\n",
    "from queue import Queue\n",
    "def maze_solver_queue(maze, start, end):\n",
    "    # 特殊情况，开头就是结尾\n",
    "    if start == end:\n",
    "        print(\"开头就是结尾\")\n",
    "        return\n",
    "    qu = Queue()\n",
    "    mark(maze,start)  \n",
    "    qu.put(start) # start位置入队列\n",
    "    right_dict = {}  # 这个是保存路径的字典\n",
    "    while not qu.empty():  # 还有候选位置\n",
    "        pos = qu.get()  # 取出下一个位置\n",
    "        for _next_pos in next_pos(maze,pos):  # 遍历所有点\n",
    "            if possable(maze,_next_pos):  # 判断可行\n",
    "                # 保存路径啦，键为前一步，值为下一步，\n",
    "                if str(pos) not in right_dict:\n",
    "                    right_dict[str(pos)]=[str(_next_pos)]\n",
    "                else:\n",
    "                    right_dict[str(pos)].append(str(_next_pos)) # python的列表用append会直接修改原先的列表，这个方法的返回值是None \n",
    "                if _next_pos == end:  # 是出口\n",
    "                    print(\"找到出口\")\n",
    "                    # 下面就是根据路径字典来返回原先的位置吧\n",
    "                    # 首先将字典拆成键和值\n",
    "                    # 因为我要做多次从值寻找键的过程。\n",
    "                    # 其实这个用一个单独的方法做会比较好吧。\n",
    "                    key_list=[]\n",
    "                    value_list=[]\n",
    "                    for key,value in right_dict.items():  # 遍历字典，并保存相关数据。\n",
    "                        key_list.append(key)\n",
    "                        value_list.append(value)\n",
    "                    _key = str(end)  # 一开始初始化啦。肯定是从最后啦。\n",
    "                    while _key != str(start): # 继续循环条件是如果不是开头，\n",
    "                        # 寻找这个键，如下是根据一个坐标来寻找哪个值里有这个坐标。\n",
    "                        _index = 0 \n",
    "                        while _index < len(right_dict):\n",
    "                            # 遍历字典的值的列表，看看其中那个有这个\n",
    "                            if _key in value_list[_index]:\n",
    "                                break\n",
    "                            _index = _index + 1\n",
    "                        # 到这里表示寻找到了这个坐标，这个坐标在字典的值的列表中，需要为_index \n",
    "                        _key = key_list[_index]\n",
    "                        print(_key)\n",
    "                    break\n",
    "                mark(maze,_next_pos)\n",
    "                qu.put(_next_pos)"
   ]
  },
  {
   "cell_type": "code",
   "execution_count": 10,
   "metadata": {
    "ExecuteTime": {
     "end_time": "2019-11-23T12:23:57.270670Z",
     "start_time": "2019-11-23T12:23:57.146666Z"
    }
   },
   "outputs": [
    {
     "name": "stdout",
     "output_type": "stream",
     "text": [
      "找到出口\n",
      "[8, 9]\n",
      "[7, 9]\n",
      "[6, 9]\n",
      "[5, 9]\n",
      "[4, 9]\n",
      "[3, 9]\n",
      "[2, 9]\n",
      "[2, 8]\n",
      "[2, 7]\n",
      "[2, 6]\n",
      "[3, 6]\n",
      "[4, 6]\n",
      "[4, 5]\n",
      "[4, 4]\n",
      "[4, 3]\n",
      "[3, 3]\n",
      "[2, 3]\n",
      "[1, 3]\n",
      "[1, 2]\n",
      "[1, 1]\n"
     ]
    }
   ],
   "source": [
    "maze_solver_queue(copy.deepcopy(map_data),[1,1],[8,10])"
   ]
  },
  {
   "cell_type": "markdown",
   "metadata": {},
   "source": [
    "这个迷宫算法的队列实现部分，找到出口后，最好的保存路线方法不是字典，而是树吧。"
   ]
  },
  {
   "cell_type": "code",
   "execution_count": 11,
   "metadata": {
    "ExecuteTime": {
     "end_time": "2019-11-23T12:23:57.415686Z",
     "start_time": "2019-11-23T12:23:57.277667Z"
    }
   },
   "outputs": [],
   "source": [
    "# 我重新组织一下用队列实现的迷宫算法\n",
    "# 首先我从总体上实现这个算法"
   ]
  },
  {
   "cell_type": "markdown",
   "metadata": {
    "ExecuteTime": {
     "end_time": "2019-11-22T12:44:20.863784Z",
     "start_time": "2019-11-22T12:44:20.856777Z"
    }
   },
   "source": [
    "将start标记为已达  \n",
    "start入队  \n",
    "while 队列里还有未充分探查的位置  \n",
    "&emsp;&emsp;取出一个位置pos  \n",
    "&emsp;&emsp;检查pos的相邻位置  \n",
    "&emsp;&emsp;&emsp;&emsp;遇到end成功结束  \n",
    "&emsp;&emsp;&emsp;&emsp;尚未探查的都mark并入队  \n",
    "队列空，探索失败"
   ]
  },
  {
   "cell_type": "code",
   "execution_count": 12,
   "metadata": {
    "ExecuteTime": {
     "end_time": "2019-11-23T12:23:57.550664Z",
     "start_time": "2019-11-23T12:23:57.418670Z"
    }
   },
   "outputs": [
    {
     "name": "stdout",
     "output_type": "stream",
     "text": [
      "找到出口\n"
     ]
    }
   ],
   "source": [
    "def maze_solver_queue(maze, start, end):\n",
    "    # 特殊情况，开头就是结尾\n",
    "    if start == end:\n",
    "        print(\"开头就是结尾\")\n",
    "        return\n",
    "    qu = Queue() # g构造队列\n",
    "    mark(maze,start)  # 做标记\n",
    "    qu.put(start) # start位置入队列\n",
    "    while not qu.empty():  # 还有候选位置\n",
    "        pos = qu.get()  # 取出下一个位置\n",
    "        for _next_pos in next_pos(maze,pos):  # 遍历所有点\n",
    "            if possable(maze,_next_pos):  # 判断可行，我这个是做成2步的，一步是上边取得所有邻居，这步是检查是否可行\n",
    "                if _next_pos == end:  # 是出口\n",
    "                    print(\"找到出口\")\n",
    "                    return\n",
    "                mark(maze,_next_pos) # 标记这个位置，这个是尚未探查的都做标记，\n",
    "                qu.put(_next_pos)  # 这个位置入队列\n",
    "    print(\"没有找到路线\")\n",
    "maze_solver_queue(copy.deepcopy(map_data),[1,1],[8,10])"
   ]
  },
  {
   "cell_type": "code",
   "execution_count": 13,
   "metadata": {
    "ExecuteTime": {
     "end_time": "2019-11-23T12:23:57.727663Z",
     "start_time": "2019-11-23T12:23:57.554673Z"
    }
   },
   "outputs": [],
   "source": [
    "# 上边的并没有看到路线，而只是判断是否有路线而已，我下边要添加要保存路线的版本"
   ]
  },
  {
   "cell_type": "markdown",
   "metadata": {},
   "source": [
    "将start标记为已达  \n",
    "start入队  \n",
    "while 队列里还有未充分探查的位置  \n",
    "&emsp;&emsp;取出一个位置pos  \n",
    "&emsp;&emsp;检查pos的相邻位置  \n",
    "&emsp;&emsp;&emsp;&emsp;**保存状态信息，就是这个路径和下一个路径**  \n",
    "&emsp;&emsp;&emsp;&emsp;遇到end成功结束  \n",
    "&emsp;&emsp;&emsp;&emsp;&emsp;&emsp;**遇到end后调用一个函数，返回相关状态**  \n",
    "&emsp;&emsp;&emsp;&emsp;尚未探查的都mark并入队  \n",
    "队列空，探索失败"
   ]
  },
  {
   "cell_type": "code",
   "execution_count": 14,
   "metadata": {
    "ExecuteTime": {
     "end_time": "2019-11-23T12:23:57.868664Z",
     "start_time": "2019-11-23T12:23:57.732665Z"
    }
   },
   "outputs": [],
   "source": [
    "# 这个部分我写怎么保存状态以及返回状态的函数\n",
    "# 我这里用树来保存相关的状态吧\n",
    "# 以后实现吧，我还没有学习树呢\n"
   ]
  },
  {
   "cell_type": "markdown",
   "metadata": {},
   "source": [
    "# 回溯法实现的迷宫算法"
   ]
  },
  {
   "cell_type": "markdown",
   "metadata": {},
   "source": [
    "这种算法在工作中执行两种基本操作  \n",
    "- **前进**  \n",
    "   - 条件 ： 当前位置存在尚未探查的四邻位置  \n",
    "   - 操作 ： 选择下一个位置向前探查。如果还存在其他可能的探查分支，就记录相关信息，以便将来使用。  \n",
    "      - 如果找到出口，则成功结束  \n",
    "- **后退**（回溯）  \n",
    "   - 条件 ： 遇到死路，不存在尚未探查的四邻位置。  \n",
    "   - 操作 ： 退回最近记录的那个分支点，检查那里是否还存在为探查的分支，如果有，就取一个尚未探查的邻位置作为当前位置前近，没有就将其删除并继续回溯。  \n",
    "   - 已经穷尽所有可能，不能找到出口时以失败结束  \n",
    "可以应用回溯法的共性是从一个出发点开始，设法找到目标，都需要一个栈，搜索的行为分为向前搜索和向后搜索，下边是回溯法的典型实现。  \n",
    "- 首先把出发点压入栈中  \n",
    "- 在栈不为空的情况下，反复做如下几个操作，栈为空以失败结束。  \n",
    "   - 弹出一项以前保存的信息，作为当前点。  \n",
    "   - 检查从这里出发前近的可能性，找到下一个探查点  \n",
    "   - 如果可以向前，存在下一个可行位置  \n",
    "      - 把当前位置点的其他可能压入栈  \n",
    "      - 把下一个探查点也压入栈\n",
    "         - 注意： 由于已经将下一个探查点压入栈，下次迭代自然会将其取出使用。如果当前点不存在前近可能，算法将直接转入到下一次迭代，弹出更早保存的点（就是回溯），而找到（并压入）下一探查点就是前近。  \n",
    " \n"
   ]
  },
  {
   "cell_type": "markdown",
   "metadata": {},
   "source": [
    "迷宫算法框架 \n",
    "- 入口相关信息（位置和尚未探查的方向）入栈  \n",
    "- while 栈不空 \n",
    "  - 弹出栈顶元素作为当前位置继续搜索  \n",
    "  - while 当前位置存在尚未探查的方向  \n",
    "     - 求出下一个探查位置 nextp\n",
    "     - if nextp 是出口 \n",
    "        - 输出路径并结束\n",
    "     - if nextp 尚未探查：\n",
    "        - 将当前位置和nextp顺序入栈并退出内层循环。"
   ]
  },
  {
   "cell_type": "code",
   "execution_count": 15,
   "metadata": {
    "ExecuteTime": {
     "end_time": "2019-11-23T12:23:58.033669Z",
     "start_time": "2019-11-23T12:23:57.871664Z"
    }
   },
   "outputs": [
    {
     "name": "stdout",
     "output_type": "stream",
     "text": [
      "找到路径\n",
      "[([1, 1], 1), ([1, 2], 1), ([1, 3], 2), ([2, 3], 2), ([3, 3], 2), ([4, 3], 1), ([4, 4], 1), ([4, 5], 1), ([4, 6], 4), ([3, 6], 4), ([2, 6], 1), ([2, 7], 1), ([2, 8], 1), ([2, 9], 2), ([3, 9], 2), ([4, 9], 2), ([5, 9], 2), ([6, 9], 2), ([7, 9], 2)]\n"
     ]
    }
   ],
   "source": [
    "# 我这个栈暂时用列表实现吧，\n",
    "dirs=[(0,1),(1,0),(0,-1),(-1,0)]  # 四邻，方便计算的\n",
    "def maze_solver_huisu(maze,start,end):\n",
    "    if start == end:\n",
    "        print(\"开始就是结束啦，这种情况很少\")\n",
    "        return\n",
    "    stack = []  # 我这里用python的列表实现栈吧，append和pop\n",
    "    mark(maze,start)  # 标记位置\n",
    "    stack.append((start,0))  # 起始点入栈\n",
    "    while len(stack) > 0:\n",
    "        pos,nxt = stack.pop()  # 取出栈顶和探查方向\n",
    "        # 下边是探查四个邻居\n",
    "        for i in range(nxt,4):\n",
    "            nextp = [pos[0]+dirs[i][0],pos[1]+dirs[i][1]]\n",
    "            if nextp == end: \n",
    "                print(\"找到路径\")\n",
    "                print(stack)  # 打印这个列表啦，这里边就是路径。\n",
    "                return \n",
    "            if possable(maze,nextp):  # 遇到未查探的位置\n",
    "                stack.append((pos,i+1))  # 原位置和下一个方向入栈\n",
    "                mark(maze,nextp)  #\n",
    "                stack.append((nextp,0))  # 新位置入栈\n",
    "                break\n",
    "    print(\"没有找到路径\")\n",
    "     \n",
    "maze_solver_huisu(copy.deepcopy(map_data),[1,1],[8,10])"
   ]
  },
  {
   "cell_type": "markdown",
   "metadata": {},
   "source": [
    "# 递归法、回溯法和队列法的区别"
   ]
  },
  {
   "cell_type": "markdown",
   "metadata": {},
   "source": [
    "递归法算法过程  \n",
    "- 将当前位置记录已经验证  \n",
    "- 检查当前位置是否为出口，如果是则成功结束  。\n",
    "- 逐个检查当前位置的四邻，是否可以通过到达出口，（这个是递归调用自身）  \n",
    "- 如果对四邻的搜索都失败，那么报告失败  \n",
    "\n",
    "回溯算法框架 \n",
    "- 入口相关信息（位置和尚未探查的方向）入栈  \n",
    "- while 栈不空 \n",
    "  - 弹出栈顶元素作为当前位置继续搜索  \n",
    "  - while 当前位置存在尚未探查的方向  \n",
    "     - 求出下一个探查位置 nextp\n",
    "     - if nextp 是出口 \n",
    "        - 输出路径并结束\n",
    "     - if nextp 尚未探查：\n",
    "        - 将当前位置和nextp顺序入栈并退出内层循环。  \n",
    "- 回溯法的路线就是堆栈中的内容。\n",
    "\n",
    "回溯法，就是保存一个当前位置以及四邻的方向上的坐标（如果可行的话），下一次循环会取出这个四邻方向上的坐标，以这个坐标当作当前的点，再次判断四邻，如果这里都不可行，这时候堆栈的栈顶位置就是上上次的当前位置和某个方向了。\n",
    "\n",
    "\n",
    "队列框架  \n",
    "将start标记为已达  \n",
    "start入队  \n",
    "while 队列里还有未充分探查的位置  \n",
    "&emsp;&emsp;取出一个位置pos  \n",
    "&emsp;&emsp;检查pos的相邻位置  \n",
    "&emsp;&emsp;&emsp;&emsp;遇到end成功结束  \n",
    "&emsp;&emsp;&emsp;&emsp;尚未探查的都mark并入队  \n",
    "队列空，探索失败  \n",
    "\n",
    "**三种其实都是往一个数据结构中保存路线，不同的是，递归法和回溯法是保存在堆栈中，而队列法是保存在队列中，堆栈和队列的操作不同造成了几个的不同。堆栈是先进后出，所以不断从堆栈出来的会是越来越远的点，沿着一条路走下去，或者在一个区域内搜索完毕才知道这个区域是否有道路，而队列是先进先出，所以会优先将周边搜索完，一层一层的向外搜索。**"
   ]
  },
  {
   "cell_type": "code",
   "execution_count": null,
   "metadata": {},
   "outputs": [],
   "source": []
  }
 ],
 "metadata": {
  "kernelspec": {
   "display_name": "Python 3",
   "language": "python",
   "name": "python3"
  },
  "language_info": {
   "codemirror_mode": {
    "name": "ipython",
    "version": 3
   },
   "file_extension": ".py",
   "mimetype": "text/x-python",
   "name": "python",
   "nbconvert_exporter": "python",
   "pygments_lexer": "ipython3",
   "version": "3.7.3"
  },
  "toc": {
   "nav_menu": {},
   "number_sections": true,
   "sideBar": true,
   "skip_h1_title": false,
   "title_cell": "Table of Contents",
   "title_sidebar": "Contents",
   "toc_cell": false,
   "toc_position": {
    "height": "calc(100% - 180px)",
    "left": "10px",
    "top": "150px",
    "width": "273.188px"
   },
   "toc_section_display": true,
   "toc_window_display": true
  }
 },
 "nbformat": 4,
 "nbformat_minor": 2
}
