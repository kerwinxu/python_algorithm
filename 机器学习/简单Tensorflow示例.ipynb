{
 "cells": [
  {
   "cell_type": "code",
   "execution_count": 34,
   "metadata": {
    "execution": {
     "iopub.execute_input": "2020-06-04T12:10:52.516090Z",
     "iopub.status.busy": "2020-06-04T12:10:52.516090Z",
     "iopub.status.idle": "2020-06-04T12:10:55.473899Z",
     "shell.execute_reply": "2020-06-04T12:10:55.472781Z",
     "shell.execute_reply.started": "2020-06-04T12:10:52.516090Z"
    }
   },
   "outputs": [],
   "source": [
    "import tensorflow as tf\n",
    "from tensorflow import  keras\n",
    "from tensorflow.keras import  layers\n",
    "\n",
    "import matplotlib.pyplot as plt\n",
    "%matplotlib inline"
   ]
  },
  {
   "cell_type": "markdown",
   "metadata": {},
   "source": [
    "# 一个简单的全连接神经网络"
   ]
  },
  {
   "cell_type": "code",
   "execution_count": 35,
   "metadata": {
    "execution": {
     "iopub.execute_input": "2020-06-04T12:10:55.475921Z",
     "iopub.status.busy": "2020-06-04T12:10:55.474918Z",
     "iopub.status.idle": "2020-06-04T12:10:55.489919Z",
     "shell.execute_reply": "2020-06-04T12:10:55.487920Z",
     "shell.execute_reply.started": "2020-06-04T12:10:55.475921Z"
    }
   },
   "outputs": [],
   "source": [
    "# 分如下几个步骤\n",
    "# 加载数据集\n",
    "# 构造模型/编译模型\n",
    "# 训练模型\n"
   ]
  },
  {
   "cell_type": "code",
   "execution_count": 36,
   "metadata": {
    "execution": {
     "iopub.execute_input": "2020-06-04T12:10:55.493924Z",
     "iopub.status.busy": "2020-06-04T12:10:55.492922Z",
     "iopub.status.idle": "2020-06-04T12:10:56.220916Z",
     "shell.execute_reply": "2020-06-04T12:10:56.219930Z",
     "shell.execute_reply.started": "2020-06-04T12:10:55.493924Z"
    }
   },
   "outputs": [],
   "source": [
    "# 我这里也是加载MNIST数据集吧。\n",
    "mnist = tf.keras.datasets.mnist\n",
    "(x_train, y_train), (x_test, y_test) = mnist.load_data()\n",
    "x_train, x_test = x_train / 255.0, x_test / 255.0"
   ]
  },
  {
   "cell_type": "code",
   "execution_count": 37,
   "metadata": {
    "execution": {
     "iopub.execute_input": "2020-06-04T12:10:56.222921Z",
     "iopub.status.busy": "2020-06-04T12:10:56.221916Z",
     "iopub.status.idle": "2020-06-04T12:10:56.397920Z",
     "shell.execute_reply": "2020-06-04T12:10:56.395917Z",
     "shell.execute_reply.started": "2020-06-04T12:10:56.222921Z"
    }
   },
   "outputs": [],
   "source": [
    "# 构造模型\n",
    "model = tf.keras.models.Sequential([\n",
    "  tf.keras.layers.Flatten(input_shape=(28, 28)),   # 这个先是展平操作\n",
    "  tf.keras.layers.Dense(128, activation='relu'),   # 全连接层\n",
    "  tf.keras.layers.Dropout(0.2),                    # 随机丢弃一些数据\n",
    "  tf.keras.layers.Dense(10, activation='softmax')  # 全连接层，用softmax\n",
    "])\n",
    "# 编译模型\n",
    "model.compile(optimizer='adam',                        # 优化器\n",
    "              loss='sparse_categorical_crossentropy',  # 损失函数\n",
    "              metrics=['accuracy'])"
   ]
  },
  {
   "cell_type": "code",
   "execution_count": 54,
   "metadata": {
    "execution": {
     "iopub.execute_input": "2020-06-04T12:25:05.369769Z",
     "iopub.status.busy": "2020-06-04T12:25:05.368767Z",
     "iopub.status.idle": "2020-06-04T12:26:09.783760Z",
     "shell.execute_reply": "2020-06-04T12:26:09.782762Z",
     "shell.execute_reply.started": "2020-06-04T12:25:05.368767Z"
    }
   },
   "outputs": [
    {
     "name": "stdout",
     "output_type": "stream",
     "text": [
      "Train on 54000 samples, validate on 6000 samples\n",
      "Epoch 1/5\n",
      "54000/54000 [==============================] - 14s 264us/sample - loss: 0.0290 - accuracy: 0.9900 - val_loss: 0.0300 - val_accuracy: 0.9908\n",
      "Epoch 2/5\n",
      "54000/54000 [==============================] - 12s 223us/sample - loss: 0.0291 - accuracy: 0.9901 - val_loss: 0.0352 - val_accuracy: 0.9900\n",
      "Epoch 3/5\n",
      "54000/54000 [==============================] - 12s 225us/sample - loss: 0.0270 - accuracy: 0.9904 - val_loss: 0.0319 - val_accuracy: 0.9908\n",
      "Epoch 4/5\n",
      "54000/54000 [==============================] - 12s 225us/sample - loss: 0.0257 - accuracy: 0.9909 - val_loss: 0.0341 - val_accuracy: 0.9902\n",
      "Epoch 5/5\n",
      "54000/54000 [==============================] - 12s 225us/sample - loss: 0.0264 - accuracy: 0.9907 - val_loss: 0.0330 - val_accuracy: 0.9903\n",
      "10000/10000 - 1s - loss: 0.0732 - accuracy: 0.9809\n"
     ]
    },
    {
     "data": {
      "text/plain": [
       "<matplotlib.legend.Legend at 0x25260d61488>"
      ]
     },
     "execution_count": 54,
     "metadata": {},
     "output_type": "execute_result"
    },
    {
     "data": {
      "image/png": "[encoded data removed]",
      "text/plain": [
       "<Figure size 432x288 with 1 Axes>"
      ]
     },
     "metadata": {
      "needs_background": "light"
     },
     "output_type": "display_data"
    }
   ],
   "source": [
    "# 训练并验证模型\n",
    "history =model.fit(x_train, y_train, epochs=5,validation_split=0.1)      # 训练模型，epochs指的就是训练过程中数据将被“轮”多少次\n",
    "model.evaluate(x_test,  y_test, verbose=2) # 验证模型,verbose = 2 为每个epoch输出一行记录\n",
    "plt.plot(history.history['accuracy'])\n",
    "plt.plot(history.history['val_accuracy'])\n",
    "plt.legend(['training', 'valivation'], loc='upper left')"
   ]
  },
  {
   "cell_type": "code",
   "execution_count": null,
   "metadata": {},
   "outputs": [],
   "source": []
  },
  {
   "cell_type": "markdown",
   "metadata": {},
   "source": [
    "# 一个简单的卷积神经网络"
   ]
  },
  {
   "cell_type": "code",
   "execution_count": 55,
   "metadata": {
    "execution": {
     "iopub.execute_input": "2020-06-04T12:27:13.163931Z",
     "iopub.status.busy": "2020-06-04T12:27:13.162932Z",
     "iopub.status.idle": "2020-06-04T12:29:11.131001Z",
     "shell.execute_reply": "2020-06-04T12:29:11.128996Z",
     "shell.execute_reply.started": "2020-06-04T12:27:13.162932Z"
    }
   },
   "outputs": [
    {
     "name": "stdout",
     "output_type": "stream",
     "text": [
      "Train on 54000 samples, validate on 6000 samples\n",
      "Epoch 1/5\n",
      "54000/54000 [==============================] - 24s 440us/sample - loss: 0.1452 - accuracy: 0.9544 - val_loss: 0.0572 - val_accuracy: 0.9822\n",
      "Epoch 2/5\n",
      "54000/54000 [==============================] - 23s 429us/sample - loss: 0.0456 - accuracy: 0.9856 - val_loss: 0.0425 - val_accuracy: 0.9883\n",
      "Epoch 3/5\n",
      "54000/54000 [==============================] - 23s 418us/sample - loss: 0.0328 - accuracy: 0.9897 - val_loss: 0.0334 - val_accuracy: 0.9907\n",
      "Epoch 4/5\n",
      "54000/54000 [==============================] - 23s 425us/sample - loss: 0.0267 - accuracy: 0.9915 - val_loss: 0.0322 - val_accuracy: 0.9910\n",
      "Epoch 5/5\n",
      "54000/54000 [==============================] - 23s 425us/sample - loss: 0.0204 - accuracy: 0.9934 - val_loss: 0.0402 - val_accuracy: 0.9883\n",
      "10000/10000 - 2s - loss: 0.0337 - accuracy: 0.9896\n"
     ]
    },
    {
     "data": {
      "text/plain": [
       "<matplotlib.legend.Legend at 0x2523427acc8>"
      ]
     },
     "execution_count": 55,
     "metadata": {},
     "output_type": "execute_result"
    },
    {
     "data": {
      "image/png": "[encoded data removed]",
      "text/plain": [
       "<Figure size 432x288 with 1 Axes>"
      ]
     },
     "metadata": {
      "needs_background": "light"
     },
     "output_type": "display_data"
    }
   ],
   "source": [
    "# 这里还是用手写字体来识别吧，不过不同的是，这里换成卷积神经网络。\n",
    "# 卷积神经网络是用Conv2D这个卷积和MaxPooling2D这个池化来处理数据的。\n",
    "model_conv2d=tf.keras.models.Sequential([\n",
    "    # 第1层卷积，卷积核大小为3*3，32个，28*28为待训练图片的大小\n",
    "    layers.Conv2D(32, (3, 3), activation='relu', input_shape=(28, 28, 1)),\n",
    "    layers.MaxPooling2D((2, 2)),\n",
    "    # 第2层卷积，卷积核大小为3*3，64个\n",
    "    layers.Conv2D(64, (3, 3), activation='relu'),\n",
    "    layers.MaxPooling2D((2, 2)),\n",
    "    # 第3层卷积，卷积核大小为3*3，64个\n",
    "    layers.Conv2D(64, (3, 3), activation='relu'),\n",
    "    # 展平,原先是矩阵，现在要变成向量\n",
    "    layers.Flatten(),\n",
    "    # 如下用2个全连接层\n",
    "    layers.Dense(64, activation='relu'),\n",
    "    layers.Dense(10, activation='softmax')\n",
    "])\n",
    "\n",
    "model_conv2d.compile(optimizer='adam',                        # 优化器\n",
    "              loss='sparse_categorical_crossentropy',  # 损失函数\n",
    "              metrics=['accuracy'])\n",
    "# 数据集要更改尺寸,原先是每一个都是28*28的图像，现在要加上一个高度\n",
    "x_train_2 = x_train.reshape((-1,28,28,1))\n",
    "x_test_2 = x_test.reshape((-1,28,28,1))\n",
    "# 我同样训练5次吧\n",
    "history=model_conv2d.fit(x_train_2, y_train, epochs=5,validation_split=0.1)      # 训练模型，epochs指的就是训练过程中数据将被“轮”多少次\n",
    "model_conv2d.evaluate(x_test_2,  y_test, verbose=2) # 验证模型,verbose = 2 为每个epoch输出一行记录\n",
    "\n",
    "plt.plot(history.history['accuracy'])\n",
    "plt.plot(history.history['val_accuracy'])\n",
    "plt.legend(['training', 'valivation'], loc='upper left')"
   ]
  },
  {
   "cell_type": "markdown",
   "metadata": {},
   "source": [
    "# 一个增强的卷积神经网络,深度网络"
   ]
  },
  {
   "cell_type": "code",
   "execution_count": 56,
   "metadata": {
    "execution": {
     "iopub.execute_input": "2020-06-04T12:29:16.615902Z",
     "iopub.status.busy": "2020-06-04T12:29:16.614907Z",
     "iopub.status.idle": "2020-06-04T12:29:16.631900Z",
     "shell.execute_reply": "2020-06-04T12:29:16.630905Z",
     "shell.execute_reply.started": "2020-06-04T12:29:16.615902Z"
    }
   },
   "outputs": [
    {
     "data": {
      "text/plain": [
       "(60000, 28, 28, 1)"
      ]
     },
     "execution_count": 56,
     "metadata": {},
     "output_type": "execute_result"
    }
   ],
   "source": [
    "x_train_2.shape"
   ]
  },
  {
   "cell_type": "code",
   "execution_count": 57,
   "metadata": {
    "execution": {
     "iopub.execute_input": "2020-06-04T12:29:17.100176Z",
     "iopub.status.busy": "2020-06-04T12:29:17.100176Z",
     "iopub.status.idle": "2020-06-04T12:29:17.388166Z",
     "shell.execute_reply": "2020-06-04T12:29:17.385163Z",
     "shell.execute_reply.started": "2020-06-04T12:29:17.100176Z"
    }
   },
   "outputs": [
    {
     "name": "stdout",
     "output_type": "stream",
     "text": [
      "Model: \"sequential_13\"\n",
      "_________________________________________________________________\n",
      "Layer (type)                 Output Shape              Param #   \n",
      "=================================================================\n",
      "conv2d_34 (Conv2D)           (None, 28, 28, 32)        320       \n",
      "_________________________________________________________________\n",
      "conv2d_35 (Conv2D)           (None, 28, 28, 32)        9248      \n",
      "_________________________________________________________________\n",
      "max_pooling2d_20 (MaxPooling (None, 14, 14, 32)        0         \n",
      "_________________________________________________________________\n",
      "conv2d_36 (Conv2D)           (None, 14, 14, 32)        9248      \n",
      "_________________________________________________________________\n",
      "conv2d_37 (Conv2D)           (None, 14, 14, 32)        9248      \n",
      "_________________________________________________________________\n",
      "max_pooling2d_21 (MaxPooling (None, 7, 7, 32)          0         \n",
      "_________________________________________________________________\n",
      "flatten_13 (Flatten)         (None, 1568)              0         \n",
      "_________________________________________________________________\n",
      "dense_26 (Dense)             (None, 32)                50208     \n",
      "_________________________________________________________________\n",
      "dense_27 (Dense)             (None, 10)                330       \n",
      "=================================================================\n",
      "Total params: 78,602\n",
      "Trainable params: 78,602\n",
      "Non-trainable params: 0\n",
      "_________________________________________________________________\n"
     ]
    }
   ],
   "source": [
    "x_train_2_shape = x_train_2.shape\n",
    "# 相比较卷积神经网络，多了filters，深度啦。\n",
    "deep_model = keras.Sequential(\n",
    "[\n",
    "    layers.Conv2D(input_shape=((x_train_2_shape[1], x_train_2_shape[2], x_train_2_shape[3])),  # 自动根据输入的尺寸\n",
    "                 filters=32, kernel_size=(3,3), strides=(1,1), padding='same', activation='relu'),\n",
    "    layers.Conv2D(filters=32, kernel_size=(3,3), strides=(1,1), padding='same', activation='relu'),\n",
    "    layers.MaxPool2D(pool_size=(2,2)),\n",
    "    layers.Conv2D(filters=32, kernel_size=(3,3), strides=(1,1), padding='same', activation='relu'),\n",
    "    layers.Conv2D(filters=32, kernel_size=(3,3), strides=(1,1), padding='same', activation='relu'),\n",
    "    layers.MaxPool2D(pool_size=(2,2)),\n",
    "    layers.Flatten(),\n",
    "    layers.Dense(32, activation='relu'),\n",
    "    layers.Dense(10, activation='softmax')\n",
    "])\n",
    "\n",
    "deep_model.compile(optimizer=keras.optimizers.Adam(),\n",
    "             loss=keras.losses.SparseCategoricalCrossentropy(),\n",
    "            metrics=['accuracy'])\n",
    "deep_model.summary()"
   ]
  },
  {
   "cell_type": "code",
   "execution_count": 59,
   "metadata": {
    "execution": {
     "iopub.execute_input": "2020-06-04T12:33:27.769253Z",
     "iopub.status.busy": "2020-06-04T12:33:27.769253Z",
     "iopub.status.idle": "2020-06-04T12:36:37.534099Z",
     "shell.execute_reply": "2020-06-04T12:36:37.532098Z",
     "shell.execute_reply.started": "2020-06-04T12:33:27.769253Z"
    }
   },
   "outputs": [
    {
     "name": "stdout",
     "output_type": "stream",
     "text": [
      "Train on 54000 samples, validate on 6000 samples\n",
      "Epoch 1/5\n",
      "54000/54000 [==============================] - 41s 753us/sample - loss: 0.0161 - accuracy: 0.9951 - val_loss: 0.0169 - val_accuracy: 0.9947\n",
      "Epoch 2/5\n",
      "54000/54000 [==============================] - 39s 718us/sample - loss: 0.0157 - accuracy: 0.9946 - val_loss: 0.0219 - val_accuracy: 0.9935\n",
      "Epoch 3/5\n",
      "54000/54000 [==============================] - 36s 672us/sample - loss: 0.0106 - accuracy: 0.9964 - val_loss: 0.0225 - val_accuracy: 0.9947\n",
      "Epoch 4/5\n",
      "54000/54000 [==============================] - 37s 687us/sample - loss: 0.0099 - accuracy: 0.9966 - val_loss: 0.0265 - val_accuracy: 0.9930\n",
      "Epoch 5/5\n",
      "54000/54000 [==============================] - 34s 624us/sample - loss: 0.0101 - accuracy: 0.9969 - val_loss: 0.0237 - val_accuracy: 0.9932\n",
      "10000/10000 - 3s - loss: 0.0335 - accuracy: 0.9906\n"
     ]
    },
    {
     "data": {
      "text/plain": [
       "<matplotlib.legend.Legend at 0x2522faccc48>"
      ]
     },
     "execution_count": 59,
     "metadata": {},
     "output_type": "execute_result"
    },
    {
     "data": {
      "image/png": "[encoded data removed]",
      "text/plain": [
       "<Figure size 432x288 with 1 Axes>"
      ]
     },
     "metadata": {
      "needs_background": "light"
     },
     "output_type": "display_data"
    }
   ],
   "source": [
    "# 训练并验证模型\n",
    "history = deep_model.fit(x_train_2, y_train, epochs=5,validation_split=0.1)      # 训练模型，epochs指的就是训练过程中数据将被“轮”多少次\n",
    "deep_model.evaluate(x_test_2,  y_test, verbose=2) # 验证模型,verbose = 2 为每个epoch输出一行记录\n",
    "plt.plot(history.history['accuracy'])\n",
    "plt.plot(history.history['val_accuracy'])\n",
    "plt.legend(['training', 'valivation'], loc='upper left')"
   ]
  },
  {
   "cell_type": "code",
   "execution_count": null,
   "metadata": {},
   "outputs": [],
   "source": []
  }
 ],
 "metadata": {
  "kernelspec": {
   "display_name": "Python 3",
   "language": "python",
   "name": "python3"
  },
  "language_info": {
   "codemirror_mode": {
    "name": "ipython",
    "version": 3
   },
   "file_extension": ".py",
   "mimetype": "text/x-python",
   "name": "python",
   "nbconvert_exporter": "python",
   "pygments_lexer": "ipython3",
   "version": "3.7.6"
  }
 },
 "nbformat": 4,
 "nbformat_minor": 4
}
