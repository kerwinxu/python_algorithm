{
 "cells": [
  {
   "cell_type": "markdown",
   "metadata": {},
   "source": [
    "# 前言"
   ]
  },
  {
   "cell_type": "markdown",
   "metadata": {},
   "source": [
    "数据结构是存储和组织数据的结构，通常情况下，精心选择的数据结构可以带来更高的运行或者存储效率。数据结构往往同**高效的检索算法和索引技术**有关。  \n",
    "- 线性表  \n",
    "   - 顺序表\n",
    "   - 链接表\n",
    "- 字符串\n",
    "   - 字符串匹配\n",
    "      - [KMP算法](../算法/字符串查找/KMP字符串匹配.ipynb)\n",
    "      - [BM算法](../算法/字符串查找/BM算法.ipynb)\n",
    "      - [Sunday 算法](../算法/字符串查找/Sunday算法.ipynb)\n",
    "- 栈和队列\n",
    "   - [栈的实现](./堆栈.py)\n",
    "   - 应用\n",
    "      - [状态空间搜索问题](../算法/状态空间搜索问题/状态空间搜索问题基本特征.ipynb)\n",
    "         - [八皇后问题](../算法/状态空间搜索问题/八皇后问题.ipynb)\n",
    "         - [迷宫算法](../算法/状态空间搜索问题/迷宫算法.ipynb)\n",
    "- 树\n",
    "   - [二叉树](./二叉树.ipynb)\n",
    "   - [哈夫曼树](./二叉树.ipynb)\n",
    "   - [树和森林](./二叉树.ipynb)\n",
    "- 图\n",
    "   - [图的概念性质和实现](./图的概念性质和实现.ipynb)\n",
    "      - [图的遍历](./图的遍历.ipynb)\n",
    "      - [生成树](./生成树.ipynb)\n",
    "   - [最小生成树](./最小生成树.ipynb)\n",
    "      - Kruskal算法 克鲁斯克尔算法 : 初始T = (V, {})，然后不断选取权值最小的边，当且仅当这个边的两个顶点属于T的不同连通分量\n",
    "      - Prim算法 普里姆算法 ： 图G=(V,E),顶点集合U，边集合$E_{new}$，然后筛选边（这个边的一个顶点在U,而另一个在V-U)，选出权重最小的边，将顶点加入U，边加入$E_{new}$。\n",
    "   - [最短路径](./最短路径.opynb)\n",
    "      - 单源点最短路径Dijkstra算法 : 图G=(V,E)，将图的顶点分成两部分，一部分是知道最短路径的顶点集合U，而另一部分是V-U，不断的添加最短路径的顶到到U中，然后更新因为新顶点加入而导致的V-U中顶点的最短路径更新。\n",
    "      - 任意顶点间最短路径的Floyd算法 ： $A_{k+1}[i][j]=min\\{A_k[i][j], A_k[i][k]+A_k[k][j]\\}$\n",
    "      - 单源点最短路径SPFA算法 ： 一个dis距离数组，先进先出的队列，类似宽度搜索，有更短的距离就更新距离数组。\n",
    "   - [AOV/AOE网及其算法](./AOVAOE网及其算法.ipynb)\n",
    "      - 拓扑排序 ： 网N，如果存在$S=v_{i_0},\\cdots, v_{v_{n-1}},如果存在v_i到v_j的路径，且S里vi肯定在v_j之前$，那么S就是拓扑序列\n",
    "         - 算法：从网中找入度为0的顶点，删除这个顶点和所有的出边，不断的重复前两步操作。如果到最后还余下入度非零的顶点，那么就存在环路。\n",
    "      - 关键路径： 首先取得拓扑排序，然后根据拓扑排序的顺序求最早时间，然后根据拓扑排序的逆序求最晚时间，最后，如果那个顶点的最早时间=最晚时间，不存在空闲的，那么这个顶点就是关键顶点。\n",
    "      \n",
    "- 字典和集合\n",
    "   - 字典的实现\n",
    "      - 字典的线性表实现\n",
    "   - [散列和散列表](./散列和散列表.ipynb)\n",
    "   - [集合](./集合.ipynb) \n",
    "   - [二叉排序树和字典](./二叉排序树和字典.ipynb)\n",
    "   - 平衡二叉树\n",
    "   - 动态多分枝排序树\n",
    "- 排序\n",
    "   - 简单排序\n",
    "   - 快速排序\n",
    "   - 归并排序\n",
    "   - 堆排序\n",
    "   \n",
    "> 数据结构与算法%20Python语言描述_s13946445-裘宗燕.pdf"
   ]
  },
  {
   "cell_type": "code",
   "execution_count": null,
   "metadata": {},
   "outputs": [],
   "source": []
  }
 ],
 "metadata": {
  "kernelspec": {
   "display_name": "Python 3",
   "language": "python",
   "name": "python3"
  },
  "language_info": {
   "codemirror_mode": {
    "name": "ipython",
    "version": 3
   },
   "file_extension": ".py",
   "mimetype": "text/x-python",
   "name": "python",
   "nbconvert_exporter": "python",
   "pygments_lexer": "ipython3",
   "version": "3.7.4"
  },
  "toc": {
   "nav_menu": {},
   "number_sections": true,
   "sideBar": true,
   "skip_h1_title": false,
   "title_cell": "Table of Contents",
   "title_sidebar": "Contents",
   "toc_cell": false,
   "toc_position": {},
   "toc_section_display": true,
   "toc_window_display": false
  }
 },
 "nbformat": 4,
 "nbformat_minor": 4
}
