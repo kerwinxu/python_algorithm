{
 "cells": [
  {
   "cell_type": "markdown",
   "metadata": {},
   "source": [
    "# 迷宫算法数据"
   ]
  },
  {
   "cell_type": "code",
   "execution_count": 5,
   "metadata": {
    "ExecuteTime": {
     "end_time": "2019-10-31T12:35:06.432507Z",
     "start_time": "2019-10-31T12:35:06.355037Z"
    }
   },
   "outputs": [
    {
     "data": {
      "text/plain": [
       "[[1, 1, 1, 1, 1, 1, 1, 1, 1, 1, 1, 1],\n",
       " [1, 0, 0, 0, 1, 1, 1, 1, 1, 1, 1, 1],\n",
       " [1, 1, 1, 0, 1, 1, 0, 0, 0, 0, 1, 1],\n",
       " [1, 1, 1, 0, 1, 1, 0, 1, 1, 0, 1, 1],\n",
       " [1, 1, 1, 0, 0, 0, 0, 1, 1, 0, 1, 1],\n",
       " [1, 1, 1, 0, 1, 1, 0, 1, 1, 0, 1, 1],\n",
       " [1, 1, 1, 0, 1, 1, 0, 1, 1, 0, 1, 1],\n",
       " [1, 1, 1, 1, 1, 1, 0, 1, 1, 0, 1, 1],\n",
       " [1, 1, 0, 0, 0, 0, 0, 0, 1, 0, 0, 1],\n",
       " [1, 1, 1, 1, 1, 1, 1, 1, 1, 1, 1, 1]]"
      ]
     },
     "execution_count": 5,
     "metadata": {},
     "output_type": "execute_result"
    }
   ],
   "source": [
    "# 我用一个二维数组来做个地图，1表示墙，0表示可以通过，以后2表示这个路走过了。\n",
    "map_data =[[1,1,1,1,1,1,1,1,1,1,1,1],\\\n",
    "      [1,0,0,0,1,1,1,1,1,1,1,1],\\\n",
    "      [1,1,1,0,1,1,0,0,0,0,1,1],\\\n",
    "      [1,1,1,0,1,1,0,1,1,0,1,1],\\\n",
    "      [1,1,1,0,0,0,0,1,1,0,1,1],\\\n",
    "      [1,1,1,0,1,1,0,1,1,0,1,1],\\\n",
    "      [1,1,1,0,1,1,0,1,1,0,1,1],\\\n",
    "      [1,1,1,1,1,1,0,1,1,0,1,1],\\\n",
    "      [1,1,0,0,0,0,0,0,1,0,0,1],\\\n",
    "      [1,1,1,1,1,1,1,1,1,1,1,1]]\n",
    "map_data"
   ]
  },
  {
   "cell_type": "markdown",
   "metadata": {},
   "source": [
    "# 递归实现的迷宫算法"
   ]
  },
  {
   "cell_type": "markdown",
   "metadata": {},
   "source": [
    "递归实现的好实现  \n",
    "1. 每时每刻都有一个位置是当前位置，开始时这个位置是迷宫的入口\n",
    "2. 如果当前位置就是出口，那么问题解决  \n",
    "3. 否则，如果当前位置已经无路可走，当前探查失败，回退一部。\n",
    "4. 去一个可行相邻位置用同样的方式探查，如果从那里可以找到通往出口的道路，那么从当前位置到出口的路径也就找到了  \n",
    "\n"
   ]
  },
  {
   "cell_type": "markdown",
   "metadata": {},
   "source": [
    "算法过程  \n",
    "1. 将当前位置记录已经验证  \n",
    "2. 检查当前位置是否为出口，如果是则成功结束  。\n",
    "3. 逐个检查当前位置的四邻，是否可以通过到达出口，（这个是递归调用自身）  \n",
    "4. 如果对四邻的搜索都失败，那么报告失败"
   ]
  },
  {
   "cell_type": "markdown",
   "metadata": {},
   "source": [
    "接下来做几个辅助的函数"
   ]
  },
  {
   "cell_type": "code",
   "execution_count": 6,
   "metadata": {
    "ExecuteTime": {
     "end_time": "2019-10-31T12:35:06.521458Z",
     "start_time": "2019-10-31T12:35:06.436506Z"
    }
   },
   "outputs": [],
   "source": [
    "# 将当前位置设置为已经探查。\n",
    "def mark(data,pos):\n",
    "    \"\"\"\n",
    "        设置当前位置为已经探查了，这里做一个约定，2表示已经探查。\n",
    "        @data ： 这个是地图的数据，一个二维数组\n",
    "        @pos ： 要设置的位置。这里做约定，pos为一个有2个元素的列表，表示位置。\n",
    "    \"\"\"\n",
    "    data[pos[0]][pos[1]]=2"
   ]
  },
  {
   "cell_type": "code",
   "execution_count": 7,
   "metadata": {
    "ExecuteTime": {
     "end_time": "2019-10-31T12:35:06.613404Z",
     "start_time": "2019-10-31T12:35:06.525456Z"
    }
   },
   "outputs": [],
   "source": [
    "def possable(data,pos):\n",
    "    \"\"\"检查这个位置是否可以通过\n",
    "        @data ： 这个是地图的数据，一个二维数组\n",
    "        @pos ： 检查的位置。\n",
    "    \"\"\"\n",
    "    # 实际上我只需要检查这个位置是否为0，因为1表示是墙壁，而2表示已经检查过，这里约定已经检查过的是不可以通过的\n",
    "    return data[pos[0]][pos[1]] == 0"
   ]
  },
  {
   "cell_type": "code",
   "execution_count": 8,
   "metadata": {
    "ExecuteTime": {
     "end_time": "2019-10-31T12:35:06.690365Z",
     "start_time": "2019-10-31T12:35:06.616403Z"
    }
   },
   "outputs": [
    {
     "name": "stdout",
     "output_type": "stream",
     "text": [
      "[2, 3]\n",
      "[1, 2]\n"
     ]
    }
   ],
   "source": [
    "def next_pos(data,pos):\n",
    "    \"\"\"取得下一步\n",
    "         @data ： 这个是地图的数据，一个二维数组\n",
    "        @pos ： 这个是当前位置\n",
    "    return : 返回的是这个位置的4个邻居，上、下、左、右\"\"\"\n",
    "    # 我这里有个判断，是否越界，因为有些地图，可能四周不是墙，而仅仅是约定越界的就是墙。\n",
    "    _next_pos = []\n",
    "    # 如下分别加上上下左右方向吧\n",
    "    # 添加上，上就是y-1啦，\n",
    "    if pos[0]-1 >= 0 :\n",
    "        _next_pos.append([pos[0]-1 , pos[1]])\n",
    "    # 下\n",
    "    if pos[0]+1 < len(data):\n",
    "        _next_pos.append([pos[0]+1 , pos[1]])\n",
    "    # 左边\n",
    "    if pos[1]-1 >= 0 :\n",
    "        _next_pos.append([pos[0] , pos[1]-1])\n",
    "    # 右边\n",
    "    if pos[1]+1 < len(data[0]):\n",
    "        _next_pos.append([pos[0] , pos[1]+1])\n",
    "    return _next_pos\n",
    "# 这里一个简单的测试吧\n",
    "for _pos in (next_pos(map_data,[1,3])):\n",
    "    if possable(map_data,_pos):\n",
    "        print(_pos)"
   ]
  },
  {
   "cell_type": "code",
   "execution_count": 9,
   "metadata": {
    "ExecuteTime": {
     "end_time": "2019-10-31T12:37:07.569455Z",
     "start_time": "2019-10-31T12:37:07.560946Z"
    }
   },
   "outputs": [],
   "source": [
    "def right_way(data,pos):\n",
    "    \"\"\"这是某个坐标为正确的路\n",
    "        @data ： 这个是地图的数据，一个二维数组\n",
    "        @pos ： 某个坐标\n",
    "    \n",
    "    \"\"\"\n",
    "    # 我这里简单点，只是设置这个为数字3\n",
    "    data[pos[0]][pos[1]]=3"
   ]
  },
  {
   "cell_type": "code",
   "execution_count": 10,
   "metadata": {
    "ExecuteTime": {
     "end_time": "2019-10-31T12:45:39.184581Z",
     "start_time": "2019-10-31T12:45:39.175606Z"
    }
   },
   "outputs": [],
   "source": [
    "# 到这里就是真正的迷宫算法了\n",
    "def maze_right_way(data,start_pos,end_pos):\n",
    "    \"\"\"\n",
    "    迷宫算法\n",
    "        @data ： 这个是地图的数据，一个二维数组\n",
    "        @start_pos ： 要检查的位置，\n",
    "        @end_pos : 结束位置\n",
    "    return : 找到路径返回真\n",
    "    \"\"\"\n",
    "    # 首先记录当前位置\n",
    "    mark(data,start_pos)\n",
    "    \n",
    "    # 判断当前位置是否为结束的。\n",
    "    if start_pos == end_pos:\n",
    "        right_way(data,start_pos)\n",
    "        return True\n",
    "    \n",
    "    # 然后在四个方向上递归啦\n",
    "    for _pos in (next_pos(data,start_pos)): \n",
    "        if possable(data,_pos): # 判断这个是否可以走\n",
    "            if maze_right_way(data,_pos,end_pos):  #走这条路，判断是否是正确的。\n",
    "                # 如果返回真，表示从正确的路返回啦，\n",
    "                right_way(data,_pos)\n",
    "                return True\n",
    "    # 四条路都走了，如果执行到这里，那么就说明没有找到路\n",
    "    return False\n",
    "            \n",
    "    \n"
   ]
  },
  {
   "cell_type": "code",
   "execution_count": 11,
   "metadata": {
    "ExecuteTime": {
     "end_time": "2019-10-31T12:47:29.927536Z",
     "start_time": "2019-10-31T12:47:29.919540Z"
    }
   },
   "outputs": [
    {
     "name": "stdout",
     "output_type": "stream",
     "text": [
      "True\n"
     ]
    }
   ],
   "source": [
    "print(maze_right_way(map_data,[1,1],[8,10]))"
   ]
  },
  {
   "cell_type": "code",
   "execution_count": 13,
   "metadata": {
    "ExecuteTime": {
     "end_time": "2019-10-31T12:47:48.253564Z",
     "start_time": "2019-10-31T12:47:48.243577Z"
    }
   },
   "outputs": [
    {
     "data": {
      "text/plain": [
       "[[1, 1, 1, 1, 1, 1, 1, 1, 1, 1, 1, 1],\n",
       " [1, 2, 3, 3, 1, 1, 1, 1, 1, 1, 1, 1],\n",
       " [1, 1, 1, 3, 1, 1, 3, 3, 3, 3, 1, 1],\n",
       " [1, 1, 1, 3, 1, 1, 3, 1, 1, 3, 1, 1],\n",
       " [1, 1, 1, 3, 3, 3, 3, 1, 1, 3, 1, 1],\n",
       " [1, 1, 1, 2, 1, 1, 0, 1, 1, 3, 1, 1],\n",
       " [1, 1, 1, 2, 1, 1, 0, 1, 1, 3, 1, 1],\n",
       " [1, 1, 1, 1, 1, 1, 0, 1, 1, 3, 1, 1],\n",
       " [1, 1, 0, 0, 0, 0, 0, 0, 1, 3, 3, 1],\n",
       " [1, 1, 1, 1, 1, 1, 1, 1, 1, 1, 1, 1]]"
      ]
     },
     "execution_count": 13,
     "metadata": {},
     "output_type": "execute_result"
    }
   ],
   "source": [
    "map_data"
   ]
  },
  {
   "cell_type": "code",
   "execution_count": null,
   "metadata": {},
   "outputs": [],
   "source": []
  }
 ],
 "metadata": {
  "kernelspec": {
   "display_name": "Python 3",
   "language": "python",
   "name": "python3"
  },
  "language_info": {
   "codemirror_mode": {
    "name": "ipython",
    "version": 3
   },
   "file_extension": ".py",
   "mimetype": "text/x-python",
   "name": "python",
   "nbconvert_exporter": "python",
   "pygments_lexer": "ipython3",
   "version": "3.7.3"
  },
  "toc": {
   "nav_menu": {},
   "number_sections": true,
   "sideBar": true,
   "skip_h1_title": false,
   "title_cell": "Table of Contents",
   "title_sidebar": "Contents",
   "toc_cell": false,
   "toc_position": {},
   "toc_section_display": true,
   "toc_window_display": false
  }
 },
 "nbformat": 4,
 "nbformat_minor": 2
}
