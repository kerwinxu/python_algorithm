{
 "cells": [
  {
   "cell_type": "markdown",
   "metadata": {},
   "source": [
    "# 基本特征"
   ]
  },
  {
   "cell_type": "markdown",
   "metadata": {
    "ExecuteTime": {
     "end_time": "2019-11-22T12:25:46.795934Z",
     "start_time": "2019-11-22T12:25:46.787933Z"
    }
   },
   "source": [
    "基本特征可以描述如下：  \n",
    "- 存在一集可能状态（位置、状况等），例如迷宫问题的所有可能位置  \n",
    "- 有一个初始状态$s_0$，一个或者多个结束状态，或者判断成功结束的方法。  \n",
    "- 对于每一个状态s，有neighbor(s)表示于s相邻的一组状态（一步可达的状态）。  \n",
    "- 有一个判断函数valid(s)判断s是否为可行状态，  \n",
    "- 问题：找出从$s_0$出发到达某个（或者全部）结束状态的路径，或者从$s_0$出发，设法设法找到一个或者全部解。  "
   ]
  },
  {
   "cell_type": "markdown",
   "metadata": {},
   "source": [
    "# 解决"
   ]
  },
  {
   "cell_type": "markdown",
   "metadata": {},
   "source": [
    "有两种解决方式  \n",
    "- **深度优先** 也就是用堆栈来实现的  \n",
    "   - 特点：深度优先总是沿着遇到的搜索路线一路前行，在遍历完沿一条路走下去可达的搜索区域后，才会退出这条路径。\n",
    "   - 很容易得到相应路径\n",
    "- **广度优先** 也就是用队列来实现的。\n",
    "   - 特点：从近到远处逐步扫荡，只要存在到达解的有穷长路径，这种搜索过程一定能找到解，并且最先找到的毕竟是最短的路径（最近的解）\n",
    "   - 也非常容易得到相应路径 **假设我用树来保存相应的路径**，备注：我看的书中说用字典实现，但是，如果用树实现，我认为更好。"
   ]
  },
  {
   "cell_type": "code",
   "execution_count": null,
   "metadata": {},
   "outputs": [],
   "source": []
  }
 ],
 "metadata": {
  "kernelspec": {
   "display_name": "Python 3",
   "language": "python",
   "name": "python3"
  },
  "language_info": {
   "codemirror_mode": {
    "name": "ipython",
    "version": 3
   },
   "file_extension": ".py",
   "mimetype": "text/x-python",
   "name": "python",
   "nbconvert_exporter": "python",
   "pygments_lexer": "ipython3",
   "version": "3.7.3"
  },
  "toc": {
   "nav_menu": {},
   "number_sections": true,
   "sideBar": true,
   "skip_h1_title": false,
   "title_cell": "Table of Contents",
   "title_sidebar": "Contents",
   "toc_cell": false,
   "toc_position": {},
   "toc_section_display": true,
   "toc_window_display": false
  }
 },
 "nbformat": 4,
 "nbformat_minor": 2
}
