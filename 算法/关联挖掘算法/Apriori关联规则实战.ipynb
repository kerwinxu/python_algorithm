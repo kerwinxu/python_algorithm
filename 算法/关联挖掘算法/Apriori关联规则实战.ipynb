{
 "cells": [
  {
   "cell_type": "markdown",
   "metadata": {},
   "source": [
    "# 关联挖掘算法概述"
   ]
  },
  {
   "cell_type": "markdown",
   "metadata": {},
   "source": [
    "选择物品间的关联规则也就是要寻找物品之间的潜在关系。要寻找这种关系，有两步，以超市为例  \n",
    "1. 找出频繁一起出现的物品集的集合，我们称之为频繁项集。比如一个超市的频繁项集可能有{{啤酒,尿布},{鸡蛋,牛奶},{香蕉,苹果}}  \n",
    "2. 在频繁项集的基础上，使用关联规则算法找出其中物品的关联结果。  \n",
    "简单点说，就是先找频繁项集，再根据关联规则找关联物品。\n",
    "\n"
   ]
  },
  {
   "cell_type": "markdown",
   "metadata": {},
   "source": [
    "# Apriori算法基础概念"
   ]
  },
  {
   "cell_type": "markdown",
   "metadata": {},
   "source": [
    "比如一部分超市购买记录   \n"
   ]
  },
  {
   "cell_type": "markdown",
   "metadata": {
    "ExecuteTime": {
     "end_time": "2019-10-24T11:45:35.604213Z",
     "start_time": "2019-10-24T11:45:35.596216Z"
    }
   },
   "source": [
    "交易编号|购买商品       \n",
    "--|:--   \n",
    "0 |牛奶，洋葱，肉豆蔻，鸡蛋，酸奶   \n",
    "1 |萝卜，洋葱，肉豆蔻，鸡蛋，酸奶     \n",
    "2 |牛奶，苹果，芸豆，鸡蛋  \n",
    "3 |牛仔，独角兽，玉米，芸豆，酸奶  \n",
    "4 |玉米，洋葱，芸豆，冰淇淋，鸡蛋  \n"
   ]
  },
  {
   "cell_type": "markdown",
   "metadata": {},
   "source": [
    "## 支持度 （Support）"
   ]
  },
  {
   "cell_type": "markdown",
   "metadata": {},
   "source": [
    "支持度可以理解为物品当前流行程度。计算方式是：  \n",
    "**支持度 = （包含物品A的记录数量） / （总的记录数量）**\n",
    "以上边的例子，一共有五个交易，  \n",
    "牛奶出现在三个交易中，故而{牛奶}的支持度为3/5。  \n",
    "{鸡蛋}的支持度是4/5。  \n",
    "牛奶和鸡蛋同时出现的次数是2，故而{牛奶，鸡蛋}的支持度为2/5。"
   ]
  },
  {
   "cell_type": "markdown",
   "metadata": {},
   "source": [
    "## 置信度 （Confidence）"
   ]
  },
  {
   "cell_type": "markdown",
   "metadata": {},
   "source": [
    "置信度是指如果购买物品A，有较大可能购买物品B。计算方式是这样：  \n",
    "**置信度( A -> B) = （包含物品A和B的记录数量） / （包含 A 的记录数量）**  \n",
    "分子是A和B的并集，分子是A的，也就是说，如果这个数字越大，B就越在这个A和B的并集中。"
   ]
  },
  {
   "cell_type": "markdown",
   "metadata": {},
   "source": [
    "## 提升度 (Lift)"
   ]
  },
  {
   "cell_type": "markdown",
   "metadata": {},
   "source": [
    "提升度指当销售一个物品时，另一个物品销售率会增加多少。计算方式是：  \n",
    "**提升度( A -> B) = 置信度( A -> B) / (支持度 A)**  \n",
    "举例：上面我们计算了牛奶和鸡蛋的置信度Confidence(牛奶->鸡蛋)=2 / 4。牛奶的支持度Support(牛奶)=3 / 5，那么我们就能计算牛奶和鸡蛋的支持度Lift(牛奶->鸡蛋)=0.83  \n",
    "**当提升度(A->B)的值大于1的时候，说明物品A卖得越多，B也会卖得越多。**  \n",
    "**而提升度等于1则意味着产品A和B之间没有关联。**  \n",
    "**最后，提升度小于1那么意味着购买A反而会减少B的销量。**\n"
   ]
  },
  {
   "cell_type": "markdown",
   "metadata": {},
   "source": [
    "# Apriori 算法介绍"
   ]
  },
  {
   "cell_type": "markdown",
   "metadata": {
    "ExecuteTime": {
     "end_time": "2019-10-24T11:58:58.908313Z",
     "start_time": "2019-10-24T11:58:58.903311Z"
    }
   },
   "source": [
    "Apriori的作用是根据物品间的支持度找出物品中的频繁项集。  \n",
    "通过上面我们知道，支持度越高，说明物品越受欢迎。那么支持度怎么决定呢？这个是我们主观决定的，我们会给Apriori提供一个最小支持度参数，然后Apriori会返回比这个最小支持度高的那些频繁项集。    \n",
    "说到这里，有人可能会发现，既然都知道了支持度的计算公式，那直接遍历所有组合计算它们的支持度不就可以了吗？    \n",
    "是的，没错。确实可以通过遍历所有组合就能找出所有频繁项集。  \n",
    "但问题是遍历所有组合花的时间太多，效率太低，假设有N个物品，那么一共需要计算2^N-1次。每增加一个物品，数量级是成指数增长。  \n",
    "而Apriori就是一种找出频繁项集的高效算法。它的核心就是下面这句话：  \n",
    "\n",
    "**某个项集是频繁的，那么它的所有子集也是频繁的。**  \n",
    "这句话看起来是没什么用，但是反过来就很有用了。  \n",
    "**如果一个项集是 非频繁项集，那么它的所有超集也是非频繁项集。**    \n",
    "![Apriori 算法图示](./Apriori关联规则实战/640.png \"算法图示\")  \n",
    "如图所示，我们发现{A,B}这个项集是非频繁的，那么{A,B}这个项集的超集，{A,B,C},{A,B,D}等等也都是非频繁的，这些就都可以忽略不去计算。  \n",
    "运用Apriori算法的思想，我们就能去掉很多非频繁的项集，大大简化计算量。"
   ]
  },
  {
   "cell_type": "markdown",
   "metadata": {},
   "source": [
    "# Apriori算法流程"
   ]
  },
  {
   "cell_type": "markdown",
   "metadata": {
    "ExecuteTime": {
     "end_time": "2019-10-24T12:09:39.128551Z",
     "start_time": "2019-10-24T12:09:39.121556Z"
    }
   },
   "source": [
    "要使用Apriori算法，我们需要提供两个参数，数据集和最小支持度。  \n",
    "我们从前面已经知道了Apriori会遍历所有的物品组合，怎么遍历呢？答案就是递归。先遍历1个物品组合的情况，剔除掉支持度低于最小支持度的数据项，然后用剩下的物品进行组合。\n",
    "遍历2个物品组合的情况，再剔除不满足条件的组合。不断递归下去，直到不再有物品可以组合。  \n",
    "下面我们来用Apriori算法实战一下吧。"
   ]
  },
  {
   "cell_type": "markdown",
   "metadata": {},
   "source": [
    "# 实战"
   ]
  },
  {
   "cell_type": "code",
   "execution_count": 1,
   "metadata": {
    "ExecuteTime": {
     "end_time": "2019-10-27T03:34:09.841065Z",
     "start_time": "2019-10-27T03:34:09.830071Z"
    }
   },
   "outputs": [],
   "source": [
    "# 因为我这个是学习算法，所以我不用现成的算法计算，文中用的是 \"mlxtend\",我这里用python自己的，\n",
    "#设置数据集，小票上就是类似这种吧，列表的每一项是每个顾客的购买清单，这个要想办法转化成类似逻辑数组的东西，这个用c语言更高效一些吧，\n",
    "# 我这里用pandas这种\n",
    "dataset = [['牛奶','洋葱','肉豆蔻','芸豆','鸡蛋','酸奶'],\n",
    "        ['莳萝','洋葱','肉豆蔻','芸豆','鸡蛋','酸奶'],\n",
    "        ['牛奶','苹果','芸豆','鸡蛋'],\n",
    "        ['牛奶','独角兽','玉米','芸豆','酸奶'],\n",
    "        ['玉米','洋葱','洋葱','芸豆','冰淇淋','鸡蛋']]"
   ]
  },
  {
   "cell_type": "code",
   "execution_count": 2,
   "metadata": {
    "ExecuteTime": {
     "end_time": "2019-10-27T03:34:10.003973Z",
     "start_time": "2019-10-27T03:34:09.847061Z"
    }
   },
   "outputs": [
    {
     "data": {
      "text/plain": [
       "['肉豆蔻', '玉米', '酸奶', '苹果', '牛奶', '莳萝', '芸豆', '鸡蛋', '洋葱', '独角兽', '冰淇淋']"
      ]
     },
     "execution_count": 2,
     "metadata": {},
     "output_type": "execute_result"
    }
   ],
   "source": [
    "# 这里首先转化成类似逻辑数组之类的东西，我这里实现，然后下一步封装在函数中吧。\n",
    "_list_columns_name=[]\n",
    "for i in dataset:\n",
    "    for j in i:\n",
    "        _list_columns_name.append(j)\n",
    "_columns_name=list(set(_list_columns_name))\n",
    "_columns_name"
   ]
  },
  {
   "cell_type": "code",
   "execution_count": 3,
   "metadata": {
    "ExecuteTime": {
     "end_time": "2019-10-27T03:34:10.084926Z",
     "start_time": "2019-10-27T03:34:10.009970Z"
    }
   },
   "outputs": [
    {
     "data": {
      "text/plain": [
       "[[False, False, False, False, False, False, False, False, False, False, False],\n",
       " [False, False, False, False, False, False, False, False, False, False, False],\n",
       " [False, False, False, False, False, False, False, False, False, False, False],\n",
       " [False, False, False, False, False, False, False, False, False, False, False],\n",
       " [False, False, False, False, False, False, False, False, False, False, False]]"
      ]
     },
     "execution_count": 3,
     "metadata": {},
     "output_type": "execute_result"
    }
   ],
   "source": [
    "# 这个是生成一个二维逻辑数组\n",
    "[[False]*len(_columns_name)]*len(dataset)"
   ]
  },
  {
   "cell_type": "code",
   "execution_count": 4,
   "metadata": {
    "ExecuteTime": {
     "end_time": "2019-10-27T03:34:33.483069Z",
     "start_time": "2019-10-27T03:34:10.090924Z"
    }
   },
   "outputs": [
    {
     "data": {
      "text/html": [
       "<div>\n",
       "<style scoped>\n",
       "    .dataframe tbody tr th:only-of-type {\n",
       "        vertical-align: middle;\n",
       "    }\n",
       "\n",
       "    .dataframe tbody tr th {\n",
       "        vertical-align: top;\n",
       "    }\n",
       "\n",
       "    .dataframe thead th {\n",
       "        text-align: right;\n",
       "    }\n",
       "</style>\n",
       "<table border=\"1\" class=\"dataframe\">\n",
       "  <thead>\n",
       "    <tr style=\"text-align: right;\">\n",
       "      <th></th>\n",
       "      <th>肉豆蔻</th>\n",
       "      <th>玉米</th>\n",
       "      <th>酸奶</th>\n",
       "      <th>苹果</th>\n",
       "      <th>牛奶</th>\n",
       "      <th>莳萝</th>\n",
       "      <th>芸豆</th>\n",
       "      <th>鸡蛋</th>\n",
       "      <th>洋葱</th>\n",
       "      <th>独角兽</th>\n",
       "      <th>冰淇淋</th>\n",
       "    </tr>\n",
       "  </thead>\n",
       "  <tbody>\n",
       "    <tr>\n",
       "      <td>0</td>\n",
       "      <td>False</td>\n",
       "      <td>False</td>\n",
       "      <td>False</td>\n",
       "      <td>False</td>\n",
       "      <td>False</td>\n",
       "      <td>False</td>\n",
       "      <td>False</td>\n",
       "      <td>False</td>\n",
       "      <td>False</td>\n",
       "      <td>False</td>\n",
       "      <td>False</td>\n",
       "    </tr>\n",
       "    <tr>\n",
       "      <td>1</td>\n",
       "      <td>False</td>\n",
       "      <td>False</td>\n",
       "      <td>False</td>\n",
       "      <td>False</td>\n",
       "      <td>False</td>\n",
       "      <td>False</td>\n",
       "      <td>False</td>\n",
       "      <td>False</td>\n",
       "      <td>False</td>\n",
       "      <td>False</td>\n",
       "      <td>False</td>\n",
       "    </tr>\n",
       "    <tr>\n",
       "      <td>2</td>\n",
       "      <td>False</td>\n",
       "      <td>False</td>\n",
       "      <td>False</td>\n",
       "      <td>False</td>\n",
       "      <td>False</td>\n",
       "      <td>False</td>\n",
       "      <td>False</td>\n",
       "      <td>False</td>\n",
       "      <td>False</td>\n",
       "      <td>False</td>\n",
       "      <td>False</td>\n",
       "    </tr>\n",
       "    <tr>\n",
       "      <td>3</td>\n",
       "      <td>False</td>\n",
       "      <td>False</td>\n",
       "      <td>False</td>\n",
       "      <td>False</td>\n",
       "      <td>False</td>\n",
       "      <td>False</td>\n",
       "      <td>False</td>\n",
       "      <td>False</td>\n",
       "      <td>False</td>\n",
       "      <td>False</td>\n",
       "      <td>False</td>\n",
       "    </tr>\n",
       "    <tr>\n",
       "      <td>4</td>\n",
       "      <td>False</td>\n",
       "      <td>False</td>\n",
       "      <td>False</td>\n",
       "      <td>False</td>\n",
       "      <td>False</td>\n",
       "      <td>False</td>\n",
       "      <td>False</td>\n",
       "      <td>False</td>\n",
       "      <td>False</td>\n",
       "      <td>False</td>\n",
       "      <td>False</td>\n",
       "    </tr>\n",
       "  </tbody>\n",
       "</table>\n",
       "</div>"
      ],
      "text/plain": [
       "     肉豆蔻     玉米     酸奶     苹果     牛奶     莳萝     芸豆     鸡蛋     洋葱    独角兽    冰淇淋\n",
       "0  False  False  False  False  False  False  False  False  False  False  False\n",
       "1  False  False  False  False  False  False  False  False  False  False  False\n",
       "2  False  False  False  False  False  False  False  False  False  False  False\n",
       "3  False  False  False  False  False  False  False  False  False  False  False\n",
       "4  False  False  False  False  False  False  False  False  False  False  False"
      ]
     },
     "execution_count": 4,
     "metadata": {},
     "output_type": "execute_result"
    }
   ],
   "source": [
    "# \n",
    "import pandas\n",
    "_dt=pandas.DataFrame([[False]*len(_columns_name)]*len(dataset),columns=_columns_name)\n",
    "_dt"
   ]
  },
  {
   "cell_type": "code",
   "execution_count": 5,
   "metadata": {
    "ExecuteTime": {
     "end_time": "2019-10-27T03:34:33.533041Z",
     "start_time": "2019-10-27T03:34:33.488067Z"
    }
   },
   "outputs": [
    {
     "data": {
      "text/html": [
       "<div>\n",
       "<style scoped>\n",
       "    .dataframe tbody tr th:only-of-type {\n",
       "        vertical-align: middle;\n",
       "    }\n",
       "\n",
       "    .dataframe tbody tr th {\n",
       "        vertical-align: top;\n",
       "    }\n",
       "\n",
       "    .dataframe thead th {\n",
       "        text-align: right;\n",
       "    }\n",
       "</style>\n",
       "<table border=\"1\" class=\"dataframe\">\n",
       "  <thead>\n",
       "    <tr style=\"text-align: right;\">\n",
       "      <th></th>\n",
       "      <th>肉豆蔻</th>\n",
       "      <th>玉米</th>\n",
       "      <th>酸奶</th>\n",
       "      <th>苹果</th>\n",
       "      <th>牛奶</th>\n",
       "      <th>莳萝</th>\n",
       "      <th>芸豆</th>\n",
       "      <th>鸡蛋</th>\n",
       "      <th>洋葱</th>\n",
       "      <th>独角兽</th>\n",
       "      <th>冰淇淋</th>\n",
       "    </tr>\n",
       "  </thead>\n",
       "  <tbody>\n",
       "    <tr>\n",
       "      <td>0</td>\n",
       "      <td>True</td>\n",
       "      <td>False</td>\n",
       "      <td>True</td>\n",
       "      <td>False</td>\n",
       "      <td>True</td>\n",
       "      <td>False</td>\n",
       "      <td>True</td>\n",
       "      <td>True</td>\n",
       "      <td>True</td>\n",
       "      <td>False</td>\n",
       "      <td>False</td>\n",
       "    </tr>\n",
       "    <tr>\n",
       "      <td>1</td>\n",
       "      <td>True</td>\n",
       "      <td>False</td>\n",
       "      <td>True</td>\n",
       "      <td>False</td>\n",
       "      <td>False</td>\n",
       "      <td>True</td>\n",
       "      <td>True</td>\n",
       "      <td>True</td>\n",
       "      <td>True</td>\n",
       "      <td>False</td>\n",
       "      <td>False</td>\n",
       "    </tr>\n",
       "    <tr>\n",
       "      <td>2</td>\n",
       "      <td>False</td>\n",
       "      <td>False</td>\n",
       "      <td>False</td>\n",
       "      <td>True</td>\n",
       "      <td>True</td>\n",
       "      <td>False</td>\n",
       "      <td>True</td>\n",
       "      <td>True</td>\n",
       "      <td>False</td>\n",
       "      <td>False</td>\n",
       "      <td>False</td>\n",
       "    </tr>\n",
       "    <tr>\n",
       "      <td>3</td>\n",
       "      <td>False</td>\n",
       "      <td>True</td>\n",
       "      <td>True</td>\n",
       "      <td>False</td>\n",
       "      <td>True</td>\n",
       "      <td>False</td>\n",
       "      <td>True</td>\n",
       "      <td>False</td>\n",
       "      <td>False</td>\n",
       "      <td>True</td>\n",
       "      <td>False</td>\n",
       "    </tr>\n",
       "    <tr>\n",
       "      <td>4</td>\n",
       "      <td>False</td>\n",
       "      <td>True</td>\n",
       "      <td>False</td>\n",
       "      <td>False</td>\n",
       "      <td>False</td>\n",
       "      <td>False</td>\n",
       "      <td>True</td>\n",
       "      <td>True</td>\n",
       "      <td>True</td>\n",
       "      <td>False</td>\n",
       "      <td>True</td>\n",
       "    </tr>\n",
       "  </tbody>\n",
       "</table>\n",
       "</div>"
      ],
      "text/plain": [
       "     肉豆蔻     玉米     酸奶     苹果     牛奶     莳萝    芸豆     鸡蛋     洋葱    独角兽    冰淇淋\n",
       "0   True  False   True  False   True  False  True   True   True  False  False\n",
       "1   True  False   True  False  False   True  True   True   True  False  False\n",
       "2  False  False  False   True   True  False  True   True  False  False  False\n",
       "3  False   True   True  False   True  False  True  False  False   True  False\n",
       "4  False   True  False  False  False  False  True   True   True  False   True"
      ]
     },
     "execution_count": 5,
     "metadata": {},
     "output_type": "execute_result"
    }
   ],
   "source": [
    "# 用一个循环来\n",
    "i = 0 # 因为我需要这个i这个小标，所以没有用for循环。\n",
    "while(i<len(dataset)):\n",
    "    for item in dataset[i]: # 这里用for循环，我只是需要得到每一项而已\n",
    "        _dt.at[i,item]=True\n",
    "    i = i+1         \n",
    "_dt"
   ]
  },
  {
   "cell_type": "code",
   "execution_count": 6,
   "metadata": {
    "ExecuteTime": {
     "end_time": "2019-10-27T03:34:33.654972Z",
     "start_time": "2019-10-27T03:34:33.540037Z"
    }
   },
   "outputs": [
    {
     "data": {
      "text/plain": [
       "False    4\n",
       "True     1\n",
       "Name: 苹果, dtype: int64"
      ]
     },
     "execution_count": 6,
     "metadata": {},
     "output_type": "execute_result"
    }
   ],
   "source": [
    "# 接下来就是根据这个pandas判断支持度\n",
    "# 我这里用value_counts来进行计数。\n",
    "_dt['苹果'].value_counts()"
   ]
  },
  {
   "cell_type": "code",
   "execution_count": 7,
   "metadata": {
    "ExecuteTime": {
     "end_time": "2019-10-27T03:34:33.761929Z",
     "start_time": "2019-10-27T03:34:33.661968Z"
    }
   },
   "outputs": [],
   "source": [
    "# 我还是用这个选取来实现吧。"
   ]
  },
  {
   "cell_type": "code",
   "execution_count": 8,
   "metadata": {
    "ExecuteTime": {
     "end_time": "2019-10-27T03:34:33.861877Z",
     "start_time": "2019-10-27T03:34:33.766909Z"
    }
   },
   "outputs": [
    {
     "data": {
      "text/plain": [
       "4"
      ]
     },
     "execution_count": 8,
     "metadata": {},
     "output_type": "execute_result"
    }
   ],
   "source": [
    "len(_dt[\"鸡蛋\"][_dt['鸡蛋']==True])"
   ]
  },
  {
   "cell_type": "code",
   "execution_count": 9,
   "metadata": {
    "ExecuteTime": {
     "end_time": "2019-10-27T03:34:33.999777Z",
     "start_time": "2019-10-27T03:34:33.865853Z"
    }
   },
   "outputs": [
    {
     "name": "stdout",
     "output_type": "stream",
     "text": [
      "肉豆蔻的出现次数是：2，\t支持度是：0.4\n",
      "玉米的出现次数是：2，\t支持度是：0.4\n",
      "酸奶的出现次数是：3，\t支持度是：0.6\n",
      "苹果的出现次数是：1，\t支持度是：0.2\n",
      "牛奶的出现次数是：3，\t支持度是：0.6\n",
      "莳萝的出现次数是：1，\t支持度是：0.2\n",
      "芸豆的出现次数是：5，\t支持度是：1.0\n",
      "鸡蛋的出现次数是：4，\t支持度是：0.8\n",
      "洋葱的出现次数是：3，\t支持度是：0.6\n",
      "独角兽的出现次数是：1，\t支持度是：0.2\n",
      "冰淇淋的出现次数是：1，\t支持度是：0.2\n"
     ]
    }
   ],
   "source": [
    "# 我这里计算里边每一项的支持度\n",
    "for _column in _dt.columns.values:\n",
    "    print(\"{0}的出现次数是：{1}，\\t支持度是：{2}\".format(\n",
    "        _column,\n",
    "        len(_dt[_column][_dt[_column]==True]),\n",
    "        len(_dt[_column][_dt[_column]==True])/len(_dt)))"
   ]
  },
  {
   "cell_type": "code",
   "execution_count": 53,
   "metadata": {
    "ExecuteTime": {
     "end_time": "2019-10-27T07:03:32.181609Z",
     "start_time": "2019-10-27T07:03:32.166615Z"
    }
   },
   "outputs": [],
   "source": [
    "from itertools import combinations,permutations # 这个是排列组合的。\n",
    "def create_next_columns(pre_columns_names:list)->list:\n",
    "    \"\"\"这个会根据上一层的列名生成下一层的列名\n",
    "    \"\"\"\n",
    "    # 我首先随便选择第一项，取得这一层级的层数\n",
    "    # 然后将所有列名拆分，比如 “苹果|啤酒”这个，我要根据“|”拆分，生成所有列都包含的单个的列\n",
    "    # 然后根据这个做排列组合啦。\n",
    "    _cengshu = len(pre_columns_names[0].split('|')) # 取得层数。\n",
    "    _set_1 =set()\n",
    "    for item in pre_columns_names:\n",
    "        for item_2 in item.split(\"|\"):\n",
    "            _set_1.add(item_2)\n",
    "    # 然后就是排列组合啦\n",
    "    _lst_1 = list(_set_1)\n",
    "    # 这里要考虑一个特殊情况，就是没有下一层了\n",
    "    if len(_lst_1) < _cengshu:\n",
    "        return []\n",
    "    # 生成组合\n",
    "    _lst_return=[]\n",
    "    # 我这里要对关键词排序，以便后边处理\n",
    "    for i in list(combinations(_lst_1,_cengshu+1)):\n",
    "        _l = list(i)\n",
    "        _l.sort()\n",
    "        _lst_return.append(\"|\".join(_l))\n",
    "    return _lst_return\n",
    "    return [\"|\".join(i) for i in list(combinations(_lst_1,_cengshu+1))]\n",
    "    \n",
    "    "
   ]
  },
  {
   "cell_type": "code",
   "execution_count": 54,
   "metadata": {
    "ExecuteTime": {
     "end_time": "2019-10-27T07:03:32.637349Z",
     "start_time": "2019-10-27T07:03:32.625356Z"
    }
   },
   "outputs": [
    {
     "data": {
      "text/plain": [
       "['玉米|肉豆蔻',\n",
       " '肉豆蔻|酸奶',\n",
       " '肉豆蔻|苹果',\n",
       " '牛奶|肉豆蔻',\n",
       " '肉豆蔻|莳萝',\n",
       " '肉豆蔻|芸豆',\n",
       " '肉豆蔻|鸡蛋',\n",
       " '洋葱|肉豆蔻',\n",
       " '独角兽|肉豆蔻',\n",
       " '冰淇淋|肉豆蔻',\n",
       " '玉米|酸奶',\n",
       " '玉米|苹果',\n",
       " '牛奶|玉米',\n",
       " '玉米|莳萝',\n",
       " '玉米|芸豆',\n",
       " '玉米|鸡蛋',\n",
       " '洋葱|玉米',\n",
       " '独角兽|玉米',\n",
       " '冰淇淋|玉米',\n",
       " '苹果|酸奶',\n",
       " '牛奶|酸奶',\n",
       " '莳萝|酸奶',\n",
       " '芸豆|酸奶',\n",
       " '酸奶|鸡蛋',\n",
       " '洋葱|酸奶',\n",
       " '独角兽|酸奶',\n",
       " '冰淇淋|酸奶',\n",
       " '牛奶|苹果',\n",
       " '苹果|莳萝',\n",
       " '芸豆|苹果',\n",
       " '苹果|鸡蛋',\n",
       " '洋葱|苹果',\n",
       " '独角兽|苹果',\n",
       " '冰淇淋|苹果',\n",
       " '牛奶|莳萝',\n",
       " '牛奶|芸豆',\n",
       " '牛奶|鸡蛋',\n",
       " '洋葱|牛奶',\n",
       " '牛奶|独角兽',\n",
       " '冰淇淋|牛奶',\n",
       " '芸豆|莳萝',\n",
       " '莳萝|鸡蛋',\n",
       " '洋葱|莳萝',\n",
       " '独角兽|莳萝',\n",
       " '冰淇淋|莳萝',\n",
       " '芸豆|鸡蛋',\n",
       " '洋葱|芸豆',\n",
       " '独角兽|芸豆',\n",
       " '冰淇淋|芸豆',\n",
       " '洋葱|鸡蛋',\n",
       " '独角兽|鸡蛋',\n",
       " '冰淇淋|鸡蛋',\n",
       " '洋葱|独角兽',\n",
       " '冰淇淋|洋葱',\n",
       " '冰淇淋|独角兽']"
      ]
     },
     "execution_count": 54,
     "metadata": {},
     "output_type": "execute_result"
    }
   ],
   "source": [
    "# 这个是测试是否可以用的。\n",
    "create_next_columns(_dt.columns.values)"
   ]
  },
  {
   "cell_type": "code",
   "execution_count": 40,
   "metadata": {
    "ExecuteTime": {
     "end_time": "2019-10-27T05:52:40.469032Z",
     "start_time": "2019-10-27T05:52:40.450043Z"
    }
   },
   "outputs": [],
   "source": [
    "def Transaction_support(dt,lst_columns_name:str,min_support):\n",
    "    \"\"\"Apriori算法实现\n",
    "        参数：\n",
    "            dt: 表，\n",
    "            lst_columns_name : 要检查的列,支持用\"|\"分割的多个列同时存在。\n",
    "            min_support : 最小支持度\"\"\"\n",
    "    _dict_return={} # 这个字典保存的是经过检查，支持度大于最小值的。键名为列名的组合，键值为支持度。\n",
    "    # 对每个列名进行检查\n",
    "    _len_dt = len(dt) # 记录的数量\n",
    "    # 我这里先取得第一列的名字吧\n",
    "    _first_column=dt.columns.values[0]\n",
    "    for _column_name in lst_columns_name:\n",
    "        # 先取得列名，因为是用|分割的\n",
    "        # 由这个列名的列表组成一个字符串。\n",
    "        _lst_bool = \" & \".join( [\"(dt['{0}']==True)\".format(s) for s in _column_name.split('|')])\n",
    "        _str_support = \"len(dt['{0}'][{1}])/{2}\".format(_first_column,_lst_bool,_len_dt) # 这个就是用来计算支持度的\n",
    "        _support = eval(_str_support)\n",
    "        # 判断这个支持度\n",
    "        if _support >= min_support:\n",
    "            # 如果大于支持度，就加进去啦\n",
    "            _dict_return[_column_name]=_support\n",
    "        pass\n",
    "    # 接下来要判断这个字典是否为空，如果为空，就不想用递归了\n",
    "    if not _dict_return:\n",
    "        return {}\n",
    "    else:\n",
    "        # 如果不为空，就生成这个自己的超级吧。\n",
    "        # 然后递归判断。\n",
    "        _tmp=Transaction_support(dt,create_next_columns(list(_dict_return.keys())),min_support)\n",
    "        # 然后字典合并啦\n",
    "        _dict_return = dict(_dict_return,**_tmp)\n",
    "        pass\n",
    "    \n",
    "    return _dict_return\n",
    "    pass"
   ]
  },
  {
   "cell_type": "code",
   "execution_count": 42,
   "metadata": {
    "ExecuteTime": {
     "end_time": "2019-10-27T06:13:50.902115Z",
     "start_time": "2019-10-27T06:13:50.813133Z"
    }
   },
   "outputs": [
    {
     "data": {
      "text/plain": [
       "{'酸奶': 0.6,\n",
       " '牛奶': 0.6,\n",
       " '芸豆': 1.0,\n",
       " '鸡蛋': 0.8,\n",
       " '洋葱': 0.6,\n",
       " '酸奶|芸豆': 0.6,\n",
       " '牛奶|芸豆': 0.6,\n",
       " '芸豆|鸡蛋': 0.8,\n",
       " '芸豆|洋葱': 0.6,\n",
       " '鸡蛋|洋葱': 0.6,\n",
       " '芸豆|鸡蛋|洋葱': 0.6}"
      ]
     },
     "execution_count": 42,
     "metadata": {},
     "output_type": "execute_result"
    }
   ],
   "source": [
    "Transaction_support(_dt,_dt.columns.values,0.5)"
   ]
  },
  {
   "cell_type": "code",
   "execution_count": 59,
   "metadata": {
    "ExecuteTime": {
     "end_time": "2019-10-27T08:47:21.609424Z",
     "start_time": "2019-10-27T08:47:21.479496Z"
    }
   },
   "outputs": [
    {
     "name": "stdout",
     "output_type": "stream",
     "text": [
      "酸奶->芸豆:1.0\n",
      "芸豆->酸奶:0.6\n",
      "芸豆->牛奶:0.6\n",
      "牛奶->芸豆:1.0\n",
      "鸡蛋->芸豆:1.0\n",
      "芸豆->鸡蛋:0.8\n",
      "芸豆->洋葱:0.6\n",
      "洋葱->芸豆:1.0\n",
      "鸡蛋->洋葱:0.7499999999999999\n",
      "洋葱->鸡蛋:1.0\n",
      "芸豆|鸡蛋->洋葱:0.7499999999999999\n",
      "洋葱|鸡蛋->芸豆:1.0\n",
      "洋葱|芸豆->鸡蛋:1.0\n"
     ]
    }
   ],
   "source": [
    "# 接下来计算置信度和提升度吧。\n",
    "# 其实有了前面的提升度字典，就可以求了，\n",
    "# 置信度( A -> B) = （包含物品A和B的记录数量） / （包含 A 的记录数量）\n",
    "# 其置信度分子分母都可以除以总数，也就是A和B的支持度/A的支持度。而提升度就是置信度再诚意一遍支持度\n",
    "# 我要遍历符合最低支持度的字典\n",
    "# 然后用一个字典来保存提升度吧\n",
    "def get_confidence(support:dict):\n",
    "    _lst_confidence={}\n",
    "    for key,value in support.items():\n",
    "        # 先解析这个key\n",
    "        _lst_columns_name = key.split('|')\n",
    "        # 如果这个只有一层，就不计算了，\n",
    "        if len(_lst_columns_name) == 1:\n",
    "            continue\n",
    "        # 然后对每一个子集计算提升度啦\n",
    "        # 比如这个key 是 \"A|B\" ，我分解成[A,B]列表，分别相对于A和B的提升度，而这个提升度是除了AB的\n",
    "        for _item in _lst_columns_name:\n",
    "            # 比如计算 A->B ，这里AB并集的支持度就是value，\n",
    "            # 而_item是B，这要求的是A，也就是说在这个列表中，不属于B的全是A，\n",
    "            _lst_A = [i for i in _lst_columns_name if i != _item]\n",
    "            _lst_A.sort() # 排序\n",
    "            str_A= \"|\".join(_lst_A)\n",
    "            _lst_confidence[\"{0}->{1}\".format(str_A,_item)]=value/support[str_A]\n",
    "    return _lst_confidence\n",
    "\n",
    "dict_confidence=get_confidence(Transaction_support(_dt,_dt.columns.values,0.5))\n",
    "\n",
    "for i in dict_confidence:\n",
    "    print(\"{0}:{1}\".format(i,dict_confidence[i]))\n",
    "    "
   ]
  },
  {
   "cell_type": "markdown",
   "metadata": {
    "ExecuteTime": {
     "end_time": "2019-10-24T12:16:36.985979Z",
     "start_time": "2019-10-24T12:16:36.976985Z"
    }
   },
   "source": [
    "# 参考资料\n",
    "> [深入浅出Apriori关联分析算法](https://mp.weixin.qq.com/s/yCGUSVB-vA3p5Vtc88GPZg)  \n",
    "> [利用mlxtend进行数据关联分析](https://blog.csdn.net/qq_36523839/article/details/83960195)  \n",
    "> [数据挖掘十大算法之Apriori详解](https://blog.csdn.net/baimafujinji/article/details/53456931)"
   ]
  },
  {
   "cell_type": "code",
   "execution_count": null,
   "metadata": {},
   "outputs": [],
   "source": []
  }
 ],
 "metadata": {
  "file_extension": ".py",
  "kernelspec": {
   "display_name": "Python 3",
   "language": "python",
   "name": "python3"
  },
  "language_info": {
   "codemirror_mode": {
    "name": "ipython",
    "version": 3
   },
   "file_extension": ".py",
   "mimetype": "text/x-python",
   "name": "python",
   "nbconvert_exporter": "python",
   "pygments_lexer": "ipython3",
   "version": "3.7.3"
  },
  "mimetype": "text/x-python",
  "name": "python",
  "npconvert_exporter": "python",
  "pygments_lexer": "ipython3",
  "toc": {
   "nav_menu": {},
   "number_sections": true,
   "sideBar": true,
   "skip_h1_title": false,
   "title_cell": "Table of Contents",
   "title_sidebar": "Contents",
   "toc_cell": false,
   "toc_position": {
    "height": "calc(100% - 180px)",
    "left": "10px",
    "top": "150px",
    "width": "273.188px"
   },
   "toc_section_display": true,
   "toc_window_display": true
  },
  "version": 3
 },
 "nbformat": 4,
 "nbformat_minor": 2
}
