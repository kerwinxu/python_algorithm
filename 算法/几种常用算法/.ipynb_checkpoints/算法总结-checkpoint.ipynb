{
 "cells": [
  {
   "cell_type": "markdown",
   "metadata": {},
   "source": [
    "# 几种算法的总结"
   ]
  },
  {
   "cell_type": "markdown",
   "metadata": {
    "execution": {
     "iopub.execute_input": "2020-06-25T13:30:25.839292Z",
     "iopub.status.busy": "2020-06-25T13:30:25.838288Z",
     "iopub.status.idle": "2020-06-25T13:30:25.877287Z",
     "shell.execute_reply": "2020-06-25T13:30:25.874288Z",
     "shell.execute_reply.started": "2020-06-25T13:30:25.839292Z"
    }
   },
   "source": [
    "- 分治算法 ： 将原问题分解成若干个规模较小、相互独立、于原问题形式相同的子问题。\n",
    "- 动态规划 ： 大问题分解成若干个小问题，也就是找到递推关系，但如果这个递归求解过程中出现子问题重复求解的现象，我们可以建立一个表来记录要重复求解的子问题\n",
    "- 遍历算法\n",
    "   - 回溯算法： 深度优先的,凡是深度优先的就是用堆栈的。\n",
    "   - 分支限界算法 ： 广度优先，凡是广度优先的就是用队列的。\n",
    "- 贪婪算法 ： 总是做出在当前看来是最好的选择，不寻求全局最优，而是局部最优。\n",
    "- [数据结构方面的算法](../../数据结构/数据结构总览.ipynb)"
   ]
  },
  {
   "cell_type": "code",
   "execution_count": null,
   "metadata": {},
   "outputs": [],
   "source": []
  }
 ],
 "metadata": {
  "kernelspec": {
   "display_name": "Python 3",
   "language": "python",
   "name": "python3"
  },
  "language_info": {
   "codemirror_mode": {
    "name": "ipython",
    "version": 3
   },
   "file_extension": ".py",
   "mimetype": "text/x-python",
   "name": "python",
   "nbconvert_exporter": "python",
   "pygments_lexer": "ipython3",
   "version": "3.7.6"
  }
 },
 "nbformat": 4,
 "nbformat_minor": 4
}
