{
 "cells": [
  {
   "cell_type": "markdown",
   "metadata": {},
   "source": [
    "# 迷宫算法数据"
   ]
  },
  {
   "cell_type": "code",
   "execution_count": 1,
   "metadata": {
    "ExecuteTime": {
     "end_time": "2019-11-21T14:01:47.870154Z",
     "start_time": "2019-11-21T14:01:47.822152Z"
    }
   },
   "outputs": [
    {
     "data": {
      "text/plain": [
       "[[1, 1, 1, 1, 1, 1, 1, 1, 1, 1, 1, 1],\n",
       " [1, 0, 0, 0, 1, 1, 1, 1, 1, 1, 1, 1],\n",
       " [1, 1, 1, 0, 1, 1, 0, 0, 0, 0, 1, 1],\n",
       " [1, 1, 1, 0, 1, 1, 0, 1, 1, 0, 1, 1],\n",
       " [1, 1, 1, 0, 0, 0, 0, 1, 1, 0, 1, 1],\n",
       " [1, 1, 1, 0, 1, 1, 0, 1, 1, 0, 1, 1],\n",
       " [1, 1, 1, 0, 1, 1, 0, 1, 1, 0, 1, 1],\n",
       " [1, 1, 1, 1, 1, 1, 0, 1, 1, 0, 1, 1],\n",
       " [1, 1, 0, 0, 0, 0, 0, 0, 1, 0, 0, 1],\n",
       " [1, 1, 1, 1, 1, 1, 1, 1, 1, 1, 1, 1]]"
      ]
     },
     "execution_count": 1,
     "metadata": {},
     "output_type": "execute_result"
    }
   ],
   "source": [
    "# 我用一个二维数组来做个地图，1表示墙，0表示可以通过，以后2表示这个路走过了。\n",
    "import copy\n",
    "map_data =[[1,1,1,1,1,1,1,1,1,1,1,1],\\\n",
    "      [1,0,0,0,1,1,1,1,1,1,1,1],\\\n",
    "      [1,1,1,0,1,1,0,0,0,0,1,1],\\\n",
    "      [1,1,1,0,1,1,0,1,1,0,1,1],\\\n",
    "      [1,1,1,0,0,0,0,1,1,0,1,1],\\\n",
    "      [1,1,1,0,1,1,0,1,1,0,1,1],\\\n",
    "      [1,1,1,0,1,1,0,1,1,0,1,1],\\\n",
    "      [1,1,1,1,1,1,0,1,1,0,1,1],\\\n",
    "      [1,1,0,0,0,0,0,0,1,0,0,1],\\\n",
    "      [1,1,1,1,1,1,1,1,1,1,1,1]]\n",
    "map_data"
   ]
  },
  {
   "cell_type": "markdown",
   "metadata": {},
   "source": [
    "# 递归实现的迷宫算法"
   ]
  },
  {
   "cell_type": "markdown",
   "metadata": {},
   "source": [
    "递归实现的好实现  \n",
    "1. 每时每刻都有一个位置是当前位置，开始时这个位置是迷宫的入口\n",
    "2. 如果当前位置就是出口，那么问题解决  \n",
    "3. 否则，如果当前位置已经无路可走，当前探查失败，回退一部。\n",
    "4. 去一个可行相邻位置用同样的方式探查，如果从那里可以找到通往出口的道路，那么从当前位置到出口的路径也就找到了  \n",
    "\n"
   ]
  },
  {
   "cell_type": "markdown",
   "metadata": {},
   "source": [
    "算法过程  \n",
    "1. 将当前位置记录已经验证  \n",
    "2. 检查当前位置是否为出口，如果是则成功结束  。\n",
    "3. 逐个检查当前位置的四邻，是否可以通过到达出口，（这个是递归调用自身）  \n",
    "4. 如果对四邻的搜索都失败，那么报告失败"
   ]
  },
  {
   "cell_type": "markdown",
   "metadata": {},
   "source": [
    "接下来做几个辅助的函数"
   ]
  },
  {
   "cell_type": "code",
   "execution_count": 2,
   "metadata": {
    "ExecuteTime": {
     "end_time": "2019-11-21T14:01:48.033185Z",
     "start_time": "2019-11-21T14:01:47.878153Z"
    }
   },
   "outputs": [],
   "source": [
    "# 将当前位置设置为已经探查。\n",
    "def mark(data,pos):\n",
    "    \"\"\"\n",
    "        设置当前位置为已经探查了，这里做一个约定，2表示已经探查。\n",
    "        @data ： 这个是地图的数据，一个二维数组\n",
    "        @pos ： 要设置的位置。这里做约定，pos为一个有2个元素的列表，表示位置。\n",
    "    \"\"\"\n",
    "    data[pos[0]][pos[1]]=2"
   ]
  },
  {
   "cell_type": "code",
   "execution_count": 3,
   "metadata": {
    "ExecuteTime": {
     "end_time": "2019-11-21T14:01:48.170162Z",
     "start_time": "2019-11-21T14:01:48.050159Z"
    }
   },
   "outputs": [],
   "source": [
    "def possable(data,pos):\n",
    "    \"\"\"检查这个位置是否可以通过\n",
    "        @data ： 这个是地图的数据，一个二维数组\n",
    "        @pos ： 检查的位置。\n",
    "    \"\"\"\n",
    "    # 实际上我只需要检查这个位置是否为0，因为1表示是墙壁，而2表示已经检查过，这里约定已经检查过的是不可以通过的\n",
    "    return data[pos[0]][pos[1]] == 0"
   ]
  },
  {
   "cell_type": "code",
   "execution_count": 4,
   "metadata": {
    "ExecuteTime": {
     "end_time": "2019-11-21T14:01:48.287161Z",
     "start_time": "2019-11-21T14:01:48.183160Z"
    }
   },
   "outputs": [
    {
     "name": "stdout",
     "output_type": "stream",
     "text": [
      "[2, 3]\n",
      "[1, 2]\n"
     ]
    }
   ],
   "source": [
    "def next_pos(data,pos):\n",
    "    \"\"\"取得下一步\n",
    "         @data ： 这个是地图的数据，一个二维数组\n",
    "        @pos ： 这个是当前位置\n",
    "    return : 返回的是这个位置的4个邻居，上、下、左、右\"\"\"\n",
    "    # 我这里有个判断，是否越界，因为有些地图，可能四周不是墙，而仅仅是约定越界的就是墙。\n",
    "    _next_pos = []\n",
    "    # 如下分别加上上下左右方向吧\n",
    "    # 添加上，上就是y-1啦，\n",
    "    if pos[0]-1 >= 0 :\n",
    "        _next_pos.append([pos[0]-1 , pos[1]])\n",
    "    # 下\n",
    "    if pos[0]+1 < len(data):\n",
    "        _next_pos.append([pos[0]+1 , pos[1]])\n",
    "    # 左边\n",
    "    if pos[1]-1 >= 0 :\n",
    "        _next_pos.append([pos[0] , pos[1]-1])\n",
    "    # 右边\n",
    "    if pos[1]+1 < len(data[0]):\n",
    "        _next_pos.append([pos[0] , pos[1]+1])\n",
    "    return _next_pos\n",
    "# 这里一个简单的测试吧\n",
    "for _pos in (next_pos(map_data,[1,3])):\n",
    "    if possable(map_data,_pos):\n",
    "        print(_pos)"
   ]
  },
  {
   "cell_type": "code",
   "execution_count": 5,
   "metadata": {
    "ExecuteTime": {
     "end_time": "2019-11-21T14:01:48.403159Z",
     "start_time": "2019-11-21T14:01:48.293157Z"
    }
   },
   "outputs": [],
   "source": [
    "def right_way(data,pos):\n",
    "    \"\"\"这是某个坐标为正确的路\n",
    "        @data ： 这个是地图的数据，一个二维数组\n",
    "        @pos ： 某个坐标\n",
    "    \n",
    "    \"\"\"\n",
    "    # 我这里简单点，只是设置这个为数字3\n",
    "    data[pos[0]][pos[1]]=3"
   ]
  },
  {
   "cell_type": "code",
   "execution_count": 6,
   "metadata": {
    "ExecuteTime": {
     "end_time": "2019-11-21T14:01:48.515179Z",
     "start_time": "2019-11-21T14:01:48.413160Z"
    }
   },
   "outputs": [],
   "source": [
    "# 到这里就是真正的迷宫算法了\n",
    "def maze_right_way(data,start_pos,end_pos):\n",
    "    \"\"\"\n",
    "    迷宫算法\n",
    "        @data ： 这个是地图的数据，一个二维数组\n",
    "        @start_pos ： 要检查的位置，\n",
    "        @end_pos : 结束位置\n",
    "    return : 找到路径返回真\n",
    "    \"\"\"\n",
    "    # 首先记录当前位置\n",
    "    mark(data,start_pos)\n",
    "    \n",
    "    # 判断当前位置是否为结束的。\n",
    "    if start_pos == end_pos:\n",
    "        right_way(data,start_pos)\n",
    "        return True\n",
    "    \n",
    "    # 然后在四个方向上递归啦\n",
    "    for _pos in (next_pos(data,start_pos)): \n",
    "        if possable(data,_pos): # 判断这个是否可以走\n",
    "            if maze_right_way(data,_pos,end_pos):  #走这条路，判断是否是正确的。\n",
    "                # 如果返回真，表示从正确的路返回啦，\n",
    "                right_way(data,_pos)\n",
    "                return True\n",
    "    # 四条路都走了，如果执行到这里，那么就说明没有找到路\n",
    "    return False\n",
    "            \n",
    "    \n"
   ]
  },
  {
   "cell_type": "code",
   "execution_count": 7,
   "metadata": {
    "ExecuteTime": {
     "end_time": "2019-11-21T14:01:48.625170Z",
     "start_time": "2019-11-21T14:01:48.528162Z"
    }
   },
   "outputs": [
    {
     "name": "stdout",
     "output_type": "stream",
     "text": [
      "True\n"
     ]
    }
   ],
   "source": [
    "print(maze_right_way(copy.deepcopy(map_data),[1,1],[8,10]))"
   ]
  },
  {
   "cell_type": "code",
   "execution_count": 8,
   "metadata": {
    "ExecuteTime": {
     "end_time": "2019-11-21T14:01:48.746150Z",
     "start_time": "2019-11-21T14:01:48.636168Z"
    }
   },
   "outputs": [
    {
     "data": {
      "text/plain": [
       "[[1, 1, 1, 1, 1, 1, 1, 1, 1, 1, 1, 1],\n",
       " [1, 0, 0, 0, 1, 1, 1, 1, 1, 1, 1, 1],\n",
       " [1, 1, 1, 0, 1, 1, 0, 0, 0, 0, 1, 1],\n",
       " [1, 1, 1, 0, 1, 1, 0, 1, 1, 0, 1, 1],\n",
       " [1, 1, 1, 0, 0, 0, 0, 1, 1, 0, 1, 1],\n",
       " [1, 1, 1, 0, 1, 1, 0, 1, 1, 0, 1, 1],\n",
       " [1, 1, 1, 0, 1, 1, 0, 1, 1, 0, 1, 1],\n",
       " [1, 1, 1, 1, 1, 1, 0, 1, 1, 0, 1, 1],\n",
       " [1, 1, 0, 0, 0, 0, 0, 0, 1, 0, 0, 1],\n",
       " [1, 1, 1, 1, 1, 1, 1, 1, 1, 1, 1, 1]]"
      ]
     },
     "execution_count": 8,
     "metadata": {},
     "output_type": "execute_result"
    }
   ],
   "source": [
    "map_data"
   ]
  },
  {
   "cell_type": "markdown",
   "metadata": {},
   "source": [
    "# 队列实现的迷宫算法"
   ]
  },
  {
   "cell_type": "markdown",
   "metadata": {},
   "source": [
    "基本框架  \n",
    "将start标记为已达  \n",
    "start入队  \n",
    "while 队列里还有未充分探查的位置  \n",
    "&emsp;&emsp;取出一个位置pos  \n",
    "&emsp;&emsp;检查pos的相邻位置  \n",
    "&emsp;&emsp;&emsp;&emsp;遇到end成功结束  \n",
    "&emsp;&emsp;&emsp;&emsp;尚未探查的都mark并入队  \n",
    "队列空，探索失败"
   ]
  },
  {
   "cell_type": "code",
   "execution_count": 17,
   "metadata": {
    "ExecuteTime": {
     "end_time": "2019-11-21T14:11:17.546203Z",
     "start_time": "2019-11-21T14:11:17.514205Z"
    }
   },
   "outputs": [],
   "source": [
    "# 这里是算法实现的\n",
    "from queue import Queue\n",
    "def maze_solver_queue(maze, start, end):\n",
    "    # 特殊情况，开头就是结尾\n",
    "    if start == end:\n",
    "        print(\"开头就是结尾\")\n",
    "        return\n",
    "    qu = Queue()\n",
    "    mark(maze,start)  \n",
    "    qu.put(start) # start位置入队列\n",
    "    right_dict = {}  # 这个是保存路径的字典\n",
    "    while not qu.empty():  # 还有候选位置\n",
    "        pos = qu.get()  # 取出下一个位置\n",
    "        for _next_pos in next_pos(maze,pos):  # 遍历所有点\n",
    "            if possable(maze,_next_pos):  # 判断可行\n",
    "                # 保存路径啦，键为前一步，值为下一步，\n",
    "                if str(pos) not in right_dict:\n",
    "                    right_dict[str(pos)]=[str(_next_pos)]\n",
    "                else:\n",
    "                    right_dict[str(pos)].append(str(_next_pos)) # python的列表用append会直接修改原先的列表，这个方法的返回值是None \n",
    "                if _next_pos == end:  # 是出口\n",
    "                    print(\"找到出口\")\n",
    "                    # 下面就是根据路径字典来返回原先的位置吧\n",
    "                    # 首先将字典拆成键和值\n",
    "                    # 因为我要做多次从值寻找键的过程。\n",
    "                    # 其实这个用一个单独的方法做会比较好吧。\n",
    "                    key_list=[]\n",
    "                    value_list=[]\n",
    "                    for key,value in right_dict.items():  # 遍历字典，并保存相关数据。\n",
    "                        key_list.append(key)\n",
    "                        value_list.append(value)\n",
    "                    _key = str(end)  # 一开始初始化啦。肯定是从最后啦。\n",
    "                    while _key != str(start): # 继续循环条件是如果不是开头，\n",
    "                        # 寻找这个键，如下是根据一个坐标来寻找哪个值里有这个坐标。\n",
    "                        _index = 0 \n",
    "                        while _index < len(right_dict):\n",
    "                            # 遍历字典的值的列表，看看其中那个有这个\n",
    "                            if _key in value_list[_index]:\n",
    "                                break\n",
    "                            _index = _index + 1\n",
    "                        # 到这里表示寻找到了这个坐标，这个坐标在字典的值的列表中，需要为_index \n",
    "                        _key = key_list[_index]\n",
    "                        print(_key)\n",
    "                    break\n",
    "                mark(maze,_next_pos)\n",
    "                qu.put(_next_pos)"
   ]
  },
  {
   "cell_type": "code",
   "execution_count": 18,
   "metadata": {
    "ExecuteTime": {
     "end_time": "2019-11-21T14:11:18.010207Z",
     "start_time": "2019-11-21T14:11:17.994204Z"
    }
   },
   "outputs": [
    {
     "name": "stdout",
     "output_type": "stream",
     "text": [
      "找到出口\n",
      "['[1, 1]', '[1, 2]', '[1, 3]', '[2, 3]', '[3, 3]', '[4, 3]', '[5, 3]', '[4, 4]', '[4, 5]', '[4, 6]', '[3, 6]', '[5, 6]', '[2, 6]', '[6, 6]', '[2, 7]', '[7, 6]', '[2, 8]', '[8, 6]', '[2, 9]', '[8, 5]', '[3, 9]', '[8, 4]', '[4, 9]', '[8, 3]', '[5, 9]', '[6, 9]', '[7, 9]', '[8, 9]']\n",
      "[['[1, 2]'], ['[1, 3]'], ['[2, 3]'], ['[3, 3]'], ['[4, 3]'], ['[5, 3]', '[4, 4]'], ['[6, 3]'], ['[4, 5]'], ['[4, 6]'], ['[3, 6]', '[5, 6]'], ['[2, 6]'], ['[6, 6]'], ['[2, 7]'], ['[7, 6]'], ['[2, 8]'], ['[8, 6]'], ['[2, 9]'], ['[8, 5]', '[8, 7]'], ['[3, 9]'], ['[8, 4]'], ['[4, 9]'], ['[8, 3]'], ['[5, 9]'], ['[8, 2]'], ['[6, 9]'], ['[7, 9]'], ['[8, 9]'], ['[8, 10]']]\n",
      "[8, 9]\n",
      "[7, 9]\n",
      "[6, 9]\n",
      "[5, 9]\n",
      "[4, 9]\n",
      "[3, 9]\n",
      "[2, 9]\n",
      "[2, 8]\n",
      "[2, 7]\n",
      "[2, 6]\n",
      "[3, 6]\n",
      "[4, 6]\n",
      "[4, 5]\n",
      "[4, 4]\n",
      "[4, 3]\n",
      "[3, 3]\n",
      "[2, 3]\n",
      "[1, 3]\n",
      "[1, 2]\n",
      "[1, 1]\n"
     ]
    }
   ],
   "source": [
    "maze_solver_queue(copy.deepcopy(map_data),[1,1],[8,10])"
   ]
  },
  {
   "cell_type": "code",
   "execution_count": null,
   "metadata": {},
   "outputs": [],
   "source": []
  }
 ],
 "metadata": {
  "kernelspec": {
   "display_name": "Python 3",
   "language": "python",
   "name": "python3"
  },
  "toc": {
   "nav_menu": {},
   "number_sections": true,
   "sideBar": true,
   "skip_h1_title": false,
   "title_cell": "Table of Contents",
   "title_sidebar": "Contents",
   "toc_cell": false,
   "toc_position": {
    "height": "calc(100% - 180px)",
    "left": "10px",
    "top": "150px",
    "width": "273.188px"
   },
   "toc_section_display": true,
   "toc_window_display": true
  }
 },
 "nbformat": 4,
 "nbformat_minor": 2
}
