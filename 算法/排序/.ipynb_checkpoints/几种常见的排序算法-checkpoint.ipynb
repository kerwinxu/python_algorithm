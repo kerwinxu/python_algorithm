{
 "cells": [
  {
   "cell_type": "code",
   "execution_count": 1,
   "metadata": {},
   "outputs": [],
   "source": [
    "import random\n",
    "_lst_wait_to_sort = [random.randint(1,1000000) for i in range(1000)]"
   ]
  },
  {
   "cell_type": "markdown",
   "metadata": {},
   "source": [
    "# 插入排序"
   ]
  },
  {
   "cell_type": "markdown",
   "metadata": {},
   "source": [
    "不断的把一个个元素插入到一个序列中，最终得到排序序列。"
   ]
  },
  {
   "cell_type": "code",
   "execution_count": 2,
   "metadata": {},
   "outputs": [],
   "source": [
    "def insert_sort(lst):\n",
    "    \"\"\"插入排序算法，参数为一个列表\"\"\"\n",
    "    # 起始序列为第一位，也是下标为0的，\n",
    "    for i in range(1, len(lst)):\n",
    "        x = lst[i]  # 取得这一项的数据\n",
    "        j = i       # 不断的向前，直到越界或者找到这个需要插入的位置了\n",
    "        while j > 0 and lst[j-1] > x:   # 这个表示lst[j-1]比这个x还大，那么x还要往前移动啦。\n",
    "            lst[j] = lst[j-1]           # 前面的大数后移啦,\n",
    "            j -= 1\n",
    "        lst[j] = x                      # 就是插入到这里啦，这里用赋值的方式\n",
    "        # print(lst)\n",
    "    return lst\n",
    "    \n"
   ]
  },
  {
   "cell_type": "markdown",
   "metadata": {},
   "source": [
    "考虑算法的时间复杂度\n",
    "- 外层循环总是要进行n-1次\n",
    "- 内层循环的次数与实际比较有关，变量j的初始值越来越大，取值从1增加到n-1，内层循环的次数最高为j值，也就是1到n-1\n",
    "\n",
    "基于如上的分析，可以得到算法的关键码的比较次数和元素移动次数。\n",
    "- 关键码的比较次数由内层循环的执行层数决定，\n",
    "   - 最少为n-1次，对应于内层循环体一次都不执行。\n",
    "   - 最多为$n\\times ( n-1) /2$ 次，对应于j每次都到0的地步。\n",
    "- 记录移动的次数，包括内层循环外边的两次和循环中的，\n",
    "   - 最少是$2\\times(n-1)$次，\n",
    "   - 最多为 $2\\times(n-1)+n\\times(n-1)/2$ 次\n",
    "\n",
    "也就是说，最坏情况下，算法的复杂度为$O(n^2)$,如果原序列有序，只需要 $O(n)$的时间"
   ]
  },
  {
   "cell_type": "markdown",
   "metadata": {},
   "source": [
    "# 选择排序"
   ]
  },
  {
   "cell_type": "markdown",
   "metadata": {},
   "source": [
    "基本思想：\n",
    "- 维护需要考虑的所有记录中最小的i个记录的已排序序列。\n",
    "- 每次从剩余的未排序的序列中选取关键码最小的记录，将其放在已排序记录的后边。作为序列的第i+1项记录。\n",
    "- 以空序列作为排序工作的开始，做到尚未排序的序列里只剩下一个元素时（它必然是最大的）。\n",
    "\n",
    "但这里有一个问题，并没有写如何腾出已排序字段的那个位置。"
   ]
  },
  {
   "cell_type": "markdown",
   "metadata": {},
   "source": [
    "## 直接选择排序算法"
   ]
  },
  {
   "cell_type": "markdown",
   "metadata": {},
   "source": [
    "简单的交换这里的元素与已排序段选出的最小元素。"
   ]
  },
  {
   "cell_type": "code",
   "execution_count": 3,
   "metadata": {},
   "outputs": [],
   "source": [
    "def select_sort(lst):\n",
    "    \"\"\"直接选择排序\"\"\"\n",
    "    for i in range(len(lst)-1):       # 最后一位不用移动\n",
    "        k = i                         # 记录最小一项的下标\n",
    "        for j in range(i, len(lst)):  # 从这一位到结尾，包括最后一位\n",
    "            if lst[j] < lst[k]:       # 寻找最小项\n",
    "                k = j                 # 记录这个\n",
    "        if i != k:                          # 判断是否需要交换。\n",
    "            lst[i], lst[k] = lst[k], lst[i] # 移动啦\n",
    "        # print(lst)   \n",
    "    return lst"
   ]
  },
  {
   "cell_type": "markdown",
   "metadata": {},
   "source": [
    "可以看到这个算法的比较次数与被排序表的初始状态无关，两个for循环总是按照固定的方式循环那么多次，比较的次数总数 $$1+2+\\cdots +(n-1) = n\\times (n-1)/2$$ ，记录的移动情况则依赖于具体的情况，如果每次k都等于i，就不用移动啦，最差的情况是每次都交换。上边的算法有一个并行赋值，可以认为移动次数为 2*(n-1) ,  \n",
    "这个算法非常稳定，平均和最差的时间复杂度都是 $O(n^2)$ ,这个算法没有适应性。"
   ]
  },
  {
   "cell_type": "markdown",
   "metadata": {},
   "source": [
    "## 堆排序算法"
   ]
  },
  {
   "cell_type": "markdown",
   "metadata": {},
   "source": [
    "堆排序是一种高效的选择排序，高效的主要原因是堆里累计了前面所作的比较中的信息。  \n",
    "堆排序也是选择排序，是从堆中选择一个最大或者最小的，然后插入到已排序序列。"
   ]
  },
  {
   "cell_type": "markdown",
   "metadata": {
    "toc-hr-collapsed": false
   },
   "source": [
    "# 交换排序"
   ]
  },
  {
   "cell_type": "markdown",
   "metadata": {},
   "source": [
    "思想： 一个序列中的记录没排好序，那么其中一定有逆序的存在，如果交换所发现的逆序对，得到的序列将更接近排序序列，通过不断的减少序列中的逆序，最终可以得到排序序列。"
   ]
  },
  {
   "cell_type": "markdown",
   "metadata": {},
   "source": [
    "## 冒泡排序"
   ]
  },
  {
   "cell_type": "code",
   "execution_count": 4,
   "metadata": {},
   "outputs": [],
   "source": [
    "def bubble_sort(lst):\n",
    "    for i in range(len(lst)):\n",
    "        found = False    # 用这个来判断是否已经拍好序了吧。\n",
    "        for j in range(1, len(lst)-i):\n",
    "            if lst[j-1] > lst[j]:\n",
    "                lst[j-1],lst[j] = lst[j],lst[j-1]\n",
    "                found = True\n",
    "        if not found:\n",
    "            return lst   # 如果已经拍好序了，就直接退出吧\n",
    "    return lst\n",
    "                "
   ]
  },
  {
   "cell_type": "markdown",
   "metadata": {},
   "source": [
    "# 快速排序"
   ]
  },
  {
   "cell_type": "markdown",
   "metadata": {},
   "source": [
    "就是把表分成大小两组，显然，从整体的角度看，这两组的排序已定。然后递归分。。"
   ]
  },
  {
   "cell_type": "code",
   "execution_count": 5,
   "metadata": {},
   "outputs": [],
   "source": [
    "# 这里在原先的表上处理，并且用最简单的方式划分，取序列的第一个记录，作为划分标准，\n",
    "# 划分完成后，中间留下一个空位，就是这个啦。\n",
    "def quick_sort(lst):\n",
    "    \"\"\"快速排序\"\"\"\n",
    "    def qsort_rec(lst,l, r):\n",
    "        if l >= r:\n",
    "            return   # 分段无记录或者只有一个记录\n",
    "        i = l\n",
    "        j = r\n",
    "        pivot = lst[i]  # 初始空位\n",
    "        while i < j:\n",
    "            while i < j and lst[j] >= pivot:\n",
    "                j -= 1   # 用j向左扫描找小于pivot的记录\n",
    "            if i< j:\n",
    "                lst[i] = lst[j]\n",
    "                i += 1   # 小记录放在左边\n",
    "            while i < j and lst[i] <= pivot:\n",
    "                i += 1   # 用i向右扫描找小于pivot的记录\n",
    "            if i < j:\n",
    "                lst[j] = lst[i]\n",
    "                j -= 1   # 大记录移动到右边\n",
    "        lst[i] = pivot   # 这个就是分隔啦\n",
    "        qsort_rec(lst, l, i-1)  # 递归处理左半区间\n",
    "        qsort_rec(lst, i+1,r)   # 递归处理右半区间\n",
    "    qsort_rec(lst,0,len(lst)-1)\n",
    "    return lst"
   ]
  },
  {
   "cell_type": "code",
   "execution_count": 6,
   "metadata": {},
   "outputs": [
    {
     "name": "stdout",
     "output_type": "stream",
     "text": [
      "Wall time: 1.99 ms\n"
     ]
    }
   ],
   "source": [
    "%time a= quick_sort(_lst_wait_to_sort[:]) \n",
    "# 这个可能是递归耗时吧。"
   ]
  },
  {
   "cell_type": "code",
   "execution_count": 7,
   "metadata": {},
   "outputs": [],
   "source": [
    "def quick_sort_2(lst):\n",
    "    \"\"\"另一种快速排序方法\"\"\"\n",
    "    def qsort_rec(lst,begin, end):\n",
    "        if begin > end:\n",
    "            return\n",
    "        pivot = lst[begin]\n",
    "        i = begin\n",
    "        for j in range(begin+1, end+1):\n",
    "            if lst[j] < pivot:                    # 发现小元素\n",
    "                i += 1            \n",
    "                lst[i], lst[j] = lst[j] , lst[i]  # 换位\n",
    "        lst[begin], lst[i] = lst[i], lst[begin]\n",
    "        qsort_rec(lst,begin, i-1)\n",
    "        qsort_rec(lst,i+1, end)\n",
    "    qsort_rec(lst,0, len(lst)-1)      \n",
    "    return lst\n",
    "    "
   ]
  },
  {
   "cell_type": "code",
   "execution_count": 8,
   "metadata": {},
   "outputs": [
    {
     "name": "stdout",
     "output_type": "stream",
     "text": [
      "Wall time: 3 ms\n"
     ]
    }
   ],
   "source": [
    "%time a= quick_sort_2(_lst_wait_to_sort[:]) "
   ]
  },
  {
   "cell_type": "code",
   "execution_count": 9,
   "metadata": {},
   "outputs": [],
   "source": [
    "def quick_sort_3(lst: list):\n",
    "    \"\"\"完全递归的快速排序，开销会比较大啊。\"\"\"\n",
    "    # 判断这个长度啦，\n",
    "    if len(lst) >= 2:\n",
    "        # 中间位置的数，不一定是大小中间的数\n",
    "        mid = lst[len(lst) // 2]\n",
    "        # 左右两边\n",
    "        right = []\n",
    "        left = []\n",
    "        # 首先排除这个数啦\n",
    "        lst.remove(mid)\n",
    "        # 遍历这个列表\n",
    "        for _i in lst:\n",
    "            # 如果小于，就放在左边，这里假设左边的小。\n",
    "            if _i < mid:\n",
    "                left.append(_i)\n",
    "            else:\n",
    "                right.append(_i)\n",
    "        # 返回值是\n",
    "        return quick_sort_3(left) + [mid] + quick_sort_3(right)\n",
    "    elif len(lst) == 2:\n",
    "        # 如果有2个数，就判断是否需要交换位置。\n",
    "        if lst[0] > lst[1]:\n",
    "            return [lst[1], lst[0]]\n",
    "        pass\n",
    "    else:\n",
    "        return lst"
   ]
  },
  {
   "cell_type": "code",
   "execution_count": 10,
   "metadata": {},
   "outputs": [
    {
     "name": "stdout",
     "output_type": "stream",
     "text": [
      "Wall time: 2 ms\n"
     ]
    }
   ],
   "source": [
    "%time a= quick_sort_3(_lst_wait_to_sort[:]) "
   ]
  },
  {
   "cell_type": "markdown",
   "metadata": {},
   "source": [
    "如果用c语言的，但这个是python，看起来这个最后的是最省时间的，但是，这个开销会非常大。"
   ]
  },
  {
   "cell_type": "markdown",
   "metadata": {},
   "source": [
    "# 归并排序"
   ]
  },
  {
   "cell_type": "markdown",
   "metadata": {},
   "source": [
    "基本操作：\n",
    "- 初始时，把待排序序列中的n个记录看成n个有序子序列（一个记录的序列总是排好序的）。\n",
    "- 把当时序列组里的有序序列两两合并，完成一遍后序列组里的排序序列个数减半，每个子序列的长度加倍。\n",
    "- 对加长的有序子序列重复上边的操作，最终得到一个长度为n的有序序列"
   ]
  },
  {
   "cell_type": "markdown",
   "metadata": {},
   "source": [
    "## 顺序表的归并排序"
   ]
  },
  {
   "cell_type": "markdown",
   "metadata": {},
   "source": [
    "归并排序函数的层次\n",
    "- 最下层： 实现表中相邻一对有序序列的归并工作，将归并的结果存入另一个顺序表里的相同位置。\n",
    "- 中间层： 基于操作1（一对序列的归并操作），实现对整个表里顺序各对有序序列的归并，完成一遍归并，各对序列的归并结果存入另一个顺序表的同位置分段。\n",
    "- 最高层： 在两个顺序表之间往复执行操作2，完成一遍归并后交换两个表的地位，然后重复执行操作2的工作，直至整个表里只有一个有序序列时排序完成。\n",
    "\n",
    "由于被排序表一般不是2的次幂，因此需要特别考虑表最后的不规则情况。"
   ]
  },
  {
   "cell_type": "code",
   "execution_count": 11,
   "metadata": {},
   "outputs": [],
   "source": [
    "# 现在考虑最底层的归并函数\n",
    "def merge(lfrom, lto, low, mid, high):\n",
    "    \"\"\"\n",
    "    归并函数，\n",
    "        参数：\n",
    "            lfrom : 被归并的有序段\n",
    "            lto   : 归并结果存入这个表对应段中\n",
    "            low   : 分段的范围,有序字段 lfrom[low, mid]\n",
    "            mid   ; 两个分段是相连的，这个是中间的分隔\n",
    "            high  : 分段的范围,lfrom[mid, high]\n",
    "        结果放在 lto[low, high] 中。\n",
    "    \"\"\"\n",
    "    i, j, k = low, mid, low\n",
    "    while i < mid and j < high:  # 反复复制两分段首记录中较小的\n",
    "        if lfrom[i] < lfrom[j]:\n",
    "            lto[k] = lfrom[i]\n",
    "            i += 1\n",
    "        else:\n",
    "            lto[k] = lfrom[j]\n",
    "            j += 1\n",
    "        k += 1\n",
    "    # 上边的循环结束后，两个分段会只有一个有记录了\n",
    "    while i < mid:\n",
    "        lto[k] =lfrom[i]\n",
    "        i += 1\n",
    "        k += 1\n",
    "    while j < high:\n",
    "        lto[k] =lfrom[j]\n",
    "        j += 1\n",
    "        k += 1  \n",
    "\n",
    "def merge_pass(lfrom, lto, llen, slen):\n",
    "    \"\"\"实现一对对分段的一遍归并\n",
    "        参数：\n",
    "            llen : 表长度\n",
    "            slen : 分段长度\"\"\"\n",
    "    i = 0\n",
    "    while  i + 2*slen < llen:     # 归并长slen的两段\n",
    "        merge(lfrom, lto, i, i+slen, i+2*slen)\n",
    "        i += 2*slen\n",
    "    if i + slen < llen:           # 剩下两段\n",
    "        merge(lfrom, lto, i, i+slen, llen)\n",
    "    else:\n",
    "        for j in range(i, llen):  # 这个表示只余下一段了。\n",
    "            lto[j] = lfrom[j]\n",
    "\n",
    "def merge_sort(lst):\n",
    "    \"\"\"这个是主函数\"\"\"\n",
    "    slen, llen = 1, len(lst)   # 起始的每对序列的长度和最终的长度\n",
    "    temp_lst = [None]* llen\n",
    "    while slen < llen:\n",
    "        merge_pass(lst, temp_lst, llen, slen)  # 不断的循环。\n",
    "        slen *= 2\n",
    "        merge_pass(temp_lst, lst, llen, slen)  # \n",
    "        slen *= 2\n",
    "    return lst\n"
   ]
  },
  {
   "cell_type": "code",
   "execution_count": 12,
   "metadata": {},
   "outputs": [
    {
     "name": "stdout",
     "output_type": "stream",
     "text": [
      "Wall time: 3 ms\n"
     ]
    }
   ],
   "source": [
    "%time a= merge_sort(_lst_wait_to_sort[:]) "
   ]
  },
  {
   "cell_type": "markdown",
   "metadata": {},
   "source": [
    "# 几个排序算法比较"
   ]
  },
  {
   "cell_type": "code",
   "execution_count": 13,
   "metadata": {},
   "outputs": [
    {
     "name": "stdout",
     "output_type": "stream",
     "text": [
      "插入排序算法\n",
      "95.7 ms ± 16.1 ms per loop (mean ± std. dev. of 7 runs, 10 loops each)\n",
      "直接选择排序算法\n",
      "63.9 ms ± 15.9 ms per loop (mean ± std. dev. of 7 runs, 10 loops each)\n",
      "冒泡排序算法\n",
      "151 ms ± 21.4 ms per loop (mean ± std. dev. of 7 runs, 10 loops each)\n",
      "快速排序算法1\n",
      "3.09 ms ± 435 µs per loop (mean ± std. dev. of 7 runs, 100 loops each)\n",
      "快速排序算法2\n",
      "4.49 ms ± 1.2 ms per loop (mean ± std. dev. of 7 runs, 100 loops each)\n",
      "快速排序算法3\n",
      "2.94 ms ± 403 µs per loop (mean ± std. dev. of 7 runs, 100 loops each)\n",
      "顺序表归并排序算法\n",
      "4.73 ms ± 1.17 ms per loop (mean ± std. dev. of 7 runs, 100 loops each)\n"
     ]
    }
   ],
   "source": [
    "print(\"插入排序算法\")\n",
    "%timeit insert_sort(_lst_wait_to_sort[:])\n",
    "print(\"直接选择排序算法\")\n",
    "%timeit select_sort(_lst_wait_to_sort[:])\n",
    "print(\"冒泡排序算法\")\n",
    "%timeit bubble_sort(_lst_wait_to_sort[:])\n",
    "print(\"快速排序算法1\")\n",
    "%timeit quick_sort(_lst_wait_to_sort[:])\n",
    "print(\"快速排序算法2\")\n",
    "%timeit quick_sort_2(_lst_wait_to_sort[:])\n",
    "print(\"快速排序算法3\")\n",
    "%timeit quick_sort_3(_lst_wait_to_sort[:])\n",
    "print(\"顺序表归并排序算法\")\n",
    "%timeit merge_sort(_lst_wait_to_sort[:])\n"
   ]
  },
  {
   "cell_type": "markdown",
   "metadata": {},
   "source": [
    "![常用排序的时间复杂度](./常用排序的时间复杂度.png)"
   ]
  },
  {
   "cell_type": "code",
   "execution_count": null,
   "metadata": {},
   "outputs": [],
   "source": []
  }
 ],
 "metadata": {
  "kernelspec": {
   "display_name": "Python 3",
   "language": "python",
   "name": "python3"
  },
  "language_info": {
   "codemirror_mode": {
    "name": "ipython",
    "version": 3
   },
   "file_extension": ".py",
   "mimetype": "text/x-python",
   "name": "python",
   "nbconvert_exporter": "python",
   "pygments_lexer": "ipython3",
   "version": "3.7.4"
  }
 },
 "nbformat": 4,
 "nbformat_minor": 4
}
