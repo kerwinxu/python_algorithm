{
 "cells": [
  {
   "cell_type": "markdown",
   "metadata": {
    "toc-hr-collapsed": true
   },
   "source": [
    "# 前言  "
   ]
  },
  {
   "cell_type": "markdown",
   "metadata": {},
   "source": [
    "树形结构也是由结点（结构中的逻辑单元，可用于保存数据）和结点之间的连接构成。  \n",
    "- 一个结构如果不为空，其中就存在者唯一的起始节点，称为树根（root）  \n",
    "- 按结构的连接关系，树根外的其他结点都有且只有一个前驱，但另一方面，一个结点有0个或者多个后继，  \n",
    "- 结构中的所有结点都在树结点通过后继关系可达的结点集合里，换句话说，从树根结点出发，经过若干次后继关系可以到达结构的任何一个结点。  \n",
    "- 结点之间的关系不会形成循环，这也说明，结点之间的关系形成了一种序，  \n",
    "- 从这种结构里任意两个不同的结点出发，通过后继关系可达的两个结点集合，或者互不相交，或者一个集合是另一个结合的子集。  \n",
    "\n",
    "树形结构里的结点形成了一种层次结构，可以用于表达各种常见的层次性关系"
   ]
  },
  {
   "cell_type": "markdown",
   "metadata": {
    "toc-hr-collapsed": false
   },
   "source": [
    "# 二叉树：概念和性质"
   ]
  },
  {
   "cell_type": "markdown",
   "metadata": {},
   "source": [
    "二叉树是一种最简单的树形结构，其特点是树中每个结点至多关联到两个后继结点，也就是说，一个结点的后续关联结点可以为0、1和2.另一个特点是一个结点关联的后继结点明确的区分左右，或为其左关联结点，或为其右关联结点。"
   ]
  },
  {
   "cell_type": "markdown",
   "metadata": {
    "toc-hr-collapsed": true
   },
   "source": [
    "## 二叉树的定义"
   ]
  },
  {
   "cell_type": "markdown",
   "metadata": {},
   "source": [
    "**二叉树是结点的有穷集合，这个集合或者为空集，或者其中有一个被称为根节点的特殊结点，其余结点分属两颗不同的二叉树，而两颗二叉树分别为原二叉树的左子树和右子树**  \n",
    "显然二叉树的定义是一个递归的定义，所定义的二叉树是一种递归的结构。  \n",
    "父结点到子结点的线称为父节点到子节点的边，注意，这种边是有方向的。  \n",
    "叶子是一个节点没有子节点。  \n",
    "一个节点的子节点的个数称为该节点的度。  \n",
    "根据定义，一颗二叉树只有5种可能的形态  \n",
    "- 空二叉树\n",
    "- 单点树 ： 只有一个根节点  \n",
    "- 只有根节点和左子树  \n",
    "- 只有根节点和右子树  \n",
    "- 两颗子树齐全 "
   ]
  },
  {
   "cell_type": "markdown",
   "metadata": {},
   "source": [
    "### 路径，结点的层和树的高度"
   ]
  },
  {
   "cell_type": "markdown",
   "metadata": {},
   "source": [
    "从一颗二叉树的根节点到该树的任一结点都有路径，且是唯一的  \n",
    "二叉树是一种层次结构，将树根看成最高层，其子节点看作下一层元素，规定二叉树根的层数为0，对于k层元素，其子节点是k+1层元素，如此下去，二叉树的所有结点都可以按照这层关系分成一层层的元素，显而易见的是，从根节点到树中任一结点的路径长度就是该节点所在的层数。  \n",
    "树的高度就是树中结点的最大层数  "
   ]
  },
  {
   "cell_type": "markdown",
   "metadata": {
    "toc-hr-collapsed": true
   },
   "source": [
    "## 二叉树的性质"
   ]
  },
  {
   "cell_type": "markdown",
   "metadata": {},
   "source": [
    "性质  在非空二叉树第 $i$ 层中至多有 $2^i$ 个结点 $( i \\ge 0)$"
   ]
  },
  {
   "cell_type": "markdown",
   "metadata": {},
   "source": [
    "性质  高度为$h$的二叉树至多有  $2^{k+1}-1$ 个结点 $(h \\ge 0)$"
   ]
  },
  {
   "cell_type": "markdown",
   "metadata": {},
   "source": [
    "性质  对于任何非空二叉树T ，如果其叶节点的个数为 $n_0$ , 度为2的结点个数为 $n_2$,那么 $n_0=n_2+1$"
   ]
  },
  {
   "cell_type": "markdown",
   "metadata": {
    "ExecuteTime": {
     "end_time": "2019-11-23T14:14:10.891637Z",
     "start_time": "2019-11-23T14:14:10.869638Z"
    }
   },
   "source": [
    "性质 满二叉树里的叶子结点比分支结点多一个 。由于满二叉树都是度为2的结点，用如上的证明。"
   ]
  },
  {
   "cell_type": "markdown",
   "metadata": {},
   "source": [
    "**扩充二叉树**：对二叉树T，加入足够多的新叶结点，使T的原有结点都变成度为2的分支结点，得到的二叉树称为T的扩充二叉树，扩充二叉树中新增的结点称之为外部结点，原树T的结点称之为内部节点。空树的扩充二叉树规定为空树。"
   ]
  },
  {
   "cell_type": "markdown",
   "metadata": {},
   "source": [
    "性质 （扩充二叉树的内部和外部路径长度）扩充二叉树的外部路径长度E是从树根到树中各外部节点的路径长度之和，内部路径长度I是从树根到树中各内部结点的路径之和，如果该树有n个内部结点， 那么 E=I+2*n "
   ]
  },
  {
   "cell_type": "markdown",
   "metadata": {},
   "source": [
    "**完全二叉树** 对于一颗高度为h的二叉树，如果第0层至 h-1 层的结点都满（也就是说，对所有  $0 \\le i \\le h-1 ，第i层就有2^i$个结点。，如果下一层不满，则所有结点在最左边的连续排列，空位都在后边，这样的二叉树就是一个完全二叉树。"
   ]
  },
  {
   "cell_type": "markdown",
   "metadata": {},
   "source": [
    "性质 n个结点的完全二叉树高度 $h=|log_2 n| $，即为不大于 $log_2 n$的最大整数"
   ]
  },
  {
   "cell_type": "markdown",
   "metadata": {},
   "source": [
    "性质 （完全二叉树）如果n个结点的完全二叉树的结点按层次并按照从左到右的顺序从0开始编号，对于任一个结点 $i (0 \\le i \\le n-1）$ 都有  \n",
    "- 序号为0的结点为根  \n",
    "- 对于 $ i > 0 $ ，其父节点的编号为 $(i-1)/2$  \n",
    "- 若 $2 \\times i + 1 < n $ ,其左子节点序号 $2 \\times i + 1 $,否则他无左子节点  \n",
    "- 若 $2 \\times i + 2 < n $ ,其左子节点序号 $2 \\times i + 2 $,否则他无左子节点  \n",
    "\n",
    "这个好像可以应用在堆排序"
   ]
  },
  {
   "cell_type": "markdown",
   "metadata": {
    "toc-hr-collapsed": true
   },
   "source": [
    "## 抽象数据类型"
   ]
  },
  {
   "cell_type": "markdown",
   "metadata": {},
   "source": [
    "首先，结点是二叉树的基础，通常用于保存和应用有关的信息。此外作为二叉树的表示还需要记录二叉树的结构信息，只能能够保证检查结点的父子关系。"
   ]
  },
  {
   "cell_type": "markdown",
   "metadata": {},
   "source": [
    "ADT BinTree： #二叉树构造抽象 \n",
    "- BinTree(self,data,left,right) # 构造操作\n",
    "- is_emtpy(self)\n",
    "- num_nodes(self)  # 求二叉树的结点个数\n",
    "- data(self)  # 保存的数据啦\n",
    "- left(self)  # 左子树\n",
    "- right(self) # 右子树\n",
    "- set_left(self,btree)  # 这两个，我想添加到属性操作中\n",
    "- set_right(self,btree) \n",
    "- traversal(self) # 遍历各结点数据的迭代器\n",
    "- forall(self,op) # 对二叉树的每个结点的数据执行操作op\n",
    "\n"
   ]
  },
  {
   "cell_type": "markdown",
   "metadata": {
    "toc-hr-collapsed": false
   },
   "source": [
    "## 二叉树的遍历"
   ]
  },
  {
   "cell_type": "markdown",
   "metadata": {
    "toc-hr-collapsed": false
   },
   "source": [
    "### 深度优先遍历"
   ]
  },
  {
   "cell_type": "markdown",
   "metadata": {},
   "source": [
    "按深度优先遍历二叉树，需要做3件事情，遍历左子树L，遍历右子树R和访问根节点D。  \n",
    "这三项的不同执行顺序，就可以得到3种常见遍历顺序 \n",
    "- 先根序遍历 (DLR) ，  得到的结点序列称为先根序列\n",
    "- 中根序遍历 (LDR) ， 得到的结点序列称为中根序列\n",
    "- 后根序遍历 (LRD) ， 得到的结点序列称为后根序列\n"
   ]
  },
  {
   "cell_type": "markdown",
   "metadata": {},
   "source": [
    "#### 深度优先遍历的简单实现"
   ]
  },
  {
   "cell_type": "code",
   "execution_count": 2,
   "metadata": {},
   "outputs": [],
   "source": [
    "class SStack:\n",
    "    \"\"\"我做的一个简单的堆栈\"\"\"\n",
    "    def __init__(self):\n",
    "        self._stack = []\n",
    "    def is_empty(self):\n",
    "        return len(self._stack)==0\n",
    "    def push(self, data):\n",
    "        self._stack.append(data)\n",
    "    def pop(self):\n",
    "        return self._stack.pop(-1)\n",
    "    def top(self):\n",
    "        \"\"\"只是只是获取栈顶元素，不弹出\"\"\"\n",
    "        return self._stack[-1]"
   ]
  },
  {
   "cell_type": "code",
   "execution_count": 3,
   "metadata": {
    "ExecuteTime": {
     "end_time": "2019-11-29T14:21:33.487944Z",
     "start_time": "2019-11-29T14:21:33.470956Z"
    }
   },
   "outputs": [
    {
     "name": "stdout",
     "output_type": "stream",
     "text": [
      "A\n",
      "B\n",
      "J\n",
      "K\n",
      "C\n",
      "D\n",
      "F\n",
      "G\n",
      "E\n",
      "I\n",
      "H\n"
     ]
    }
   ],
   "source": [
    "\n",
    "class BinTree():\n",
    "    def __init__(self,data,left =None,right =None):\n",
    "        self.data=data\n",
    "        self.left=left\n",
    "        self.right=right\n",
    "    def traversal(self):\n",
    "        \"\"\"这个实现遍历二叉树，这里用一个先根序，不同的根序只是颠倒一下顺序而已。\"\"\"\n",
    "        # 我用yield来实现返回，这个做一个迭代器吧\n",
    "        #  先返回根\n",
    "        yield self.data\n",
    "        # 然后遍历左子树\n",
    "        if self.left is not None:\n",
    "            for  i in self.left.traversal():\n",
    "                yield i\n",
    "        # 最后遍历右子树\n",
    "        if self.right is not None:\n",
    "            for i in self.right.traversal():\n",
    "                yield i\n",
    "    def __str__(self):\n",
    "        \"\"\"这个方便的查看数据的。\"\"\"\n",
    "        return \"data:{0}\".format(self.data)\n",
    "\n",
    "# 教程上用的是如下的方法\n",
    "def preorder(t:BinTree, proc):\n",
    "    \"\"\"这个是教程上的方法，一个参数是结点，另一个是函数，但这个方法有个问题\"\"\"\n",
    "    # 首先判断是否有值啦\n",
    "    if self is None:\n",
    "        return\n",
    "    proc(t.data)  # 处理这个结点的数据\n",
    "    preorder(t.left)  # 递归到左子结点\n",
    "    preorder(t.right)  # 递归到右子节点\n",
    "    \n",
    "\n",
    "tree_F = BinTree(\"F\")\n",
    "tree_G = BinTree(\"G\")\n",
    "tree_I = BinTree(\"I\")\n",
    "tree_H = BinTree(\"H\")\n",
    "tree_J = BinTree(\"J\")\n",
    "tree_K = BinTree(\"K\")\n",
    "tree_D = BinTree(\"D\", tree_F, tree_G)\n",
    "tree_E = BinTree(\"E\", tree_I, tree_H)\n",
    "tree_C = BinTree(\"C\", tree_D, tree_E)\n",
    "tree_B = BinTree(\"B\", tree_J, tree_K)\n",
    "tree_A = BinTree(\"A\", tree_B, tree_C)\n",
    "for i in tree_A.traversal():\n",
    "    print(i)"
   ]
  },
  {
   "cell_type": "markdown",
   "metadata": {},
   "source": [
    "####  用Graphivz来绘制二叉树"
   ]
  },
  {
   "cell_type": "code",
   "execution_count": 4,
   "metadata": {},
   "outputs": [
    {
     "data": {
      "image/svg+xml": [
       "<?xml version=\"1.0\" encoding=\"UTF-8\" standalone=\"no\"?>\r\n",
       "<!DOCTYPE svg PUBLIC \"-//W3C//DTD SVG 1.1//EN\"\r\n",
       " \"http://www.w3.org/Graphics/SVG/1.1/DTD/svg11.dtd\">\r\n",
       "<!-- Generated by graphviz version 2.38.0 (20140413.2041)\r\n",
       " -->\r\n",
       "<!-- Title: 测试图片 Pages: 1 -->\r\n",
       "<svg width=\"62pt\" height=\"116pt\"\r\n",
       " viewBox=\"0.00 0.00 62.00 116.00\" xmlns=\"http://www.w3.org/2000/svg\" xmlns:xlink=\"http://www.w3.org/1999/xlink\">\r\n",
       "<g id=\"graph0\" class=\"graph\" transform=\"scale(1 1) rotate(0) translate(4 112)\">\r\n",
       "<title>测试图片</title>\r\n",
       "<polygon fill=\"white\" stroke=\"none\" points=\"-4,4 -4,-112 58,-112 58,4 -4,4\"/>\r\n",
       "<!-- a -->\r\n",
       "<g id=\"node1\" class=\"node\"><title>a</title>\r\n",
       "<ellipse fill=\"none\" stroke=\"red\" cx=\"27\" cy=\"-90\" rx=\"27\" ry=\"18\"/>\r\n",
       "<text text-anchor=\"middle\" x=\"27\" y=\"-86.3\" font-family=\"Times New Roman,serif\" font-size=\"14.00\">a</text>\r\n",
       "</g>\r\n",
       "<!-- b -->\r\n",
       "<g id=\"node2\" class=\"node\"><title>b</title>\r\n",
       "<ellipse fill=\"none\" stroke=\"blue\" cx=\"27\" cy=\"-18\" rx=\"27\" ry=\"18\"/>\r\n",
       "<text text-anchor=\"middle\" x=\"27\" y=\"-14.3\" font-family=\"Times New Roman,serif\" font-size=\"14.00\">b</text>\r\n",
       "</g>\r\n",
       "<!-- a&#45;&#45;b -->\r\n",
       "<g id=\"edge1\" class=\"edge\"><title>a&#45;&#45;b</title>\r\n",
       "<path fill=\"none\" stroke=\"green\" d=\"M27,-71.6966C27,-60.8463 27,-46.9167 27,-36.1043\"/>\r\n",
       "</g>\r\n",
       "</g>\r\n",
       "</svg>\r\n"
      ],
      "text/plain": [
       "<graphviz.dot.Graph at 0x1d850b26708>"
      ]
     },
     "execution_count": 4,
     "metadata": {},
     "output_type": "execute_result"
    }
   ],
   "source": [
    "from graphviz import Graph\n",
    "\n",
    "g = Graph('测试图片')\n",
    "g.node(name='a',color='red')\n",
    "g.node(name='b',color='blue')\n",
    "g.edge('a','b',color='green')\n",
    "g\n"
   ]
  },
  {
   "cell_type": "code",
   "execution_count": 5,
   "metadata": {},
   "outputs": [
    {
     "data": {
      "image/svg+xml": [
       "<?xml version=\"1.0\" encoding=\"UTF-8\" standalone=\"no\"?>\r\n",
       "<!DOCTYPE svg PUBLIC \"-//W3C//DTD SVG 1.1//EN\"\r\n",
       " \"http://www.w3.org/Graphics/SVG/1.1/DTD/svg11.dtd\">\r\n",
       "<!-- Generated by graphviz version 2.38.0 (20140413.2041)\r\n",
       " -->\r\n",
       "<!-- Title: 二叉树 Pages: 1 -->\r\n",
       "<svg width=\"350pt\" height=\"260pt\"\r\n",
       " viewBox=\"0.00 0.00 350.00 260.00\" xmlns=\"http://www.w3.org/2000/svg\" xmlns:xlink=\"http://www.w3.org/1999/xlink\">\r\n",
       "<g id=\"graph0\" class=\"graph\" transform=\"scale(1 1) rotate(0) translate(4 256)\">\r\n",
       "<title>二叉树</title>\r\n",
       "<polygon fill=\"white\" stroke=\"none\" points=\"-4,4 -4,-256 346,-256 346,4 -4,4\"/>\r\n",
       "<!-- 0 -->\r\n",
       "<g id=\"node1\" class=\"node\"><title>0</title>\r\n",
       "<ellipse fill=\"none\" stroke=\"black\" cx=\"135\" cy=\"-234\" rx=\"27\" ry=\"18\"/>\r\n",
       "<text text-anchor=\"middle\" x=\"135\" y=\"-230.3\" font-family=\"Times New Roman,serif\" font-size=\"14.00\">A</text>\r\n",
       "</g>\r\n",
       "<!-- 1 -->\r\n",
       "<g id=\"node2\" class=\"node\"><title>1</title>\r\n",
       "<ellipse fill=\"none\" stroke=\"black\" cx=\"99\" cy=\"-162\" rx=\"27\" ry=\"18\"/>\r\n",
       "<text text-anchor=\"middle\" x=\"99\" y=\"-158.3\" font-family=\"Times New Roman,serif\" font-size=\"14.00\">B</text>\r\n",
       "</g>\r\n",
       "<!-- 0&#45;&#45;1 -->\r\n",
       "<g id=\"edge1\" class=\"edge\"><title>0&#45;&#45;1</title>\r\n",
       "<path fill=\"none\" stroke=\"black\" d=\"M126.65,-216.765C120.835,-205.456 113.11,-190.437 107.304,-179.147\"/>\r\n",
       "</g>\r\n",
       "<!-- 2 -->\r\n",
       "<g id=\"node5\" class=\"node\"><title>2</title>\r\n",
       "<ellipse fill=\"none\" stroke=\"black\" cx=\"171\" cy=\"-162\" rx=\"27\" ry=\"18\"/>\r\n",
       "<text text-anchor=\"middle\" x=\"171\" y=\"-158.3\" font-family=\"Times New Roman,serif\" font-size=\"14.00\">C</text>\r\n",
       "</g>\r\n",
       "<!-- 0&#45;&#45;2 -->\r\n",
       "<g id=\"edge4\" class=\"edge\"><title>0&#45;&#45;2</title>\r\n",
       "<path fill=\"none\" stroke=\"black\" d=\"M143.35,-216.765C149.165,-205.456 156.89,-190.437 162.696,-179.147\"/>\r\n",
       "</g>\r\n",
       "<!-- 3 -->\r\n",
       "<g id=\"node3\" class=\"node\"><title>3</title>\r\n",
       "<ellipse fill=\"none\" stroke=\"black\" cx=\"27\" cy=\"-90\" rx=\"27\" ry=\"18\"/>\r\n",
       "<text text-anchor=\"middle\" x=\"27\" y=\"-86.3\" font-family=\"Times New Roman,serif\" font-size=\"14.00\">J</text>\r\n",
       "</g>\r\n",
       "<!-- 1&#45;&#45;3 -->\r\n",
       "<g id=\"edge2\" class=\"edge\"><title>1&#45;&#45;3</title>\r\n",
       "<path fill=\"none\" stroke=\"black\" d=\"M84.4297,-146.834C72.0202,-134.77 54.2694,-117.512 41.7957,-105.385\"/>\r\n",
       "</g>\r\n",
       "<!-- 4 -->\r\n",
       "<g id=\"node4\" class=\"node\"><title>4</title>\r\n",
       "<ellipse fill=\"none\" stroke=\"black\" cx=\"99\" cy=\"-90\" rx=\"27\" ry=\"18\"/>\r\n",
       "<text text-anchor=\"middle\" x=\"99\" y=\"-86.3\" font-family=\"Times New Roman,serif\" font-size=\"14.00\">K</text>\r\n",
       "</g>\r\n",
       "<!-- 1&#45;&#45;4 -->\r\n",
       "<g id=\"edge3\" class=\"edge\"><title>1&#45;&#45;4</title>\r\n",
       "<path fill=\"none\" stroke=\"black\" d=\"M99,-143.697C99,-132.846 99,-118.917 99,-108.104\"/>\r\n",
       "</g>\r\n",
       "<!-- 5 -->\r\n",
       "<g id=\"node6\" class=\"node\"><title>5</title>\r\n",
       "<ellipse fill=\"none\" stroke=\"black\" cx=\"171\" cy=\"-90\" rx=\"27\" ry=\"18\"/>\r\n",
       "<text text-anchor=\"middle\" x=\"171\" y=\"-86.3\" font-family=\"Times New Roman,serif\" font-size=\"14.00\">D</text>\r\n",
       "</g>\r\n",
       "<!-- 2&#45;&#45;5 -->\r\n",
       "<g id=\"edge5\" class=\"edge\"><title>2&#45;&#45;5</title>\r\n",
       "<path fill=\"none\" stroke=\"black\" d=\"M171,-143.697C171,-132.846 171,-118.917 171,-108.104\"/>\r\n",
       "</g>\r\n",
       "<!-- 6 -->\r\n",
       "<g id=\"node9\" class=\"node\"><title>6</title>\r\n",
       "<ellipse fill=\"none\" stroke=\"black\" cx=\"243\" cy=\"-90\" rx=\"27\" ry=\"18\"/>\r\n",
       "<text text-anchor=\"middle\" x=\"243\" y=\"-86.3\" font-family=\"Times New Roman,serif\" font-size=\"14.00\">E</text>\r\n",
       "</g>\r\n",
       "<!-- 2&#45;&#45;6 -->\r\n",
       "<g id=\"edge8\" class=\"edge\"><title>2&#45;&#45;6</title>\r\n",
       "<path fill=\"none\" stroke=\"black\" d=\"M185.57,-146.834C197.98,-134.77 215.731,-117.512 228.204,-105.385\"/>\r\n",
       "</g>\r\n",
       "<!-- 11 -->\r\n",
       "<g id=\"node7\" class=\"node\"><title>11</title>\r\n",
       "<ellipse fill=\"none\" stroke=\"black\" cx=\"99\" cy=\"-18\" rx=\"27\" ry=\"18\"/>\r\n",
       "<text text-anchor=\"middle\" x=\"99\" y=\"-14.3\" font-family=\"Times New Roman,serif\" font-size=\"14.00\">F</text>\r\n",
       "</g>\r\n",
       "<!-- 5&#45;&#45;11 -->\r\n",
       "<g id=\"edge6\" class=\"edge\"><title>5&#45;&#45;11</title>\r\n",
       "<path fill=\"none\" stroke=\"black\" d=\"M156.43,-74.8345C144.02,-62.7697 126.269,-45.5119 113.796,-33.3847\"/>\r\n",
       "</g>\r\n",
       "<!-- 12 -->\r\n",
       "<g id=\"node8\" class=\"node\"><title>12</title>\r\n",
       "<ellipse fill=\"none\" stroke=\"black\" cx=\"171\" cy=\"-18\" rx=\"27\" ry=\"18\"/>\r\n",
       "<text text-anchor=\"middle\" x=\"171\" y=\"-14.3\" font-family=\"Times New Roman,serif\" font-size=\"14.00\">G</text>\r\n",
       "</g>\r\n",
       "<!-- 5&#45;&#45;12 -->\r\n",
       "<g id=\"edge7\" class=\"edge\"><title>5&#45;&#45;12</title>\r\n",
       "<path fill=\"none\" stroke=\"black\" d=\"M171,-71.6966C171,-60.8463 171,-46.9167 171,-36.1043\"/>\r\n",
       "</g>\r\n",
       "<!-- 13 -->\r\n",
       "<g id=\"node10\" class=\"node\"><title>13</title>\r\n",
       "<ellipse fill=\"none\" stroke=\"black\" cx=\"243\" cy=\"-18\" rx=\"27\" ry=\"18\"/>\r\n",
       "<text text-anchor=\"middle\" x=\"243\" y=\"-14.3\" font-family=\"Times New Roman,serif\" font-size=\"14.00\">I</text>\r\n",
       "</g>\r\n",
       "<!-- 6&#45;&#45;13 -->\r\n",
       "<g id=\"edge9\" class=\"edge\"><title>6&#45;&#45;13</title>\r\n",
       "<path fill=\"none\" stroke=\"black\" d=\"M243,-71.6966C243,-60.8463 243,-46.9167 243,-36.1043\"/>\r\n",
       "</g>\r\n",
       "<!-- 14 -->\r\n",
       "<g id=\"node11\" class=\"node\"><title>14</title>\r\n",
       "<ellipse fill=\"none\" stroke=\"black\" cx=\"315\" cy=\"-18\" rx=\"27\" ry=\"18\"/>\r\n",
       "<text text-anchor=\"middle\" x=\"315\" y=\"-14.3\" font-family=\"Times New Roman,serif\" font-size=\"14.00\">H</text>\r\n",
       "</g>\r\n",
       "<!-- 6&#45;&#45;14 -->\r\n",
       "<g id=\"edge10\" class=\"edge\"><title>6&#45;&#45;14</title>\r\n",
       "<path fill=\"none\" stroke=\"black\" d=\"M257.57,-74.8345C269.98,-62.7697 287.731,-45.5119 300.204,-33.3847\"/>\r\n",
       "</g>\r\n",
       "</g>\r\n",
       "</svg>\r\n"
      ],
      "text/plain": [
       "<graphviz.dot.Graph at 0x1d850bcda88>"
      ]
     },
     "execution_count": 5,
     "metadata": {},
     "output_type": "execute_result"
    }
   ],
   "source": [
    "# %matplotlib inline\n",
    "# 这里是一个函数来显示一个二叉树。\n",
    "from graphviz import Graph\n",
    "\n",
    "def show_BinTree(root_node):\n",
    "    \"\"\"显示一颗二叉树\"\"\"\n",
    "    # 因为存在某些相同的结点，所以我这里用一个序号来区分不同的结点\n",
    "    def recurve_tree(tree, g, i=0):\n",
    "        \"\"\"这个是递归树实现的添加结点到图形中\"\"\"\n",
    "        # 我这个假设结点是i，子节点为2*i+1,2*i+2\n",
    "        # 如果有左子树，就添加左子树，并且递归\n",
    "        if i == 0:\n",
    "            g.node(\"0\",str(tree.data))\n",
    "        _root = str(i)\n",
    "        if tree.left is not None:\n",
    "            _l = str(2*i+1)\n",
    "            g.node(_l, str(tree.left.data)) # 建立子结点\n",
    "            g.edge(_root, _l)  # 画线\n",
    "            recurve_tree(tree.left, g, 2*i+1)  # 递归处理这个子节点的子节点\n",
    "        # 右子树同理\n",
    "        if tree.right is not None:\n",
    "            _r = str(2*i+2)\n",
    "            g.node(_r, str(tree.right.data)) # 建立子结点\n",
    "            g.edge(_root, _r)  # 画线\n",
    "            recurve_tree(tree.right, g, 2*i+2)  # 递归处理这个子节点的子节点\n",
    "        \n",
    "    # 首先初始化这个吧。\n",
    "    g = Graph('二叉树')\n",
    "    recurve_tree(root_node, g)\n",
    "    return g\n",
    "    # 我用先根序的堆栈来实现这个\n",
    "\n",
    "show_BinTree(tree_A)"
   ]
  },
  {
   "cell_type": "markdown",
   "metadata": {},
   "source": [
    "#### 深度优先遍历的先跟序堆栈实现"
   ]
  },
  {
   "cell_type": "markdown",
   "metadata": {},
   "source": [
    "上边的是递归实现，会造成不断的函数堆栈消耗，我这里用一个堆栈实现，减少函数的消耗而已，  \n",
    "- 这里暂时是采用先根序，遇到结点就访问，下一步沿着树的左值下行，\n",
    "- 由于树的右结点没有访问呢，因此需要记录，这里是将右结点入堆栈\n",
    "- 遇到空树就回溯，取出堆栈中保存的右分支，然后像一颗二叉树遍历\n",
    "\n",
    "循环中需要维持一种不变的关系，假设t一直取值为当前待遍历子树的根，栈中保存的是前面遇到但尚未遍历的哪些右数，这样，只要当前数非空（这棵树需要遍历）或者堆栈不为空（还存在需要遍历的部分），就应该继续循环"
   ]
  },
  {
   "cell_type": "code",
   "execution_count": null,
   "metadata": {},
   "outputs": [],
   "source": []
  },
  {
   "cell_type": "code",
   "execution_count": 6,
   "metadata": {
    "ExecuteTime": {
     "end_time": "2019-11-29T14:18:18.982901Z",
     "start_time": "2019-11-29T14:18:18.956Z"
    }
   },
   "outputs": [
    {
     "name": "stdout",
     "output_type": "stream",
     "text": [
      "A\n",
      "B\n",
      "J\n",
      "K\n",
      "C\n",
      "D\n",
      "F\n",
      "G\n",
      "E\n",
      "I\n",
      "H\n"
     ]
    }
   ],
   "source": [
    "# 这里用列表是实现堆栈操作。\n",
    "def stack_order(t:BinTree, proc):\n",
    "    \"\"\"堆栈实现的遍历操作\"\"\"\n",
    "    # 用一个列表当堆栈\n",
    "    stack = []\n",
    "    while t is not None or len(stack)>0:\n",
    "        # 不断的循环左子树\n",
    "        while t is not None:\n",
    "            proc(t.data)  # 处理这个结点的数据\n",
    "            stack.append(t.right)  # 这个相当于右子节点入堆栈，append相当于push\n",
    "            t = t.left  # 下一步处理左子树啦\n",
    "        t = stack.pop()  # 遇到空树，弹出在堆栈中保存的右子节点啦\n",
    "stack_order(tree_A,lambda x:print(x))"
   ]
  },
  {
   "cell_type": "markdown",
   "metadata": {},
   "source": [
    "#### 深度优先遍历的先遍历的生成器实现"
   ]
  },
  {
   "cell_type": "code",
   "execution_count": 7,
   "metadata": {},
   "outputs": [
    {
     "name": "stdout",
     "output_type": "stream",
     "text": [
      "A\n",
      "B\n",
      "J\n",
      "K\n",
      "C\n",
      "D\n",
      "F\n",
      "G\n",
      "E\n",
      "I\n",
      "H\n"
     ]
    }
   ],
   "source": [
    "\n",
    "\n",
    "def preorder_elements(t):\n",
    "    \"\"\"这个是生成器\"\"\"\n",
    "    s = SStack()\n",
    "    while t is not None or not s.is_empty():\n",
    "        while t is not None: # 如果这个结点不为空\n",
    "            yield t.data     # 先处理这个结点的数据\n",
    "            s.push(t.right)  # 然后右结点入栈\n",
    "            t = t.left       # 左子节点当下一步的根节点\n",
    "        t = s.pop()          # 弹出右子节点当作根节点。\n",
    "for _t in preorder_elements(tree_A):\n",
    "    print(_t)\n",
    "\n",
    "    "
   ]
  },
  {
   "cell_type": "markdown",
   "metadata": {},
   "source": [
    "#### 深度优先遍历的后跟序堆栈实现"
   ]
  },
  {
   "cell_type": "markdown",
   "metadata": {},
   "source": [
    "这个后跟序算法比较难写，因为这个根节点要读取三次呢。  \n",
    "- 第一次遇到的时候先转去左子树\n",
    "- 从左子树返回的时候应转去右子树\n",
    "- 从右子树返回才应该处理这个根节点，而后返回上一层。\n",
    "\n",
    "这个可以根据被访问的结点是父节点的左子节点或右子节点，就可以决定下一步怎么做。\n",
    "- 如果是左子节点就转到右子节点\n",
    "- 如果是右子节点，就应该处理根节点并强制退出堆栈"
   ]
  },
  {
   "cell_type": "code",
   "execution_count": 8,
   "metadata": {},
   "outputs": [
    {
     "name": "stdout",
     "output_type": "stream",
     "text": [
      "J\n",
      "K\n",
      "B\n",
      "F\n",
      "G\n",
      "D\n",
      "I\n",
      "H\n",
      "E\n",
      "C\n",
      "A\n"
     ]
    }
   ],
   "source": [
    "def postorder_nonrec(t, proc):\n",
    "    \"\"\"非递归的后根序算法\"\"\"\n",
    "    \n",
    "    s = SStack()\n",
    "    while t is not None or not s.is_empty():  # 循环条件，结点不为空，或者堆栈不为空\n",
    "        while t is not None:  # 下行循环，直到堆栈的两个子树空\n",
    "            s.push(t)  # 压入堆栈\n",
    "            t = t.left if t.left is not None else t.right   # 如果左子树不为空，就取左子树，就是能左就左，否则向右\n",
    "        t = s.pop() # 栈顶是应访问结点。\n",
    "        proc(t.data)  # 处理这个结点的数据\n",
    "        if not s.is_empty() and t == s.top().left:\n",
    "            t = s.top().right  # 堆栈不为空且当前结点是堆栈的左子节点，就右结点啦\n",
    "        else:\n",
    "            t = None   # 如果没有右子树或者右子树遍历完毕，强迫退栈，设置这个为None，就进入下一个循环\n",
    "postorder_nonrec(tree_A,lambda x:print(x))        \n",
    "    "
   ]
  },
  {
   "cell_type": "markdown",
   "metadata": {},
   "source": [
    "### 宽度优先遍历"
   ]
  },
  {
   "cell_type": "markdown",
   "metadata": {},
   "source": [
    "宽度优先遍历是按照路径长度由远到近的访问结点，也就是按照二叉树的层次逐层访问树中的各结点。这种算法需要一个队列做缓存。"
   ]
  },
  {
   "cell_type": "code",
   "execution_count": 9,
   "metadata": {
    "ExecuteTime": {
     "end_time": "2019-11-29T14:18:18.984901Z",
     "start_time": "2019-11-29T14:18:18.961Z"
    }
   },
   "outputs": [
    {
     "name": "stdout",
     "output_type": "stream",
     "text": [
      "A\n",
      "B\n",
      "C\n",
      "J\n",
      "K\n",
      "D\n",
      "E\n",
      "F\n",
      "G\n",
      "I\n",
      "H\n"
     ]
    }
   ],
   "source": [
    "from queue import Queue\n",
    "def levelorder(t:BinTree,proc):\n",
    "    \"\"\"这个实现的是宽度优先，其实就是用一个队列来保存中间数据，而深度优先是用堆栈保存的\"\"\"\n",
    "    queue = Queue() # 先构造一个队列\n",
    "    queue.put(t)  # 将初始值入列\n",
    "    while not queue.empty():  # 循环条件，队列不为空\n",
    "        n = queue.get() # 弹出这一项\n",
    "        if n is None:  # 如果弹出的树为空\n",
    "            continue   # 就直接跳过\n",
    "        queue.put(n.left)  # 左子节点入列\n",
    "        queue.put(n.right)  # 右子节点入列\n",
    "        proc(n.data)  # 处理这个结点的数据\n",
    "# 测试一下这个宽度优先遍历\n",
    "levelorder(tree_A,lambda x:print(x))"
   ]
  },
  {
   "cell_type": "code",
   "execution_count": null,
   "metadata": {},
   "outputs": [],
   "source": []
  },
  {
   "cell_type": "code",
   "execution_count": null,
   "metadata": {},
   "outputs": [],
   "source": []
  },
  {
   "cell_type": "code",
   "execution_count": null,
   "metadata": {},
   "outputs": [],
   "source": []
  },
  {
   "cell_type": "code",
   "execution_count": null,
   "metadata": {},
   "outputs": [],
   "source": []
  },
  {
   "cell_type": "markdown",
   "metadata": {
    "toc-hr-collapsed": true
   },
   "source": [
    "# 二叉树的list实现"
   ]
  },
  {
   "cell_type": "markdown",
   "metadata": {},
   "source": [
    "二叉树的结点就是一个三元组，元素为左右结点以及数据。二叉树是递归结构，list也是递归结构，用list很容易实现二叉树  \n",
    "- 空树用None表示\n",
    "- 非空二叉树用包含3个元素的表 [ L , D , R] 表示\n",
    "   - D表示存在这个结点的元素\n",
    "   - L和R分别为左右子树，也是采用这个结构来表示"
   ]
  },
  {
   "cell_type": "code",
   "execution_count": 10,
   "metadata": {
    "ExecuteTime": {
     "end_time": "2019-11-29T14:18:18.986899Z",
     "start_time": "2019-11-29T14:18:18.971Z"
    }
   },
   "outputs": [
    {
     "data": {
      "text/plain": [
       "['A', ['B', None, None], ['C', None, None]]"
      ]
     },
     "execution_count": 10,
     "metadata": {},
     "output_type": "execute_result"
    }
   ],
   "source": [
    "# 如下仅仅是一个示例，这种方式根lisp很相似，然后再写一堆函数方便操作这些数据就可以了。\n",
    "# 我仅仅是写看看而已，我接下来会用类来实现这个二叉树，\n",
    "['A',['B',None,None],['C',None,None]]"
   ]
  },
  {
   "cell_type": "code",
   "execution_count": 11,
   "metadata": {
    "ExecuteTime": {
     "end_time": "2019-11-29T14:18:18.989898Z",
     "start_time": "2019-11-29T14:18:18.975Z"
    }
   },
   "outputs": [
    {
     "name": "stdout",
     "output_type": "stream",
     "text": [
      "('*', 3, ('+', 2, 5))\n"
     ]
    }
   ],
   "source": [
    "# 这本书的二叉树是lisp的思维来实现的，比如他的构造表达式树\n",
    "# 就是用tuple来实现保存二叉树的，因为表达式不变，所以可以用不变的元素来保存，\n",
    "# 采用这种方式保存的的表达方式，表达式有2部分结构组成\n",
    "# 如果是元组 （tuple），就是运算符作用于运算对象的符合表达式\n",
    "# 否则就是基本表达式，也就是数或者变量\n",
    "# 这里只是实现加减乘除\n",
    "\n",
    "def make_sum(a,b):\n",
    "    return ('+',a,b)\n",
    "def make_prod(a,b):\n",
    "    return ('*',a,b)\n",
    "def make_diff(a,b):\n",
    "    return ('-',a,b)\n",
    "def make_div(a,b):\n",
    "    return ('/',a,b)\n",
    "e1=make_prod(3,make_sum(2,5))\n",
    "print(e1)\n",
    "# 这不就是lisp吗？\n",
    "# 然后判断是否是基本数据，我这里是判断是否是元组的\n",
    "def is_basic_ext(a):\n",
    "    return not isinstance(a,tuple)"
   ]
  },
  {
   "cell_type": "markdown",
   "metadata": {},
   "source": [
    "如下是示例表达式求值，这里有几个求值规则  \n",
    "- 对表达式中的数和变量，其值就是他们自身。\n",
    "- 其他表达式根据运算符处理，可以定义专门的求值函数\n",
    "- 如果一个运算符的两个运算对象都是数，就可以求出一个数值"
   ]
  },
  {
   "cell_type": "code",
   "execution_count": 12,
   "metadata": {
    "ExecuteTime": {
     "end_time": "2019-11-29T14:18:19.170795Z",
     "start_time": "2019-11-29T14:18:19.081844Z"
    }
   },
   "outputs": [
    {
     "data": {
      "text/plain": [
       "21"
      ]
     },
     "execution_count": 12,
     "metadata": {},
     "output_type": "execute_result"
    }
   ],
   "source": [
    "# 这里求值函数的基本部分，\n",
    "def is_number(a):\n",
    "    return (isinstance(a,int) or isinstance(a,float) or isinstance(a,complex))\n",
    "def eval_exp(e):\n",
    "    if is_basic_ext(e):\n",
    "        return e\n",
    "    op, a, b = e[0] , eval_exp(e[1]), eval_exp(e[2])  # 这里用递归来实现\n",
    "    if op == '+':\n",
    "        return eval_sum(a, b)\n",
    "    elif op == '-':\n",
    "        return eval_diff(a, b)\n",
    "    elif op == '*':\n",
    "        return eval_prod(a, b)\n",
    "    elif op == '/':\n",
    "        return eval_div(a, b)\n",
    "    else:\n",
    "        raise ValueError(\"不能识别的结构：\",op)\n",
    "def eval_sum(a,b):\n",
    "    if is_number(a) and is_number(b): # 如果两个都是数\n",
    "        return a+b\n",
    "    return make_sum(a,b)\n",
    "def eval_diff(a,b):\n",
    "    if is_number(a) and is_number(b): # 如果两个都是数\n",
    "        return a-b\n",
    "    return make_diff(a,b)\n",
    "def eval_prod(a,b):\n",
    "    if is_number(a) and is_number(b): # 如果两个都是数\n",
    "        return a*b\n",
    "    return make_prod(a,b)\n",
    "def eval_div(a,b):\n",
    "    if is_number(a) and is_number(b): # 如果两个都是数\n",
    "        return a/b\n",
    "    # 要判断除0问题\n",
    "    if is_number(b) and b == 0:\n",
    "        raise ZeroDivSionError\n",
    "    return make_sum(a,b)\n",
    "\n",
    "eval_exp(e1)"
   ]
  },
  {
   "cell_type": "markdown",
   "metadata": {},
   "source": [
    "可以看到如上的是分成几层\n",
    "- make开头的函数是构造\n",
    "- eval_exp是计算表达式的，里边用递归实现不同层次的求值计算，根据不同的运算符调用不同的运算函数。\n",
    "- eva_开头的其他函数，是具体计算某种运算的函数\n",
    "\n",
    "但是这个表达式树，我记得可以用BNF的方式来解决，这个更直观"
   ]
  },
  {
   "cell_type": "markdown",
   "metadata": {
    "toc-hr-collapsed": true
   },
   "source": [
    "# 优先队列"
   ]
  },
  {
   "cell_type": "markdown",
   "metadata": {},
   "source": [
    "简单讲，这个队列是按照优先级高低取出数据的，最优先元素先出。要考虑到有时候两个元素的优先级是相同的，这时候，如果不要求非得是先近先出，会有提高效率的算法。"
   ]
  },
  {
   "cell_type": "markdown",
   "metadata": {},
   "source": [
    "## 采用线性表的实现"
   ]
  },
  {
   "cell_type": "markdown",
   "metadata": {},
   "source": [
    "如下两种实现吧  \n",
    "- 在存入数据时，保证表中元素按照优先级排列，方便弹出元素\n",
    "- 在存入数据时采用最简单的方式，但弹出数据是去寻找最优先的元素"
   ]
  },
  {
   "cell_type": "code",
   "execution_count": 13,
   "metadata": {
    "ExecuteTime": {
     "end_time": "2019-11-29T14:18:19.295724Z",
     "start_time": "2019-11-29T14:18:19.174792Z"
    }
   },
   "outputs": [
    {
     "name": "stdout",
     "output_type": "stream",
     "text": [
      "[15, 12, 11, 10, 8]\n",
      "8\n",
      "10\n",
      "11\n",
      "12\n",
      "15\n"
     ]
    }
   ],
   "source": [
    "# 这里采用存入数据时排序\n",
    "class PrioQue():\n",
    "    def __init__(self, elist=[]):\n",
    "        self._elems = list(elist) # 这里相当于是深度复制\n",
    "        self._elems.sort(reverse=True)  # 排序\n",
    "    def enqueue(self, e):\n",
    "        # 插入一个数据\n",
    "        i = len(self._elems) - 1 # 我从最后1位开始查找，向前查找，这样保证了，同样优先级的，会在前面，我取出操作，会取最后1位\n",
    "        while i >= 0:\n",
    "            if self._elems[i] <= e: # 如果原先的列表种的某个元素小于要插入的值，这个会将数量小的值放在后边。\n",
    "                i = i - 1\n",
    "            else:\n",
    "                break\n",
    "        self._elems.insert(i+1,e)\n",
    "    def dequeue(self):\n",
    "        # 取出一个，我直接取出最后一位\n",
    "        if len(self._elems) == 0:\n",
    "            raise IndexError\n",
    "        return self._elems.pop()  # 直接弹出最后一位啦\n",
    "p = PrioQue()\n",
    "p.enqueue(10)\n",
    "p.enqueue(12)\n",
    "p.enqueue(8)\n",
    "p.enqueue(11)\n",
    "p.enqueue(15)\n",
    "print(p._elems)\n",
    "print(p.dequeue())\n",
    "print(p.dequeue())\n",
    "print(p.dequeue())\n",
    "print(p.dequeue())\n",
    "print(p.dequeue())\n"
   ]
  },
  {
   "cell_type": "markdown",
   "metadata": {},
   "source": [
    "## 采用树形结构实现优先队列"
   ]
  },
  {
   "cell_type": "markdown",
   "metadata": {},
   "source": [
    "采用树形结构实现优先队列的结构被称为堆，堆就是结点里存储数据的完全二叉树，但堆中的数据的存储要满足一种特殊的堆序，任一个结点里所存储的数据先于或者等于其子节点（如果存在）里的数据。  \n",
    "- 在一个堆中从树根到任何一个叶节点的路径上，各节点里所存储的数据按规定的优先关系（非严格）递减。\n",
    "- 堆中最优先的元素必须位于二叉树的根节点里（堆顶），O(1)时间就可以取得\n",
    "- 位于数中不同路径上的元素，这里不关心其顺序关系。 \n",
    "\n",
    "区别\n",
    "- 如果要求的序是小元素优先，构造出来的堆被称为小顶堆，堆中每个结点的数据均小于或者等于其子节点的数据\n",
    "- 如果要求的序是大元素优先，构造出来的堆被称为大顶堆，堆中每个结点的数据均大于或者等于其子节点的数据\n",
    "\n",
    "堆就是完全二叉树，还有如下几个性质\n",
    "- Q1：在一个堆的最后加上一个元素（在相应的元素表的最后加一个元素），整个结构还可以看作一颗完全二叉树，但未必是堆（最后元素未必符合堆序。\n",
    "- Q2：一个堆去掉堆顶（表中元素0的元素），其余元素形成两个子堆，完全二叉树的子节点/父节点下标计算规则依然适用，堆序在路径上依然成立。\n",
    "- Q3：给由Q2得到的表（两个子堆）加入一个根元素（存入位置为0），得到的结点序列又可以看作是完全二叉树，但未必是堆（根节点未必符合堆序）\n",
    "- Q4：去掉堆中最后的元素（最下层的最右结点，也就是对应的连续表中的最后一个元素），剩下的元素依然是堆。\n",
    "\n",
    "用堆实现优先队列，还需要解决\n",
    "- 如何实现插入操作，在堆（优先队列）中加入一个新元素，必须通过操作，得到一个包含了所有元素和刚加入新元素的堆。\n",
    "- 如果实现弹出元素的操作，从堆中弹出最小元素后，必须能把剩余的元素重新做成堆。\n"
   ]
  },
  {
   "cell_type": "markdown",
   "metadata": {
    "ExecuteTime": {
     "end_time": "2019-11-25T13:30:56.768662Z",
     "start_time": "2019-11-25T13:30:56.763668Z"
    }
   },
   "source": [
    "### 插入元素和向上筛选"
   ]
  },
  {
   "cell_type": "markdown",
   "metadata": {},
   "source": [
    "在堆中加入元素的操作，根据Q1，在堆的最后加入一个元素，得到的结果还可以看作完全二叉树，但未必是堆，为把这样的完全二叉树恢复为堆，只需要做一次向上筛选， \n",
    "向上筛选的方法，不断用新加入的元素（设为e）与父节点的数据比较，如果e较小就交换两个元素的位置，通过这样的比较和交换，e不断上移，结束方法\n",
    "- e的父节点小于e了，\n",
    "- e到达根节点了。\n",
    "\n",
    "这时经过e的所有路径上的元素满足所需顺序，其余路径仍保持有序。\n",
    "\n",
    "- 把新加入元素放在（连续表里）已有元素之后，执行一次向上筛选操作。\n",
    "- 向上筛选操作中比较和交换的次数不会超过二叉树最长路径的长度，完全二叉树的高度为 $\\log n $"
   ]
  },
  {
   "cell_type": "markdown",
   "metadata": {},
   "source": [
    "### 弹出元素和向下筛选"
   ]
  },
  {
   "cell_type": "markdown",
   "metadata": {},
   "source": [
    "弹出堆顶元素后，剩下的元素已经不在是堆，我们要把这个修补成堆序的。从原堆的最后取下一个元素，其他元素依然是堆，把这个元素放在堆顶就得到了一颗完全二叉树，它比弹出操作前的堆少一个元素，而且除了堆顶元素可能不满足堆序外，其他元素都满足堆序。  \n",
    "恢复堆的操作被称为向下筛选：\n",
    "- 用e与A、B两个子堆的顶元素（根）比较，最小者作为整个堆的顶\n",
    "   - 若e不是最小，最小必为A或者B的根，设A的根最小，将其移到堆顶，相当于删除了A的顶元素\n",
    "   - 下面考虑把e放入去掉堆顶的A，这是规模更小的同一问题。\n",
    "   - B的根最小的情况可以同样处理\n",
    "- 如果某次比较中e最小，以它为顶的局部树已经称为堆，整个结构也成为堆。\n",
    "- 或者e已经落到底，这时候它自身就是一个堆，整个结构也成为堆。\n",
    "\n",
    "到达最后两种情况，重新构造堆的工作就完成了。  \n",
    "总结一下优先队列弹出操作的实现，分为三个大步骤  \n",
    "- 弹出当时的堆顶\n",
    "- 从堆最后取一个元素作为完全二叉树的根，\n",
    "- 执行一次向下筛选。\n",
    "\n",
    "前两个步骤都是O(1)时间操作，最后一步需要从完全二叉树的根开始做，一步操作需要做两个比较（左右子树），操作次数不长于树中路径的长度。这样，从优先队列中弹出元素的操作具备 $O(\\log n)$时间复杂度"
   ]
  },
  {
   "cell_type": "code",
   "execution_count": 14,
   "metadata": {
    "ExecuteTime": {
     "end_time": "2019-11-29T14:18:19.395666Z",
     "start_time": "2019-11-29T14:18:19.298721Z"
    }
   },
   "outputs": [
    {
     "name": "stdout",
     "output_type": "stream",
     "text": [
      "[8, 11, 10, 12, 15]\n",
      "8\n",
      "10\n",
      "11\n",
      "12\n",
      "15\n"
     ]
    }
   ],
   "source": [
    "# 基于堆的优先队列类\n",
    "class PrioQueue():\n",
    "    \"\"\"用堆实现的优先队列\"\"\"\n",
    "    def __init__(self, elist=[]):\n",
    "        self._elems = list(elist)  # 用深度复制的方法，\n",
    "        if elist:\n",
    "            self.buildheap()  # 建立堆\n",
    "    def is_empty(self):\n",
    "        \"\"\"判断是否空\"\"\"\n",
    "        return not self._elems\n",
    "    def peek(self):\n",
    "        if self.is_empty():\n",
    "            raise IndexError()\n",
    "        return self._elems[0] # 取出第一个元素\n",
    "    \n",
    "    def enqueue(self, e):\n",
    "        \"\"\"入对操作\"\"\"\n",
    "        self._elems.append(None)\n",
    "        self.siftup(e, len(self._elems)-1)\n",
    "    def siftup(self, e, last):\n",
    "        \"\"\"向上筛选\"\"\"\n",
    "        elems, i, j = self._elems, last, (last-1)//2\n",
    "        # 这里i为子节点，而j为父节点\n",
    "        while i > 0 and e < elems[j]:  # 循环条件，一个是不越界，而另一个就是e比这个结点小\n",
    "            elems[i] = elems[j]  # 交换这父子结点\n",
    "            i, j = j , (j-1)//2 # 以此向上\n",
    "        elems[i] = e  # 新的值就赋值在这个位置啦\n",
    "    def dequeue(self):\n",
    "        \"\"\"取出一个操作\"\"\"\n",
    "        if self.is_empty():\n",
    "            raise IndexError\n",
    "        elems = self._elems\n",
    "        e0 = elems[0]  # 堆顶元素,0为数字0\n",
    "        e = elems.pop() # 取出最后的元素\n",
    "        if len(elems) > 0:\n",
    "            self.siftdown(e, 0, len(elems))  # 向下筛选\n",
    "        return e0\n",
    "    def siftdown(self, e, begin, end):\n",
    "        \"\"\"向下筛选\"\"\"\n",
    "        elems, i, j = self._elems, begin, begin*2+1\n",
    "        # 这里i是父节点，而j是子节点\n",
    "        while j < end:\n",
    "            # 这里先比较左子树\n",
    "            if j+1<end and elems[j+1] < elems[j]: # 这一步相当于两个子节点比较。如果做子节点大于右子节点，\n",
    "                j += 1   # j就设置为右子节点。这样子，j就是左右子节点中较小值。\n",
    "            # 然后只要比较e跟000\n",
    "            if e < elems[j]:\n",
    "                break  # e在三者中最小，已经找到位置\n",
    "            elems[i] = elems[j]  # elems[j] 在三者中最小，上移\n",
    "            i, j = j, 2*j+1\n",
    "        elems[i] = e\n",
    "    def buildheap(self):\n",
    "        end = len(self._elems)\n",
    "        for i in range(end//2,-1, -1):\n",
    "            self.siftdown(self._elems[i],i, end)\n",
    "p = PrioQueue()\n",
    "p.enqueue(10)\n",
    "p.enqueue(12)\n",
    "p.enqueue(8)\n",
    "p.enqueue(11)\n",
    "p.enqueue(15)\n",
    "print(p._elems)\n",
    "print(p.dequeue())\n",
    "print(p.dequeue())\n",
    "print(p.dequeue())\n",
    "print(p.dequeue())\n",
    "print(p.dequeue())"
   ]
  },
  {
   "cell_type": "code",
   "execution_count": null,
   "metadata": {},
   "outputs": [],
   "source": []
  },
  {
   "cell_type": "markdown",
   "metadata": {
    "ExecuteTime": {
     "end_time": "2019-11-25T13:18:25.875050Z",
     "start_time": "2019-11-25T13:18:25.866048Z"
    }
   },
   "source": [
    "## 堆排序"
   ]
  },
  {
   "cell_type": "markdown",
   "metadata": {},
   "source": [
    "堆排序，就是一颗完全二叉树，其任意一个非叶结点都满足  \n",
    "$key[i] \\le key[2i+1]\\ \\ \\ \\ \\ \\&\\& \\ \\ \\ \\ \\   key[i] \\le key[2i+2]$   \n",
    "也就是任意一个非叶节点都不大于子节点，这个是小顶堆，大顶堆相反  \n",
    "这里以大顶堆为例，其基本思想是，\n",
    "- 将初始待排序序列$(R_1,R_2,\\cdots,R_n)$，构成大顶堆，此堆为初始的无序区，但是堆顶元素肯定是最大值啦，其子节点都不大于这个堆顶元素。\n",
    "- 将堆顶元素 $ R[1] $ 与最后一个元素  $ R[n] $ 相交换，这样，现在  $ R[n] $ 就是最大值，此时得到了新的无序区$(R_1,R_2,\\cdots,R_{n-1})$ 和新的有序区 $ R[n] $ ，且满足 $(R_1,R_2,\\cdots,R_{n-1}) \\le R_n$  ,这个很好理解，因为 $ R[n] $ 为原先的堆顶元素，就是最大值。\n",
    "- 由于交换后的堆顶 $ R[1]$可能违反堆的性质，因此需要对当前的无序区进行$(R_1,R_2,\\cdots,R_{n-1})$ 调整为新堆\n",
    "   - 然后再将 $R[1]$与无序区的最后一个元素交换，得到新的无序区$(R_1,R_2,\\cdots,R_{n-2})$ 和新的有序区  $ (R[n-1],R[n] )$ ,\n",
    "   -不断重复此过程直到有序区的元素个数为 n-1 ,则整个排序完成   \n",
    "   \n",
    "总结一下操作  \n",
    "- 初始化堆：将 $R[1\\cdots n]$ 构造成堆\n",
    "- 将当前无序区的堆顶元素$R[1]$同该区间的最后一个元素交换，然后将新的无序区调整为新的堆 \n",
    "\n",
    "因此对于堆排序，最重要的两个操作就是构造初始堆和调整堆，其实构造初始堆也是调整堆的过程，只是构造初始堆是对所有的非叶节点都进行调整。"
   ]
  },
  {
   "cell_type": "markdown",
   "metadata": {},
   "source": [
    "我这里还是以上边的树形结构实现的优先队列为根基做一个堆排序。  \n",
    "首先，我输入是一个list，一个序列，然后设置无序区范围为 0 到 len()-1 ，先对这个序列初始化堆，然后交换这个无序区的首尾元素，这个无序区范围一直在缩小，直到大小等于1，就退出循环，排序也完成了。"
   ]
  },
  {
   "cell_type": "code",
   "execution_count": 15,
   "metadata": {
    "ExecuteTime": {
     "end_time": "2019-11-29T14:18:19.525592Z",
     "start_time": "2019-11-29T14:18:19.399665Z"
    }
   },
   "outputs": [
    {
     "name": "stdout",
     "output_type": "stream",
     "text": [
      "[10, 8, 7, 5, 4, 3, 2, 1]\n"
     ]
    }
   ],
   "source": [
    "def tree_sort(old_list:list):\n",
    "    \"\"\"排序\"\"\"\n",
    "    def siftdown(e,_start, _end):\n",
    "        \"\"\"向下筛选\"\"\"\n",
    "        i, j = _start, _start*2+1 # 初始化范围\n",
    "        while j < _end:\n",
    "            if j+1<_end and old_list[j+1] < old_list[j]: # 这一步相当于两个子节点比较。如果做子节点大于右子节点，\n",
    "                j += 1   # j就设置为右子节点。这样子，j就是左右子节点中较小值。\n",
    "            # 然后只要比较e跟000\n",
    "            if e < old_list[j]:\n",
    "                break  # e在三者中最小，已经找到位置\n",
    "            old_list[i] = old_list[j]  # elems[j] 在三者中最小，上移\n",
    "            i, j = j, 2*j+1 \n",
    "        old_list[i] = e\n",
    "    def build_tree():\n",
    "        \"\"\"初始化堆\"\"\"\n",
    "        end = len(old_list)\n",
    "        for i in range(end//2,-1, -1):\n",
    "            siftdown(old_list[i],i, end)\n",
    "    # 先初始化堆\n",
    "    build_tree()\n",
    "    # 无序区的范围\n",
    "    start,end = 0, len(old_list)-1\n",
    "    while end > 0 : # 退出循环条件就是只有一个元素就可以啦\n",
    "        # 交换首尾元素\n",
    "        old_list[start],old_list[end] = old_list[end] , old_list[start]\n",
    "        # 做向下筛选啦\n",
    "        siftdown(old_list[0],start, end)\n",
    "        # 无序区范围减去1，\n",
    "        end -= 1\n",
    "        \n",
    "    return old_list\n",
    "print(tree_sort([2,4,1,10,8,7,5,3]))"
   ]
  },
  {
   "cell_type": "markdown",
   "metadata": {
    "toc-hr-collapsed": true
   },
   "source": [
    "# 应用：离散事件模拟"
   ]
  },
  {
   "cell_type": "markdown",
   "metadata": {},
   "source": [
    "离散事件系统模拟：被模拟的系统的行为可以抽象为一些离散事件的发生，所发生事件可以引发新事件等等，人们希望通过计算机模拟系统行为，评价或者设计真实世界中实际的或所需的系统。  \n",
    "适用于这种模拟的系统，其行为特征：  \n",
    "- 系统运行中可能不断发生一些事件（带有一定的随机性）\n",
    "- 一个事件在某个时刻发生，其发生有可能导致其他事件在未来发生。\n",
    "\n",
    "比如，考虑一个负责检查过境车辆的海关检查站  \n",
    "- 车辆按照一定事件间隔到达，间隔有一定随机性，设其范围为[a,b]分钟。\n",
    "- 由于车辆的不同情况，每辆车的检查事件为 [c,d]分钟。\n",
    "- 海关可以开k个通道。\n",
    "- 希望理解开通不同数量的通道对车辆通行的影响。  \n",
    "\n",
    "模拟的事件中经常需要排队，队列结构适合用户记录事件，很多情况下还牵涉到事件和其他因素，优先队列结构可能提供所需要的功能。"
   ]
  },
  {
   "cell_type": "markdown",
   "metadata": {},
   "source": [
    "## 通用的模拟框架"
   ]
  },
  {
   "cell_type": "markdown",
   "metadata": {},
   "source": [
    "做这种模拟，其中的基本思想就是按照事件发生的事件顺序处理，在模拟的系统中用一个优先队列保存已知在将来某个特定时刻发生的事件，系统的运行就是不断中优先队列中取出等待事件，一个个的处理，直到整个模拟结束。"
   ]
  },
  {
   "cell_type": "code",
   "execution_count": 16,
   "metadata": {
    "ExecuteTime": {
     "end_time": "2019-11-29T14:18:19.645523Z",
     "start_time": "2019-11-29T14:18:19.528590Z"
    }
   },
   "outputs": [],
   "source": [
    "# 这里做一个通用的模拟器类\n",
    "from random import randint\n",
    "# 这里用上了前面的优先队列类 PrioQueue\n",
    "\n",
    "class Simulation():\n",
    "    \"\"\"模拟器类\"\"\"\n",
    "    def __init__(self,duration):\n",
    "        \"\"\"构造函数，参数为持续事件\"\"\"\n",
    "        self._eventq= PrioQueue()  # 这个是优先队列，保存事件的\n",
    "        self._time = 0  # 当前时间，初始化为0\n",
    "        self._duration = duration  # 持续时间\n",
    "    def run(self):\n",
    "        \"\"\"运行函数\"\"\"\n",
    "        while not self._eventq.is_empty():  # 模拟到时间队列为空\n",
    "            event = self._eventq.dequeue()  # 取出一个时间\n",
    "            self._time = event.time()  # 设置当前的时间为这个事件的时间。因为我这个是优先队列，所以先取出来的就是最优先的啦。\n",
    "            if self._time > self._duration:  # 时间用完就结束啦\n",
    "                break\n",
    "            event.run()  # 模拟这个事件，其运行可能产生新事件\n",
    "            # 让被模拟系统的各种事件自己去推动整个模拟的进行，\n",
    "            # 在这种模拟系统里，每一个事件是一个对象，有特定的行为，有相应的事件类定义。\n",
    "            # 这种模拟技术称为面向对象的离散事件模拟\n",
    "    def add_event(self, event):\n",
    "        \"\"\"添加一个事件\"\"\"\n",
    "        self._eventq.enqueue(event)\n",
    "    def cur_time(self):\n",
    "        \"\"\"返回当前时间\"\"\"\n",
    "        return self._time \n",
    "        \n"
   ]
  },
  {
   "cell_type": "markdown",
   "metadata": {},
   "source": [
    "对于任何一个具体的模拟，只需要根据情况实现一组特殊的事件类，下边是定义了一个公共事件基类"
   ]
  },
  {
   "cell_type": "code",
   "execution_count": 17,
   "metadata": {
    "ExecuteTime": {
     "end_time": "2019-11-29T14:18:19.778447Z",
     "start_time": "2019-11-29T14:18:19.649519Z"
    }
   },
   "outputs": [],
   "source": [
    "class SimulationEventBase:\n",
    "    \"\"\"模拟器的事件基类\"\"\"\n",
    "    def __init__(self, event_time, host):\n",
    "        self._ctime = event_time\n",
    "        self._host = host  # 保存事件所在的模拟器系统。\n",
    "    def __lt__(self, other_event):\n",
    "        \"\"\"运算符重载\"\"\"\n",
    "        return self._ctime < other_event._ctime\n",
    "    def __le__(self,  other_event):\n",
    "        return self._ctime <= other_event._ctime\n",
    "    def host(self):\n",
    "        return self._host\n",
    "    def time(self):\n",
    "        return self._ctime\n",
    "    def run(self):\n",
    "        pass\n"
   ]
  },
  {
   "cell_type": "markdown",
   "metadata": {},
   "source": [
    "## 海关检查站模拟系统"
   ]
  },
  {
   "cell_type": "code",
   "execution_count": 18,
   "metadata": {
    "ExecuteTime": {
     "end_time": "2019-11-29T14:18:19.879391Z",
     "start_time": "2019-11-29T14:18:19.781443Z"
    }
   },
   "outputs": [],
   "source": [
    "class SQueue:\n",
    "    \"\"\"实现的一个队列\"\"\"\n",
    "    def __init__(self):\n",
    "        self.lst = []\n",
    "    def enqueue(self,data):\n",
    "        self.lst.append(data)  # 添加到最后\n",
    "    def dequeue(self):\n",
    "        return self.lst.pop(0)  # 弹出第一个\n",
    "    def is_empty(self):\n",
    "        return len(self.lst) == 0\n",
    "    \n",
    "class Customs:\n",
    "    \"\"\"实际的模拟器类\"\"\"\n",
    "    def __init__(self, gate_num, duration, arrive_interval, check_interval):\n",
    "        self.simulation = Simulation(duration)  # 通用模拟器类\n",
    "        self.waitline=SQueue()  # 等待过关的车辆，先进先出\n",
    "        self.duration = duration  # 保存这个持续事件\n",
    "        self.gates = [0] * gate_num  # 各个通道的状态，用0和1来表示通道空闲或者正在被占用吧\n",
    "        self.total_wait_time = 0\n",
    "        self.total_used_time = 0\n",
    "        self.car_num = 0 \n",
    "        self.arrive_interval = arrive_interval\n",
    "        self.check_interval = check_interval\n",
    "    def wait_time_acc(self, n):\n",
    "        self.total_wait_time += n\n",
    "    def total_time_acc(self, n):\n",
    "        self.total_used_time += n\n",
    "    def car_count_1(self):\n",
    "        self.car_num += 1\n",
    "    def add_event(self, event):\n",
    "        self.simulation.add_event(event)\n",
    "    def cur_time(self):\n",
    "        return self.simulation.cur_time()\n",
    "    def enqueue(self,car):\n",
    "        self.waitline.enqueue(car)\n",
    "    def has_queued_car(self):\n",
    "        return not self.waitline.is_empty()\n",
    "    def next_car(self):\n",
    "        return self.waitline.dequeue()\n",
    "    def find_gate(self):\n",
    "        \"\"\"查找哪个检查点有空\"\"\"\n",
    "        for i in range(len(self.gates)):\n",
    "            if self.gates[i] == 0:\n",
    "                self.gates[i] = 1\n",
    "                return i\n",
    "        return None  # 都不空闲\n",
    "    def free_gate(self, i):\n",
    "        if self.gates[i] == 1:\n",
    "            self.gates[i] = 0\n",
    "        else:\n",
    "            raise Error\n",
    "    def run(self):\n",
    "        # 先设置检查站以及车吧\n",
    "        Arrive(0, self)  # 添加一辆车\n",
    "        self.simulation.run()\n",
    "        self.statistics()\n",
    "    def statistics(self):\n",
    "        print(\"Simulation \"+ str(self.duration)+ \"minutes, for \"+ str(len(self.gates))+\"gates\")\n",
    "        print(self.car_num, \"cars pass the customs\")\n",
    "        print(\"平均等待时间\",self.total_wait_time/self.car_num)\n",
    "        print(\"平均通过时间\",self.total_used_time/self.car_num)\n",
    "        # 下面要看看还有多少车还在等待过关\n",
    "        i = 0 \n",
    "        while not self.waitline.is_empty():\n",
    "            self.waitline.dequeue()\n",
    "            i += 1\n",
    "        print(i, \"辆车在等待过关\")\n",
    "class Car:\n",
    "    \"\"\"车的类\"\"\"\n",
    "    def __init__(self, arrive_time):\n",
    "        self.time = arrive_time\n",
    "    def arrive_time(self):\n",
    "        return self.time\n",
    "def event_log(time, name):\n",
    "    \"\"\"方便输出日志的\"\"\"\n",
    "    print(\"event:{0} , happens at {1}\".format(time, name))\n"
   ]
  },
  {
   "cell_type": "markdown",
   "metadata": {},
   "source": [
    "接下来做事件类，无非是如下几种事件。\n",
    "- 汽车到达类。一辆车到达时需要生成一个Car对象，其中记录到达时间，这一个事件的发生还意味着若干事件之后还会到达下辆车，Arrive类\n",
    "- 汽车开始检查事件。\n",
    "- 汽车离开事件，Leave类"
   ]
  },
  {
   "cell_type": "code",
   "execution_count": 19,
   "metadata": {
    "ExecuteTime": {
     "end_time": "2019-11-29T14:18:20.120252Z",
     "start_time": "2019-11-29T14:18:19.881386Z"
    }
   },
   "outputs": [
    {
     "name": "stdout",
     "output_type": "stream",
     "text": [
      "event:0 , happens at car arrive \n",
      "event:0 , happens at car check\n",
      "event:1 , happens at car arrive \n",
      "event:1 , happens at car check\n",
      "event:3 , happens at car arrive \n",
      "event:3 , happens at car check\n",
      "event:4 , happens at car leave\n",
      "event:4 , happens at car arrive \n",
      "event:4 , happens at car check\n",
      "event:5 , happens at car leave\n",
      "event:6 , happens at car arrive \n",
      "event:6 , happens at car check\n",
      "event:7 , happens at car arrive \n",
      "event:8 , happens at car leave\n",
      "event:8 , happens at car check\n",
      "event:9 , happens at car leave\n",
      "event:9 , happens at car arrive \n",
      "event:9 , happens at car check\n",
      "event:10 , happens at car leave\n",
      "event:11 , happens at car arrive \n",
      "event:11 , happens at car check\n",
      "event:13 , happens at car leave\n",
      "event:13 , happens at car leave\n",
      "event:13 , happens at car arrive \n",
      "event:13 , happens at car check\n",
      "event:14 , happens at car leave\n",
      "event:14 , happens at car arrive \n",
      "event:14 , happens at car check\n",
      "event:15 , happens at car arrive \n",
      "event:15 , happens at car check\n",
      "event:17 , happens at car leave\n",
      "event:17 , happens at car arrive \n",
      "event:17 , happens at car check\n",
      "event:18 , happens at car leave\n",
      "event:18 , happens at car arrive \n",
      "event:18 , happens at car check\n",
      "event:19 , happens at car leave\n",
      "event:20 , happens at car arrive \n",
      "event:20 , happens at car check\n",
      "event:21 , happens at car leave\n",
      "event:22 , happens at car arrive \n",
      "event:22 , happens at car check\n",
      "event:23 , happens at car leave\n",
      "event:24 , happens at car leave\n",
      "event:24 , happens at car arrive \n",
      "event:24 , happens at car check\n",
      "event:25 , happens at car leave\n",
      "event:25 , happens at car arrive \n",
      "event:25 , happens at car check\n",
      "event:27 , happens at car arrive \n",
      "event:27 , happens at car check\n",
      "event:28 , happens at car leave\n",
      "event:29 , happens at car arrive \n",
      "event:29 , happens at car check\n",
      "event:30 , happens at car leave\n",
      "event:30 , happens at car leave\n",
      "event:30 , happens at car arrive \n",
      "event:30 , happens at car check\n",
      "event:31 , happens at car arrive \n",
      "event:31 , happens at car check\n",
      "event:32 , happens at car arrive \n",
      "event:33 , happens at car leave\n",
      "event:33 , happens at car check\n",
      "event:33 , happens at car arrive \n",
      "event:34 , happens at car leave\n",
      "event:34 , happens at car check\n",
      "event:34 , happens at car arrive \n",
      "event:34 , happens at car leave\n",
      "event:34 , happens at car check\n",
      "event:35 , happens at car arrive \n",
      "event:37 , happens at car leave\n",
      "event:37 , happens at car check\n",
      "event:37 , happens at car arrive \n",
      "event:38 , happens at car arrive \n",
      "event:39 , happens at car leave\n",
      "event:39 , happens at car check\n",
      "event:39 , happens at car arrive \n",
      "event:39 , happens at car leave\n",
      "event:39 , happens at car check\n",
      "event:41 , happens at car leave\n",
      "event:41 , happens at car check\n",
      "event:41 , happens at car arrive \n",
      "event:43 , happens at car arrive \n",
      "event:44 , happens at car leave\n",
      "event:44 , happens at car check\n",
      "event:44 , happens at car arrive \n",
      "event:44 , happens at car leave\n",
      "event:44 , happens at car check\n",
      "event:45 , happens at car leave\n",
      "event:45 , happens at car check\n",
      "event:46 , happens at car arrive \n",
      "event:47 , happens at car leave\n",
      "event:47 , happens at car check\n",
      "event:48 , happens at car arrive \n",
      "event:49 , happens at car leave\n",
      "event:49 , happens at car check\n",
      "event:49 , happens at car arrive \n",
      "event:50 , happens at car leave\n",
      "event:50 , happens at car check\n",
      "event:51 , happens at car arrive \n",
      "event:52 , happens at car leave\n",
      "event:52 , happens at car check\n",
      "event:52 , happens at car leave\n",
      "event:53 , happens at car leave\n",
      "event:53 , happens at car arrive \n",
      "event:53 , happens at car check\n",
      "event:55 , happens at car leave\n",
      "event:55 , happens at car arrive \n",
      "event:55 , happens at car check\n",
      "event:56 , happens at car arrive \n",
      "event:56 , happens at car check\n",
      "event:57 , happens at car leave\n",
      "event:58 , happens at car arrive \n",
      "event:58 , happens at car check\n",
      "event:59 , happens at car arrive \n",
      "event:60 , happens at car leave\n",
      "event:60 , happens at car check\n",
      "event:60 , happens at car leave\n",
      "event:61 , happens at car arrive \n",
      "event:61 , happens at car check\n",
      "event:62 , happens at car leave\n",
      "event:63 , happens at car arrive \n",
      "event:63 , happens at car check\n",
      "event:64 , happens at car arrive \n",
      "event:65 , happens at car leave\n",
      "event:65 , happens at car check\n",
      "event:65 , happens at car leave\n",
      "event:66 , happens at car arrive \n",
      "event:66 , happens at car check\n",
      "event:67 , happens at car leave\n",
      "event:67 , happens at car arrive \n",
      "event:67 , happens at car check\n",
      "event:69 , happens at car arrive \n",
      "event:70 , happens at car leave\n",
      "event:70 , happens at car check\n",
      "event:71 , happens at car leave\n",
      "event:71 , happens at car arrive \n",
      "event:71 , happens at car check\n",
      "event:71 , happens at car leave\n",
      "event:73 , happens at car leave\n",
      "event:73 , happens at car arrive \n",
      "event:73 , happens at car check\n",
      "event:75 , happens at car leave\n",
      "event:75 , happens at car arrive \n",
      "event:75 , happens at car check\n",
      "event:77 , happens at car leave\n",
      "event:77 , happens at car arrive \n",
      "event:77 , happens at car check\n",
      "event:78 , happens at car arrive \n",
      "event:78 , happens at car check\n",
      "event:79 , happens at car leave\n",
      "event:80 , happens at car arrive \n",
      "event:80 , happens at car check\n",
      "event:81 , happens at car arrive \n",
      "event:82 , happens at car leave\n",
      "event:82 , happens at car check\n",
      "event:83 , happens at car leave\n",
      "event:83 , happens at car arrive \n",
      "event:83 , happens at car check\n",
      "event:83 , happens at car leave\n",
      "event:85 , happens at car arrive \n",
      "event:85 , happens at car check\n",
      "event:86 , happens at car leave\n",
      "event:86 , happens at car leave\n",
      "event:87 , happens at car arrive \n",
      "event:87 , happens at car check\n",
      "event:88 , happens at car leave\n",
      "event:89 , happens at car arrive \n",
      "event:89 , happens at car check\n",
      "event:91 , happens at car leave\n",
      "event:91 , happens at car arrive \n",
      "event:91 , happens at car check\n",
      "event:92 , happens at car leave\n",
      "event:92 , happens at car arrive \n",
      "event:92 , happens at car check\n",
      "event:94 , happens at car arrive \n",
      "event:94 , happens at car check\n",
      "event:95 , happens at car leave\n",
      "event:96 , happens at car leave\n",
      "event:96 , happens at car arrive \n",
      "event:96 , happens at car check\n",
      "event:98 , happens at car leave\n",
      "event:98 , happens at car arrive \n",
      "event:98 , happens at car check\n",
      "event:99 , happens at car arrive \n",
      "event:99 , happens at car check\n",
      "event:100 , happens at car arrive \n",
      "event:101 , happens at car leave\n",
      "event:101 , happens at car check\n",
      "event:101 , happens at car arrive \n",
      "event:102 , happens at car leave\n",
      "event:102 , happens at car check\n",
      "event:102 , happens at car arrive \n",
      "event:103 , happens at car leave\n",
      "event:103 , happens at car check\n",
      "event:104 , happens at car arrive \n",
      "event:105 , happens at car arrive \n",
      "event:106 , happens at car leave\n",
      "event:106 , happens at car check\n",
      "event:106 , happens at car arrive \n",
      "event:106 , happens at car leave\n",
      "event:106 , happens at car check\n",
      "event:107 , happens at car leave\n",
      "event:107 , happens at car check\n",
      "event:107 , happens at car arrive \n",
      "event:109 , happens at car leave\n",
      "event:109 , happens at car check\n",
      "event:109 , happens at car arrive \n",
      "event:109 , happens at car leave\n",
      "event:109 , happens at car check\n",
      "event:111 , happens at car leave\n",
      "event:111 , happens at car arrive \n",
      "event:111 , happens at car check\n",
      "event:112 , happens at car leave\n",
      "event:113 , happens at car arrive \n",
      "event:113 , happens at car check\n",
      "event:114 , happens at car leave\n",
      "event:115 , happens at car leave\n",
      "event:115 , happens at car arrive \n",
      "event:115 , happens at car check\n",
      "event:116 , happens at car leave\n",
      "event:117 , happens at car arrive \n",
      "event:117 , happens at car check\n",
      "event:118 , happens at car arrive \n",
      "event:118 , happens at car check\n",
      "event:119 , happens at car leave\n",
      "event:120 , happens at car arrive \n",
      "event:120 , happens at car check\n",
      "event:121 , happens at car leave\n",
      "event:121 , happens at car leave\n",
      "event:121 , happens at car arrive \n",
      "event:121 , happens at car check\n",
      "event:123 , happens at car arrive \n",
      "event:123 , happens at car check\n",
      "event:124 , happens at car leave\n",
      "event:124 , happens at car leave\n",
      "event:124 , happens at car arrive \n",
      "event:124 , happens at car check\n",
      "event:125 , happens at car arrive \n",
      "event:125 , happens at car check\n",
      "event:127 , happens at car arrive \n",
      "event:128 , happens at car leave\n",
      "event:128 , happens at car check\n",
      "event:128 , happens at car arrive \n",
      "event:128 , happens at car leave\n",
      "event:128 , happens at car check\n",
      "event:130 , happens at car leave\n",
      "event:130 , happens at car arrive \n",
      "event:130 , happens at car check\n",
      "event:131 , happens at car leave\n",
      "event:132 , happens at car leave\n",
      "event:132 , happens at car arrive \n",
      "event:132 , happens at car check\n",
      "event:133 , happens at car leave\n",
      "event:133 , happens at car arrive \n",
      "event:133 , happens at car check\n",
      "event:135 , happens at car arrive \n",
      "event:135 , happens at car check\n",
      "event:136 , happens at car leave\n",
      "event:137 , happens at car arrive \n",
      "event:137 , happens at car check\n",
      "event:138 , happens at car leave\n",
      "event:138 , happens at car arrive \n",
      "event:138 , happens at car check\n",
      "event:139 , happens at car arrive \n",
      "event:140 , happens at car leave\n",
      "event:140 , happens at car check\n",
      "event:141 , happens at car arrive \n",
      "event:142 , happens at car leave\n",
      "event:142 , happens at car check\n",
      "event:142 , happens at car leave\n",
      "event:143 , happens at car leave\n",
      "event:143 , happens at car arrive \n",
      "event:143 , happens at car check\n",
      "event:144 , happens at car arrive \n",
      "event:144 , happens at car check\n",
      "event:146 , happens at car arrive \n",
      "event:147 , happens at car leave\n",
      "event:147 , happens at car check\n",
      "event:147 , happens at car arrive \n",
      "event:147 , happens at car leave\n",
      "event:147 , happens at car check\n",
      "event:149 , happens at car leave\n",
      "event:149 , happens at car arrive \n",
      "event:149 , happens at car check\n",
      "event:151 , happens at car leave\n",
      "event:151 , happens at car arrive \n",
      "event:151 , happens at car check\n",
      "event:152 , happens at car leave\n",
      "event:152 , happens at car arrive \n",
      "event:152 , happens at car check\n",
      "event:153 , happens at car leave\n",
      "event:154 , happens at car leave\n",
      "event:154 , happens at car arrive \n",
      "event:154 , happens at car check\n",
      "event:155 , happens at car arrive \n",
      "event:155 , happens at car check\n",
      "event:156 , happens at car leave\n",
      "event:156 , happens at car arrive \n",
      "event:156 , happens at car check\n",
      "event:157 , happens at car arrive \n",
      "event:158 , happens at car leave\n",
      "event:158 , happens at car check\n",
      "event:159 , happens at car leave\n",
      "event:159 , happens at car arrive \n",
      "event:159 , happens at car check\n",
      "event:160 , happens at car leave\n",
      "event:161 , happens at car arrive \n",
      "event:161 , happens at car check\n",
      "event:163 , happens at car leave\n",
      "event:163 , happens at car arrive \n",
      "event:163 , happens at car check\n",
      "event:164 , happens at car leave\n",
      "event:164 , happens at car arrive \n",
      "event:164 , happens at car check\n",
      "event:165 , happens at car leave\n",
      "event:166 , happens at car leave\n",
      "event:166 , happens at car arrive \n",
      "event:166 , happens at car check\n",
      "event:168 , happens at car leave\n",
      "event:168 , happens at car arrive \n",
      "event:168 , happens at car check\n",
      "event:169 , happens at car leave\n",
      "event:169 , happens at car arrive \n",
      "event:169 , happens at car check\n",
      "event:171 , happens at car leave\n",
      "event:171 , happens at car arrive \n",
      "event:171 , happens at car check\n",
      "event:173 , happens at car arrive \n",
      "event:173 , happens at car check\n",
      "event:174 , happens at car leave\n",
      "event:174 , happens at car leave\n",
      "event:175 , happens at car arrive \n",
      "event:175 , happens at car check\n",
      "event:176 , happens at car arrive \n",
      "event:176 , happens at car check\n",
      "event:177 , happens at car arrive \n",
      "event:178 , happens at car leave\n",
      "event:178 , happens at car check\n",
      "event:179 , happens at car leave\n",
      "event:179 , happens at car arrive \n",
      "event:179 , happens at car check\n",
      "event:181 , happens at car leave\n",
      "event:181 , happens at car leave\n",
      "event:181 , happens at car arrive \n",
      "event:181 , happens at car check\n",
      "event:183 , happens at car arrive \n",
      "event:183 , happens at car check\n",
      "event:184 , happens at car leave\n",
      "event:184 , happens at car leave\n",
      "event:185 , happens at car arrive \n",
      "event:185 , happens at car check\n",
      "event:186 , happens at car arrive \n",
      "event:186 , happens at car check\n",
      "event:187 , happens at car leave\n",
      "event:187 , happens at car arrive \n",
      "event:187 , happens at car check\n",
      "event:188 , happens at car leave\n",
      "event:189 , happens at car arrive \n",
      "event:189 , happens at car check\n",
      "event:191 , happens at car leave\n",
      "event:191 , happens at car arrive \n",
      "event:191 , happens at car check\n",
      "event:192 , happens at car leave\n",
      "event:192 , happens at car arrive \n",
      "event:192 , happens at car check\n",
      "event:193 , happens at car arrive \n",
      "event:194 , happens at car leave\n",
      "event:194 , happens at car check\n",
      "event:194 , happens at car leave\n",
      "event:195 , happens at car arrive \n",
      "event:195 , happens at car check\n",
      "event:197 , happens at car leave\n",
      "event:197 , happens at car arrive \n",
      "event:197 , happens at car check\n",
      "event:198 , happens at car leave\n",
      "event:199 , happens at car leave\n",
      "event:199 , happens at car arrive \n",
      "event:199 , happens at car check\n",
      "event:200 , happens at car arrive \n",
      "event:200 , happens at car check\n",
      "event:201 , happens at car arrive \n",
      "event:202 , happens at car leave\n",
      "event:202 , happens at car check\n",
      "event:203 , happens at car leave\n",
      "event:203 , happens at car arrive \n",
      "event:203 , happens at car check\n",
      "event:204 , happens at car leave\n",
      "event:204 , happens at car arrive \n",
      "event:204 , happens at car check\n",
      "event:205 , happens at car leave\n",
      "event:206 , happens at car arrive \n",
      "event:206 , happens at car check\n",
      "event:208 , happens at car leave\n",
      "event:208 , happens at car arrive \n",
      "event:208 , happens at car check\n",
      "event:209 , happens at car leave\n",
      "event:210 , happens at car arrive \n",
      "event:210 , happens at car check\n",
      "event:211 , happens at car leave\n",
      "event:211 , happens at car leave\n",
      "event:212 , happens at car arrive \n",
      "event:212 , happens at car check\n",
      "event:213 , happens at car arrive \n",
      "event:213 , happens at car check\n",
      "event:214 , happens at car arrive \n",
      "event:215 , happens at car leave\n",
      "event:215 , happens at car check\n",
      "event:215 , happens at car leave\n",
      "event:216 , happens at car leave\n",
      "event:216 , happens at car arrive \n",
      "event:216 , happens at car check\n",
      "event:217 , happens at car arrive \n",
      "event:217 , happens at car check\n",
      "event:218 , happens at car leave\n",
      "event:219 , happens at car arrive \n",
      "event:219 , happens at car check\n",
      "event:220 , happens at car leave\n",
      "event:220 , happens at car leave\n",
      "event:221 , happens at car arrive \n",
      "event:221 , happens at car check\n",
      "event:222 , happens at car leave\n",
      "event:222 , happens at car arrive \n",
      "event:222 , happens at car check\n",
      "event:224 , happens at car leave\n",
      "event:224 , happens at car arrive \n",
      "event:224 , happens at car check\n",
      "event:226 , happens at car leave\n",
      "event:226 , happens at car arrive \n",
      "event:226 , happens at car check\n",
      "event:227 , happens at car leave\n",
      "event:227 , happens at car arrive \n",
      "event:227 , happens at car check\n",
      "event:228 , happens at car arrive \n",
      "event:228 , happens at car check\n",
      "event:229 , happens at car leave\n",
      "event:230 , happens at car arrive \n",
      "event:230 , happens at car check\n",
      "event:231 , happens at car leave\n",
      "event:231 , happens at car arrive \n",
      "event:231 , happens at car check\n",
      "event:233 , happens at car leave\n",
      "event:233 , happens at car arrive \n",
      "event:233 , happens at car check\n",
      "event:234 , happens at car leave\n",
      "event:234 , happens at car arrive \n",
      "event:234 , happens at car check\n",
      "event:235 , happens at car arrive \n",
      "event:236 , happens at car leave\n",
      "event:236 , happens at car check\n",
      "event:236 , happens at car leave\n",
      "event:237 , happens at car arrive \n",
      "event:237 , happens at car check\n",
      "event:238 , happens at car leave\n",
      "event:239 , happens at car arrive \n",
      "event:239 , happens at car check\n",
      "event:241 , happens at car leave\n",
      "event:241 , happens at car arrive \n",
      "event:241 , happens at car check\n",
      "event:242 , happens at car leave\n",
      "event:242 , happens at car leave\n",
      "event:243 , happens at car arrive \n",
      "event:243 , happens at car check\n",
      "event:244 , happens at car arrive \n",
      "event:244 , happens at car check\n",
      "event:245 , happens at car leave\n",
      "event:246 , happens at car arrive \n",
      "event:246 , happens at car check\n",
      "event:247 , happens at car leave\n",
      "event:247 , happens at car arrive \n",
      "event:247 , happens at car check\n",
      "event:248 , happens at car leave\n",
      "event:248 , happens at car arrive \n",
      "event:248 , happens at car check\n",
      "event:249 , happens at car leave\n",
      "event:250 , happens at car leave\n",
      "event:250 , happens at car arrive \n",
      "event:250 , happens at car check\n",
      "event:251 , happens at car leave\n",
      "event:252 , happens at car arrive \n",
      "event:252 , happens at car check\n",
      "event:254 , happens at car arrive \n",
      "event:254 , happens at car check\n",
      "event:255 , happens at car leave\n",
      "event:255 , happens at car leave\n",
      "event:255 , happens at car arrive \n",
      "event:255 , happens at car check\n",
      "event:257 , happens at car leave\n",
      "event:257 , happens at car arrive \n",
      "event:257 , happens at car check\n",
      "event:259 , happens at car arrive \n",
      "event:259 , happens at car check\n",
      "event:260 , happens at car leave\n",
      "event:261 , happens at car arrive \n",
      "event:261 , happens at car check\n",
      "event:262 , happens at car leave\n",
      "event:263 , happens at car leave\n",
      "event:263 , happens at car arrive \n",
      "event:263 , happens at car check\n",
      "event:264 , happens at car leave\n",
      "event:264 , happens at car arrive \n",
      "event:264 , happens at car check\n",
      "event:266 , happens at car arrive \n",
      "event:266 , happens at car check\n",
      "event:268 , happens at car leave\n",
      "event:268 , happens at car arrive \n",
      "event:268 , happens at car check\n",
      "event:269 , happens at car leave\n",
      "event:269 , happens at car arrive \n",
      "event:269 , happens at car check\n",
      "event:270 , happens at car leave\n",
      "event:270 , happens at car arrive \n",
      "event:270 , happens at car check\n",
      "event:272 , happens at car leave\n",
      "event:272 , happens at car arrive \n",
      "event:272 , happens at car check\n",
      "event:273 , happens at car leave\n",
      "event:273 , happens at car arrive \n",
      "event:273 , happens at car check\n",
      "event:274 , happens at car arrive \n",
      "event:275 , happens at car leave\n",
      "event:275 , happens at car check\n",
      "event:275 , happens at car arrive \n",
      "event:276 , happens at car leave\n",
      "event:276 , happens at car check\n",
      "event:276 , happens at car arrive \n",
      "event:278 , happens at car leave\n",
      "event:278 , happens at car check\n",
      "event:278 , happens at car arrive \n",
      "event:279 , happens at car leave\n",
      "event:279 , happens at car check\n",
      "event:279 , happens at car arrive \n",
      "event:279 , happens at car leave\n",
      "event:279 , happens at car check\n",
      "event:280 , happens at car arrive \n",
      "event:281 , happens at car leave\n",
      "event:281 , happens at car check\n",
      "event:282 , happens at car arrive \n",
      "event:283 , happens at car leave\n",
      "event:283 , happens at car check\n",
      "event:283 , happens at car arrive \n",
      "event:284 , happens at car leave\n",
      "event:284 , happens at car check\n",
      "event:284 , happens at car arrive \n",
      "event:284 , happens at car leave\n",
      "event:284 , happens at car check\n",
      "event:286 , happens at car arrive \n",
      "event:287 , happens at car leave\n",
      "event:287 , happens at car check\n",
      "event:287 , happens at car leave\n",
      "event:288 , happens at car arrive \n",
      "event:288 , happens at car check\n",
      "event:288 , happens at car leave\n",
      "event:290 , happens at car arrive \n",
      "event:290 , happens at car check\n",
      "event:291 , happens at car arrive \n",
      "event:292 , happens at car leave\n",
      "event:292 , happens at car check\n",
      "event:292 , happens at car leave\n",
      "event:293 , happens at car arrive \n",
      "event:293 , happens at car check\n",
      "event:294 , happens at car leave\n",
      "event:295 , happens at car arrive \n",
      "event:295 , happens at car check\n",
      "event:296 , happens at car arrive \n",
      "event:297 , happens at car leave\n",
      "event:297 , happens at car check\n",
      "event:298 , happens at car leave\n",
      "event:298 , happens at car arrive \n",
      "event:298 , happens at car check\n",
      "event:300 , happens at car leave\n",
      "event:300 , happens at car arrive \n",
      "event:300 , happens at car check\n",
      "event:301 , happens at car leave\n",
      "event:301 , happens at car arrive \n",
      "event:301 , happens at car check\n",
      "event:302 , happens at car leave\n",
      "event:303 , happens at car arrive \n",
      "event:303 , happens at car check\n",
      "event:304 , happens at car leave\n",
      "event:304 , happens at car leave\n",
      "event:304 , happens at car arrive \n",
      "event:304 , happens at car check\n",
      "event:306 , happens at car arrive \n",
      "event:306 , happens at car check\n",
      "event:308 , happens at car leave\n",
      "event:308 , happens at car arrive \n",
      "event:308 , happens at car check\n",
      "event:309 , happens at car leave\n",
      "event:310 , happens at car leave\n",
      "event:310 , happens at car arrive \n",
      "event:310 , happens at car check\n",
      "event:311 , happens at car arrive \n",
      "event:311 , happens at car check\n",
      "event:312 , happens at car arrive \n",
      "event:313 , happens at car leave\n",
      "event:313 , happens at car check\n",
      "event:313 , happens at car leave\n",
      "event:314 , happens at car leave\n",
      "event:314 , happens at car arrive \n",
      "event:314 , happens at car check\n",
      "event:315 , happens at car arrive \n",
      "event:315 , happens at car check\n",
      "event:317 , happens at car arrive \n",
      "event:318 , happens at car leave\n",
      "event:318 , happens at car check\n",
      "event:319 , happens at car leave\n",
      "event:319 , happens at car arrive \n",
      "event:319 , happens at car check\n",
      "event:319 , happens at car leave\n",
      "event:321 , happens at car leave\n",
      "event:321 , happens at car arrive \n",
      "event:321 , happens at car check\n",
      "event:322 , happens at car leave\n",
      "event:322 , happens at car arrive \n",
      "event:322 , happens at car check\n",
      "event:324 , happens at car leave\n",
      "event:324 , happens at car arrive \n",
      "event:324 , happens at car check\n",
      "event:325 , happens at car arrive \n",
      "event:325 , happens at car check\n",
      "event:327 , happens at car leave\n",
      "event:327 , happens at car arrive \n",
      "event:327 , happens at car check\n",
      "event:328 , happens at car leave\n",
      "event:329 , happens at car arrive \n",
      "event:329 , happens at car check\n",
      "event:330 , happens at car leave\n",
      "event:331 , happens at car leave\n",
      "event:331 , happens at car arrive \n",
      "event:331 , happens at car check\n",
      "event:332 , happens at car arrive \n",
      "event:332 , happens at car check\n",
      "event:333 , happens at car arrive \n",
      "event:334 , happens at car leave\n",
      "event:334 , happens at car check\n",
      "event:334 , happens at car arrive \n",
      "event:335 , happens at car leave\n",
      "event:335 , happens at car check\n",
      "event:335 , happens at car leave\n",
      "event:336 , happens at car arrive \n",
      "event:336 , happens at car check\n",
      "event:337 , happens at car arrive \n",
      "event:339 , happens at car leave\n",
      "event:339 , happens at car check\n",
      "event:339 , happens at car leave\n",
      "event:339 , happens at car arrive \n",
      "event:339 , happens at car check\n",
      "event:339 , happens at car leave\n",
      "event:340 , happens at car arrive \n",
      "event:340 , happens at car check\n",
      "event:341 , happens at car arrive \n",
      "event:343 , happens at car leave\n",
      "event:343 , happens at car check\n",
      "event:343 , happens at car arrive \n",
      "event:344 , happens at car leave\n",
      "event:344 , happens at car check\n",
      "event:345 , happens at car arrive \n",
      "event:345 , happens at car leave\n",
      "event:345 , happens at car check\n",
      "event:346 , happens at car arrive \n",
      "event:347 , happens at car leave\n",
      "event:347 , happens at car check\n",
      "event:347 , happens at car arrive \n",
      "event:347 , happens at car leave\n",
      "event:347 , happens at car check\n",
      "event:348 , happens at car arrive \n",
      "event:349 , happens at car leave\n",
      "event:349 , happens at car check\n",
      "event:349 , happens at car arrive \n",
      "event:350 , happens at car leave\n",
      "event:350 , happens at car check\n",
      "event:351 , happens at car arrive \n",
      "event:352 , happens at car leave\n",
      "event:352 , happens at car check\n",
      "event:352 , happens at car arrive \n",
      "event:352 , happens at car leave\n",
      "event:352 , happens at car check\n",
      "event:353 , happens at car arrive \n",
      "event:354 , happens at car leave\n",
      "event:354 , happens at car check\n",
      "event:354 , happens at car arrive \n",
      "event:356 , happens at car arrive \n",
      "event:357 , happens at car leave\n",
      "event:357 , happens at car check\n",
      "event:357 , happens at car leave\n",
      "event:357 , happens at car check\n",
      "event:357 , happens at car arrive \n",
      "event:357 , happens at car leave\n",
      "event:357 , happens at car check\n",
      "event:358 , happens at car arrive \n",
      "event:360 , happens at car arrive \n",
      "event:361 , happens at car leave\n",
      "event:361 , happens at car check\n",
      "event:361 , happens at car arrive \n",
      "event:362 , happens at car leave\n",
      "event:362 , happens at car check\n",
      "event:362 , happens at car arrive \n",
      "event:362 , happens at car leave\n",
      "event:362 , happens at car check\n",
      "event:363 , happens at car arrive \n",
      "event:365 , happens at car arrive \n",
      "event:366 , happens at car leave\n",
      "event:366 , happens at car check\n",
      "event:366 , happens at car leave\n",
      "event:366 , happens at car check\n",
      "event:366 , happens at car arrive \n",
      "event:366 , happens at car leave\n",
      "event:366 , happens at car check\n",
      "event:368 , happens at car arrive \n",
      "event:369 , happens at car leave\n",
      "event:369 , happens at car check\n",
      "event:370 , happens at car leave\n",
      "event:370 , happens at car check\n",
      "event:370 , happens at car arrive \n",
      "event:371 , happens at car leave\n",
      "event:371 , happens at car check\n",
      "event:372 , happens at car arrive \n",
      "event:373 , happens at car arrive \n",
      "event:374 , happens at car leave\n",
      "event:374 , happens at car check\n",
      "event:374 , happens at car leave\n",
      "event:374 , happens at car check\n",
      "event:374 , happens at car arrive \n",
      "event:374 , happens at car leave\n",
      "event:374 , happens at car check\n",
      "event:375 , happens at car arrive \n",
      "event:376 , happens at car arrive \n",
      "event:377 , happens at car leave\n",
      "event:377 , happens at car check\n",
      "event:378 , happens at car leave\n",
      "event:378 , happens at car check\n",
      "event:378 , happens at car arrive \n",
      "event:379 , happens at car leave\n",
      "event:379 , happens at car check\n",
      "event:379 , happens at car arrive \n",
      "event:380 , happens at car arrive \n",
      "event:381 , happens at car leave\n",
      "event:381 , happens at car check\n",
      "event:382 , happens at car arrive \n",
      "event:382 , happens at car leave\n",
      "event:382 , happens at car check\n",
      "event:383 , happens at car leave\n",
      "event:383 , happens at car check\n",
      "event:383 , happens at car arrive \n",
      "event:384 , happens at car leave\n",
      "event:384 , happens at car check\n",
      "event:384 , happens at car arrive \n",
      "event:385 , happens at car arrive \n",
      "event:386 , happens at car leave\n",
      "event:386 , happens at car check\n",
      "event:386 , happens at car arrive \n",
      "event:387 , happens at car leave\n",
      "event:387 , happens at car check\n",
      "event:387 , happens at car leave\n",
      "event:387 , happens at car check\n",
      "event:388 , happens at car arrive \n",
      "event:389 , happens at car arrive \n",
      "event:390 , happens at car leave\n",
      "event:390 , happens at car check\n",
      "event:391 , happens at car leave\n",
      "event:391 , happens at car check\n",
      "event:391 , happens at car arrive \n",
      "event:391 , happens at car leave\n",
      "event:391 , happens at car check\n",
      "event:392 , happens at car arrive \n",
      "event:393 , happens at car leave\n",
      "event:393 , happens at car check\n",
      "event:393 , happens at car arrive \n",
      "event:394 , happens at car leave\n",
      "event:394 , happens at car check\n",
      "event:395 , happens at car leave\n",
      "event:395 , happens at car arrive \n",
      "event:395 , happens at car check\n",
      "event:396 , happens at car arrive \n",
      "event:397 , happens at car leave\n",
      "event:397 , happens at car check\n",
      "event:398 , happens at car leave\n",
      "event:398 , happens at car arrive \n",
      "event:398 , happens at car check\n",
      "event:398 , happens at car leave\n",
      "event:400 , happens at car leave\n",
      "event:400 , happens at car arrive \n",
      "event:400 , happens at car check\n",
      "event:401 , happens at car leave\n",
      "event:401 , happens at car arrive \n",
      "event:401 , happens at car check\n",
      "event:403 , happens at car leave\n",
      "event:403 , happens at car arrive \n",
      "event:403 , happens at car check\n",
      "event:405 , happens at car leave\n",
      "event:405 , happens at car arrive \n",
      "event:405 , happens at car check\n",
      "event:406 , happens at car arrive \n",
      "event:406 , happens at car check\n",
      "event:407 , happens at car leave\n",
      "event:407 , happens at car arrive \n",
      "event:407 , happens at car check\n",
      "event:408 , happens at car arrive \n",
      "event:409 , happens at car arrive \n",
      "event:410 , happens at car leave\n",
      "event:410 , happens at car check\n",
      "event:410 , happens at car leave\n",
      "event:410 , happens at car check\n",
      "event:411 , happens at car leave\n",
      "event:411 , happens at car arrive \n",
      "event:411 , happens at car check\n",
      "event:412 , happens at car arrive \n",
      "event:413 , happens at car leave\n",
      "event:413 , happens at car check\n",
      "event:414 , happens at car leave\n",
      "event:414 , happens at car arrive \n",
      "event:414 , happens at car check\n",
      "event:416 , happens at car leave\n",
      "event:416 , happens at car leave\n",
      "event:416 , happens at car arrive \n",
      "event:416 , happens at car check\n",
      "event:417 , happens at car leave\n",
      "event:417 , happens at car arrive \n",
      "event:417 , happens at car check\n",
      "event:419 , happens at car arrive \n",
      "event:419 , happens at car check\n",
      "event:421 , happens at car leave\n",
      "event:421 , happens at car arrive \n",
      "event:421 , happens at car check\n",
      "event:422 , happens at car leave\n",
      "event:422 , happens at car arrive \n",
      "event:422 , happens at car check\n",
      "event:423 , happens at car arrive \n",
      "event:424 , happens at car leave\n",
      "event:424 , happens at car check\n",
      "event:424 , happens at car arrive \n",
      "event:425 , happens at car leave\n",
      "event:425 , happens at car check\n",
      "event:426 , happens at car arrive \n",
      "event:426 , happens at car leave\n",
      "event:426 , happens at car check\n",
      "event:428 , happens at car arrive \n",
      "event:429 , happens at car leave\n",
      "event:429 , happens at car check\n",
      "event:429 , happens at car leave\n",
      "event:430 , happens at car leave\n",
      "event:430 , happens at car arrive \n",
      "event:430 , happens at car check\n",
      "event:432 , happens at car arrive \n",
      "event:432 , happens at car check\n",
      "event:434 , happens at car leave\n",
      "event:434 , happens at car leave\n",
      "event:434 , happens at car arrive \n",
      "event:434 , happens at car check\n",
      "event:436 , happens at car leave\n",
      "event:436 , happens at car arrive \n",
      "event:436 , happens at car check\n",
      "event:438 , happens at car leave\n",
      "event:438 , happens at car arrive \n",
      "event:438 , happens at car check\n",
      "event:439 , happens at car leave\n",
      "event:440 , happens at car arrive \n",
      "event:440 , happens at car check\n",
      "event:441 , happens at car leave\n",
      "event:442 , happens at car arrive \n",
      "event:442 , happens at car check\n",
      "event:443 , happens at car leave\n",
      "event:444 , happens at car arrive \n",
      "event:444 , happens at car check\n",
      "event:445 , happens at car arrive \n",
      "event:445 , happens at car check\n",
      "event:446 , happens at car leave\n",
      "event:447 , happens at car arrive \n",
      "event:447 , happens at car check\n",
      "event:448 , happens at car leave\n",
      "event:448 , happens at car arrive \n",
      "event:448 , happens at car check\n",
      "event:449 , happens at car arrive \n",
      "event:450 , happens at car leave\n",
      "event:450 , happens at car check\n",
      "event:450 , happens at car arrive \n",
      "event:450 , happens at car leave\n",
      "event:450 , happens at car check\n",
      "event:451 , happens at car leave\n",
      "event:452 , happens at car arrive \n",
      "event:452 , happens at car check\n",
      "event:454 , happens at car leave\n",
      "event:454 , happens at car arrive \n",
      "event:454 , happens at car check\n",
      "event:455 , happens at car leave\n",
      "event:455 , happens at car leave\n",
      "event:455 , happens at car arrive \n",
      "event:455 , happens at car check\n",
      "event:457 , happens at car leave\n",
      "event:457 , happens at car arrive \n",
      "event:457 , happens at car check\n",
      "event:458 , happens at car leave\n",
      "event:459 , happens at car arrive \n",
      "event:459 , happens at car check\n",
      "event:461 , happens at car leave\n",
      "event:461 , happens at car arrive \n",
      "event:461 , happens at car check\n",
      "event:462 , happens at car leave\n",
      "event:463 , happens at car arrive \n",
      "event:463 , happens at car check\n",
      "event:465 , happens at car leave\n",
      "event:465 , happens at car arrive \n",
      "event:465 , happens at car check\n",
      "event:466 , happens at car leave\n",
      "event:467 , happens at car arrive \n",
      "event:467 , happens at car check\n",
      "event:468 , happens at car leave\n",
      "event:468 , happens at car arrive \n",
      "event:468 , happens at car check\n",
      "event:470 , happens at car arrive \n",
      "event:470 , happens at car check\n",
      "event:471 , happens at car leave\n",
      "event:471 , happens at car arrive \n",
      "event:471 , happens at car check\n",
      "event:473 , happens at car leave\n",
      "event:473 , happens at car leave\n",
      "event:473 , happens at car arrive \n",
      "event:473 , happens at car check\n",
      "event:475 , happens at car leave\n",
      "event:475 , happens at car arrive \n",
      "event:475 , happens at car check\n",
      "event:477 , happens at car leave\n",
      "event:477 , happens at car arrive \n",
      "event:477 , happens at car check\n",
      "event:478 , happens at car leave\n",
      "event:479 , happens at car arrive \n",
      "event:479 , happens at car check\n",
      "event:480 , happens at car arrive \n",
      "event:480 , happens at car check\n",
      "Simulation 480minutes, for 3gates\n",
      "308 cars pass the customs\n",
      "平均等待时间 0.40584415584415584\n",
      "平均通过时间 4.39935064935065\n",
      "0 辆车在等待过关\n"
     ]
    }
   ],
   "source": [
    "class Arrive(SimulationEventBase):\n",
    "    \"\"\"汽车到达类\"\"\"\n",
    "    def __init__(self, arrive_time, customs):\n",
    "        \"\"\"构造函数\"\"\"\n",
    "        # 先调用基类的构造函数吧\n",
    "        SimulationEventBase.__init__(self, arrive_time, customs)\n",
    "        # 调用模拟器，将这个事件添加进队列\n",
    "        customs.add_event(self)\n",
    "    def run(self):\n",
    "        \"\"\"这个事件类的运行\"\"\"\n",
    "        time, customs = self.time(), self.host()\n",
    "        event_log(time, \"car arrive \")\n",
    "        # 生成下一个车辆到达,这里*表示参数是类似(3,5)，我是永区间\n",
    "        Arrive(time+randint(*customs.arrive_interval), customs)\n",
    "        # 下面是本辆车到达时的行为\n",
    "        car = Car(time)\n",
    "        if customs.has_queued_car():  # 如果有车辆在等待\n",
    "            customs.enqueue(car) # 添加这辆车到等待队列\n",
    "            return \n",
    "        i = customs.find_gate()  # 检查空闲通道\n",
    "        if i is not None:\n",
    "            event_log(time, \"car check\")  # 有空闲的关口，就检查了，然后放出汽车离开事件\n",
    "            Leave(time+randint(*customs.check_interval),i ,car , customs)  # \n",
    "        else:\n",
    "            customs.enqueue(car)\n",
    "            \n",
    "class Leave(SimulationEventBase):\n",
    "    \"\"\"汽车离开事件\"\"\"\n",
    "    def __init__(self, leave_time, gate_num, car, customs):\n",
    "        \"\"\"构造函数\"\"\"\n",
    "        SimulationEventBase.__init__(self, leave_time, customs)\n",
    "        self.car = car\n",
    "        self.gate_num = gate_num\n",
    "        customs.add_event(self)\n",
    "    def run(self):\n",
    "        time, customs = self.time(), self.host()\n",
    "        event_log(time, \"car leave\")\n",
    "        customs.free_gate(self.gate_num)  # 这个检查口就空闲啦\n",
    "        customs.car_count_1()  # 统计车辆加1\n",
    "        customs.total_time_acc(time - self.car.arrive_time())  # 统计检查时间\n",
    "        # 因为这一辆车离开了，那么就要判断是否有其他等待的车辆啦。\n",
    "        # 如下是判断是否还有别的车在等待\n",
    "        # 如果有就开始检查其中一辆车，并且生成相应的离开时间。\n",
    "        if customs.has_queued_car():\n",
    "            car = customs.next_car()  # 取得下一辆车\n",
    "            i = customs.find_gate()  \n",
    "            event_log(time, \"car check\")\n",
    "            customs.wait_time_acc(time - car.arrive_time())  # 统计检查时间\n",
    "            Leave(time+randint(*customs.check_interval),self.gate_num ,car , customs)\n",
    "# 如下是实际模拟\n",
    "car_arrive_interval=(1,2)\n",
    "car_check_time=(3,5)\n",
    "cus = Customs(3, 480, car_arrive_interval, car_check_time)\n",
    "cus.run()"
   ]
  },
  {
   "cell_type": "markdown",
   "metadata": {},
   "source": [
    "总结一下工作 \n",
    "- Simulation 类和SimulationEventBase类实现了一个支持离散事件模拟的通用框架。\n",
    "   - Simulation : 模拟器类\n",
    "   - SimulationEventBase  ：事件的基类\n",
    "      - 事件类的run方法通过生成新事件完成模拟过程的实际控制。\n",
    "      - 两个子类\n",
    "         - Arrive ： 车辆到达,执行动作是产生下一辆车以及这辆车是直接到检查口还是到等待队列中。\n",
    "         - Leave : 车辆离开，执行动作，释放这个检查口，以及看看等待队列中是否有车在等待，如果有车等待，就立刻检查，并且这辆车也做一个离开事件。\n",
    "- Customs 实现了海关检查系统站模拟系统的基础支撑功能和主控函数\n",
    "   - 用一些队列做缓冲，保存已经来临但不能立即检查的车辆\n"
   ]
  },
  {
   "cell_type": "markdown",
   "metadata": {
    "toc-hr-collapsed": true
   },
   "source": [
    "# 二叉树的类的实现"
   ]
  },
  {
   "cell_type": "markdown",
   "metadata": {},
   "source": [
    "## 二叉树结点类"
   ]
  },
  {
   "cell_type": "code",
   "execution_count": 20,
   "metadata": {
    "ExecuteTime": {
     "end_time": "2019-11-29T14:23:50.898933Z",
     "start_time": "2019-11-29T14:23:50.892935Z"
    }
   },
   "outputs": [],
   "source": [
    "class BinTNode():\n",
    "    def __init__(self, data, left=None, right=None):\n",
    "        self.data = data\n",
    "        self.left = left\n",
    "        self.right = right\n"
   ]
  },
  {
   "cell_type": "markdown",
   "metadata": {},
   "source": [
    "然后这种定义是递归定义，会非常的方便遍历整个二叉树"
   ]
  },
  {
   "cell_type": "code",
   "execution_count": 21,
   "metadata": {
    "ExecuteTime": {
     "end_time": "2019-11-29T14:25:17.662619Z",
     "start_time": "2019-11-29T14:25:17.656622Z"
    }
   },
   "outputs": [],
   "source": [
    "def count_BinTNote(t):\n",
    "    if t is None:\n",
    "        return 0\n",
    "    else:\n",
    "        return 1 + count_BinTNote(t.left) + count_BinTNote(t.right)"
   ]
  },
  {
   "cell_type": "markdown",
   "metadata": {},
   "source": [
    "遍历二叉树包含2个部分，  \n",
    "- 描述对空树的处理，应该直接给出结果\n",
    "- 描述非空子树的处理：\n",
    "   - 如果处理根节点，（处理根节点数据时应立刻直接给出结果）\n",
    "   - 通过递归调用分别处理左右子树\n",
    "   - 基于上述三个部分的处理结果得到整个子树的处理结果，这里包括根节点，左右子树"
   ]
  },
  {
   "cell_type": "markdown",
   "metadata": {},
   "source": [
    "# 哈夫曼树"
   ]
  },
  {
   "cell_type": "markdown",
   "metadata": {},
   "source": [
    "前面说过扩充二叉树的外部路径长度，即根到其外部结点的路径长度之和  \n",
    "$E = \\sum\\limits_{i=1}^{m} l_i $ , 其中m为扩充二叉树中外部结点的个数，$l_i$ 是从根到外部结点i的路径长度  \n",
    "**带权扩充二叉树的外部路径及长度**  \n",
    "给扩充二叉树的每个外部结点标一个数字，称为该节点的权，表示与该页有关的性质，进而*定义带权扩充二叉树*的外部路径长度  \n",
    "$WPL = \\sum\\limits_{i=1}^{m} w_i l_i$ , 其中$w_i$ 是外部结点i的权  \n",
    "**哈夫曼树**  \n",
    "定义： 设有实数集$W={w_o,w_1,\\cdots w_m-1}$ ,T是一颗扩充二叉树，其*m*个外部结点分别以$w_i (i = 1, 2, \\cdots , n-1)$为权，而且T的带权外部路径*WPL*在所有的这样的扩充二叉树中达到最小，则称*T*为数据集*W*的最优二叉树或者哈夫曼树。  "
   ]
  },
  {
   "cell_type": "markdown",
   "metadata": {},
   "source": [
    "## 构造哈夫曼树的算法"
   ]
  },
  {
   "cell_type": "markdown",
   "metadata": {},
   "source": [
    "从任意实数集构造出与之对应的二叉树，这个算法的描述如下：\n",
    "- 算法的输入为实数集 $W = { w_0, w_1, \\cdots , w_{m-1}}$ \n",
    "- 在构造中维护一个包含*k*颗二叉树的集合 $F$ ,开始时 $k = m$ 且 $F = {T_0, T_1, \\cdots , T_{m-1}}$, 其中每个$T_i$是一颗只包含权为 $w_i$ 根节点的单点二叉树。  \n",
    "- 算法过程中重复执行下面2个步骤，直到集合 $F$ 中剩下一棵树为止。  \n",
    "   - 构造一颗新二叉树，其左右子树是从集合F中选取的两颗权最小的二叉树，其根节点的权值设置为这两颗子树的根节点的权值之和。\n",
    "   - 将所选的二叉树从 $F$ 中删除，把新构造的二叉树加入 $F$\n",
    "   \n",
    "这里要注意，给定集合W上的哈夫曼树不唯一，如果T是集合W上的哈夫曼树，交换其中一个或者多个结点的左右子树，得到的仍是W上的哈夫曼树\n",
    "\n",
    "![哈夫曼树例子1](./二叉树图片/哈夫曼树例子1.png)\n"
   ]
  },
  {
   "cell_type": "markdown",
   "metadata": {},
   "source": [
    "## 哈夫曼树算法的实现"
   ]
  },
  {
   "cell_type": "markdown",
   "metadata": {},
   "source": [
    "构造算法执行中需要维护一组二叉树，而且要知道每棵树（其树根结点）的权值，可以考虑用二叉树的结点类构造哈夫曼树，在树根结点记录数的权值。  \n",
    "在算法的执行中，需要不断的选出权值最小的两颗二叉树，并基于他们构造出一颗新二叉树，那么就用一个优先队列来存放这组二叉树，按二叉树根结点的权值排列优先顺序，从小到大。  \n",
    "算法开始时建立一组单节点二叉树，以权值作为优先码存入优先队列，要求先取出队列中的最小元素，然后反复做下面两件事，\n",
    "- 从优先队列中弹出2个权最小的元素（两颗二叉树）\n",
    "- 基于所取的二叉树构造一颗新的二叉树，其权值取两颗子树的权值之和，并将新构造的二叉树压入优先队列。"
   ]
  },
  {
   "cell_type": "code",
   "execution_count": 22,
   "metadata": {},
   "outputs": [],
   "source": [
    "# 这里通过扩充已有的类实现\n",
    "# 如下先定义了一个结点类，相比较普通的结点，增加了一个判断结点大小的方法\n",
    "# 然后定义了一个优先队列类，只是对了一个取得这个优先队列中元素个数的方法。\n",
    "\n",
    "class HTNode(BinTNode):\n",
    "    \"\"\"二叉树的结点\"\"\"\n",
    "    def __lt__(self, othernode):\n",
    "        \"\"\"大小检查\"\"\"\n",
    "        return self.data < othernode.data\n",
    "class HuffmanPriQ(PrioQueue):\n",
    "    \"\"\"哈夫曼树的优先队列\"\"\"\n",
    "    def number(self):\n",
    "        \"\"\"取得这个数的个数\"\"\"\n",
    "        return len(self._elems)"
   ]
  },
  {
   "cell_type": "code",
   "execution_count": 23,
   "metadata": {},
   "outputs": [],
   "source": [
    "# 下面就是哈夫曼树的算法\n",
    "\n",
    "def HuffmanTree(weights):\n",
    "    \"\"\"哈夫曼树，参数是权重列表\"\"\"\n",
    "    trees = HuffmanPriQ()  # 建立一个优先队列\n",
    "    # 将权重做数的结点，压入优先队列\n",
    "    for w in weights:\n",
    "        trees.enqueue(HTNode(w))\n",
    "    # 然后就是不断的用算法啦\n",
    "    while trees.number() > 1:  # 循环终止条件是优先队列中只有一个二叉树了\n",
    "        # 取出两个权值最小的\n",
    "        t1 = trees.dequeue()\n",
    "        t2 = trees.dequeue()\n",
    "        # 计算两个树的权值\n",
    "        x = t1.data + t2.data\n",
    "        # 将这两个树构造出一个新的树，并压入优先队列\n",
    "        trees.enqueue(HTNode(x, t1, t2))\n",
    "    # 最后从优先队列中返回这个唯一的树吧\n",
    "    return trees.dequeue()"
   ]
  },
  {
   "cell_type": "code",
   "execution_count": 24,
   "metadata": {},
   "outputs": [
    {
     "data": {
      "image/svg+xml": [
       "<?xml version=\"1.0\" encoding=\"UTF-8\" standalone=\"no\"?>\r\n",
       "<!DOCTYPE svg PUBLIC \"-//W3C//DTD SVG 1.1//EN\"\r\n",
       " \"http://www.w3.org/Graphics/SVG/1.1/DTD/svg11.dtd\">\r\n",
       "<!-- Generated by graphviz version 2.38.0 (20140413.2041)\r\n",
       " -->\r\n",
       "<!-- Title: 二叉树 Pages: 1 -->\r\n",
       "<svg width=\"332pt\" height=\"332pt\"\r\n",
       " viewBox=\"0.00 0.00 332.00 332.00\" xmlns=\"http://www.w3.org/2000/svg\" xmlns:xlink=\"http://www.w3.org/1999/xlink\">\r\n",
       "<g id=\"graph0\" class=\"graph\" transform=\"scale(1 1) rotate(0) translate(4 328)\">\r\n",
       "<title>二叉树</title>\r\n",
       "<polygon fill=\"white\" stroke=\"none\" points=\"-4,4 -4,-328 328,-328 328,4 -4,4\"/>\r\n",
       "<!-- 0 -->\r\n",
       "<g id=\"node1\" class=\"node\"><title>0</title>\r\n",
       "<ellipse fill=\"none\" stroke=\"black\" cx=\"189\" cy=\"-306\" rx=\"27\" ry=\"18\"/>\r\n",
       "<text text-anchor=\"middle\" x=\"189\" y=\"-302.3\" font-family=\"Times New Roman,serif\" font-size=\"14.00\">33</text>\r\n",
       "</g>\r\n",
       "<!-- 1 -->\r\n",
       "<g id=\"node2\" class=\"node\"><title>1</title>\r\n",
       "<ellipse fill=\"none\" stroke=\"black\" cx=\"153\" cy=\"-234\" rx=\"27\" ry=\"18\"/>\r\n",
       "<text text-anchor=\"middle\" x=\"153\" y=\"-230.3\" font-family=\"Times New Roman,serif\" font-size=\"14.00\">14</text>\r\n",
       "</g>\r\n",
       "<!-- 0&#45;&#45;1 -->\r\n",
       "<g id=\"edge1\" class=\"edge\"><title>0&#45;&#45;1</title>\r\n",
       "<path fill=\"none\" stroke=\"black\" d=\"M180.65,-288.765C174.835,-277.456 167.11,-262.437 161.304,-251.147\"/>\r\n",
       "</g>\r\n",
       "<!-- 2 -->\r\n",
       "<g id=\"node7\" class=\"node\"><title>2</title>\r\n",
       "<ellipse fill=\"none\" stroke=\"black\" cx=\"225\" cy=\"-234\" rx=\"27\" ry=\"18\"/>\r\n",
       "<text text-anchor=\"middle\" x=\"225\" y=\"-230.3\" font-family=\"Times New Roman,serif\" font-size=\"14.00\">19</text>\r\n",
       "</g>\r\n",
       "<!-- 0&#45;&#45;2 -->\r\n",
       "<g id=\"edge6\" class=\"edge\"><title>0&#45;&#45;2</title>\r\n",
       "<path fill=\"none\" stroke=\"black\" d=\"M197.35,-288.765C203.165,-277.456 210.89,-262.437 216.696,-251.147\"/>\r\n",
       "</g>\r\n",
       "<!-- 3 -->\r\n",
       "<g id=\"node3\" class=\"node\"><title>3</title>\r\n",
       "<ellipse fill=\"none\" stroke=\"black\" cx=\"81\" cy=\"-162\" rx=\"27\" ry=\"18\"/>\r\n",
       "<text text-anchor=\"middle\" x=\"81\" y=\"-158.3\" font-family=\"Times New Roman,serif\" font-size=\"14.00\">7</text>\r\n",
       "</g>\r\n",
       "<!-- 1&#45;&#45;3 -->\r\n",
       "<g id=\"edge2\" class=\"edge\"><title>1&#45;&#45;3</title>\r\n",
       "<path fill=\"none\" stroke=\"black\" d=\"M138.43,-218.834C126.02,-206.77 108.269,-189.512 95.7957,-177.385\"/>\r\n",
       "</g>\r\n",
       "<!-- 4 -->\r\n",
       "<g id=\"node6\" class=\"node\"><title>4</title>\r\n",
       "<ellipse fill=\"none\" stroke=\"black\" cx=\"153\" cy=\"-162\" rx=\"27\" ry=\"18\"/>\r\n",
       "<text text-anchor=\"middle\" x=\"153\" y=\"-158.3\" font-family=\"Times New Roman,serif\" font-size=\"14.00\">7</text>\r\n",
       "</g>\r\n",
       "<!-- 1&#45;&#45;4 -->\r\n",
       "<g id=\"edge5\" class=\"edge\"><title>1&#45;&#45;4</title>\r\n",
       "<path fill=\"none\" stroke=\"black\" d=\"M153,-215.697C153,-204.846 153,-190.917 153,-180.104\"/>\r\n",
       "</g>\r\n",
       "<!-- 7 -->\r\n",
       "<g id=\"node4\" class=\"node\"><title>7</title>\r\n",
       "<ellipse fill=\"none\" stroke=\"black\" cx=\"27\" cy=\"-90\" rx=\"27\" ry=\"18\"/>\r\n",
       "<text text-anchor=\"middle\" x=\"27\" y=\"-86.3\" font-family=\"Times New Roman,serif\" font-size=\"14.00\">3</text>\r\n",
       "</g>\r\n",
       "<!-- 3&#45;&#45;7 -->\r\n",
       "<g id=\"edge3\" class=\"edge\"><title>3&#45;&#45;7</title>\r\n",
       "<path fill=\"none\" stroke=\"black\" d=\"M69.0156,-145.465C60.0669,-133.865 47.8915,-118.082 38.9508,-106.492\"/>\r\n",
       "</g>\r\n",
       "<!-- 8 -->\r\n",
       "<g id=\"node5\" class=\"node\"><title>8</title>\r\n",
       "<ellipse fill=\"none\" stroke=\"black\" cx=\"99\" cy=\"-90\" rx=\"27\" ry=\"18\"/>\r\n",
       "<text text-anchor=\"middle\" x=\"99\" y=\"-86.3\" font-family=\"Times New Roman,serif\" font-size=\"14.00\">4</text>\r\n",
       "</g>\r\n",
       "<!-- 3&#45;&#45;8 -->\r\n",
       "<g id=\"edge4\" class=\"edge\"><title>3&#45;&#45;8</title>\r\n",
       "<path fill=\"none\" stroke=\"black\" d=\"M85.3573,-144.055C88.1873,-133.049 91.8608,-118.764 94.6828,-107.789\"/>\r\n",
       "</g>\r\n",
       "<!-- 5 -->\r\n",
       "<g id=\"node8\" class=\"node\"><title>5</title>\r\n",
       "<ellipse fill=\"none\" stroke=\"black\" cx=\"225\" cy=\"-162\" rx=\"27\" ry=\"18\"/>\r\n",
       "<text text-anchor=\"middle\" x=\"225\" y=\"-158.3\" font-family=\"Times New Roman,serif\" font-size=\"14.00\">9</text>\r\n",
       "</g>\r\n",
       "<!-- 2&#45;&#45;5 -->\r\n",
       "<g id=\"edge7\" class=\"edge\"><title>2&#45;&#45;5</title>\r\n",
       "<path fill=\"none\" stroke=\"black\" d=\"M225,-215.697C225,-204.846 225,-190.917 225,-180.104\"/>\r\n",
       "</g>\r\n",
       "<!-- 6 -->\r\n",
       "<g id=\"node13\" class=\"node\"><title>6</title>\r\n",
       "<ellipse fill=\"none\" stroke=\"black\" cx=\"297\" cy=\"-162\" rx=\"27\" ry=\"18\"/>\r\n",
       "<text text-anchor=\"middle\" x=\"297\" y=\"-158.3\" font-family=\"Times New Roman,serif\" font-size=\"14.00\">10</text>\r\n",
       "</g>\r\n",
       "<!-- 2&#45;&#45;6 -->\r\n",
       "<g id=\"edge12\" class=\"edge\"><title>2&#45;&#45;6</title>\r\n",
       "<path fill=\"none\" stroke=\"black\" d=\"M239.57,-218.834C251.98,-206.77 269.731,-189.512 282.204,-177.385\"/>\r\n",
       "</g>\r\n",
       "<!-- 11 -->\r\n",
       "<g id=\"node9\" class=\"node\"><title>11</title>\r\n",
       "<ellipse fill=\"none\" stroke=\"black\" cx=\"207\" cy=\"-90\" rx=\"27\" ry=\"18\"/>\r\n",
       "<text text-anchor=\"middle\" x=\"207\" y=\"-86.3\" font-family=\"Times New Roman,serif\" font-size=\"14.00\">4</text>\r\n",
       "</g>\r\n",
       "<!-- 5&#45;&#45;11 -->\r\n",
       "<g id=\"edge8\" class=\"edge\"><title>5&#45;&#45;11</title>\r\n",
       "<path fill=\"none\" stroke=\"black\" d=\"M220.643,-144.055C217.813,-133.049 214.139,-118.764 211.317,-107.789\"/>\r\n",
       "</g>\r\n",
       "<!-- 12 -->\r\n",
       "<g id=\"node12\" class=\"node\"><title>12</title>\r\n",
       "<ellipse fill=\"none\" stroke=\"black\" cx=\"279\" cy=\"-90\" rx=\"27\" ry=\"18\"/>\r\n",
       "<text text-anchor=\"middle\" x=\"279\" y=\"-86.3\" font-family=\"Times New Roman,serif\" font-size=\"14.00\">5</text>\r\n",
       "</g>\r\n",
       "<!-- 5&#45;&#45;12 -->\r\n",
       "<g id=\"edge11\" class=\"edge\"><title>5&#45;&#45;12</title>\r\n",
       "<path fill=\"none\" stroke=\"black\" d=\"M236.984,-145.465C245.933,-133.865 258.108,-118.082 267.049,-106.492\"/>\r\n",
       "</g>\r\n",
       "<!-- 23 -->\r\n",
       "<g id=\"node10\" class=\"node\"><title>23</title>\r\n",
       "<ellipse fill=\"none\" stroke=\"black\" cx=\"171\" cy=\"-18\" rx=\"27\" ry=\"18\"/>\r\n",
       "<text text-anchor=\"middle\" x=\"171\" y=\"-14.3\" font-family=\"Times New Roman,serif\" font-size=\"14.00\">2</text>\r\n",
       "</g>\r\n",
       "<!-- 11&#45;&#45;23 -->\r\n",
       "<g id=\"edge9\" class=\"edge\"><title>11&#45;&#45;23</title>\r\n",
       "<path fill=\"none\" stroke=\"black\" d=\"M198.65,-72.7646C192.835,-61.456 185.11,-46.4367 179.304,-35.1473\"/>\r\n",
       "</g>\r\n",
       "<!-- 24 -->\r\n",
       "<g id=\"node11\" class=\"node\"><title>24</title>\r\n",
       "<ellipse fill=\"none\" stroke=\"black\" cx=\"243\" cy=\"-18\" rx=\"27\" ry=\"18\"/>\r\n",
       "<text text-anchor=\"middle\" x=\"243\" y=\"-14.3\" font-family=\"Times New Roman,serif\" font-size=\"14.00\">2</text>\r\n",
       "</g>\r\n",
       "<!-- 11&#45;&#45;24 -->\r\n",
       "<g id=\"edge10\" class=\"edge\"><title>11&#45;&#45;24</title>\r\n",
       "<path fill=\"none\" stroke=\"black\" d=\"M215.35,-72.7646C221.165,-61.456 228.89,-46.4367 234.696,-35.1473\"/>\r\n",
       "</g>\r\n",
       "</g>\r\n",
       "</svg>\r\n"
      ],
      "text/plain": [
       "<graphviz.dot.Graph at 0x1d850c0c648>"
      ]
     },
     "execution_count": 24,
     "metadata": {},
     "output_type": "execute_result"
    }
   ],
   "source": [
    "show_BinTree(HuffmanTree([2,3,7,10,4,2,5]))"
   ]
  },
  {
   "cell_type": "markdown",
   "metadata": {},
   "source": [
    "### 算法分析"
   ]
  },
  {
   "cell_type": "markdown",
   "metadata": {},
   "source": [
    "哈夫曼树的构造算法的时间复杂性主要是两个循环。  \n",
    "- 第一个循环是建起m颗二叉树，并他他们加入优先队列，\n",
    "- 第二次循环需要做m-1次，每次减少一棵树，构造新树的时间复杂性与m无关，是O(1)次复杂性的操作，每次迭代把一颗新树加入优先队队列，\n",
    "需要O(log m)时间，整个循环是是O(m log m) ，可见，这个算法的时间复杂度为O(m log m)\n",
    "\n",
    "算法执行过程中构造出一颗包含2m-1个结点的树，所以其空间复杂度为O(m)"
   ]
  },
  {
   "cell_type": "markdown",
   "metadata": {},
   "source": [
    "### 哈夫曼编码"
   ]
  },
  {
   "cell_type": "markdown",
   "metadata": {},
   "source": [
    "#### 定义"
   ]
  },
  {
   "cell_type": "markdown",
   "metadata": {},
   "source": [
    "最优编码编码问题，给定基本数据集合，  \n",
    "$$ C = \\{ c_0, c_1, \\cdots, c_{m-1}\\} , W = \\{w_0, w_1, \\cdots, w_{m-1}\\}$$  \n",
    "其中集合C是需要编码的字符集合，W为C中各个字符在实际传输中出现的频率，现在要求为C设计一套二进制编码，使得  \n",
    "- 用这种编码存储/传输时的平均开销最小。\n",
    "- 对任一对不同字符$c_i$和$c_j$,字符$c_i$的编码不是$c_j$编码的前缀,\n",
    "\n",
    "第二个条件可以使编码更方便，容易判断是否已经得到一个字符的编码。因为任一个字符的编码都不是另一个字符的前缀，只要已经得到的编码段对应一个字符的编码，就可以确定原文里必定是这个字符。  "
   ]
  },
  {
   "cell_type": "markdown",
   "metadata": {},
   "source": [
    "**哈夫曼编码的生成**  \n",
    "哈夫曼提出了一种解决这个问题的方法，即所谓的哈夫曼编码，构造的方法就是首先构造出一颗哈夫曼树，基于它做出哈夫曼编码，有关过程是：\n",
    "- 以$W = \\{w_0, w_1, \\cdots, w_{m-1}\\}$ 作为m个外部结点的权，以$C = \\{ c_0, c_1, \\cdots, c_{m-1}\\} $中的字符作为外部结点标注，基于W和相应结点集构造出一颗哈夫曼树。\n",
    "- 在得到的哈夫曼树中，在从树中各个分支结点到其左子节点的边上标注二进制数字0，在所有到右子节点的边上标注数字1.\n",
    "- 以从根节点到一个叶节点（外部结点）的路径上的二进制数字序列，作为这个叶节点的标记字符编码，这样得到的就是哈夫曼编码。\n",
    "\n",
    "可以证明，对任意的数据集合对(W,C)，按上述方式得到的哈夫曼编码是字符集的最优（最短）编码，哈夫曼编码在编码理论上的最大意义，是给定字符集（在确定的概率分布情况下）的最优编码。"
   ]
  },
  {
   "cell_type": "markdown",
   "metadata": {},
   "source": [
    "# 树和森林"
   ]
  },
  {
   "cell_type": "markdown",
   "metadata": {},
   "source": [
    "## 定义和相关概念"
   ]
  },
  {
   "cell_type": "markdown",
   "metadata": {},
   "source": [
    "**树的定义**  , 一棵树是 $n (n\\ge 0)$个结点的优先集合T，当T非空时满足：  \n",
    "- T 中有且只有一个特殊结点r称为树T的根 \n",
    "- 除根节点的其余结点分为 $ m (m \\ge 0) $ 个互不相交的非空有限子集 $T_0, T_1, \\cdots, T_{m-1}$ , 每个集合$T_i$ 为一颗非空树，称为r的子树(subtree) "
   ]
  },
  {
   "cell_type": "markdown",
   "metadata": {},
   "source": [
    "**树林**  \n",
    "定义 0颗或多棵树（显然互不相交）的集合称为一个森林  \n",
    "树和树林可以互相递归定义，一颗空树就是一个空树林，如果树T不空，他可分解为二元组 $T=(r, F)$ , 其中r为树根，F是r的所有子树组成的树林，设树T有 $m (m \\ge 0)$颗非空子树，则 $F=(T_0, T_1, \\cdots, T_{m-1})$,其中$T_i$是r的第i颗子树（假定有序树）。树和树林可以相互递归定义，非空树由树根及其子树树林组成，而树林由一组数组成。 \n"
   ]
  },
  {
   "cell_type": "markdown",
   "metadata": {},
   "source": [
    "数、树林与二叉树的关系  \n",
    "实际上，存在一一对应的关系，可以把任何一个（有序）树林映射到一颗二叉树，而其逆映射把这颗二叉树映射回原先的树林，这种映射定义如下：  \n",
    "- 顺序连接同一结点的各个子节点（它们在原树林里互为兄弟结点，作为这些结点的右分支的边（也就是说，将数/树林中的下一个兄弟作为二叉树里的右分支） \n",
    "- 保留每个结点到到其第一个子节点的连接作为该节点的分支，并删去这个结点到它的其他子节点的连接，（即原树林里第一个子节点作为二叉树里的左分支）\n",
    "\n",
    "这里把树林里的各树的根也看作兄弟结点，需要从第一棵树的根开始建立连接。\n"
   ]
  },
  {
   "cell_type": "markdown",
   "metadata": {},
   "source": [
    "\n",
    "二叉树到树林的转换：\n",
    "- 对每个结点，在它于其左子节点的向右路径上的每个结点间加一条边。\n",
    "- 删除原二叉树中每个结点向右路径上的所有边。"
   ]
  },
  {
   "cell_type": "markdown",
   "metadata": {},
   "source": [
    "树的性质  \n",
    "$$在度数为K的树中，第i层至多有k^i个结点$$  \n",
    "$$度数为k，高为h的树中至多有 \\frac{k^{h+1}-1}{k-1} 个结点$$  \n",
    "k度完全树是如下的k度树，其中除去最下一层分支结点的最右那个结点的度数可能少于k外，其余分支结点的度数均为k，有如下性质  \n",
    "$$n个结点的k度完全树，高度为 h = |\\log_k n|  ，即不带 \\log_k n的最大整数$$\n",
    "$$ n个结点的树中有n-1条边$$"
   ]
  },
  {
   "cell_type": "markdown",
   "metadata": {},
   "source": [
    "## 树的遍历"
   ]
  },
  {
   "cell_type": "markdown",
   "metadata": {},
   "source": [
    "### 树的宽度优先遍历"
   ]
  },
  {
   "cell_type": "markdown",
   "metadata": {},
   "source": [
    "宽度优先遍历，需要一个队列  \n",
    "- 开始：将树根压入队列\n",
    "- 过程：重复如下动作直至队列为空\n",
    "   - 弹出队列的首节点并访问。\n",
    "   - 将该结点的子节点顺序压入队列。"
   ]
  },
  {
   "cell_type": "markdown",
   "metadata": {},
   "source": [
    "### 树的深度优先遍历"
   ]
  },
  {
   "cell_type": "markdown",
   "metadata": {},
   "source": [
    "- 这里暂时是采用先根序，遇到结点就访问，下一步沿着树的第一个子节点下行，\n",
    "- 由于树的其他结点没有访问呢，因此需要记录，这里是将其他结点入堆栈\n",
    "- 遇到空树就回溯，取出堆栈中保存的其他分支，然后像一颗树遍历"
   ]
  },
  {
   "cell_type": "markdown",
   "metadata": {},
   "source": [
    "## 树的实现"
   ]
  },
  {
   "cell_type": "markdown",
   "metadata": {},
   "source": [
    "### 子节点引用表示法"
   ]
  },
  {
   "cell_type": "markdown",
   "metadata": {},
   "source": [
    "![子节点引用表示法](./树图片/子节点引用表示法.png)"
   ]
  },
  {
   "cell_type": "markdown",
   "metadata": {},
   "source": [
    "### 父节点引用表示"
   ]
  },
  {
   "cell_type": "markdown",
   "metadata": {},
   "source": [
    "每个子节点都记录父节点的关系，用一个顺序表表示树，每个表元素对应一个结点，包含两部分，结点数据和父节点引用  \n",
    "![子节点引用表示法](./树图片/父节点引用表示法.png)"
   ]
  },
  {
   "cell_type": "markdown",
   "metadata": {},
   "source": [
    "### 子节点表表示"
   ]
  },
  {
   "cell_type": "markdown",
   "metadata": {},
   "source": [
    "![子节点引用表示法](./树图片/子节点表表示法.png)"
   ]
  },
  {
   "cell_type": "code",
   "execution_count": null,
   "metadata": {},
   "outputs": [],
   "source": []
  }
 ],
 "metadata": {
  "kernelspec": {
   "display_name": "Python 3",
   "language": "python",
   "name": "python3"
  },
  "language_info": {
   "codemirror_mode": {
    "name": "ipython",
    "version": 3
   },
   "file_extension": ".py",
   "mimetype": "text/x-python",
   "name": "python",
   "nbconvert_exporter": "python",
   "pygments_lexer": "ipython3",
   "version": "3.7.4"
  },
  "toc": {
   "nav_menu": {},
   "number_sections": true,
   "sideBar": true,
   "skip_h1_title": false,
   "title_cell": "Table of Contents",
   "title_sidebar": "Contents",
   "toc_cell": false,
   "toc_position": {
    "height": "calc(100% - 180px)",
    "left": "10px",
    "top": "150px",
    "width": "273.188px"
   },
   "toc_section_display": true,
   "toc_window_display": true
  },
  "toc-autonumbering": true,
  "toc-showcode": false,
  "toc-showmarkdowntxt": false,
  "toc-showtags": false
 },
 "nbformat": 4,
 "nbformat_minor": 4
}
