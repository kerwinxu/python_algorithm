{
 "cells": [
  {
   "cell_type": "code",
   "execution_count": 4,
   "metadata": {
    "execution": {
     "iopub.execute_input": "2020-05-25T06:12:17.004029Z",
     "iopub.status.busy": "2020-05-25T06:12:17.003026Z",
     "iopub.status.idle": "2020-05-25T06:12:17.017015Z",
     "shell.execute_reply": "2020-05-25T06:12:17.016037Z",
     "shell.execute_reply.started": "2020-05-25T06:12:17.004029Z"
    }
   },
   "outputs": [],
   "source": [
    "import cv2\n",
    "import numpy as np\n",
    "from  matplotlib import pyplot as plt\n",
    "\n",
    "# 1.加载图片，转为二值图\n",
    "img = cv2.imread('shapes.jpg')\n",
    "drawing = np.zeros(img.shape[:], dtype=np.uint8)\n",
    "gray = cv2.cvtColor(img, cv2.COLOR_BGR2GRAY)\n",
    "edges = cv2.Canny(gray, 50, 150)\n",
    "\n",
    "# 2.霍夫直线变换\n",
    "lines = cv2.HoughLines(edges, 0.8, np.pi / 180, 90)\n",
    "\n"
   ]
  },
  {
   "cell_type": "markdown",
   "metadata": {},
   "source": [
    "函数中：\n",
    "\n",
    "- 参数1：要检测的二值图（一般是阈值分割或边缘检测后的图）\n",
    "- 参数2：距离r的精度，值越大，考虑越多的线\n",
    "- 参数3：角度θ的精度，值越小，考虑越多的线\n",
    "- 参数4：累加数阈值，值越小，考虑越多的线"
   ]
  },
  {
   "cell_type": "code",
   "execution_count": 6,
   "metadata": {
    "execution": {
     "iopub.execute_input": "2020-05-25T06:12:32.652488Z",
     "iopub.status.busy": "2020-05-25T06:12:32.651488Z",
     "iopub.status.idle": "2020-05-25T06:12:32.915335Z",
     "shell.execute_reply": "2020-05-25T06:12:32.914334Z",
     "shell.execute_reply.started": "2020-05-25T06:12:32.652488Z"
    }
   },
   "outputs": [
    {
     "data": {
      "text/plain": [
       "<matplotlib.image.AxesImage at 0x1c28d1c27c8>"
      ]
     },
     "execution_count": 6,
     "metadata": {},
     "output_type": "execute_result"
    },
    {
     "data": {
      "image/png": "[encoded data removed]",
      "text/plain": [
       "<Figure size 432x288 with 1 Axes>"
      ]
     },
     "metadata": {
      "needs_background": "light"
     },
     "output_type": "display_data"
    }
   ],
   "source": [
    "# 3.将检测的线画出来（注意是极坐标噢）\n",
    "for line in lines:\n",
    "    rho, theta = line[0]\n",
    "    a = np.cos(theta)\n",
    "    b = np.sin(theta)\n",
    "    x0 = a * rho\n",
    "    y0 = b * rho\n",
    "    x1 = int(x0 + 1000 * (-b))\n",
    "    y1 = int(y0 + 1000 * (a))\n",
    "    x2 = int(x0 - 1000 * (-b))\n",
    "    y2 = int(y0 - 1000 * (a))\n",
    "\n",
    "    cv2.line(drawing, (x1, y1), (x2, y2), (0, 0, 255))\n",
    "plt.imshow(drawing)"
   ]
  },
  {
   "cell_type": "markdown",
   "metadata": {},
   "source": [
    "# 统计概率霍夫直线变换"
   ]
  },
  {
   "cell_type": "code",
   "execution_count": 7,
   "metadata": {
    "execution": {
     "iopub.execute_input": "2020-05-25T06:36:28.136500Z",
     "iopub.status.busy": "2020-05-25T06:36:28.136500Z",
     "iopub.status.idle": "2020-05-25T06:36:28.237439Z",
     "shell.execute_reply": "2020-05-25T06:36:28.235443Z",
     "shell.execute_reply.started": "2020-05-25T06:36:28.136500Z"
    }
   },
   "outputs": [],
   "source": [
    "drawing = np.zeros(img.shape[:], dtype=np.uint8)\n",
    "# 3.统计概率霍夫线变换\n",
    "lines = cv2.HoughLinesP(edges, 0.8, np.pi / 180, 90,\n",
    "                        minLineLength=50, maxLineGap=10)\n"
   ]
  },
  {
   "cell_type": "markdown",
   "metadata": {},
   "source": [
    "前面几个参数跟之前的一样，有两个可选参数：\n",
    "\n",
    "- minLineLength：最短长度阈值，比这个长度短的线会被排除\n",
    "- maxLineGap：同一直线两点之间的最大距离"
   ]
  },
  {
   "cell_type": "code",
   "execution_count": 8,
   "metadata": {
    "execution": {
     "iopub.execute_input": "2020-05-25T06:36:53.036322Z",
     "iopub.status.busy": "2020-05-25T06:36:53.035323Z",
     "iopub.status.idle": "2020-05-25T06:36:53.066303Z",
     "shell.execute_reply": "2020-05-25T06:36:53.061306Z",
     "shell.execute_reply.started": "2020-05-25T06:36:53.036322Z"
    }
   },
   "outputs": [],
   "source": [
    "# 3.将检测的线画出来\n",
    "for line in lines:\n",
    "    x1, y1, x2, y2 = line[0]\n",
    "    cv2.line(drawing, (x1, y1), (x2, y2), (0, 255, 0), 1, lineType=cv2.LINE_AA)\n"
   ]
  },
  {
   "cell_type": "code",
   "execution_count": 9,
   "metadata": {
    "execution": {
     "iopub.execute_input": "2020-05-25T06:37:18.523533Z",
     "iopub.status.busy": "2020-05-25T06:37:18.522515Z",
     "iopub.status.idle": "2020-05-25T06:37:18.824338Z",
     "shell.execute_reply": "2020-05-25T06:37:18.823360Z",
     "shell.execute_reply.started": "2020-05-25T06:37:18.522515Z"
    }
   },
   "outputs": [
    {
     "data": {
      "text/plain": [
       "<matplotlib.image.AxesImage at 0x1c28d245348>"
      ]
     },
     "execution_count": 9,
     "metadata": {},
     "output_type": "execute_result"
    },
    {
     "data": {
      "image/png": "[encoded data removed]",
      "text/plain": [
       "<Figure size 432x288 with 1 Axes>"
      ]
     },
     "metadata": {
      "needs_background": "light"
     },
     "output_type": "display_data"
    }
   ],
   "source": [
    "plt.imshow(drawing)"
   ]
  },
  {
   "cell_type": "markdown",
   "metadata": {},
   "source": [
    "# 霍夫圆变换\n",
    "\n",
    "\n",
    "霍夫圆变换跟直线变换类似，只不过线是用(r,θ)表示，圆是用(x_center,y_center,r)来表示，从二维变成了三维，数据量变大了很多；所以一般使用霍夫梯度法减少计算量，对该算法感兴趣的同学可参考："
   ]
  },
  {
   "cell_type": "code",
   "execution_count": 10,
   "metadata": {
    "execution": {
     "iopub.execute_input": "2020-05-25T06:38:20.969994Z",
     "iopub.status.busy": "2020-05-25T06:38:20.969994Z",
     "iopub.status.idle": "2020-05-25T06:38:21.359769Z",
     "shell.execute_reply": "2020-05-25T06:38:21.358803Z",
     "shell.execute_reply.started": "2020-05-25T06:38:20.969994Z"
    }
   },
   "outputs": [],
   "source": [
    "drawing = np.zeros(img.shape[:], dtype=np.uint8)\n",
    "# 2.霍夫圆变换\n",
    "circles = cv2.HoughCircles(edges, cv2.HOUGH_GRADIENT, 1, 20, param2=30)\n",
    "circles = np.int0(np.around(circles))"
   ]
  },
  {
   "cell_type": "markdown",
   "metadata": {},
   "source": [
    "- 参数2：变换方法，一般使用霍夫梯度法，详情：HoughModes\n",
    "- 参数3 dp=1：表示霍夫梯度法中累加器图像的分辨率与原图一致\n",
    "- 参数4：两个不同圆圆心的最短距离\n",
    "- 参数5：param2跟霍夫直线变换中的累加数阈值一样"
   ]
  },
  {
   "cell_type": "code",
   "execution_count": 12,
   "metadata": {
    "execution": {
     "iopub.execute_input": "2020-05-25T06:39:19.950730Z",
     "iopub.status.busy": "2020-05-25T06:39:19.949725Z",
     "iopub.status.idle": "2020-05-25T06:39:19.958718Z",
     "shell.execute_reply": "2020-05-25T06:39:19.957718Z",
     "shell.execute_reply.started": "2020-05-25T06:39:19.950730Z"
    }
   },
   "outputs": [],
   "source": [
    "# 将检测的圆画出来\n",
    "for i in circles[0, :]:\n",
    "    cv2.circle(drawing, (i[0], i[1]), i[2], (0, 255, 0), 2)  # 画出外圆\n",
    "    cv2.circle(drawing, (i[0], i[1]), 2, (0, 0, 255), 3)  # 画出圆心"
   ]
  },
  {
   "cell_type": "code",
   "execution_count": 13,
   "metadata": {
    "execution": {
     "iopub.execute_input": "2020-05-25T06:39:31.131663Z",
     "iopub.status.busy": "2020-05-25T06:39:31.130663Z",
     "iopub.status.idle": "2020-05-25T06:39:31.745309Z",
     "shell.execute_reply": "2020-05-25T06:39:31.744310Z",
     "shell.execute_reply.started": "2020-05-25T06:39:31.131663Z"
    }
   },
   "outputs": [
    {
     "data": {
      "text/plain": [
       "<matplotlib.image.AxesImage at 0x1c28d2b3988>"
      ]
     },
     "execution_count": 13,
     "metadata": {},
     "output_type": "execute_result"
    },
    {
     "data": {
      "image/png": "[encoded data removed]",
      "text/plain": [
       "<Figure size 432x288 with 1 Axes>"
      ]
     },
     "metadata": {
      "needs_background": "light"
     },
     "output_type": "display_data"
    }
   ],
   "source": [
    "plt.imshow(drawing)"
   ]
  },
  {
   "cell_type": "markdown",
   "metadata": {},
   "source": [
    "引用\n",
    "\n",
    "> [Python+OpenCV教程17：霍夫变换](http://codec.wang/opencv-python-hough-transform/#%E5%BC%95%E7%94%A8)"
   ]
  },
  {
   "cell_type": "code",
   "execution_count": null,
   "metadata": {},
   "outputs": [],
   "source": []
  }
 ],
 "metadata": {
  "kernelspec": {
   "display_name": "Python 3",
   "language": "python",
   "name": "python3"
  },
  "language_info": {
   "codemirror_mode": {
    "name": "ipython",
    "version": 3
   },
   "file_extension": ".py",
   "mimetype": "text/x-python",
   "name": "python",
   "nbconvert_exporter": "python",
   "pygments_lexer": "ipython3",
   "version": "3.7.6"
  }
 },
 "nbformat": 4,
 "nbformat_minor": 4
}
