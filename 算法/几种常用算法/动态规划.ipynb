{
 "cells": [
  {
   "cell_type": "markdown",
   "metadata": {},
   "source": [
    "动态规划是20世纪50年代由Richard Bellman发明的。不像贪婪算法，回溯算法等，单从名字上根本理解不了这是什么鬼。Bellman自己也说了，这个名字完全是为了申请经费搞出来的（囧），所以说这个名字坑了一代又一代的人啊。\n",
    "\n",
    "言归正传，我们来了解下动态规划，dynamic Programming，是一种高效解决问题的方法，使用与具有重复子问题和最优子结构的问题。（又是两个搞不懂的名词啊）。不过没问题，我们可以通过举例子来说明。\n",
    "\n",
    "如果可以把局部子问题的解结合起来得到全局最优解，那这个问题就具备最优子结构\n",
    "如果计算最优解时需要处理很多相同的问题，那么这个问题就具备重复子问题\n",
    "\n",
    "就像看上了一个女孩，不能直接上去泡人家，要先制造一次偶遇一样，这里我们先从一个简单的问题来认识动态规划。  \n",
    "\n",
    "Fibonacci sequence  \n",
    "fibonacci数列是递归算法的一个典型的例子，这里不介绍了，大家都懂，直接上代码：\n"
   ]
  },
  {
   "cell_type": "code",
   "execution_count": 2,
   "metadata": {},
   "outputs": [
    {
     "name": "stdout",
     "output_type": "stream",
     "text": [
      "Wall time: 20.4 s\n"
     ]
    },
    {
     "data": {
      "text/plain": [
       "39088169"
      ]
     },
     "execution_count": 2,
     "metadata": {},
     "output_type": "execute_result"
    }
   ],
   "source": [
    "def Fibnacci(n):\n",
    "    if n==0 or n==1:\n",
    "        return 1\n",
    "    else:\n",
    "        return Fibnacci(n-1) + Fibnacci(n-2)\n",
    "%time Fibnacci(37)"
   ]
  },
  {
   "cell_type": "markdown",
   "metadata": {},
   "source": [
    "这速度也是醉了啊，这才是37位啊，手算也就2分钟的事啊。\n",
    "如果试下Fibnacci(120) ，这个千万不敢试，会怀孕，说错了，是会看不到明天的太阳。（官方统计算完基本上要250000年）\n",
    "\n",
    "那么为什么会这么慢呢。我们以Fibnacci(5) 位例子，每次计算Fibnacci(5) 都要计算Fibnacci(4) 和Fibnacci(3) ，而Fibnacci(4)要计算Fibnacci(3) 和Fibnacci(2) ，Fibnacci(3)要计算Fibnacci(2) 和Fibnacci(1) ，一直这样递归下去，作了大量的重复计算。而函数调用时很费时间和空间的。\n",
    "\n",
    "有一个图很好的说明了这个问题：\n",
    "![](./图片/斐波那契数列的递归实现.png)"
   ]
  },
  {
   "cell_type": "markdown",
   "metadata": {},
   "source": [
    "既然重复计算如此耗时，那么能不能不重复计算这些值呢？当第一次计算了这些值的时候，我们把他们缓存起来，等到再次使用的时候，直接把他们拿过来用，这样就不用做大量的重复计算了。这就是动态规划的核心思想。\n",
    "\n",
    "还是以Fibnacci为例子：\n",
    "每当我们第一次计算Fibnacci(n)的时候，我们就将其缓存到memo的列表中，当需要再次计算Fibnacci(n)的时候，首先去memo的列表中查找，如果找到了就直接拿来用，找不到再计算。下面是具体的程序：\n"
   ]
  },
  {
   "cell_type": "code",
   "execution_count": 3,
   "metadata": {},
   "outputs": [],
   "source": [
    "def fastFib(n,memo={}):\n",
    "    if n==0 or n==1:\n",
    "        return 1\n",
    "    try:\n",
    "        return memo[n]\n",
    "    except KeyError:\n",
    "        result = fastFib(n-1,memo) + fastFib(n-2,memo)\n",
    "        memo[n] = result\n",
    "        return result\n"
   ]
  },
  {
   "cell_type": "code",
   "execution_count": 4,
   "metadata": {},
   "outputs": [
    {
     "name": "stdout",
     "output_type": "stream",
     "text": [
      "Wall time: 0 ns\n"
     ]
    },
    {
     "data": {
      "text/plain": [
       "39088169"
      ]
     },
     "execution_count": 4,
     "metadata": {},
     "output_type": "execute_result"
    }
   ],
   "source": [
    "%time fastFib(37)"
   ]
  },
  {
   "cell_type": "markdown",
   "metadata": {},
   "source": [
    "这就是差距啊！从算法复杂度上来讲这次的算法每次只调用fastFib函数一次，所以复杂度为O(n)\n",
    "这就是差距的原因。\n",
    "\n",
    "下一章节将是如何利用动态规划来解决0/1背包问题"
   ]
  },
  {
   "cell_type": "markdown",
   "metadata": {},
   "source": [
    "# 动态规划解决0/1背包问题"
   ]
  },
  {
   "cell_type": "markdown",
   "metadata": {},
   "source": [
    "之前总结了利用穷举法，贪婪法解决0/1背包的方法，同时也通过Fibnacci介绍了动态规划，那么该如何来利用动态规划来解决0/1背包问题呢？\n",
    "\n",
    "首先动态规划有两个条件;  \n",
    "如果可以把局部子问题的解结合起来得到全局最优解，那这个问题就具备最优子结构  \n",
    "如果计算最优解时需要处理很多相同的问题，那么这个问题就具备重复子问题  \n",
    "\n",
    "从这两点看，0/1背包问题跟动态规划没有半毛钱的关系啊。那这两者又是怎么联系起来的呢？我们通过二叉树将两者联系起来。  \n",
    "\n",
    "二叉树是一种树，每个跟节点至多有两个子节点。  \n",
    "\n",
    "我们可以将0/1背包问题通过二叉树来表示：\n",
    "\n",
    "[0-1背包问题]有一个背包，背包容量是M=150kg。有7个物品，物品不可以分割成任意大小。（这句很重要）  \n",
    "要求尽可能让装入背包中的物品总价值最大，但不能超过总容量。  \n",
    "物品 A B C D E F G  \n",
    "重量 35kg 30kg 6kg 50kg 40kg 10kg 25kg  \n",
    "价值 10 40 30 50 35 40 30  \n",
    "\n",
    "我们可以用下面的二叉树来表示问题的所有的解空间。\n",
    " ![](./图片/动态算法的背包问题解决.png)\n",
    " \n",
    " "
   ]
  },
  {
   "cell_type": "markdown",
   "metadata": {},
   "source": [
    "借个图，实在是不想画了，见谅  \n",
    "\n",
    "每个节点由四部分组成：  \n",
    "\n",
    "第一个集合表示：已经拿到背包里的物品  \n",
    "第二个集合表示：还没有决定要拿走的物品  \n",
    "第三个值表示：当前背包里的物品总价值  \n",
    "第四个值表示：背包剩余的重量  \n",
    "\n",
    "我们按照如下的策略进行生长  \n",
    "\n",
    "左子树表示：拿到了第二个集合中的第一个物品，右子树表示放弃掉第二个集合中的第一个物品  \n",
    "\n",
    "那么由着这个树一直生长下去，我们可以得到最终问题的解空间。  \n",
    "\n",
    "很明显这是一个可以用递归解决的问题。  \n",
    "\n",
    "那么下面就首先用递归的算法先来解决这个问题  \n",
    "\n",
    "对于递归来说要有一个边界条件，那么这里的边界条件有两个，一个是第二个集合为空（意味着全部拿走），另一个是第四个值为0（意味着背包已经装满了），而他们就是叶子节点，因为树的遍历或者说是递归只能是到达叶子节点就结束了。\n",
    "\n",
    "普通递归方法求解：  \n",
    " "
   ]
  },
  {
   "cell_type": "code",
   "execution_count": 12,
   "metadata": {},
   "outputs": [
    {
     "name": "stdout",
     "output_type": "stream",
     "text": [
      " < E , 40.0 , 35.0>\n",
      " < D , 50.0 , 50.0>\n",
      " < B , 30.0 , 40.0>\n",
      " < A , 35.0 , 10.0>\n",
      "Total value of tokens is 155.0\n",
      "Wall time: 0 ns\n"
     ]
    }
   ],
   "source": [
    "# item have three attribute: name,weight,value\n",
    "class Item(object):\n",
    "    def __init__(self,n,v,w):\n",
    "        self.name=n\n",
    "        self.weight=float(w)\n",
    "        self.value=float(v)\n",
    "\n",
    "    def getName(self):\n",
    "        return self.name\n",
    "\n",
    "    def getValue(self):\n",
    "        return self.value\n",
    "\n",
    "    def getWeight(self):\n",
    "        return self.weight\n",
    "\n",
    "    def __str__(self):\n",
    "        result = ' < '+self.name+' , '+str(self.value)+' , '+str(self.weight) + '>'\n",
    "        return result\n",
    "\n",
    "\n",
    "\n",
    "def maxValue(oraSet,leftRoom):  \n",
    "    \"\"\"\n",
    "    oraSet : 集合\n",
    "    leftRoom : 还余下多少重量\"\"\"\n",
    "    # leaf \n",
    "    if oraSet == [] or leftRoom == 0:\n",
    "        return (0,())\n",
    "    # only right tree\n",
    "    elif oraSet[0].getWeight() > leftRoom:\n",
    "        result = maxValue(oraSet[1:],leftRoom)\n",
    "    # select the best from the left and right\n",
    "    else:\n",
    "        # left tree, means we select nextItem(the first value of the remains)\n",
    "        nextItem = oraSet[0]\n",
    "        leftVal, leftToken = maxValue(oraSet[1:], leftRoom - nextItem.getWeight())\n",
    "        leftVal +=nextItem.getValue()\n",
    "\n",
    "        # right tree,means we do not select nextItem\n",
    "        rightVal,rightToken = maxValue(oraSet[1:],leftRoom)\n",
    "\n",
    "        if leftVal > rightVal:\n",
    "            result = (leftVal,leftToken+(nextItem,))\n",
    "        else:\n",
    "            result = (rightVal,rightToken)\n",
    "\n",
    "    return result\n",
    "\n",
    "\n",
    "def buildItem():\n",
    "    names=['A','B','C','D','E','F','G']\n",
    "    vals = [35,30,6,50,40,10,25]\n",
    "    weights=[10,40,30,50,35,40,30]\n",
    "    Items=[]\n",
    "    for i in range(len(names)):\n",
    "        Items.append(Item(names[i],vals[i],weights[i]))\n",
    "    return Items\n",
    "\n",
    "def testCode():\n",
    "    value,token = maxValue(buildItem(), 150)\n",
    "    for item in token:\n",
    "        print(item)\n",
    "    print (\"Total value of tokens is {}\".format( value))\n",
    "\n",
    "%time testCode()\n"
   ]
  },
  {
   "cell_type": "markdown",
   "metadata": {},
   "source": [
    "动态规划解法：  \n",
    "要想用动态规划，首先要满足两个条件：**重复子问题 和 最优子结构**  \n",
    "每个父节点会组合子节点的解来得到这个父节点为跟的子树的最优解，所以存在最优子结构。  \n",
    "同一层的每个节点剩余的可选物品集合都是一样的，所以具有重复子问题  \n",
    "因此可以利用动态规划来解决问题。  \n",
    "\n",
    "动态规划的核心就是提供了一个memory，能够缓存已经计算过的值\n",
    " "
   ]
  },
  {
   "cell_type": "code",
   "execution_count": 11,
   "metadata": {},
   "outputs": [
    {
     "name": "stdout",
     "output_type": "stream",
     "text": [
      " < E , 40.0 , 35.0>\n",
      " < D , 50.0 , 50.0>\n",
      " < B , 30.0 , 40.0>\n",
      " < A , 35.0 , 10.0>\n",
      "Total value of tokens is ()\n",
      "Wall time: 7.99 ms\n"
     ]
    }
   ],
   "source": [
    "# item have three attribute: name,weight,value\n",
    "import time \n",
    "class Item(object):\n",
    "    def __init__(self,n,v,w):\n",
    "        self.name=n\n",
    "        self.weight=float(w)\n",
    "        self.value=float(v)\n",
    "\n",
    "    def getName(self):\n",
    "        return self.name\n",
    "\n",
    "    def getValue(self):\n",
    "        return self.value\n",
    "\n",
    "    def getWeight(self):\n",
    "        return self.weight\n",
    "\n",
    "    def __str__(self):\n",
    "        result = ' < '+self.name+' , '+str(self.value)+' , '+str(self.weight) + '>'\n",
    "        return result\n",
    "\n",
    "\n",
    "def fastMaxVal(oraSet,leftRoom,memo={}):\n",
    "    if (len(oraSet),leftRoom) in memo:\n",
    "        result = memo[(len(oraSet),leftRoom)]\n",
    "    elif oraSet == [] or leftRoom == 0:\n",
    "        result = (0,())\n",
    "    elif oraSet[0].getWeight()>leftRoom:\n",
    "        result = fastMaxVal(oraSet[1:],leftRoom,memo)\n",
    "    else:\n",
    "        nextItem = oraSet[0]\n",
    "\n",
    "        leftValue,leftToken = fastMaxVal(oraSet[1:],leftRoom - nextItem.getWeight(),memo)\n",
    "        leftValue +=nextItem.getValue()\n",
    "\n",
    "        rightValue,rightToken = fastMaxVal(oraSet[1:],leftRoom,memo)\n",
    "\n",
    "        if leftValue >rightValue:\n",
    "            result = (leftValue,leftToken+(nextItem,))\n",
    "        else:\n",
    "            result = (rightValue,rightToken)\n",
    "\n",
    "    memo[(len(oraSet),leftRoom)] = result\n",
    "\n",
    "    return result\n",
    "\n",
    "\n",
    "\n",
    "def buildItem():\n",
    "    names=['A','B','C','D','E','F','G']\n",
    "    vals = [35,30,6,50,40,10,25]\n",
    "    weights=[10,40,30,50,35,40,30]\n",
    "    Items=[]\n",
    "    for i in range(len(names)):\n",
    "        Items.append(Item(names[i],vals[i],weights[i]))\n",
    "    return Items\n",
    "\n",
    "def testCode():\n",
    "    value,token = fastMaxVal(buildItem(), 150)\n",
    "    for item in token:\n",
    "        print(item)\n",
    "    print (\"Total value of tokens is ()\".format( value))\n",
    "%time testCode()"
   ]
  },
  {
   "cell_type": "markdown",
   "metadata": {},
   "source": [
    "思考：  \n",
    "1） 动态规划为什么会快？\n",
    "因为这里不需要调用函数计算重复子问题，那么一定就是快很多么？不一定，这取决于重复子问题的多少。0/1背包问题当数据量大时，他的时间节省比较多的原因在与我们设计的重复子问题比较好，因为对于物品的多种组合来说，他们的剩余空间的一致的概率比较大，多以告知重复子问题会比较多。\n",
    "\n",
    "2）动态规划的核心：\n",
    "核心在于memory的设计，这里我们利用了memo[(len(oraSet),leftRoom)]中的(len(oraSet),leftRoom)字典作为键，为什么可以利用len(oraSet)而不是oraSet呢（当然oraSet也是可以的）？这是因为对于每一层的子节点来说，剩余物品的个数都是一致的，这个个数可以区分重复子问题。而动态规划相较于普通的递归算法，主要的就是增加了memory\n",
    "\n",
    "3）如何设计动态规划算法：\n",
    "首先看问题是否满足动态规划的两个条件：重复子问题，最优子结构；然后首先利用递归算法解决问题，设计memory，然后修改递归算法的实现，加入memory，最终实现动态规划的算法。\n",
    " "
   ]
  },
  {
   "cell_type": "code",
   "execution_count": null,
   "metadata": {},
   "outputs": [],
   "source": []
  }
 ],
 "metadata": {
  "kernelspec": {
   "display_name": "Python 3",
   "language": "python",
   "name": "python3"
  },
  "language_info": {
   "codemirror_mode": {
    "name": "ipython",
    "version": 3
   },
   "file_extension": ".py",
   "mimetype": "text/x-python",
   "name": "python",
   "nbconvert_exporter": "python",
   "pygments_lexer": "ipython3",
   "version": "3.7.4"
  }
 },
 "nbformat": 4,
 "nbformat_minor": 4
}
