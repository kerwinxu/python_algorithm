{
 "cells": [
  {
   "cell_type": "code",
   "execution_count": 1,
   "metadata": {
    "execution": {
     "iopub.execute_input": "2020-06-06T11:50:08.755921Z",
     "iopub.status.busy": "2020-06-06T11:50:08.755921Z",
     "iopub.status.idle": "2020-06-06T11:51:16.852302Z",
     "shell.execute_reply": "2020-06-06T11:51:16.851325Z",
     "shell.execute_reply.started": "2020-06-06T11:50:08.755921Z"
    }
   },
   "outputs": [],
   "source": [
    "import tensorflow as tf\n",
    "from tensorflow import  keras\n",
    "from tensorflow.keras import  layers\n",
    "import matplotlib.pyplot as plt\n",
    "%matplotlib inline"
   ]
  },
  {
   "cell_type": "markdown",
   "metadata": {},
   "source": [
    "# 一个简单的全连接神经网络"
   ]
  },
  {
   "cell_type": "code",
   "execution_count": 2,
   "metadata": {
    "execution": {
     "iopub.execute_input": "2020-06-06T11:51:16.855306Z",
     "iopub.status.busy": "2020-06-06T11:51:16.854305Z",
     "iopub.status.idle": "2020-06-06T11:51:16.872306Z",
     "shell.execute_reply": "2020-06-06T11:51:16.868304Z",
     "shell.execute_reply.started": "2020-06-06T11:51:16.855306Z"
    }
   },
   "outputs": [],
   "source": [
    "# 分如下几个步骤\n",
    "# 加载数据集\n",
    "# 构造模型/编译模型\n",
    "# 训练模型\n"
   ]
  },
  {
   "cell_type": "code",
   "execution_count": 3,
   "metadata": {
    "execution": {
     "iopub.execute_input": "2020-06-06T11:51:16.881306Z",
     "iopub.status.busy": "2020-06-06T11:51:16.880305Z",
     "iopub.status.idle": "2020-06-06T11:51:18.204302Z",
     "shell.execute_reply": "2020-06-06T11:51:18.203299Z",
     "shell.execute_reply.started": "2020-06-06T11:51:16.881306Z"
    }
   },
   "outputs": [],
   "source": [
    "# 我这里也是加载MNIST数据集吧。\n",
    "mnist = tf.keras.datasets.mnist\n",
    "(x_train, y_train), (x_test, y_test) = mnist.load_data()\n",
    "x_train, x_test = x_train / 255.0, x_test / 255.0"
   ]
  },
  {
   "cell_type": "code",
   "execution_count": 4,
   "metadata": {
    "execution": {
     "iopub.execute_input": "2020-06-06T11:51:18.207303Z",
     "iopub.status.busy": "2020-06-06T11:51:18.207303Z",
     "iopub.status.idle": "2020-06-06T11:52:27.400124Z",
     "shell.execute_reply": "2020-06-06T11:52:27.399204Z",
     "shell.execute_reply.started": "2020-06-06T11:51:18.207303Z"
    }
   },
   "outputs": [],
   "source": [
    "# 构造模型\n",
    "model = tf.keras.models.Sequential([\n",
    "  tf.keras.layers.Flatten(input_shape=(28, 28)),   # 这个先是展平操作\n",
    "  tf.keras.layers.Dense(128, activation='relu'),   # 全连接层\n",
    "  tf.keras.layers.Dropout(0.2),                    # 随机丢弃一些数据\n",
    "  tf.keras.layers.Dense(10, activation='softmax')  # 全连接层，用softmax\n",
    "])\n",
    "# 编译模型\n",
    "model.compile(optimizer='adam',                        # 优化器\n",
    "              loss='sparse_categorical_crossentropy',  # 损失函数\n",
    "              metrics=['accuracy'])"
   ]
  },
  {
   "cell_type": "code",
   "execution_count": 5,
   "metadata": {
    "execution": {
     "iopub.execute_input": "2020-06-06T11:52:27.402128Z",
     "iopub.status.busy": "2020-06-06T11:52:27.402128Z",
     "iopub.status.idle": "2020-06-06T11:54:44.057073Z",
     "shell.execute_reply": "2020-06-06T11:54:44.056070Z",
     "shell.execute_reply.started": "2020-06-06T11:52:27.402128Z"
    }
   },
   "outputs": [
    {
     "name": "stdout",
     "output_type": "stream",
     "text": [
      "Train on 54000 samples, validate on 6000 samples\n",
      "Epoch 1/5\n",
      "54000/54000 [==============================] - 72s 1ms/sample - loss: 0.3110 - accuracy: 0.9091 - val_loss: 0.1303 - val_accuracy: 0.9638\n",
      "Epoch 2/5\n",
      "54000/54000 [==============================] - 14s 257us/sample - loss: 0.1477 - accuracy: 0.9564 - val_loss: 0.0891 - val_accuracy: 0.9758\n",
      "Epoch 3/5\n",
      "54000/54000 [==============================] - 13s 239us/sample - loss: 0.1114 - accuracy: 0.9662 - val_loss: 0.0803 - val_accuracy: 0.9758\n",
      "Epoch 4/5\n",
      "54000/54000 [==============================] - 12s 231us/sample - loss: 0.0888 - accuracy: 0.9725 - val_loss: 0.0713 - val_accuracy: 0.9778\n",
      "Epoch 5/5\n",
      "54000/54000 [==============================] - 13s 241us/sample - loss: 0.0742 - accuracy: 0.9765 - val_loss: 0.0723 - val_accuracy: 0.9795\n",
      "10000/10000 - 2s - loss: 0.0747 - accuracy: 0.9774\n"
     ]
    },
    {
     "data": {
      "text/plain": [
       "<matplotlib.legend.Legend at 0x22a1a9d0b48>"
      ]
     },
     "execution_count": 5,
     "metadata": {},
     "output_type": "execute_result"
    },
    {
     "data": {
      "image/png": "[encoded data removed]",
      "text/plain": [
       "<Figure size 432x288 with 1 Axes>"
      ]
     },
     "metadata": {
      "needs_background": "light"
     },
     "output_type": "display_data"
    }
   ],
   "source": [
    "# 训练并验证模型\n",
    "history =model.fit(x_train, y_train, epochs=5,validation_split=0.1)      # 训练模型，epochs指的就是训练过程中数据将被“轮”多少次\n",
    "model.evaluate(x_test,  y_test, verbose=2) # 验证模型,verbose = 2 为每个epoch输出一行记录\n",
    "plt.plot(history.history['accuracy'])\n",
    "plt.plot(history.history['val_accuracy'])\n",
    "plt.legend(['training', 'valivation'], loc='upper left')"
   ]
  },
  {
   "cell_type": "code",
   "execution_count": null,
   "metadata": {},
   "outputs": [],
   "source": []
  },
  {
   "cell_type": "markdown",
   "metadata": {},
   "source": [
    "# 一个简单的卷积神经网络"
   ]
  },
  {
   "cell_type": "code",
   "execution_count": 6,
   "metadata": {
    "execution": {
     "iopub.execute_input": "2020-06-06T11:54:44.059073Z",
     "iopub.status.busy": "2020-06-06T11:54:44.059073Z",
     "iopub.status.idle": "2020-06-06T11:58:34.173318Z",
     "shell.execute_reply": "2020-06-06T11:58:34.170318Z",
     "shell.execute_reply.started": "2020-06-06T11:54:44.059073Z"
    }
   },
   "outputs": [
    {
     "name": "stdout",
     "output_type": "stream",
     "text": [
      "Train on 54000 samples, validate on 6000 samples\n",
      "Epoch 1/5\n",
      "54000/54000 [==============================] - 133s 2ms/sample - loss: 0.1634 - accuracy: 0.9497 - val_loss: 0.0700 - val_accuracy: 0.9790\n",
      "Epoch 2/5\n",
      "54000/54000 [==============================] - 22s 416us/sample - loss: 0.0501 - accuracy: 0.9845 - val_loss: 0.0370 - val_accuracy: 0.9873\n",
      "Epoch 3/5\n",
      "54000/54000 [==============================] - 23s 431us/sample - loss: 0.0366 - accuracy: 0.9887 - val_loss: 0.0351 - val_accuracy: 0.9895\n",
      "Epoch 4/5\n",
      "54000/54000 [==============================] - 24s 441us/sample - loss: 0.0271 - accuracy: 0.9912 - val_loss: 0.0368 - val_accuracy: 0.9902\n",
      "Epoch 5/5\n",
      "54000/54000 [==============================] - 24s 451us/sample - loss: 0.0214 - accuracy: 0.9927 - val_loss: 0.0334 - val_accuracy: 0.9912\n",
      "10000/10000 - 2s - loss: 0.0269 - accuracy: 0.9916\n"
     ]
    },
    {
     "data": {
      "text/plain": [
       "<matplotlib.legend.Legend at 0x22aa8b73d48>"
      ]
     },
     "execution_count": 6,
     "metadata": {},
     "output_type": "execute_result"
    },
    {
     "data": {
      "image/png": "[encoded data removed]",
      "text/plain": [
       "<Figure size 432x288 with 1 Axes>"
      ]
     },
     "metadata": {
      "needs_background": "light"
     },
     "output_type": "display_data"
    }
   ],
   "source": [
    "# 这里还是用手写字体来识别吧，不过不同的是，这里换成卷积神经网络。\n",
    "# 卷积神经网络是用Conv2D这个卷积和MaxPooling2D这个池化来处理数据的。\n",
    "model_conv2d=tf.keras.models.Sequential([\n",
    "    # 第1层卷积，卷积核大小为3*3，32个，28*28为待训练图片的大小\n",
    "    layers.Conv2D(32, (3, 3), activation='relu', input_shape=(28, 28, 1)),\n",
    "    layers.MaxPooling2D((2, 2)),\n",
    "    # 第2层卷积，卷积核大小为3*3，64个\n",
    "    layers.Conv2D(64, (3, 3), activation='relu'),\n",
    "    layers.MaxPooling2D((2, 2)),\n",
    "    # 第3层卷积，卷积核大小为3*3，64个\n",
    "    layers.Conv2D(64, (3, 3), activation='relu'),\n",
    "    # 展平,原先是矩阵，现在要变成向量\n",
    "    layers.Flatten(),\n",
    "    # 如下用2个全连接层\n",
    "    layers.Dense(64, activation='relu'),\n",
    "    layers.Dense(10, activation='softmax')\n",
    "])\n",
    "\n",
    "model_conv2d.compile(optimizer='adam',                        # 优化器\n",
    "              loss='sparse_categorical_crossentropy',  # 损失函数\n",
    "              metrics=['accuracy'])\n",
    "# 数据集要更改尺寸,原先是每一个都是28*28的图像，现在要加上一个高度\n",
    "x_train_2 = x_train.reshape((-1,28,28,1))\n",
    "x_test_2 = x_test.reshape((-1,28,28,1))\n",
    "# 我同样训练5次吧\n",
    "history=model_conv2d.fit(x_train_2, y_train, epochs=5,validation_split=0.1)      # 训练模型，epochs指的就是训练过程中数据将被“轮”多少次\n",
    "model_conv2d.evaluate(x_test_2,  y_test, verbose=2) # 验证模型,verbose = 2 为每个epoch输出一行记录\n",
    "\n",
    "plt.plot(history.history['accuracy'])\n",
    "plt.plot(history.history['val_accuracy'])\n",
    "plt.legend(['training', 'valivation'], loc='upper left')"
   ]
  },
  {
   "cell_type": "markdown",
   "metadata": {},
   "source": [
    "# 一个增强的卷积神经网络,深度网络"
   ]
  },
  {
   "cell_type": "code",
   "execution_count": 7,
   "metadata": {
    "execution": {
     "iopub.execute_input": "2020-06-06T11:58:34.176318Z",
     "iopub.status.busy": "2020-06-06T11:58:34.175319Z",
     "iopub.status.idle": "2020-06-06T11:58:34.193319Z",
     "shell.execute_reply": "2020-06-06T11:58:34.187318Z",
     "shell.execute_reply.started": "2020-06-06T11:58:34.176318Z"
    }
   },
   "outputs": [
    {
     "data": {
      "text/plain": [
       "(60000, 28, 28, 1)"
      ]
     },
     "execution_count": 7,
     "metadata": {},
     "output_type": "execute_result"
    }
   ],
   "source": [
    "x_train_2.shape"
   ]
  },
  {
   "cell_type": "code",
   "execution_count": 8,
   "metadata": {
    "execution": {
     "iopub.execute_input": "2020-06-06T11:58:34.203318Z",
     "iopub.status.busy": "2020-06-06T11:58:34.202321Z",
     "iopub.status.idle": "2020-06-06T11:58:34.570277Z",
     "shell.execute_reply": "2020-06-06T11:58:34.567295Z",
     "shell.execute_reply.started": "2020-06-06T11:58:34.203318Z"
    }
   },
   "outputs": [
    {
     "name": "stdout",
     "output_type": "stream",
     "text": [
      "Model: \"sequential_2\"\n",
      "_________________________________________________________________\n",
      "Layer (type)                 Output Shape              Param #   \n",
      "=================================================================\n",
      "conv2d_3 (Conv2D)            (None, 28, 28, 32)        320       \n",
      "_________________________________________________________________\n",
      "conv2d_4 (Conv2D)            (None, 28, 28, 32)        9248      \n",
      "_________________________________________________________________\n",
      "max_pooling2d_2 (MaxPooling2 (None, 14, 14, 32)        0         \n",
      "_________________________________________________________________\n",
      "conv2d_5 (Conv2D)            (None, 14, 14, 32)        9248      \n",
      "_________________________________________________________________\n",
      "conv2d_6 (Conv2D)            (None, 14, 14, 32)        9248      \n",
      "_________________________________________________________________\n",
      "max_pooling2d_3 (MaxPooling2 (None, 7, 7, 32)          0         \n",
      "_________________________________________________________________\n",
      "flatten_2 (Flatten)          (None, 1568)              0         \n",
      "_________________________________________________________________\n",
      "dense_4 (Dense)              (None, 32)                50208     \n",
      "_________________________________________________________________\n",
      "dense_5 (Dense)              (None, 10)                330       \n",
      "=================================================================\n",
      "Total params: 78,602\n",
      "Trainable params: 78,602\n",
      "Non-trainable params: 0\n",
      "_________________________________________________________________\n"
     ]
    }
   ],
   "source": [
    "x_train_2_shape = x_train_2.shape\n",
    "# 相比较卷积神经网络，多了filters，深度啦。\n",
    "deep_model = keras.Sequential(\n",
    "[\n",
    "    layers.Conv2D(input_shape=((x_train_2_shape[1], x_train_2_shape[2], x_train_2_shape[3])),  # 自动根据输入的尺寸\n",
    "                 filters=32, kernel_size=(3,3), strides=(1,1), padding='same', activation='relu'),\n",
    "    layers.Conv2D(filters=32, kernel_size=(3,3), strides=(1,1), padding='same', activation='relu'),\n",
    "    layers.MaxPool2D(pool_size=(2,2)),\n",
    "    layers.Conv2D(filters=32, kernel_size=(3,3), strides=(1,1), padding='same', activation='relu'),\n",
    "    layers.Conv2D(filters=32, kernel_size=(3,3), strides=(1,1), padding='same', activation='relu'),\n",
    "    layers.MaxPool2D(pool_size=(2,2)),\n",
    "    layers.Flatten(),\n",
    "    layers.Dense(32, activation='relu'),\n",
    "    layers.Dense(10, activation='softmax')\n",
    "])\n",
    "\n",
    "deep_model.compile(optimizer=keras.optimizers.Adam(),\n",
    "             loss=keras.losses.SparseCategoricalCrossentropy(),\n",
    "            metrics=['accuracy'])\n",
    "deep_model.summary()"
   ]
  },
  {
   "cell_type": "code",
   "execution_count": 9,
   "metadata": {
    "execution": {
     "iopub.execute_input": "2020-06-06T11:58:34.572274Z",
     "iopub.status.busy": "2020-06-06T11:58:34.571272Z",
     "iopub.status.idle": "2020-06-06T12:01:41.931274Z",
     "shell.execute_reply": "2020-06-06T12:01:41.930274Z",
     "shell.execute_reply.started": "2020-06-06T11:58:34.572274Z"
    }
   },
   "outputs": [
    {
     "name": "stdout",
     "output_type": "stream",
     "text": [
      "Train on 54000 samples, validate on 6000 samples\n",
      "Epoch 1/5\n",
      "54000/54000 [==============================] - 41s 761us/sample - loss: 0.1529 - accuracy: 0.9529 - val_loss: 0.0546 - val_accuracy: 0.9827\n",
      "Epoch 2/5\n",
      "54000/54000 [==============================] - 37s 688us/sample - loss: 0.0481 - accuracy: 0.9850 - val_loss: 0.0393 - val_accuracy: 0.9867\n",
      "Epoch 3/5\n",
      "54000/54000 [==============================] - 36s 662us/sample - loss: 0.0344 - accuracy: 0.9891 - val_loss: 0.0366 - val_accuracy: 0.9900\n",
      "Epoch 4/5\n",
      "54000/54000 [==============================] - 35s 650us/sample - loss: 0.0276 - accuracy: 0.9909 - val_loss: 0.0372 - val_accuracy: 0.9888\n",
      "Epoch 5/5\n",
      "54000/54000 [==============================] - 35s 647us/sample - loss: 0.0225 - accuracy: 0.9927 - val_loss: 0.0272 - val_accuracy: 0.9917\n",
      "10000/10000 - 3s - loss: 0.0290 - accuracy: 0.9906\n"
     ]
    },
    {
     "data": {
      "text/plain": [
       "<matplotlib.legend.Legend at 0x22abee48d08>"
      ]
     },
     "execution_count": 9,
     "metadata": {},
     "output_type": "execute_result"
    },
    {
     "data": {
      "image/png": "[encoded data removed]",
      "text/plain": [
       "<Figure size 432x288 with 1 Axes>"
      ]
     },
     "metadata": {
      "needs_background": "light"
     },
     "output_type": "display_data"
    }
   ],
   "source": [
    "# 训练并验证模型\n",
    "history = deep_model.fit(x_train_2, y_train, epochs=5,validation_split=0.1)      # 训练模型，epochs指的就是训练过程中数据将被“轮”多少次\n",
    "deep_model.evaluate(x_test_2,  y_test, verbose=2) # 验证模型,verbose = 2 为每个epoch输出一行记录\n",
    "plt.plot(history.history['accuracy'])\n",
    "plt.plot(history.history['val_accuracy'])\n",
    "plt.legend(['training', 'valivation'], loc='upper left')"
   ]
  },
  {
   "cell_type": "markdown",
   "metadata": {},
   "source": [
    "# 一个简单的全连接神经网络的API构建实现"
   ]
  },
  {
   "cell_type": "code",
   "execution_count": 11,
   "metadata": {
    "execution": {
     "iopub.execute_input": "2020-06-06T12:16:52.124069Z",
     "iopub.status.busy": "2020-06-06T12:16:52.124069Z",
     "iopub.status.idle": "2020-06-06T12:18:13.224848Z",
     "shell.execute_reply": "2020-06-06T12:18:13.223850Z",
     "shell.execute_reply.started": "2020-06-06T12:16:52.124069Z"
    }
   },
   "outputs": [
    {
     "name": "stdout",
     "output_type": "stream",
     "text": [
      "Train on 54000 samples, validate on 6000 samples\n",
      "Epoch 1/5\n",
      "54000/54000 [==============================] - 14s 253us/sample - loss: 0.5315 - accuracy: 0.8565 - val_loss: 0.2771 - val_accuracy: 0.9237\n",
      "Epoch 2/5\n",
      "54000/54000 [==============================] - 12s 226us/sample - loss: 0.3550 - accuracy: 0.8986 - val_loss: 0.2508 - val_accuracy: 0.9298\n",
      "Epoch 3/5\n",
      "54000/54000 [==============================] - 19s 361us/sample - loss: 0.3325 - accuracy: 0.9061 - val_loss: 0.2403 - val_accuracy: 0.9338\n",
      "Epoch 4/5\n",
      "54000/54000 [==============================] - 16s 304us/sample - loss: 0.3237 - accuracy: 0.9074 - val_loss: 0.2314 - val_accuracy: 0.9353\n",
      "Epoch 5/5\n",
      "54000/54000 [==============================] - 16s 291us/sample - loss: 0.3190 - accuracy: 0.9095 - val_loss: 0.2291 - val_accuracy: 0.9348\n",
      "10000/10000 - 2s - loss: 0.2749 - accuracy: 0.9237\n"
     ]
    },
    {
     "data": {
      "text/plain": [
       "<matplotlib.legend.Legend at 0x22acf0e1ac8>"
      ]
     },
     "execution_count": 11,
     "metadata": {},
     "output_type": "execute_result"
    },
    {
     "data": {
      "image/png": "[encoded data removed]",
      "text/plain": [
       "<Figure size 432x288 with 1 Axes>"
      ]
     },
     "metadata": {
      "needs_background": "light"
     },
     "output_type": "display_data"
    }
   ],
   "source": [
    "# 构造模型\n",
    "input_x = tf.keras.Input(shape=(28,28))    # 输入是一个28*28的表\n",
    "flattern_x = tf.keras.layers.Flatten()(input_x) # 展平\n",
    "hidden1 = tf.keras.layers.Flatten(input_shape=(28, 28))(flattern_x)\n",
    "hidden1_dropout = tf.keras.layers.Dropout(0.2)(hidden1)\n",
    "pred = tf.keras.layers.Dense(10, activation='softmax')(hidden1_dropout)\n",
    "\n",
    "model_api = tf.keras.Model(inputs=input_x, outputs=pred)  # 模型\n",
    "\n",
    "# 编译模型\n",
    "model_api.compile(optimizer='adam',                        # 优化器\n",
    "              loss='sparse_categorical_crossentropy',  # 损失函数\n",
    "              metrics=['accuracy'])\n",
    "\n",
    "# 训练并验证模型\n",
    "history =model_api.fit(x_train, y_train, epochs=5,validation_split=0.1)      # 训练模型，epochs指的就是训练过程中数据将被“轮”多少次\n",
    "model_api.evaluate(x_test,  y_test, verbose=2) # 验证模型,verbose = 2 为每个epoch输出一行记录\n",
    "plt.plot(history.history['accuracy'])\n",
    "plt.plot(history.history['val_accuracy'])\n",
    "plt.legend(['training', 'valivation'], loc='upper left')"
   ]
  },
  {
   "cell_type": "code",
   "execution_count": null,
   "metadata": {},
   "outputs": [],
   "source": []
  }
 ],
 "metadata": {
  "kernelspec": {
   "display_name": "Python 3",
   "language": "python",
   "name": "python3"
  },
  "language_info": {
   "codemirror_mode": {
    "name": "ipython",
    "version": 3
   },
   "file_extension": ".py",
   "mimetype": "text/x-python",
   "name": "python",
   "nbconvert_exporter": "python",
   "pygments_lexer": "ipython3",
   "version": "3.7.6"
  }
 },
 "nbformat": 4,
 "nbformat_minor": 4
}
