{
 "cells": [
  {
   "cell_type": "markdown",
   "metadata": {},
   "source": [
    "# 算法基本过程\n",
    "\n",
    "- 构造FP数\n",
    "- 从FP树中挖掘频繁项集"
   ]
  },
  {
   "cell_type": "markdown",
   "metadata": {},
   "source": [
    "# 一般流程如下\n",
    "\n",
    "- 先扫描一遍数据集，得到频繁项为1的项目集，定义最小支持度（项目出现最少次数），删除那些小于最小支持度的项目，然后将原始数据集中的条目按项目集中降序进行排列。\n",
    "- 第二次扫描，创建项头表（从上往下降序），以及FP树\n",
    "- 对于每个项目（可以按照从下往上的顺序）找到其条件模式基（CPB，conditional patten base）,递归调用树结构，删除小于最小支持度的项。如果最终呈现单一路径的树结构，则直接列举所有组合；非单一路径的则继续调用树结构，直到形成单一路径即可"
   ]
  },
  {
   "cell_type": "markdown",
   "metadata": {},
   "source": [
    "# 具体步骤"
   ]
  },
  {
   "cell_type": "markdown",
   "metadata": {},
   "source": [
    "## FP数的类定义"
   ]
  },
  {
   "cell_type": "code",
   "execution_count": 1,
   "metadata": {
    "execution": {
     "iopub.execute_input": "2020-06-23T08:03:27.500934Z",
     "iopub.status.busy": "2020-06-23T08:03:27.499934Z",
     "iopub.status.idle": "2020-06-23T08:03:27.524929Z",
     "shell.execute_reply": "2020-06-23T08:03:27.520930Z",
     "shell.execute_reply.started": "2020-06-23T08:03:27.500934Z"
    }
   },
   "outputs": [],
   "source": [
    "class treeNode:\n",
    "    def __init__(self, nameValue, numOccur, parentNode):\n",
    "        self.name = nameValue #节点名字\n",
    "        self.count = numOccur #节点计数值\n",
    "        self.nodeLink = None #用于链接相似的元素项\n",
    "        self.parent = parentNode      #needs to be updated\n",
    "        self.children = {} #子节点\n",
    "\n",
    "    def inc(self, numOccur):\n",
    "        '''\n",
    "        对count变量增加给定值\n",
    "        '''\n",
    "        self.count += numOccur\n",
    "\n",
    "    def disp(self, ind=1):\n",
    "        '''\n",
    "        将树以文本形式展示\n",
    "        '''\n",
    "        print ('  '*ind, self.name, ' ', self.count)\n",
    "        for child in self.children.values():\n",
    "            child.disp(ind+1)\n"
   ]
  },
  {
   "cell_type": "markdown",
   "metadata": {},
   "source": [
    "## FP树构建函数"
   ]
  },
  {
   "cell_type": "code",
   "execution_count": 2,
   "metadata": {
    "execution": {
     "iopub.execute_input": "2020-06-23T08:03:57.093905Z",
     "iopub.status.busy": "2020-06-23T08:03:57.092906Z",
     "iopub.status.idle": "2020-06-23T08:03:57.153904Z",
     "shell.execute_reply": "2020-06-23T08:03:57.151904Z",
     "shell.execute_reply.started": "2020-06-23T08:03:57.092906Z"
    }
   },
   "outputs": [],
   "source": [
    "def createTree(dataSet, minSup=1):\n",
    "    '''\n",
    "    创建FP树\n",
    "    '''\n",
    "    headerTable = {}\n",
    "    #第一次扫描数据集\n",
    "    for trans in dataSet:#计算item出现频数\n",
    "        for item in trans:\n",
    "            headerTable[item] = headerTable.get(item, 0) + dataSet[trans]\n",
    "    headerTable = {k:v for k,v in headerTable.items() if v >= minSup}\n",
    "    freqItemSet = set(headerTable.keys())\n",
    "    #print ('freqItemSet: ',freqItemSet)\n",
    "    if len(freqItemSet) == 0: return None, None  #如果没有元素项满足要求，则退出\n",
    "    for k in headerTable:\n",
    "        headerTable[k] = [headerTable[k], None] #初始化headerTable\n",
    "    #print ('headerTable: ',headerTable)\n",
    "    #第二次扫描数据集\n",
    "    retTree = treeNode('Null Set', 1, None) #创建树\n",
    "    for tranSet, count in dataSet.items():  \n",
    "        localD = {}\n",
    "        for item in tranSet:  #put transaction items in order\n",
    "            if item in freqItemSet:\n",
    "                localD[item] = headerTable[item][0]\n",
    "        if len(localD) > 0:\n",
    "            orderedItems = [v[0] for v in sorted(localD.items(), key=lambda p: p[1], reverse=True)]\n",
    "            updateTree(orderedItems, retTree, headerTable, count)#将排序后的item集合填充的树中\n",
    "    return retTree, headerTable #返回树型结构和头指针表\n",
    "\n",
    "def updateTree(items, inTree, headerTable, count):\n",
    "    if items[0] in inTree.children:#检查第一个元素项是否作为子节点存在\n",
    "        inTree.children[items[0]].inc(count) #存在，更新计数\n",
    "    else:   #不存在，创建一个新的treeNode,将其作为一个新的子节点加入其中\n",
    "        inTree.children[items[0]] = treeNode(items[0], count, inTree)\n",
    "        if headerTable[items[0]][1] == None: #更新头指针表\n",
    "            headerTable[items[0]][1] = inTree.children[items[0]]\n",
    "        else:\n",
    "            updateHeader(headerTable[items[0]][1], inTree.children[items[0]])\n",
    "    if len(items) > 1:#不断迭代调用自身，每次调用都会删掉列表中的第一个元素\n",
    "        updateTree(items[1::], inTree.children[items[0]], headerTable, count)\n",
    "\n",
    "def updateHeader(nodeToTest, targetNode):\n",
    "    '''\n",
    "    this version does not use recursion\n",
    "    Do not use recursion to traverse a linked list!\n",
    "    更新头指针表，确保节点链接指向树中该元素项的每一个实例\n",
    "    '''\n",
    "    while (nodeToTest.nodeLink != None):    \n",
    "        nodeToTest = nodeToTest.nodeLink\n",
    "    nodeToTest.nodeLink = targetNode\n"
   ]
  },
  {
   "cell_type": "markdown",
   "metadata": {},
   "source": [
    "## 抽取条件模式基"
   ]
  },
  {
   "cell_type": "code",
   "execution_count": 3,
   "metadata": {
    "execution": {
     "iopub.execute_input": "2020-06-23T08:04:17.463191Z",
     "iopub.status.busy": "2020-06-23T08:04:17.463191Z",
     "iopub.status.idle": "2020-06-23T08:04:17.496817Z",
     "shell.execute_reply": "2020-06-23T08:04:17.494648Z",
     "shell.execute_reply.started": "2020-06-23T08:04:17.463191Z"
    }
   },
   "outputs": [],
   "source": [
    "def ascendTree(leafNode, prefixPath): #迭代上溯整棵树\n",
    "    if leafNode.parent != None:\n",
    "        prefixPath.append(leafNode.name)\n",
    "        ascendTree(leafNode.parent, prefixPath)\n",
    "\n",
    "def findPrefixPath(basePat, treeNode): #treeNode comes from header table\n",
    "    condPats = {}\n",
    "    while treeNode != None:\n",
    "        prefixPath = []\n",
    "        ascendTree(treeNode, prefixPath)\n",
    "        if len(prefixPath) > 1: \n",
    "            condPats[frozenset(prefixPath[1:])] = treeNode.count\n",
    "        treeNode = treeNode.nodeLink\n",
    "    return condPats"
   ]
  },
  {
   "cell_type": "markdown",
   "metadata": {},
   "source": [
    "## 递归查找频繁项集"
   ]
  },
  {
   "cell_type": "code",
   "execution_count": 4,
   "metadata": {
    "execution": {
     "iopub.execute_input": "2020-06-23T08:04:39.971569Z",
     "iopub.status.busy": "2020-06-23T08:04:39.970539Z",
     "iopub.status.idle": "2020-06-23T08:04:39.997547Z",
     "shell.execute_reply": "2020-06-23T08:04:39.995542Z",
     "shell.execute_reply.started": "2020-06-23T08:04:39.971569Z"
    }
   },
   "outputs": [],
   "source": [
    "def mineTree(inTree, headerTable, minSup, preFix, freqItemList):\n",
    "    bigL = [v[0] for v in sorted(headerTable.items(), key=lambda p: p[1][0])]# 1.排序头指针表\n",
    "    for basePat in bigL:  #从头指针表的底端开始\n",
    "        newFreqSet = preFix.copy()\n",
    "        newFreqSet.add(basePat)\n",
    "        print ('finalFrequent Item: ',newFreqSet)    #添加的频繁项列表\n",
    "        freqItemList.append(newFreqSet)\n",
    "        condPattBases = findPrefixPath(basePat, headerTable[basePat][1])\n",
    "        print ('condPattBases :',basePat, condPattBases)\n",
    "        # 2.从条件模式基创建条件FP树\n",
    "        myCondTree, myHead = createTree(condPattBases, minSup)\n",
    "#         print ('head from conditional tree: ', myHead)\n",
    "        if myHead != None: # 3.挖掘条件FP树\n",
    "            print ('conditional tree for: ',newFreqSet)\n",
    "            myCondTree.disp(1)            \n",
    "            mineTree(myCondTree, myHead, minSup, newFreqSet, freqItemList)\n"
   ]
  },
  {
   "cell_type": "markdown",
   "metadata": {
    "execution": {
     "iopub.execute_input": "2020-06-23T08:04:52.320231Z",
     "iopub.status.busy": "2020-06-23T08:04:52.320231Z",
     "iopub.status.idle": "2020-06-23T08:04:52.337574Z",
     "shell.execute_reply": "2020-06-23T08:04:52.336651Z",
     "shell.execute_reply.started": "2020-06-23T08:04:52.320231Z"
    }
   },
   "source": [
    "## 测试结果"
   ]
  },
  {
   "cell_type": "code",
   "execution_count": 6,
   "metadata": {
    "execution": {
     "iopub.execute_input": "2020-06-23T08:05:18.602338Z",
     "iopub.status.busy": "2020-06-23T08:05:18.601339Z",
     "iopub.status.idle": "2020-06-23T08:05:18.613338Z",
     "shell.execute_reply": "2020-06-23T08:05:18.611351Z",
     "shell.execute_reply.started": "2020-06-23T08:05:18.602338Z"
    }
   },
   "outputs": [],
   "source": [
    "def loadSimpDat():\n",
    "    simpDat = [\n",
    "                ['I1','I2','I5'],\n",
    "                ['I2','I4'],\n",
    "                ['I2','I3'],\n",
    "                ['I1','I2','I4'],\n",
    "                ['I1','I3'],\n",
    "                ['I2','I3'],\n",
    "                ['I1','I3'],\n",
    "                ['I1','I2','I3','I5'],\n",
    "                ['I1','I2','I3']\n",
    "              ]\n",
    "    return simpDat\n",
    "\n",
    "def createInitSet(dataSet):  \n",
    "    retDict = {}  \n",
    "    for trans in dataSet:  \n",
    "        retDict[frozenset(trans)] = retDict.get(frozenset(trans), 0) + 1 #若没有相同事项，则为1；若有相同事项，则加1  \n",
    "    return retDict\n"
   ]
  },
  {
   "cell_type": "code",
   "execution_count": 8,
   "metadata": {
    "execution": {
     "iopub.execute_input": "2020-06-23T08:05:28.152734Z",
     "iopub.status.busy": "2020-06-23T08:05:28.152734Z",
     "iopub.status.idle": "2020-06-23T08:05:28.194735Z",
     "shell.execute_reply": "2020-06-23T08:05:28.191739Z",
     "shell.execute_reply.started": "2020-06-23T08:05:28.152734Z"
    }
   },
   "outputs": [
    {
     "name": "stdout",
     "output_type": "stream",
     "text": [
      "   Null Set   1\n",
      "     I2   7\n",
      "       I1   2\n",
      "         I5   1\n",
      "         I4   1\n",
      "       I4   1\n",
      "       I3   4\n",
      "         I1   2\n",
      "           I5   1\n",
      "     I3   2\n",
      "       I1   2\n",
      "finalFrequent Item:  {'I5'}\n",
      "condPattBases : I5 {frozenset({'I2', 'I1'}): 1, frozenset({'I3', 'I2', 'I1'}): 1}\n",
      "conditional tree for:  {'I5'}\n",
      "   Null Set   1\n",
      "     I2   2\n",
      "       I1   2\n",
      "finalFrequent Item:  {'I5', 'I2'}\n",
      "condPattBases : I2 {}\n",
      "finalFrequent Item:  {'I5', 'I1'}\n",
      "condPattBases : I1 {frozenset({'I2'}): 2}\n",
      "conditional tree for:  {'I5', 'I1'}\n",
      "   Null Set   1\n",
      "     I2   2\n",
      "finalFrequent Item:  {'I5', 'I2', 'I1'}\n",
      "condPattBases : I2 {}\n",
      "finalFrequent Item:  {'I4'}\n",
      "condPattBases : I4 {frozenset({'I2'}): 1, frozenset({'I2', 'I1'}): 1}\n",
      "conditional tree for:  {'I4'}\n",
      "   Null Set   1\n",
      "     I2   2\n",
      "finalFrequent Item:  {'I4', 'I2'}\n",
      "condPattBases : I2 {}\n",
      "finalFrequent Item:  {'I1'}\n",
      "condPattBases : I1 {frozenset({'I2'}): 2, frozenset({'I3'}): 2, frozenset({'I3', 'I2'}): 2}\n",
      "conditional tree for:  {'I1'}\n",
      "   Null Set   1\n",
      "     I2   2\n",
      "     I3   4\n",
      "       I2   2\n",
      "finalFrequent Item:  {'I2', 'I1'}\n",
      "condPattBases : I2 {frozenset({'I3'}): 2}\n",
      "conditional tree for:  {'I2', 'I1'}\n",
      "   Null Set   1\n",
      "     I3   2\n",
      "finalFrequent Item:  {'I3', 'I2', 'I1'}\n",
      "condPattBases : I3 {}\n",
      "finalFrequent Item:  {'I3', 'I1'}\n",
      "condPattBases : I3 {}\n",
      "finalFrequent Item:  {'I3'}\n",
      "condPattBases : I3 {frozenset({'I2'}): 4}\n",
      "conditional tree for:  {'I3'}\n",
      "   Null Set   1\n",
      "     I2   4\n",
      "finalFrequent Item:  {'I3', 'I2'}\n",
      "condPattBases : I2 {}\n",
      "finalFrequent Item:  {'I2'}\n",
      "condPattBases : I2 {}\n"
     ]
    }
   ],
   "source": [
    "minSup = 2\n",
    "simpDat = loadSimpDat()\n",
    "initSet = createInitSet(simpDat)\n",
    "myFPtree, myHeaderTab = createTree(initSet, minSup)\n",
    "myFPtree.disp()\n",
    "myFreqList = []\n",
    "mineTree(myFPtree, myHeaderTab, minSup, set([]), myFreqList)\n"
   ]
  },
  {
   "cell_type": "code",
   "execution_count": null,
   "metadata": {},
   "outputs": [],
   "source": []
  }
 ],
 "metadata": {
  "kernelspec": {
   "display_name": "Python 3",
   "language": "python",
   "name": "python3"
  },
  "language_info": {
   "codemirror_mode": {
    "name": "ipython",
    "version": 3
   },
   "file_extension": ".py",
   "mimetype": "text/x-python",
   "name": "python",
   "nbconvert_exporter": "python",
   "pygments_lexer": "ipython3",
   "version": "3.7.6"
  }
 },
 "nbformat": 4,
 "nbformat_minor": 4
}
