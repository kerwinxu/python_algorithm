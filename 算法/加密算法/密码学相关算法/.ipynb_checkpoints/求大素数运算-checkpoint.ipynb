{
 "cells": [
  {
   "cell_type": "code",
   "execution_count": 3,
   "metadata": {},
   "outputs": [
    {
     "name": "stdout",
     "output_type": "stream",
     "text": [
      "Wall time: 437 ms\n"
     ]
    },
    {
     "data": {
      "text/plain": [
       "125171051127963934364275373903200312706745916711334189056305267751860951981230568338824866764527768410892695829016781894194596212847580250043396578947860179888649019473597017138361229336469218126173045544179363559100067505206841791408196879851009589896617468986169809975943947681134084481196671699910328691033"
      ]
     },
     "execution_count": 3,
     "metadata": {},
     "output_type": "execute_result"
    }
   ],
   "source": [
    "# 如下的这个是生成大素数(python实现),包含素性检测\n",
    "import random\n",
    "# rabin算法的意思大家自己百度哈\n",
    "def rabin_miller(num):\n",
    "    s = num - 1\n",
    "    t = 0\n",
    "    while s % 2 == 0:\n",
    "        s = s // 2\n",
    "        t += 1\n",
    "\n",
    "    for trials in range(5):\n",
    "        a = random.randrange(2, num - 1)\n",
    "        v = pow(a, s, num)\n",
    "        if v != 1:\n",
    "            i = 0\n",
    "            while v != (num - 1):\n",
    "                if i == t - 1:\n",
    "                    return False\n",
    "                else:\n",
    "                    i = i + 1\n",
    "                    v = (v ** 2) % num\n",
    "    return True\n",
    "\n",
    "\n",
    "def is_prime(num):\n",
    "    # 排除0,1和负数\n",
    "    if num < 2:\n",
    "        return False\n",
    "\n",
    "    # 创建小素数的列表,可以大幅加快速度\n",
    "    # 如果是小素数,那么直接返回true\n",
    "    small_primes = [2, 3, 5, 7, 11, 13, 17, 19, 23, 29, 31, 37, 41, 43, 47, 53, 59, 61, 67, 71, 73, 79, 83, 89, 97, 101, 103, 107, 109, 113, 127, 131, 137, 139, 149, 151, 157, 163, 167, 173, 179, 181, 191, 193, 197, 199, 211, 223, 227, 229, 233, 239, 241, 251, 257, 263, 269, 271, 277, 281, 283, 293, 307, 311, 313, 317, 331, 337, 347, 349, 353, 359, 367, 373, 379, 383, 389, 397, 401, 409, 419, 421, 431, 433, 439, 443, 449, 457, 461, 463, 467, 479, 487, 491, 499, 503, 509, 521, 523, 541, 547, 557, 563, 569, 571, 577, 587, 593, 599, 601, 607, 613, 617, 619, 631, 641, 643, 647, 653, 659, 661, 673, 677, 683, 691, 701, 709, 719, 727, 733, 739, 743, 751, 757, 761, 769, 773, 787, 797, 809, 811, 821, 823, 827, 829, 839, 853, 857, 859, 863, 877, 881, 883, 887, 907, 911, 919, 929, 937, 941, 947, 953, 967, 971, 977, 983, 991, 997]\n",
    "    if num in small_primes:\n",
    "        return True\n",
    "\n",
    "    # 如果大数是这些小素数的倍数,那么就是合数,返回false\n",
    "    for prime in small_primes:\n",
    "        if num % prime == 0:\n",
    "            return False\n",
    "\n",
    "    # 如果这样没有分辨出来,就一定是大整数,那么就调用rabin算法\n",
    "    return rabin_miller(num)\n",
    "\n",
    "\n",
    "# 得到大整数,默认位数为1024\n",
    "def get_prime(key_size=1024):\n",
    "    while True:\n",
    "        num = random.randrange(2**(key_size-1), 2**key_size)\n",
    "        if is_prime(num):\n",
    "            return num\n",
    "%time get_prime()"
   ]
  },
  {
   "cell_type": "code",
   "execution_count": null,
   "metadata": {},
   "outputs": [],
   "source": []
  }
 ],
 "metadata": {
  "kernelspec": {
   "display_name": "Python 3",
   "language": "python",
   "name": "python3"
  },
  "language_info": {
   "codemirror_mode": {
    "name": "ipython",
    "version": 3
   },
   "file_extension": ".py",
   "mimetype": "text/x-python",
   "name": "python",
   "nbconvert_exporter": "python",
   "pygments_lexer": "ipython3",
   "version": "3.7.4"
  }
 },
 "nbformat": 4,
 "nbformat_minor": 4
}
