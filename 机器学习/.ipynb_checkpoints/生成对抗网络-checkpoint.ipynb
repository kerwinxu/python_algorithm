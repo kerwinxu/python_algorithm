{
 "cells": [
  {
   "cell_type": "markdown",
   "metadata": {},
   "source": [
    "# 前言"
   ]
  },
  {
   "cell_type": "markdown",
   "metadata": {},
   "source": [
    "生成对抗网络其实就是一个**生成网络**和一个**判别网络**组成的，\n",
    "- 生成网络：根据输入的噪声$z$，构建映射函数$G(z)$，使得生成样本尽量接近真是样品。\n",
    "- 判别网路：比较真实样本$x$和生成样本$G(z)$,判断$G(z)$是不是来自于真是样本分布。\n"
   ]
  },
  {
   "cell_type": "markdown",
   "metadata": {
    "execution": {
     "iopub.execute_input": "2020-06-03T12:55:03.213900Z",
     "iopub.status.busy": "2020-06-03T12:55:03.209901Z",
     "iopub.status.idle": "2020-06-03T12:55:03.313896Z",
     "shell.execute_reply": "2020-06-03T12:55:03.310899Z",
     "shell.execute_reply.started": "2020-06-03T12:55:03.213900Z"
    }
   },
   "source": [
    "# 目标函数"
   ]
  },
  {
   "cell_type": "markdown",
   "metadata": {},
   "source": [
    "判断网络输出来自真是概率的函数 $$P(y=0|x)=D(x,\\phi),\\phi 为网络判别参数$$  \n",
    "\n",
    "注意： 实际训练模型时，通常将真实样品标记为0，生成样品标记为1.\n",
    "\n",
    "判别网络的目标函数的用交叉熵表示。\n",
    "$$\\LARGE \\underset{\\phi}{max}\\left(E_{x\\thicksim Pr(x)}\\left[log D(x;\\phi)\\right]+E_{z \\thicksim P(z)}\\left[log(1-D\\left(G(z;\\theta);\\phi\\right)\\right]\\right)$$\n",
    "\n",
    "生成网络目标与之相反 $$\\LARGE \\underset{\\theta}{max}\\left(E_{z\\thicksim P(z)}\\left[log D\\left(G(z;\\theta);\\phi\\right)\\right]\\right)$$\n",
    "\n",
    "$\\theta$为生成网络参数"
   ]
  },
  {
   "cell_type": "markdown",
   "metadata": {},
   "source": [
    "# 算法流程"
   ]
  },
  {
   "cell_type": "markdown",
   "metadata": {},
   "source": [
    "生成网络与判别网络的训练是交叉进行的，判别网络训练K次后，生成网络训练1次。\n",
    "\n",
    "- Input: 训练样本集D，最大迭代训练步数max_step，每次迭代判别网络训练次数K以及小批量样本数M\n",
    "- Output: 生成网络参数\n",
    "\n",
    "\n",
    "1. 采用随机梯度下降训练判别网络K次，每次分别从样本集和生成网络采集M个样本\n",
    "2. 生成网络生成M个样本，基于最新的判别网络参数，训练生成网络一次\n",
    "3. 若达到最大迭代步数，终止，反之转步骤1"
   ]
  },
  {
   "cell_type": "markdown",
   "metadata": {},
   "source": [
    "# 代码示例"
   ]
  },
  {
   "cell_type": "code",
   "execution_count": 3,
   "metadata": {
    "execution": {
     "iopub.execute_input": "2020-06-03T15:01:07.934697Z",
     "iopub.status.busy": "2020-06-03T15:01:07.929690Z",
     "iopub.status.idle": "2020-06-03T15:04:03.183872Z",
     "shell.execute_reply": "2020-06-03T15:04:03.128874Z",
     "shell.execute_reply.started": "2020-06-03T15:01:07.934697Z"
    }
   },
   "outputs": [
    {
     "name": "stdout",
     "output_type": "stream",
     "text": [
      "第1次迭代训练损失值:0.587\n"
     ]
    },
    {
     "name": "stderr",
     "output_type": "stream",
     "text": [
      "d:\\Anaconda3\\lib\\site-packages\\keras\\engine\\training.py:297: UserWarning: Discrepancy between trainable weights and collected trainable weights, did you set `model.trainable` without calling `model.compile` after ?\n",
      "  'Discrepancy between trainable weights and collected trainable'\n"
     ]
    },
    {
     "ename": "FailedPreconditionError",
     "evalue": " Error while reading resource variable _AnonymousVar117 from Container: localhost. This could mean that the variable was uninitialized. Not found: Resource localhost/_AnonymousVar117/class tensorflow::Var does not exist.\n\t [[node mul_46/ReadVariableOp (defined at d:\\Anaconda3\\lib\\site-packages\\keras\\backend\\tensorflow_backend.py:3009) ]] [Op:__inference_keras_scratch_graph_5969]\n\nFunction call stack:\nkeras_scratch_graph\n",
     "output_type": "error",
     "traceback": [
      "\u001b[1;31m---------------------------------------------------------------------------\u001b[0m",
      "\u001b[1;31mFailedPreconditionError\u001b[0m                   Traceback (most recent call last)",
      "\u001b[1;32m<ipython-input-3-0c2623cbe8f2>\u001b[0m in \u001b[0;36m<module>\u001b[1;34m\u001b[0m\n\u001b[0;32m    153\u001b[0m     \u001b[0mx_train\u001b[0m \u001b[1;33m=\u001b[0m \u001b[0mx_train\u001b[0m\u001b[1;33m.\u001b[0m\u001b[0mreshape\u001b[0m\u001b[1;33m(\u001b[0m\u001b[1;33m(\u001b[0m\u001b[0mx_train\u001b[0m\u001b[1;33m.\u001b[0m\u001b[0mshape\u001b[0m\u001b[1;33m[\u001b[0m\u001b[1;36m0\u001b[0m\u001b[1;33m]\u001b[0m\u001b[1;33m,\u001b[0m \u001b[1;36m28\u001b[0m\u001b[1;33m,\u001b[0m \u001b[1;36m28\u001b[0m\u001b[1;33m,\u001b[0m \u001b[1;36m1\u001b[0m\u001b[1;33m)\u001b[0m\u001b[1;33m)\u001b[0m  \u001b[1;31m# 转换成卷积网络层标准的数据格式\u001b[0m\u001b[1;33m\u001b[0m\u001b[1;33m\u001b[0m\u001b[0m\n\u001b[0;32m    154\u001b[0m     \u001b[1;31m# 训练\u001b[0m\u001b[1;33m\u001b[0m\u001b[1;33m\u001b[0m\u001b[1;33m\u001b[0m\u001b[0m\n\u001b[1;32m--> 155\u001b[1;33m     \u001b[0mmodel\u001b[0m\u001b[1;33m.\u001b[0m\u001b[0mfit\u001b[0m\u001b[1;33m(\u001b[0m\u001b[0mx_train\u001b[0m\u001b[1;33m)\u001b[0m\u001b[1;33m\u001b[0m\u001b[1;33m\u001b[0m\u001b[0m\n\u001b[0m\u001b[0;32m    156\u001b[0m     \u001b[0mmodel\u001b[0m\u001b[1;33m.\u001b[0m\u001b[0msave_model\u001b[0m\u001b[1;33m(\u001b[0m\u001b[1;33m)\u001b[0m\u001b[1;33m\u001b[0m\u001b[1;33m\u001b[0m\u001b[0m\n\u001b[0;32m    157\u001b[0m     \u001b[1;31m# 生成样本并可视化\u001b[0m\u001b[1;33m\u001b[0m\u001b[1;33m\u001b[0m\u001b[1;33m\u001b[0m\u001b[0m\n",
      "\u001b[1;32m<ipython-input-3-0c2623cbe8f2>\u001b[0m in \u001b[0;36mfit\u001b[1;34m(self, train_data)\u001b[0m\n\u001b[0;32m    112\u001b[0m             \u001b[1;32mfor\u001b[0m \u001b[0m_\u001b[0m \u001b[1;32min\u001b[0m \u001b[0mrange\u001b[0m\u001b[1;33m(\u001b[0m\u001b[0mself\u001b[0m\u001b[1;33m.\u001b[0m\u001b[0md_iter\u001b[0m\u001b[1;33m)\u001b[0m\u001b[1;33m:\u001b[0m  \u001b[1;31m# 训练判别网络\u001b[0m\u001b[1;33m\u001b[0m\u001b[1;33m\u001b[0m\u001b[0m\n\u001b[0;32m    113\u001b[0m                 \u001b[0mreal_data\u001b[0m\u001b[1;33m,\u001b[0m \u001b[0mreal_label\u001b[0m \u001b[1;33m=\u001b[0m \u001b[0mself\u001b[0m\u001b[1;33m.\u001b[0m\u001b[0mgen_real_data\u001b[0m\u001b[1;33m(\u001b[0m\u001b[0mtrain_data\u001b[0m\u001b[1;33m)\u001b[0m\u001b[1;33m\u001b[0m\u001b[1;33m\u001b[0m\u001b[0m\n\u001b[1;32m--> 114\u001b[1;33m                 \u001b[0md_model\u001b[0m\u001b[1;33m.\u001b[0m\u001b[0mtrain_on_batch\u001b[0m\u001b[1;33m(\u001b[0m\u001b[0mreal_data\u001b[0m\u001b[1;33m,\u001b[0m \u001b[0mreal_label\u001b[0m\u001b[1;33m)\u001b[0m\u001b[1;33m\u001b[0m\u001b[1;33m\u001b[0m\u001b[0m\n\u001b[0m\u001b[0;32m    115\u001b[0m                 \u001b[0mfake_data\u001b[0m\u001b[1;33m,\u001b[0m \u001b[0mfake_label\u001b[0m \u001b[1;33m=\u001b[0m \u001b[0mself\u001b[0m\u001b[1;33m.\u001b[0m\u001b[0mgen_fake_data\u001b[0m\u001b[1;33m(\u001b[0m\u001b[1;33m)\u001b[0m\u001b[1;33m\u001b[0m\u001b[1;33m\u001b[0m\u001b[0m\n\u001b[0;32m    116\u001b[0m                 \u001b[0md_model\u001b[0m\u001b[1;33m.\u001b[0m\u001b[0mtrain_on_batch\u001b[0m\u001b[1;33m(\u001b[0m\u001b[0mfake_data\u001b[0m\u001b[1;33m,\u001b[0m \u001b[0mfake_label\u001b[0m\u001b[1;33m)\u001b[0m\u001b[1;33m\u001b[0m\u001b[1;33m\u001b[0m\u001b[0m\n",
      "\u001b[1;32md:\\Anaconda3\\lib\\site-packages\\keras\\engine\\training.py\u001b[0m in \u001b[0;36mtrain_on_batch\u001b[1;34m(self, x, y, sample_weight, class_weight, reset_metrics)\u001b[0m\n\u001b[0;32m   1512\u001b[0m             \u001b[0mins\u001b[0m \u001b[1;33m=\u001b[0m \u001b[0mx\u001b[0m \u001b[1;33m+\u001b[0m \u001b[0my\u001b[0m \u001b[1;33m+\u001b[0m \u001b[0msample_weights\u001b[0m\u001b[1;33m\u001b[0m\u001b[1;33m\u001b[0m\u001b[0m\n\u001b[0;32m   1513\u001b[0m         \u001b[0mself\u001b[0m\u001b[1;33m.\u001b[0m\u001b[0m_make_train_function\u001b[0m\u001b[1;33m(\u001b[0m\u001b[1;33m)\u001b[0m\u001b[1;33m\u001b[0m\u001b[1;33m\u001b[0m\u001b[0m\n\u001b[1;32m-> 1514\u001b[1;33m         \u001b[0moutputs\u001b[0m \u001b[1;33m=\u001b[0m \u001b[0mself\u001b[0m\u001b[1;33m.\u001b[0m\u001b[0mtrain_function\u001b[0m\u001b[1;33m(\u001b[0m\u001b[0mins\u001b[0m\u001b[1;33m)\u001b[0m\u001b[1;33m\u001b[0m\u001b[1;33m\u001b[0m\u001b[0m\n\u001b[0m\u001b[0;32m   1515\u001b[0m \u001b[1;33m\u001b[0m\u001b[0m\n\u001b[0;32m   1516\u001b[0m         \u001b[1;32mif\u001b[0m \u001b[0mreset_metrics\u001b[0m\u001b[1;33m:\u001b[0m\u001b[1;33m\u001b[0m\u001b[1;33m\u001b[0m\u001b[0m\n",
      "\u001b[1;32md:\\Anaconda3\\lib\\site-packages\\tensorflow_core\\python\\keras\\backend.py\u001b[0m in \u001b[0;36m__call__\u001b[1;34m(self, inputs)\u001b[0m\n\u001b[0;32m   3725\u001b[0m         \u001b[0mvalue\u001b[0m \u001b[1;33m=\u001b[0m \u001b[0mmath_ops\u001b[0m\u001b[1;33m.\u001b[0m\u001b[0mcast\u001b[0m\u001b[1;33m(\u001b[0m\u001b[0mvalue\u001b[0m\u001b[1;33m,\u001b[0m \u001b[0mtensor\u001b[0m\u001b[1;33m.\u001b[0m\u001b[0mdtype\u001b[0m\u001b[1;33m)\u001b[0m\u001b[1;33m\u001b[0m\u001b[1;33m\u001b[0m\u001b[0m\n\u001b[0;32m   3726\u001b[0m       \u001b[0mconverted_inputs\u001b[0m\u001b[1;33m.\u001b[0m\u001b[0mappend\u001b[0m\u001b[1;33m(\u001b[0m\u001b[0mvalue\u001b[0m\u001b[1;33m)\u001b[0m\u001b[1;33m\u001b[0m\u001b[1;33m\u001b[0m\u001b[0m\n\u001b[1;32m-> 3727\u001b[1;33m     \u001b[0moutputs\u001b[0m \u001b[1;33m=\u001b[0m \u001b[0mself\u001b[0m\u001b[1;33m.\u001b[0m\u001b[0m_graph_fn\u001b[0m\u001b[1;33m(\u001b[0m\u001b[1;33m*\u001b[0m\u001b[0mconverted_inputs\u001b[0m\u001b[1;33m)\u001b[0m\u001b[1;33m\u001b[0m\u001b[1;33m\u001b[0m\u001b[0m\n\u001b[0m\u001b[0;32m   3728\u001b[0m \u001b[1;33m\u001b[0m\u001b[0m\n\u001b[0;32m   3729\u001b[0m     \u001b[1;31m# EagerTensor.numpy() will often make a copy to ensure memory safety.\u001b[0m\u001b[1;33m\u001b[0m\u001b[1;33m\u001b[0m\u001b[1;33m\u001b[0m\u001b[0m\n",
      "\u001b[1;32md:\\Anaconda3\\lib\\site-packages\\tensorflow_core\\python\\eager\\function.py\u001b[0m in \u001b[0;36m__call__\u001b[1;34m(self, *args, **kwargs)\u001b[0m\n\u001b[0;32m   1549\u001b[0m       \u001b[0mTypeError\u001b[0m\u001b[1;33m:\u001b[0m \u001b[0mFor\u001b[0m \u001b[0minvalid\u001b[0m \u001b[0mpositional\u001b[0m\u001b[1;33m/\u001b[0m\u001b[0mkeyword\u001b[0m \u001b[0margument\u001b[0m \u001b[0mcombinations\u001b[0m\u001b[1;33m.\u001b[0m\u001b[1;33m\u001b[0m\u001b[1;33m\u001b[0m\u001b[0m\n\u001b[0;32m   1550\u001b[0m     \"\"\"\n\u001b[1;32m-> 1551\u001b[1;33m     \u001b[1;32mreturn\u001b[0m \u001b[0mself\u001b[0m\u001b[1;33m.\u001b[0m\u001b[0m_call_impl\u001b[0m\u001b[1;33m(\u001b[0m\u001b[0margs\u001b[0m\u001b[1;33m,\u001b[0m \u001b[0mkwargs\u001b[0m\u001b[1;33m)\u001b[0m\u001b[1;33m\u001b[0m\u001b[1;33m\u001b[0m\u001b[0m\n\u001b[0m\u001b[0;32m   1552\u001b[0m \u001b[1;33m\u001b[0m\u001b[0m\n\u001b[0;32m   1553\u001b[0m   \u001b[1;32mdef\u001b[0m \u001b[0m_call_impl\u001b[0m\u001b[1;33m(\u001b[0m\u001b[0mself\u001b[0m\u001b[1;33m,\u001b[0m \u001b[0margs\u001b[0m\u001b[1;33m,\u001b[0m \u001b[0mkwargs\u001b[0m\u001b[1;33m,\u001b[0m \u001b[0mcancellation_manager\u001b[0m\u001b[1;33m=\u001b[0m\u001b[1;32mNone\u001b[0m\u001b[1;33m)\u001b[0m\u001b[1;33m:\u001b[0m\u001b[1;33m\u001b[0m\u001b[1;33m\u001b[0m\u001b[0m\n",
      "\u001b[1;32md:\\Anaconda3\\lib\\site-packages\\tensorflow_core\\python\\eager\\function.py\u001b[0m in \u001b[0;36m_call_impl\u001b[1;34m(self, args, kwargs, cancellation_manager)\u001b[0m\n\u001b[0;32m   1589\u001b[0m       raise TypeError(\"Keyword arguments {} unknown. Expected {}.\".format(\n\u001b[0;32m   1590\u001b[0m           list(kwargs.keys()), list(self._arg_keywords)))\n\u001b[1;32m-> 1591\u001b[1;33m     \u001b[1;32mreturn\u001b[0m \u001b[0mself\u001b[0m\u001b[1;33m.\u001b[0m\u001b[0m_call_flat\u001b[0m\u001b[1;33m(\u001b[0m\u001b[0margs\u001b[0m\u001b[1;33m,\u001b[0m \u001b[0mself\u001b[0m\u001b[1;33m.\u001b[0m\u001b[0mcaptured_inputs\u001b[0m\u001b[1;33m,\u001b[0m \u001b[0mcancellation_manager\u001b[0m\u001b[1;33m)\u001b[0m\u001b[1;33m\u001b[0m\u001b[1;33m\u001b[0m\u001b[0m\n\u001b[0m\u001b[0;32m   1592\u001b[0m \u001b[1;33m\u001b[0m\u001b[0m\n\u001b[0;32m   1593\u001b[0m   \u001b[1;32mdef\u001b[0m \u001b[0m_filtered_call\u001b[0m\u001b[1;33m(\u001b[0m\u001b[0mself\u001b[0m\u001b[1;33m,\u001b[0m \u001b[0margs\u001b[0m\u001b[1;33m,\u001b[0m \u001b[0mkwargs\u001b[0m\u001b[1;33m)\u001b[0m\u001b[1;33m:\u001b[0m\u001b[1;33m\u001b[0m\u001b[1;33m\u001b[0m\u001b[0m\n",
      "\u001b[1;32md:\\Anaconda3\\lib\\site-packages\\tensorflow_core\\python\\eager\\function.py\u001b[0m in \u001b[0;36m_call_flat\u001b[1;34m(self, args, captured_inputs, cancellation_manager)\u001b[0m\n\u001b[0;32m   1690\u001b[0m       \u001b[1;31m# No tape is watching; skip to running the function.\u001b[0m\u001b[1;33m\u001b[0m\u001b[1;33m\u001b[0m\u001b[1;33m\u001b[0m\u001b[0m\n\u001b[0;32m   1691\u001b[0m       return self._build_call_outputs(self._inference_function.call(\n\u001b[1;32m-> 1692\u001b[1;33m           ctx, args, cancellation_manager=cancellation_manager))\n\u001b[0m\u001b[0;32m   1693\u001b[0m     forward_backward = self._select_forward_and_backward_functions(\n\u001b[0;32m   1694\u001b[0m         \u001b[0margs\u001b[0m\u001b[1;33m,\u001b[0m\u001b[1;33m\u001b[0m\u001b[1;33m\u001b[0m\u001b[0m\n",
      "\u001b[1;32md:\\Anaconda3\\lib\\site-packages\\tensorflow_core\\python\\eager\\function.py\u001b[0m in \u001b[0;36mcall\u001b[1;34m(self, ctx, args, cancellation_manager)\u001b[0m\n\u001b[0;32m    543\u001b[0m               \u001b[0minputs\u001b[0m\u001b[1;33m=\u001b[0m\u001b[0margs\u001b[0m\u001b[1;33m,\u001b[0m\u001b[1;33m\u001b[0m\u001b[1;33m\u001b[0m\u001b[0m\n\u001b[0;32m    544\u001b[0m               \u001b[0mattrs\u001b[0m\u001b[1;33m=\u001b[0m\u001b[1;33m(\u001b[0m\u001b[1;34m\"executor_type\"\u001b[0m\u001b[1;33m,\u001b[0m \u001b[0mexecutor_type\u001b[0m\u001b[1;33m,\u001b[0m \u001b[1;34m\"config_proto\"\u001b[0m\u001b[1;33m,\u001b[0m \u001b[0mconfig\u001b[0m\u001b[1;33m)\u001b[0m\u001b[1;33m,\u001b[0m\u001b[1;33m\u001b[0m\u001b[1;33m\u001b[0m\u001b[0m\n\u001b[1;32m--> 545\u001b[1;33m               ctx=ctx)\n\u001b[0m\u001b[0;32m    546\u001b[0m         \u001b[1;32melse\u001b[0m\u001b[1;33m:\u001b[0m\u001b[1;33m\u001b[0m\u001b[1;33m\u001b[0m\u001b[0m\n\u001b[0;32m    547\u001b[0m           outputs = execute.execute_with_cancellation(\n",
      "\u001b[1;32md:\\Anaconda3\\lib\\site-packages\\tensorflow_core\\python\\eager\\execute.py\u001b[0m in \u001b[0;36mquick_execute\u001b[1;34m(op_name, num_outputs, inputs, attrs, ctx, name)\u001b[0m\n\u001b[0;32m     65\u001b[0m     \u001b[1;32melse\u001b[0m\u001b[1;33m:\u001b[0m\u001b[1;33m\u001b[0m\u001b[1;33m\u001b[0m\u001b[0m\n\u001b[0;32m     66\u001b[0m       \u001b[0mmessage\u001b[0m \u001b[1;33m=\u001b[0m \u001b[0me\u001b[0m\u001b[1;33m.\u001b[0m\u001b[0mmessage\u001b[0m\u001b[1;33m\u001b[0m\u001b[1;33m\u001b[0m\u001b[0m\n\u001b[1;32m---> 67\u001b[1;33m     \u001b[0msix\u001b[0m\u001b[1;33m.\u001b[0m\u001b[0mraise_from\u001b[0m\u001b[1;33m(\u001b[0m\u001b[0mcore\u001b[0m\u001b[1;33m.\u001b[0m\u001b[0m_status_to_exception\u001b[0m\u001b[1;33m(\u001b[0m\u001b[0me\u001b[0m\u001b[1;33m.\u001b[0m\u001b[0mcode\u001b[0m\u001b[1;33m,\u001b[0m \u001b[0mmessage\u001b[0m\u001b[1;33m)\u001b[0m\u001b[1;33m,\u001b[0m \u001b[1;32mNone\u001b[0m\u001b[1;33m)\u001b[0m\u001b[1;33m\u001b[0m\u001b[1;33m\u001b[0m\u001b[0m\n\u001b[0m\u001b[0;32m     68\u001b[0m   \u001b[1;32mexcept\u001b[0m \u001b[0mTypeError\u001b[0m \u001b[1;32mas\u001b[0m \u001b[0me\u001b[0m\u001b[1;33m:\u001b[0m\u001b[1;33m\u001b[0m\u001b[1;33m\u001b[0m\u001b[0m\n\u001b[0;32m     69\u001b[0m     keras_symbolic_tensors = [\n",
      "\u001b[1;32md:\\Anaconda3\\lib\\site-packages\\six.py\u001b[0m in \u001b[0;36mraise_from\u001b[1;34m(value, from_value)\u001b[0m\n",
      "\u001b[1;31mFailedPreconditionError\u001b[0m:  Error while reading resource variable _AnonymousVar117 from Container: localhost. This could mean that the variable was uninitialized. Not found: Resource localhost/_AnonymousVar117/class tensorflow::Var does not exist.\n\t [[node mul_46/ReadVariableOp (defined at d:\\Anaconda3\\lib\\site-packages\\keras\\backend\\tensorflow_backend.py:3009) ]] [Op:__inference_keras_scratch_graph_5969]\n\nFunction call stack:\nkeras_scratch_graph\n"
     ]
    }
   ],
   "source": [
    "# 实现简单的DCGAN(深度卷积生成对抗网络)\n",
    "from keras.layers import Conv2D, Dense, Flatten, LeakyReLU, Reshape, Conv2DTranspose, \\\n",
    "    BatchNormalization, Input, Dropout\n",
    "from keras.models import Sequential, Model, load_model\n",
    "from keras.optimizers import adam\n",
    "from keras.utils import plot_model\n",
    "import numpy as np\n",
    "\n",
    "\n",
    "def uniform_sampling(n_sample, dim):\n",
    "    # 均匀分布采样\n",
    "    return np.random.uniform(0, 1, size=(n_sample, dim))\n",
    "\n",
    "\n",
    "def normal_sampling(n_sample, dim):\n",
    "    # 均匀分布采样\n",
    "    return np.random.randn(n_sample, dim)\n",
    "\n",
    "\n",
    "# 构建判别网络\n",
    "d_model = Sequential()\n",
    "d_model.add(BatchNormalization())\n",
    "d_model.add(Dropout(0.3))\n",
    "d_model.add(Conv2D(64, (3, 3), padding='same', input_shape=(28, 28, 1)))\n",
    "d_model.add(LeakyReLU(0.2))\n",
    "d_model.add(Dropout(0.3))\n",
    "d_model.add(Conv2D(128, (3, 3), strides=2, padding='same'))  # 用带步长卷积层替代池化层\n",
    "d_model.add(LeakyReLU(0.2))\n",
    "d_model.add(Dropout(0.3))\n",
    "d_model.add(Conv2D(256, (3, 3), padding='same'))\n",
    "d_model.add(LeakyReLU(0.2))\n",
    "d_model.add(Dropout(0.3))\n",
    "d_model.add(Conv2D(512, (3, 3), strides=2, padding='same'))\n",
    "d_model.add(LeakyReLU(0.2))\n",
    "d_model.add(Flatten())\n",
    "d_model.add(Dropout(0.3))\n",
    "d_model.add(Dense(1, activation='sigmoid'))  # 输出样本标记为1，即假样本的概率\n",
    "\n",
    "# 构建生成网络\n",
    "g_model = Sequential()\n",
    "g_model.add(BatchNormalization())\n",
    "g_model.add(Dense(7 * 7 * 256, activation='relu', input_dim=100))\n",
    "g_model.add(Reshape((7, 7, 256)))\n",
    "g_model.add(BatchNormalization())\n",
    "g_model.add(Conv2DTranspose(128, 3, strides=2, padding='same', activation='relu'))  # 反卷积\n",
    "g_model.add(BatchNormalization())\n",
    "g_model.add(Conv2DTranspose(64, 3, strides=2, padding='same', activation='relu'))\n",
    "g_model.add(BatchNormalization())\n",
    "g_model.add(Conv2DTranspose(32, 3, strides=1, padding='same', activation='relu'))\n",
    "g_model.add(BatchNormalization())\n",
    "g_model.add(Conv2DTranspose(1, 3, strides=1, padding='same', activation='tanh'))\n",
    "\n",
    "\n",
    "class DCGAN:\n",
    "    def __init__(self, d_model, g_model,\n",
    "                 input_dim=784, g_dim=100,\n",
    "                 max_step=100, sample_size=256, d_iter=3, kind='normal'):\n",
    "        self.input_dim = input_dim  # 图像的展开维度，即判别网络的输入维度\n",
    "        self.g_dim = g_dim  # 随机噪声维度，即生成网络的输入维度\n",
    "        self.max_step = max_step  # 整个模型的迭代次数\n",
    "        self.sample_size = sample_size  # 训练过程中小批量采样的个数的一半\n",
    "        self.d_iter = d_iter  # 每次迭代，判别网络训练的次数\n",
    "        self.kind = kind  # 随机噪声分布类型\n",
    "\n",
    "        self.d_model = d_model  # 判别模型\n",
    "        self.g_model = g_model  # 生成模型\n",
    "        self.m_model = self.merge_model()  # 合并模型\n",
    "\n",
    "        self.optimizer = adam(lr=0.0002, beta_1=0.5)\n",
    "        self.d_model.compile(optimizer=self.optimizer, loss='binary_crossentropy')\n",
    "\n",
    "    def merge_model(self):\n",
    "        # 合并生成网络与判别网络\n",
    "        noise = Input(shape=(self.g_dim,))\n",
    "        gen_sample = self.g_model(noise)\n",
    "        self.d_model.trainable = False  # 固定判别网络，训练合并网络等同与训练生成网络\n",
    "        d_output = self.d_model(gen_sample)\n",
    "        m_model = Model(noise, d_output)  # 模型输出生成样本的预测结果，越接近0越好\n",
    "        m_model.compile(optimizer='adam', loss='binary_crossentropy')\n",
    "        return m_model\n",
    "\n",
    "    def gen_noise(self, num_sample):\n",
    "        # 生成随机噪声数据\n",
    "        if self.kind == 'normal':\n",
    "            f = normal_sampling\n",
    "        elif self.kind == 'uniform':\n",
    "            f = uniform_sampling\n",
    "        else:\n",
    "            raise ValueError('暂不支持分布{}'.format(self.kind))\n",
    "        return f(num_sample, self.g_dim)\n",
    "\n",
    "    def gen_real_data(self, train_data):\n",
    "        # 真实样本采样\n",
    "        n_samples = train_data.shape[0]\n",
    "        inds = np.random.randint(0, n_samples, size=self.sample_size)\n",
    "        real_data = train_data[inds]\n",
    "        real_label = np.random.uniform(0, 0.3,\n",
    "                                       size=(self.sample_size,))  # 用0-0.3随机数代替标记0\n",
    "        return real_data, real_label\n",
    "\n",
    "    def gen_fake_data(self):\n",
    "        # 生成样本\n",
    "        noise = self.gen_noise(self.sample_size)\n",
    "        fake_data = g_model.predict(noise)  # 生成网络生成M个样本，标记为0\n",
    "        fake_label = np.random.uniform(0.7, 1.2,\n",
    "                                       size=(self.sample_size,))  # 用0.7-1.2随机数代替标记1\n",
    "        return fake_data, fake_label\n",
    "\n",
    "    def fit(self, train_data):\n",
    "        # 轮流训练判别网络和生成网络\n",
    "        for i in range(self.max_step):\n",
    "            for _ in range(self.d_iter):  # 训练判别网络\n",
    "                real_data, real_label = self.gen_real_data(train_data)\n",
    "                d_model.train_on_batch(real_data, real_label)\n",
    "                fake_data, fake_label = self.gen_fake_data()\n",
    "                d_model.train_on_batch(fake_data, fake_label)\n",
    "            # 训练生成网络\n",
    "            noise = self.gen_noise(self.sample_size)\n",
    "            expected_label = np.random.uniform(0, 0.3, size=(self.sample_size,))  # 期望输出0\n",
    "            self.d_model.trainable = False\n",
    "            self.m_model.compile(optimizer=self.optimizer, loss='binary_crossentropy')\n",
    "            gan_loss = self.m_model.train_on_batch(noise, expected_label)\n",
    "            print('第{0}次迭代训练损失值:{1:.3f}'.format(i + 1, gan_loss))\n",
    "        return\n",
    "\n",
    "    def gen_samples(self, num):\n",
    "        # 生成网络生成数据\n",
    "        z = self.gen_noise(num)\n",
    "        imgs = g_model.predict(z)\n",
    "        return imgs\n",
    "\n",
    "    def save_model(self):\n",
    "        # 保存训练后的模型\n",
    "        self.d_model.save('d_model.hdf5')\n",
    "        self.g_model.save('g_model.hdf5')\n",
    "        return\n",
    "\n",
    "\n",
    "if __name__ == '__main__':\n",
    "    # d_model = load_model('D:\\Machine_Learning\\deep_learning_algorithm\\gan\\d_model.hdf5')\n",
    "    # g_model = load_model('D:\\Machine_Learning\\deep_learning_algorithm\\gan\\g_model.hdf5')\n",
    "    # plot_model(d_model, 'd_model.png')\n",
    "    # plot_model(g_model, 'g_model.png')\n",
    "    model = DCGAN(d_model, g_model, max_step=10, sample_size=1000, d_iter=2)\n",
    "\n",
    "    # 导入数据\n",
    "    input_dim = 28 * 28 * 1  # 单通道28像素的图像\n",
    "    f = np.load(r'mnist.npz')\n",
    "    x_train, y_train = f['x_train'], f['y_train']\n",
    "    f.close()\n",
    "    x_train = np.reshape(x_train, [-1, input_dim])\n",
    "    x_train = (x_train.astype('float32') - 127.5) / 127.5  # 规范化到(-1,1)\n",
    "    x_train = x_train.reshape((x_train.shape[0], 28, 28, 1))  # 转换成卷积网络层标准的数据格式\n",
    "    # 训练\n",
    "    model.fit(x_train)\n",
    "    model.save_model()\n",
    "    # 生成样本并可视化\n",
    "    imgs = model.gen_samples(10)\n",
    "\n",
    "\n",
    "    def plot_img(gen_imgs):\n",
    "        # 对比重构前后的图像\n",
    "        import matplotlib.pyplot as plt\n",
    "\n",
    "        n = 10\n",
    "        plt.figure(figsize=(20, 4))\n",
    "        for i in range(n):\n",
    "            ax = plt.subplot(1, n, i + 1)\n",
    "            plt.imshow(gen_imgs[i].reshape(28, 28))\n",
    "            plt.gray()\n",
    "            ax.get_xaxis().set_visible(False)\n",
    "            ax.get_yaxis().set_visible(False)\n",
    "        plt.show()\n",
    "        return\n",
    "\n",
    "\n",
    "    plot_img(imgs)\n"
   ]
  },
  {
   "cell_type": "code",
   "execution_count": null,
   "metadata": {},
   "outputs": [],
   "source": []
  },
  {
   "cell_type": "markdown",
   "metadata": {},
   "source": [
    "# 引用\n",
    "\n",
    ">[生成对抗网络(GAN)简介以及Python实现](https://blog.csdn.net/slx_share/article/details/93378330)"
   ]
  },
  {
   "cell_type": "code",
   "execution_count": null,
   "metadata": {},
   "outputs": [],
   "source": []
  }
 ],
 "metadata": {
  "kernelspec": {
   "display_name": "Python 3",
   "language": "python",
   "name": "python3"
  },
  "language_info": {
   "codemirror_mode": {
    "name": "ipython",
    "version": 3
   },
   "file_extension": ".py",
   "mimetype": "text/x-python",
   "name": "python",
   "nbconvert_exporter": "python",
   "pygments_lexer": "ipython3",
   "version": "3.7.6"
  }
 },
 "nbformat": 4,
 "nbformat_minor": 4
}
