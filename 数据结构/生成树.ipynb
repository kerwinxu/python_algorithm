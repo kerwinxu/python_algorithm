{
 "cells": [
  {
   "cell_type": "code",
   "execution_count": null,
   "metadata": {},
   "outputs": [],
   "source": []
  },
  {
   "cell_type": "markdown",
   "metadata": {
    "toc-hr-collapsed": true
   },
   "source": [
    "# 生成树"
   ]
  },
  {
   "cell_type": "markdown",
   "metadata": {},
   "source": [
    "如果图G是连通无向图或者强连通有向图（实际上只要求是有根有向图），从无向图G中任一个顶点$v_o$出发，或者从有根有向图的根$v_o$出发，到图中其他各个顶点都存在路径，这里讨论的只是这两种图"
   ]
  },
  {
   "cell_type": "markdown",
   "metadata": {},
   "source": [
    "性质：  \n",
    "（图中的路径与路径上的边数）如果图G有n个顶点，必然可找到G中的一个包含n-1条边的边集合，这个集合中包含了从$v_0$到其他所有顶点的路径（通过数学归纳法证明）  \n",
    "图G中满足上述条件的n-1条边（加上G所有顶点），形成图G的一个子图T，由于T包含n个顶点且只有n-1条边，因此它不可能包含任何的回路，形成了一棵树。  \n"
   ]
  },
  {
   "cell_type": "markdown",
   "metadata": {},
   "source": [
    "性质：  \n",
    "（图的生成树林的边数）包含n个结点，m个连通分量的无向图G的生成树林恰好包含n-m条边"
   ]
  },
  {
   "cell_type": "markdown",
   "metadata": {},
   "source": [
    "## 构造DFS生成树"
   ]
  },
  {
   "cell_type": "markdown",
   "metadata": {},
   "source": [
    "生成树，一个顶点可能有多个下个顶点，但每个顶点至多有一个前一个顶点，记录路径是一种方式记录所有的“前一顶点”关系，有了这些信息，遍历所有顶点之后，根据前一顶点关系就可以追溯出所有的路径了  \n",
    "在考虑路径上的前一顶点关系时，对应每个顶点只需要记录一项信息，\n",
    "- 设图中有vnum个顶点，可以用一个包含vnum个元素的表span_forest记录得到的路径关系，  \n",
    "- 令表项$span_forest[v_i]$的的形式是序对$(v_j, e)$, 其中$v_j$是$v_i$的前一项，e是这条邻接边的信息。"
   ]
  },
  {
   "cell_type": "code",
   "execution_count": 15,
   "metadata": {},
   "outputs": [],
   "source": [
    "# 递归算法做这个生成树\n",
    "def DFS_span_forest(graph):\n",
    "    \"\"\"生成树\"\"\"\n",
    "    vnum = graph.vertex_num()\n",
    "    span_forest = [None] * vnum  # 这个来保存前一顶点,引用对象，通过参数传递也可以更改。\n",
    "    def dfs(graph, v):  # 递归遍历函数，在递归中记录经由边\n",
    "        nonlocal span_forest  # \n",
    "        for u, w in graph.out_edges(v):  # 取得这一个边的所有信息。\n",
    "            if span_forest[u] is None:   # 判断是否访问\n",
    "                span_forest[u] = (v, w)  # v是上一个顶点，u是当前顶点，而w是权重之类的\n",
    "                dfs(graph, u)            # 递归\n",
    "    for v in range(vnum):\n",
    "        if span_forest[v] is None:\n",
    "            span_forest[v] = (v, 0)\n",
    "            dfs(graph, v)\n",
    "    return span_forest"
   ]
  },
  {
   "cell_type": "code",
   "execution_count": 17,
   "metadata": {},
   "outputs": [
    {
     "data": {
      "text/plain": [
       "[(0, 0), (0, 5), (0, 11), (1, 3), (1, 9), (2, 6), (3, 20)]"
      ]
     },
     "execution_count": 17,
     "metadata": {},
     "output_type": "execute_result"
    }
   ],
   "source": [
    "DFS_span_forest(graph)\n",
    "    "
   ]
  }
 ],
 "metadata": {
  "kernelspec": {
   "display_name": "Python 3",
   "language": "python",
   "name": "python3"
  },
  "language_info": {
   "codemirror_mode": {
    "name": "ipython",
    "version": 3
   },
   "file_extension": ".py",
   "mimetype": "text/x-python",
   "name": "python",
   "nbconvert_exporter": "python",
   "pygments_lexer": "ipython3",
   "version": "3.7.4"
  }
 },
 "nbformat": 4,
 "nbformat_minor": 4
}
