{
 "cells": [
  {
   "cell_type": "markdown",
   "metadata": {},
   "source": [
    "# 前言"
   ]
  },
  {
   "cell_type": "markdown",
   "metadata": {},
   "source": [
    "在人机博弈中，双方回合制地进行走棋，己方考虑当自己在所有可行的走法中作出某一特定选择后，对方可能会采取的走法，从而选择最有利于自己的走法。这种对弈过程就构成了一颗博弈树，双方在博弈树中不断搜索，选择对自己最为有利的子节点走棋。在搜索的过程中，将取极大值的一方称为max，取极小值的一方称为min。max总是会选择价值最大的子节点走棋，而min则相反。这就是极小化极大算法的核心思想。\n",
    "\n",
    "首先要说的是，alpha-beta剪枝建立在两个假设上：\n",
    "\n",
    "- 整个博弈过程属于零和博弈，即一方的收益必然意味着另一方的损失，博弈双方的收益和损失相加总和永远是零，双方不存在任何合作的可能。粗俗理解就是你赚了我就亏了。\n",
    "- 博弈双方足够聪明，即每一方在决策时总会选择使自己利益最大化的决策。粗俗理解就是，假设是在下棋，那么大家下棋时大家走的都是固定的且是对自己最好的，下多少局也是这样。\n"
   ]
  },
  {
   "cell_type": "markdown",
   "metadata": {},
   "source": [
    "# 补充\n",
    "\n",
    "- 最大值的取值就是他的子节点中最大的一个值是多少。\n",
    "- 而最小值的取值是他的子节点中最小的那个值是多少。\n"
   ]
  },
  {
   "cell_type": "markdown",
   "metadata": {},
   "source": [
    "# 极大值冗余-Alpha剪枝\n",
    "\n",
    "首先看下图\n",
    "\n",
    "- 节点B的值为20\n",
    "- 节点D的值为15\n",
    "\n",
    "推导出： 节点C的值将小于等于15 -> 然后更上层的A是在他的子节点B、C之间的最大值 -> 也就是说不在需要搜索C的其他子节点的\n",
    "\n",
    "![](./图片/alpha-beta之极大值冗余.jpg)"
   ]
  },
  {
   "cell_type": "markdown",
   "metadata": {},
   "source": [
    "# 最小值冗余-Beta剪枝\n",
    "\n",
    "首先看下图\n",
    "\n",
    "- 节点B的值为10\n",
    "- 节点D的值为19\n",
    "\n",
    "推导出： C节点为取最大值的节点，因此C的值大于等于19，然后因为A是取极小值的节点，那么A的值就小于等于B节点的10，也就是说不再需要节点C的其他子节点就可以求出A的值，\n",
    "\n",
    "![](./图片/alpha-beta之极小值冗余.jpg)"
   ]
  },
  {
   "cell_type": "code",
   "execution_count": null,
   "metadata": {},
   "outputs": [],
   "source": []
  },
  {
   "cell_type": "markdown",
   "metadata": {},
   "source": [
    "# 引用\n",
    "- [Alpha-beta剪枝](https://www.jiqizhixin.com/graph/technologies/56dbb21e-c3f9-4e06-b16a-2e28f25b26c8)\n",
    "- [一步步看α-β剪枝算法](https://zhuanlan.zhihu.com/p/65108398)"
   ]
  },
  {
   "cell_type": "code",
   "execution_count": null,
   "metadata": {},
   "outputs": [],
   "source": []
  }
 ],
 "metadata": {
  "kernelspec": {
   "display_name": "Python 3",
   "language": "python",
   "name": "python3"
  },
  "language_info": {
   "codemirror_mode": {
    "name": "ipython",
    "version": 3
   },
   "file_extension": ".py",
   "mimetype": "text/x-python",
   "name": "python",
   "nbconvert_exporter": "python",
   "pygments_lexer": "ipython3",
   "version": "3.7.6"
  }
 },
 "nbformat": 4,
 "nbformat_minor": 4
}
