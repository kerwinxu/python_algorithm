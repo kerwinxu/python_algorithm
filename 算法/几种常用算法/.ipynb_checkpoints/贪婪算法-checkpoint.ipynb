{
 "cells": [
  {
   "cell_type": "markdown",
   "metadata": {},
   "source": [
    "贪婪算法是指，在对问题求解时，总是做出在当前看来是最好的选择。也就是说，不从整体最优上加以考虑，他所做出的是在某种意义上的局部最优解。\n",
    "\n",
    "贪婪算法不能保证得到全局最优解（应该说大部分情况下都不是全局最优），最重要的是要选择一个优的贪婪策略，如果贪婪策略选的不好，结果就会比较差。然而就像Ivan说过的“我认为贪婪是健康的，你可以在贪婪的同时自我感觉很良好”（这货后来被监禁了，这货后来被监禁了，这货后来被监禁了，重要的话说三遍）。贪婪算法依旧是一个很不错的算法，这是一个简单同时还能得到比较不错的结果的算法（非常切合中庸之道啊）。\n",
    "\n",
    "贪婪算法可解决的问题通常大部分都有如下的特性：(这段内容是抄的)  \n",
    "⑴随着算法的进行，将积累起其它两个集合：一个包含已经被考虑过并被选出的候选对象，另一个包含已经被考虑过但被丢弃的候选对象。  \n",
    "⑵有一个函数来检查一个候选对象的集合是否提供了问题的解答。该函数不考虑此时的解决方法是否最优。  \n",
    "⑶还有一个函数检查是否一个候选对象的集合是可行的，也即是否可能往该集合上添加更多的候选对象以获得一个解。和上一个函数一样，此时不考虑解决方法的最优性。  \n",
    "⑷选择函数可以指出哪一个剩余的候选对象最有希望构成问题的解。  \n",
    "⑸最后，目标函数给出解的值。  \n",
    "⑹为了解决问题，需要寻找一个构成解的候选对象集合，它可以优化目标函数，贪婪算法一步一步的进行。起初，算法选出的候选对象的集合为空。接下来的每一步中，根据选择函数，算法从剩余候选对象中选出最有希望构成解的对象。如果集合中加上该对象后不可行，那么该对象就被丢弃并不再考虑；否则就加到集合里。每一次都扩充集合，并检查该集合是否构成解。如果贪婪算法正确工作，那么找到的第一个解通常是最优的。  \n",
    "\n",
    "一个典型的最优化问题就是0/1背包问题，下面我们通过这个问题来实践一下贪婪算法。  \n",
    "\n",
    "[0-1背包问题]有一个背包，背包容量是M=150kg。有7个物品，物品不可以分割成任意大小。（这句很重要）  \n",
    "要求尽可能让装入背包中的物品总价值最大，但不能超过总容量。  \n",
    "物品 A B C D E F G  \n",
    "重量 35kg 30kg 6kg 50kg 40kg 10kg 25kg  \n",
    "价值 104040 305050 354040 30$  \n",
    "\n",
    " "
   ]
  },
  {
   "cell_type": "code",
   "execution_count": 1,
   "metadata": {},
   "outputs": [],
   "source": [
    "# item have three attribute: name,weight,value\n",
    "class Item(object):\n",
    "    def __init__(self,n,v,w):\n",
    "        self.name=n\n",
    "        self.weight=float(w)\n",
    "        self.value=float(v)\n",
    "\n",
    "    def getName(self):\n",
    "        return self.name\n",
    "\n",
    "    def getValue(self):\n",
    "        return self.value\n",
    "\n",
    "    def getWeight(self):\n",
    "        return self.weight\n",
    "\n",
    "    def __str__(self):\n",
    "        result = ' < '+self.name+' , '+str(self.value)+' , '+str(self.weight) + '>'\n",
    "        return result\n"
   ]
  },
  {
   "cell_type": "markdown",
   "metadata": {},
   "source": [
    "定义三种贪婪的策略：分别为按价值，按最小重量，以及性价比（价值/重量"
   ]
  },
  {
   "cell_type": "code",
   "execution_count": 2,
   "metadata": {},
   "outputs": [],
   "source": [
    "def value(item):\n",
    "    return item.getValue()\n",
    "\n",
    "def weightInverse(item):\n",
    "    return 1.0/item.getValue()\n",
    "\n",
    "def density(item):\n",
    "    return item.getValue()/item.getWeight()\n"
   ]
  },
  {
   "cell_type": "markdown",
   "metadata": {},
   "source": [
    "利用贪婪来获取解空间：  \n",
    "这里 keyFunciton 是具体的贪婪策略  \n",
    "函数实现了按照具体的贪婪策略来逐步选择物品，直到满足限制条件为止。  \n",
    "sorted函数是按照具体的贪婪策略进行排序。  "
   ]
  },
  {
   "cell_type": "code",
   "execution_count": 4,
   "metadata": {},
   "outputs": [],
   "source": [
    "def greedy(items,maxWeight,keyFunction):\n",
    "    itemsCopy = sorted(items,key=keyFunction,reverse = True)\n",
    "    result = []\n",
    "    totalValue = 0.0\n",
    "    totalWeight = 0.0\n",
    "    for i in range(len(itemsCopy)):\n",
    "        if(totalWeight + itemsCopy[i].getWeight()) <= maxWeight:\n",
    "            result.append(itemsCopy[i])\n",
    "            totalValue +=itemsCopy[i].getValue()\n",
    "            totalWeight +=itemsCopy[i].getWeight()\n",
    "    return (result,totalValue)\n"
   ]
  },
  {
   "cell_type": "markdown",
   "metadata": {},
   "source": [
    "测试代码:"
   ]
  },
  {
   "cell_type": "code",
   "execution_count": 10,
   "metadata": {},
   "outputs": [],
   "source": [
    "def buildItem():\n",
    "    names=['A','B','C','D','E','F','G']\n",
    "    vals = [35,30,6,50,40,10,25]\n",
    "    weights=[10,40,30,50,35,40,30]\n",
    "    Items=[]\n",
    "    for i in range(len(names)):\n",
    "        Items.append(Item(names[i],vals[i],weights[i]))\n",
    "    return Items\n",
    "\n",
    "def testGreedy(items,constraint,keyFunction):\n",
    "    taken,val=greedy(items,constraint,keyFunction)\n",
    "    print ('Total value of items taken = {}'.format( val))\n",
    "    for item in taken:\n",
    "        print (' {} '.format(item))\n",
    "\n",
    "\n",
    "def testGreedys(maxWeight = 150):\n",
    "    items = buildItem()\n",
    "\n",
    "    print ('Use greedy by value to fill knapsack of size') \n",
    "    testGreedy(items, maxWeight, value)\n",
    "\n",
    "    print ('\\n Use greedy by weight to fill knapsack of size')\n",
    "    testGreedy(items, maxWeight, weightInverse)\n",
    "\n",
    "    print ('\\n Use greedy by density to fill knapsack of size')\n",
    "    testGreedy(items, maxWeight, density)\n"
   ]
  },
  {
   "cell_type": "code",
   "execution_count": 11,
   "metadata": {},
   "outputs": [
    {
     "name": "stdout",
     "output_type": "stream",
     "text": [
      "Use greedy by value to fill knapsack of size\n",
      "Total value of items taken = 155.0\n",
      "  < D , 50.0 , 50.0> \n",
      "  < E , 40.0 , 35.0> \n",
      "  < A , 35.0 , 10.0> \n",
      "  < B , 30.0 , 40.0> \n",
      "\n",
      " Use greedy by weight to fill knapsack of size\n",
      "Total value of items taken = 106.0\n",
      "  < C , 6.0 , 30.0> \n",
      "  < F , 10.0 , 40.0> \n",
      "  < G , 25.0 , 30.0> \n",
      "  < B , 30.0 , 40.0> \n",
      "  < A , 35.0 , 10.0> \n",
      "\n",
      " Use greedy by density to fill knapsack of size\n",
      "Total value of items taken = 150.0\n",
      "  < A , 35.0 , 10.0> \n",
      "  < E , 40.0 , 35.0> \n",
      "  < D , 50.0 , 50.0> \n",
      "  < G , 25.0 , 30.0> \n"
     ]
    }
   ],
   "source": [
    "testGreedys()"
   ]
  },
  {
   "cell_type": "markdown",
   "metadata": {},
   "source": [
    "从结果中可以得出两个事实：  \n",
    "1） 贪婪不一定能得到全局最优解，贪婪得到的是局部最优解，最终结果取决于贪婪策略  \n",
    "2） 贪婪的时间消耗比穷举法低好多  \n",
    "\n",
    "总结：贪婪算法或许不是一个很好的算法，但是在解决一些问题时，如果选择好的贪婪策略，结果也是可以很优秀的。"
   ]
  },
  {
   "cell_type": "code",
   "execution_count": null,
   "metadata": {},
   "outputs": [],
   "source": [
    "|"
   ]
  }
 ],
 "metadata": {
  "kernelspec": {
   "display_name": "Python 3",
   "language": "python",
   "name": "python3"
  },
  "language_info": {
   "codemirror_mode": {
    "name": "ipython",
    "version": 3
   },
   "file_extension": ".py",
   "mimetype": "text/x-python",
   "name": "python",
   "nbconvert_exporter": "python",
   "pygments_lexer": "ipython3",
   "version": "3.7.4"
  }
 },
 "nbformat": 4,
 "nbformat_minor": 4
}
