{
 "cells": [
  {
   "cell_type": "markdown",
   "metadata": {},
   "source": [
    "# 思路"
   ]
  },
  {
   "cell_type": "markdown",
   "metadata": {},
   "source": [
    "求出两个数的最大公约数之后，便可以利用lcm(a,b) = (a*b)/gcd(a,b) 计算出两个数的最小公倍数。"
   ]
  },
  {
   "cell_type": "markdown",
   "metadata": {},
   "source": [
    "# 欧几里得法(辗转相除法)求最大公约数"
   ]
  },
  {
   "cell_type": "markdown",
   "metadata": {},
   "source": [
    "这条算法基于一个定理：两个正整数a和b（a>b），它们的最大公约数等于a除以b的余数c和b之间的最大公约数。比如10和25，25除以10商2余5，那么10和25的最大公约数，等同于10和5的最大公约数。"
   ]
  },
  {
   "cell_type": "code",
   "execution_count": 4,
   "metadata": {},
   "outputs": [],
   "source": [
    "\n",
    "def first_way(a, b):\n",
    "    \"\"\"\n",
    "    第一种方法：欧几里得算法----辗转相除法\n",
    "    :param a: 第一个数\n",
    "    :param b: 第二个数\n",
    "    :return: 最大公约数\n",
    "    \"\"\"\n",
    "    # 如果最终余数为0 公约数就计算出来了\n",
    "    while(b!=0):\n",
    "        temp = a % b\n",
    "        a = b\n",
    "        b = temp\n",
    "    return a\n"
   ]
  },
  {
   "cell_type": "code",
   "execution_count": 5,
   "metadata": {},
   "outputs": [
    {
     "data": {
      "text/plain": [
       "5"
      ]
     },
     "execution_count": 5,
     "metadata": {},
     "output_type": "execute_result"
    }
   ],
   "source": [
    "first_way(25,10)"
   ]
  },
  {
   "cell_type": "markdown",
   "metadata": {},
   "source": [
    "# stein算法"
   ]
  },
  {
   "cell_type": "markdown",
   "metadata": {},
   "source": [
    "看下面这两个结论\n",
    "\n",
    "    gcd(a, a) = a， 也就是一个数和他自己的公约数是其自身。\n",
    "\n",
    "    gcd(ka, kb) = k * gcd(a, b)，也就是最大公约数运算和倍乘运算可以交换，特殊的，当k=2时，说明两个偶数的最大公约数比如能被2整除。"
   ]
  },
  {
   "cell_type": "code",
   "execution_count": 8,
   "metadata": {},
   "outputs": [],
   "source": [
    "def third_way(a,b):\n",
    "    \"\"\"\n",
    "    第三种方法思想：stein算法\n",
    "        gcd(a,a)=a，也就是一个数和其自身的公约数仍是其自身。\n",
    "        gcd(ka,kb)=k gcd(a,b)，也就是最大公约数运算和倍乘运算可以交换。特殊地，当k=2时，说明两个偶数的最大公约数必然能被2整除。\n",
    "        当k与b互为质数，gcd(ka,b)=gcd(a,b)，也就是约掉两个数中只有其中一个含有的因子不影响最大公约数。特殊地，当k=2时，说明计算一个偶数\n",
    "    和一个奇数的最大公约数时，可以先将偶数除以2。\n",
    "    :param a: 第一个数\n",
    "    :param b: 第二个数\n",
    "    :return: 最大公约数\n",
    "    \"\"\"\n",
    "    #保证b比a小\n",
    "    if a < b:\n",
    "        a, b = b, a\n",
    " \n",
    "    if (0 == b):\n",
    "        return a\n",
    "    # a,b都是偶数 除2右移一位即可\n",
    "    if a % 2 == 0 and b % 2 == 0:\n",
    "        return 2 * third_way(a >> 1, b >> 1)\n",
    "    # a是偶数\n",
    "    if a % 2 == 0:\n",
    "        return third_way(a >> 1, b)\n",
    "    # b是偶数\n",
    "    if b % 2 == 0:\n",
    "        return third_way(a, b >> 1)\n",
    "    # 都是奇数\n",
    "    return third_way((a + b) >> 1, (a - b) >> 1)\n"
   ]
  },
  {
   "cell_type": "markdown",
   "metadata": {},
   "source": [
    "> [https://blog.csdn.net/J0Han/article/details/82467335](https://blog.csdn.net/J0Han/article/details/82467335)"
   ]
  },
  {
   "cell_type": "code",
   "execution_count": null,
   "metadata": {},
   "outputs": [],
   "source": []
  }
 ],
 "metadata": {
  "kernelspec": {
   "display_name": "Python 3",
   "language": "python",
   "name": "python3"
  },
  "language_info": {
   "codemirror_mode": {
    "name": "ipython",
    "version": 3
   },
   "file_extension": ".py",
   "mimetype": "text/x-python",
   "name": "python",
   "nbconvert_exporter": "python",
   "pygments_lexer": "ipython3",
   "version": "3.7.4"
  }
 },
 "nbformat": 4,
 "nbformat_minor": 4
}
