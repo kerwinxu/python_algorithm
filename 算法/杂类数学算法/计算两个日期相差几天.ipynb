{
 "cells": [
  {
   "cell_type": "markdown",
   "metadata": {},
   "source": [
    "# 算法"
   ]
  },
  {
   "cell_type": "code",
   "execution_count": null,
   "metadata": {},
   "outputs": [],
   "source": []
  },
  {
   "cell_type": "code",
   "execution_count": null,
   "metadata": {},
   "outputs": [],
   "source": []
  },
  {
   "cell_type": "markdown",
   "metadata": {},
   "source": [
    "# 代码"
   ]
  },
  {
   "cell_type": "code",
   "execution_count": 1,
   "metadata": {
    "execution": {
     "iopub.execute_input": "2020-07-15T01:52:27.830397Z",
     "iopub.status.busy": "2020-07-15T01:52:27.829391Z",
     "iopub.status.idle": "2020-07-15T01:52:27.917394Z",
     "shell.execute_reply": "2020-07-15T01:52:27.915410Z",
     "shell.execute_reply.started": "2020-07-15T01:52:27.830397Z"
    }
   },
   "outputs": [],
   "source": [
    "def CountDays(y, m, d):\n",
    "    \"\"\"该日期距离 0001年1月1日 的总天数\"\"\"\n",
    "    if m<3:\n",
    "        y=y-1\n",
    "        m=m+12\n",
    "    return 365 * y + (y >> 2) - y // 100 + y // 400 + (153 * m - 457) // 5 + d - 306"
   ]
  },
  {
   "cell_type": "code",
   "execution_count": 5,
   "metadata": {
    "execution": {
     "iopub.execute_input": "2020-07-15T02:01:43.918670Z",
     "iopub.status.busy": "2020-07-15T02:01:43.917670Z",
     "iopub.status.idle": "2020-07-15T02:01:43.938670Z",
     "shell.execute_reply": "2020-07-15T02:01:43.936669Z",
     "shell.execute_reply.started": "2020-07-15T02:01:43.918670Z"
    }
   },
   "outputs": [
    {
     "data": {
      "text/plain": [
       "1"
      ]
     },
     "execution_count": 5,
     "metadata": {},
     "output_type": "execute_result"
    }
   ],
   "source": [
    "CountDays(2020,7,13)-CountDays(2020,7,12)"
   ]
  },
  {
   "cell_type": "markdown",
   "metadata": {},
   "source": [
    "# 引用\n",
    "-[计算两个日期相差天数的最简洁的代码](https://www.cnblogs.com/Pupa/p/10467523.html)"
   ]
  },
  {
   "cell_type": "code",
   "execution_count": null,
   "metadata": {},
   "outputs": [],
   "source": []
  }
 ],
 "metadata": {
  "kernelspec": {
   "display_name": "Python 3",
   "language": "python",
   "name": "python3"
  },
  "language_info": {
   "codemirror_mode": {
    "name": "ipython",
    "version": 3
   },
   "file_extension": ".py",
   "mimetype": "text/x-python",
   "name": "python",
   "nbconvert_exporter": "python",
   "pygments_lexer": "ipython3",
   "version": "3.7.6"
  }
 },
 "nbformat": 4,
 "nbformat_minor": 4
}
