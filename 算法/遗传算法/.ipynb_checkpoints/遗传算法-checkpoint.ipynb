{
 "cells": [
  {
   "cell_type": "markdown",
   "id": "b6daf941-9b7a-4484-ad5d-b978e5b69a14",
   "metadata": {},
   "source": [
    "# 概念"
   ]
  },
  {
   "cell_type": "markdown",
   "id": "dcea4657-6e2c-4d6e-9e48-a04388f229d0",
   "metadata": {},
   "source": [
    "## 基因和染色体\n",
    "\n",
    "在遗传算法中，我们首先要将要解决的问题映射到一个数学问题，也就是所谓的数学建模。问题的一个可行解被称为一条染色体，一个可行的解一般由多个元素构成，每一个元素被称为这个染色体的基因。"
   ]
  },
  {
   "cell_type": "markdown",
   "id": "300a91a0-5814-48bd-95f8-774e374181ff",
   "metadata": {},
   "source": [
    "## 适应度函数\n",
    "\n",
    "适应度函数在遗传算法中扮演上帝的角色。遗传算法在运行的过程中会进行N次迭代，每次迭代都会生成若干条染色体。适应度函数会给本次迭代中生成的所有染色体打个分，来评判这些染色体的适应度，然后将适应度较低的染色体淘汰掉，只保留适应度较高的染色体，从而经过若干次迭代后染色体的质量将越来越优良。"
   ]
  },
  {
   "cell_type": "markdown",
   "id": "7dd7400b-ba59-4112-afd9-410f01533a61",
   "metadata": {},
   "source": [
    "## 交叉\n",
    "\n",
    "遗传算法每一次迭代都会生成N条染色体，在遗传算法中，这每一次迭代就被称为一次“进化”。那么，每次进化新生成的染色体是如何而来的呢？——答案就是“交叉”，你可以把它理解为交配。\n",
    "  \n",
    "交叉的过程需要从上一代的染色体中寻找两条染色体，一条是爸爸，一条是妈妈。然后将这两条染色体的某一个位置切断，并拼接在一起，从而生成一条新的染色体。这条新染色体上即包含了一定数量的爸爸的基因，也包含了一定数量的妈妈的基因。"
   ]
  },
  {
   "cell_type": "markdown",
   "id": "10ea38cd-e38f-4293-9933-3bc04ad28f7b",
   "metadata": {},
   "source": [
    "## 变异\n",
    "\n",
    "变异很好理解。当我们通过交叉生成了一条新的染色体后，需要在新染色体上随机选择若干个基因，然后随机修改基因的值，从而给现有的染色体引入了新的基因，突破了当前搜索的限制，更有利于算法寻找到全局最优解。"
   ]
  },
  {
   "cell_type": "markdown",
   "id": "4bfbe951-4b65-4c42-ab4c-90f5dcf8a8ca",
   "metadata": {},
   "source": [
    "## 复制\n",
    "\n",
    "每次进化中，为了保留上一代优良的染色体，需要将上一代中适应度最高的几条染色体直接原封不动地复制给下一代。\n",
    "\n",
    "假设每次进化都需生成N条染色体，那么每次进化中，通过交叉方式需要生成N-M条染色体，剩余的M条染色体通过复制上一代适应度最高的M条染色体而来"
   ]
  },
  {
   "cell_type": "markdown",
   "id": "224cfd1b-22f6-4c0d-8547-167309b31559",
   "metadata": {},
   "source": [
    "# 算法流程\n",
    "\n",
    "   - 算法初始阶段，随机生成一个可行解，也就是第一代染色体\n",
    "   - 然后用适应度函数分别计算每一条染色体的适应度，并根据适应度计算每一条染色体在下一次进化中被选中的概率。\n",
    "   - 进化\n",
    "      - 通过交叉生成N-M条染色体\n",
    "      - 对交叉生成的N-M条染色体进行变异操作。\n",
    "      - 使用复制的方式生成M条染色体\n"
   ]
  },
  {
   "cell_type": "code",
   "execution_count": null,
   "id": "04db913e-1884-42ab-929a-1718cbbe982c",
   "metadata": {},
   "outputs": [],
   "source": []
  },
  {
   "cell_type": "code",
   "execution_count": null,
   "id": "fcb6a224-d75b-47c9-b4c6-584caccef65c",
   "metadata": {},
   "outputs": [],
   "source": []
  },
  {
   "cell_type": "markdown",
   "id": "726291ef-9819-42e5-81ff-ad9788e42f92",
   "metadata": {},
   "source": [
    "# 引用\n",
    "\n",
    "> [10分钟搞懂遗传算法(含源码)](https://zhuanlan.zhihu.com/p/33042667)https://zhuanlan.zhihu.com/p/33042667"
   ]
  },
  {
   "cell_type": "code",
   "execution_count": null,
   "id": "632c56eb-495c-479a-8a51-212140d50863",
   "metadata": {},
   "outputs": [],
   "source": []
  }
 ],
 "metadata": {
  "kernelspec": {
   "display_name": "Python 3 (ipykernel)",
   "language": "python",
   "name": "python3"
  },
  "language_info": {
   "codemirror_mode": {
    "name": "ipython",
    "version": 3
   },
   "file_extension": ".py",
   "mimetype": "text/x-python",
   "name": "python",
   "nbconvert_exporter": "python",
   "pygments_lexer": "ipython3",
   "version": "3.8.12"
  }
 },
 "nbformat": 4,
 "nbformat_minor": 5
}
