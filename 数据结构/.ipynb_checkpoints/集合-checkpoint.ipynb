{
 "cells": [
  {
   "cell_type": "markdown",
   "metadata": {},
   "source": [
    "# 集合"
   ]
  },
  {
   "cell_type": "markdown",
   "metadata": {},
   "source": [
    "## 概念和集合描述"
   ]
  },
  {
   "cell_type": "markdown",
   "metadata": {},
   "source": [
    "一个集合$S$就是一些个体的汇集，如果集合$S$里有个体$e$,就说$e$是$S$的一个元素，或者$e$属于集合$S$，用$e\\in S$  \n",
    "个体$e$不属于集合$S$用$e\\notin S$  表示，包含（当前考虑的）所有个体的集合称为全集  \n",
    "**集合的描述方法**  \n",
    "- 明确的列出所有元素，称为集合的外延表示， {1,2,3}\n",
    "- 给出集合中的元素应该满足的性质，被称为集合的描述式，\n",
    "   - 严格的写法是用逻辑公式，具体写法是 $\\{e|p\\}$ ， e是表达式，描述集合中的元素，p描述一些变量的性质。\n",
    "      - $\\{x|x是自然数且没有除1和自身外的因子\\}$\n",
    "      - $\\{x+2y| x,y \\in N\\ \\  \\wedge\\ \\  x\\ \\ mod\\ \\ y =3\\}$\n",
    "\n",
    "集合子集， $S是T的子集 ， 记为 S \\subseteq T$   \n",
    "集合运算\n",
    "  - 并集 $S\\cup T = \\{e | e\\in S \\vee e\\in T\\}$ ，这里 $\\vee$是逻辑或\n",
    "  - 交集 $S\\cap T = \\{e | e\\in S \\wedge e\\in T\\}$,这里 $\\wedge$是逻辑与\n",
    "  - 差集 $S - T = \\{e | e\\in S \\vee e\\notin T\\}$ ， 属于S但不属于T的元素。"
   ]
  },
  {
   "cell_type": "markdown",
   "metadata": {},
   "source": [
    "## 集合的实现"
   ]
  },
  {
   "cell_type": "markdown",
   "metadata": {},
   "source": [
    "**简单线性表实现**  \n",
    "**排序顺序表实现**  \n",
    "**散列表实现**"
   ]
  },
  {
   "cell_type": "markdown",
   "metadata": {},
   "source": [
    "**位向量实现**  \n",
    "如果在程序里需要使用的一批集合中有（不太大）的公共集合U，也就是说，需要实现和使用的集合都是某个集合的U的子集，就可以考虑用位向量技术\n",
    "- 假定U包含n个元素，给每个元素确定一个编号作为该元素的下标。\n",
    "- 对任何一个要考虑的集合S（$S\\in U$)，用一个n位的二进制序列（位向量）$v_s$表示它，就是比特位啦。  \n",
    "\n",
    "集合的并集交集和差集，都可以用逐位操作实现。  \n",
    "![集合的位向量逻辑操作](.\\字典图片\\集合的位向量逻辑操作.png)"
   ]
  }
 ],
 "metadata": {
  "kernelspec": {
   "display_name": "Python 3",
   "language": "python",
   "name": "python3"
  },
  "language_info": {
   "codemirror_mode": {
    "name": "ipython",
    "version": 3
   },
   "file_extension": ".py",
   "mimetype": "text/x-python",
   "name": "python",
   "nbconvert_exporter": "python",
   "pygments_lexer": "ipython3",
   "version": "3.7.4"
  }
 },
 "nbformat": 4,
 "nbformat_minor": 4
}
